{
 "cells": [
  {
   "cell_type": "markdown",
   "metadata": {},
   "source": [
    "# Project MBTI"
   ]
  },
  {
   "cell_type": "markdown",
   "metadata": {},
   "source": [
    "Create a model to predict MBTI personality types from posts"
   ]
  },
  {
   "cell_type": "markdown",
   "metadata": {},
   "source": [
    "Data format:\n",
    "    =>type (string): MBTI types\n",
    "    =>posts (string): text posts "
   ]
  },
  {
   "cell_type": "markdown",
   "metadata": {},
   "source": [
    "## Data exploration"
   ]
  },
  {
   "cell_type": "code",
   "execution_count": 142,
   "metadata": {
    "collapsed": true
   },
   "outputs": [],
   "source": [
    "import numpy as np\n",
    "import csv\n",
    "import pandas as pd"
   ]
  },
  {
   "cell_type": "markdown",
   "metadata": {},
   "source": [
    "Load with panda read_csv to avoid delimiter problem between header and data"
   ]
  },
  {
   "cell_type": "code",
   "execution_count": 143,
   "metadata": {
    "collapsed": true,
    "scrolled": true
   },
   "outputs": [],
   "source": [
    "data2 = pd.read_csv(\"C:\\Users\\Gwen\\MBTI\\mbti_1.csv\", header =0)"
   ]
  },
  {
   "cell_type": "code",
   "execution_count": 144,
   "metadata": {
    "scrolled": true
   },
   "outputs": [
    {
     "name": "stdout",
     "output_type": "stream",
     "text": [
      "      type                                              posts\n",
      "0     INFJ  'http://www.youtube.com/watch?v=qsXHcwe3krw|||...\n",
      "1     ENTP  'I'm finding the lack of me in these posts ver...\n",
      "2     INTP  'Good one  _____   https://www.youtube.com/wat...\n",
      "3     INTJ  'Dear INTP,   I enjoyed our conversation the o...\n",
      "4     ENTJ  'You're fired.|||That's another silly misconce...\n",
      "5     INTJ  '18/37 @.@|||Science  is not perfect. No scien...\n",
      "6     INFJ  'No, I can't draw on my own nails (haha). Thos...\n",
      "7     INTJ  'I tend to build up a collection of things on ...\n",
      "8     INFJ  I'm not sure, that's a good question. The dist...\n",
      "9     INTP  'https://www.youtube.com/watch?v=w8-egj0y8Qs||...\n",
      "10    INFJ  'One time my parents were fighting over my dad...\n",
      "11    ENFJ  'https://www.youtube.com/watch?v=PLAaiKvHvZs||...\n",
      "12    INFJ  'Joe santagato - ENTP|||ENFJ or  ENTP?   I'm n...\n",
      "13    INTJ  'Fair enough, if that's how you want to look a...\n",
      "14    INTP  'Basically this...  https://youtu.be/1pH5c1Jkh...\n",
      "15    INTP  'Your comment screams INTJ, bro. Especially th...\n",
      "16    INFJ  'some of these both excite and calm me:  BUTTS...\n",
      "17    INFP  'I think we do agree. I personally don't consi...\n",
      "18    INFJ  'I fully believe in the power of being a prote...\n",
      "19    INFP  'That's normal, it happens also to me. If I am...\n",
      "20    INTP  'Steve Job's was recognized for his striving f...\n",
      "21    INFJ  'It is very annoying to be misinterpreted. Esp...\n",
      "22    ENTJ  'Now I'm interested. But too lazy to go resear...\n",
      "23    INFP  '45016 urh sorry uh. couldn't resist.|||all of...\n",
      "24    ENTJ  'Still going strong at just over the two year ...\n",
      "25    INFP  'Personally, I was thinking this would be more...\n",
      "26    ENFP  'He doesn't want to go on the trip without me,...\n",
      "27    ISFP  'They paint without numbers|||I'd guess at ist...\n",
      "28    INFP  'Basically, my main questions are : What do yo...\n",
      "29    INFJ  'I think that that can absolutely be true of i...\n",
      "...    ...                                                ...\n",
      "8645  INFJ  'I play cello, and I'm also a classically trai...\n",
      "8646  INFP  Its more or less based on how YOU experienced ...\n",
      "8647  INTP  Socionics picked up on this.  They call it vis...\n",
      "8648  INFP  'Good advice, thank you.|||I am in a tough sit...\n",
      "8649  INFP  https://www.youtube.com/watch?v=nPDusM-75FE  e...\n",
      "8650  INFJ  'I think the real question is whether INFJs ca...\n",
      "8651  ISTP  '-Being alone -Being insensitive  -Over thinki...\n",
      "8652  ISFJ  'Being assertive and standing up for myself is...\n",
      "8653  INFP  'You should do whatever it is you want. If you...\n",
      "8654  ISTJ  'Assuming I had a hand in it, I always at leas...\n",
      "8655  INFJ  'I find that poster and your facial expression...\n",
      "8656  INFJ  Rim  In some approximate order, it seems like ...\n",
      "8657  INTJ  Social  1) Generally, I positively associate w...\n",
      "8658  ESFJ  'Don't worry, I do that too when a car comes c...\n",
      "8659  ENFP  'leoni I had really bad social anxiety until I...\n",
      "8660  INFP  'I love the vastness of the sky, because my pr...\n",
      "8661  ENTP  '**haven't logged in and read posts for over 6...\n",
      "8662  INTJ  'I can't say I have any one specific belief. I...\n",
      "8663  INTP  'doesn't matter, you don't have a choice, Elec...\n",
      "8664  INTP  'https://www.youtube.com/watch?v=7zsMdi714mI||...\n",
      "8665  ENTP  'This test wasn't even close on my gender, age...\n",
      "8666  INTJ  'Highly recommend this to those who wants to t...\n",
      "8667  ENTP  'I think generally people experience post trau...\n",
      "8668  INTJ  'Here's a planned stress relieving activity th...\n",
      "8669  INFJ  'I'm not sure about a method for picking out I...\n",
      "8670  ISFP  'https://www.youtube.com/watch?v=t8edHB_h908||...\n",
      "8671  ENFP  'So...if this thread already exists someplace ...\n",
      "8672  INTP  'So many questions when i do these things.  I ...\n",
      "8673  INFP  'I am very conflicted right now when it comes ...\n",
      "8674  INFP  'It has been too long since I have been on per...\n",
      "\n",
      "[8675 rows x 2 columns]\n"
     ]
    }
   ],
   "source": [
    "print (data2)"
   ]
  },
  {
   "cell_type": "markdown",
   "metadata": {},
   "source": [
    "Test columns"
   ]
  },
  {
   "cell_type": "code",
   "execution_count": 145,
   "metadata": {},
   "outputs": [
    {
     "data": {
      "text/plain": [
       "Index([u'type', u'posts'], dtype='object')"
      ]
     },
     "execution_count": 145,
     "metadata": {},
     "output_type": "execute_result"
    }
   ],
   "source": [
    "data2.columns"
   ]
  },
  {
   "cell_type": "code",
   "execution_count": 146,
   "metadata": {},
   "outputs": [
    {
     "data": {
      "text/html": [
       "<div>\n",
       "<style>\n",
       "    .dataframe thead tr:only-child th {\n",
       "        text-align: right;\n",
       "    }\n",
       "\n",
       "    .dataframe thead th {\n",
       "        text-align: left;\n",
       "    }\n",
       "\n",
       "    .dataframe tbody tr th {\n",
       "        vertical-align: top;\n",
       "    }\n",
       "</style>\n",
       "<table border=\"1\" class=\"dataframe\">\n",
       "  <thead>\n",
       "    <tr style=\"text-align: right;\">\n",
       "      <th></th>\n",
       "      <th>type</th>\n",
       "      <th>posts</th>\n",
       "    </tr>\n",
       "  </thead>\n",
       "  <tbody>\n",
       "  </tbody>\n",
       "</table>\n",
       "</div>"
      ],
      "text/plain": [
       "Empty DataFrame\n",
       "Columns: [type, posts]\n",
       "Index: []"
      ]
     },
     "execution_count": 146,
     "metadata": {},
     "output_type": "execute_result"
    }
   ],
   "source": [
    "data2[:0]"
   ]
  },
  {
   "cell_type": "markdown",
   "metadata": {},
   "source": [
    "Overview of the dataset"
   ]
  },
  {
   "cell_type": "code",
   "execution_count": 147,
   "metadata": {},
   "outputs": [
    {
     "name": "stdout",
     "output_type": "stream",
     "text": [
      "(8675, 2)\n"
     ]
    }
   ],
   "source": [
    "print(data2.shape)"
   ]
  },
  {
   "cell_type": "markdown",
   "metadata": {},
   "source": [
    "We have 8675 raws and 2 columns, which correspond to the dataset in input."
   ]
  },
  {
   "cell_type": "markdown",
   "metadata": {},
   "source": [
    "### Frequence of each MBTI type in the dataset"
   ]
  },
  {
   "cell_type": "code",
   "execution_count": 148,
   "metadata": {
    "scrolled": true
   },
   "outputs": [
    {
     "data": {
      "text/html": [
       "<div>\n",
       "<style>\n",
       "    .dataframe thead tr:only-child th {\n",
       "        text-align: right;\n",
       "    }\n",
       "\n",
       "    .dataframe thead th {\n",
       "        text-align: left;\n",
       "    }\n",
       "\n",
       "    .dataframe tbody tr th {\n",
       "        vertical-align: top;\n",
       "    }\n",
       "</style>\n",
       "<table border=\"1\" class=\"dataframe\">\n",
       "  <thead>\n",
       "    <tr style=\"text-align: right;\">\n",
       "      <th></th>\n",
       "      <th>posts</th>\n",
       "    </tr>\n",
       "    <tr>\n",
       "      <th>type</th>\n",
       "      <th></th>\n",
       "    </tr>\n",
       "  </thead>\n",
       "  <tbody>\n",
       "    <tr>\n",
       "      <th>ENFJ</th>\n",
       "      <td>190</td>\n",
       "    </tr>\n",
       "    <tr>\n",
       "      <th>ENFP</th>\n",
       "      <td>675</td>\n",
       "    </tr>\n",
       "    <tr>\n",
       "      <th>ENTJ</th>\n",
       "      <td>231</td>\n",
       "    </tr>\n",
       "    <tr>\n",
       "      <th>ENTP</th>\n",
       "      <td>685</td>\n",
       "    </tr>\n",
       "    <tr>\n",
       "      <th>ESFJ</th>\n",
       "      <td>42</td>\n",
       "    </tr>\n",
       "    <tr>\n",
       "      <th>ESFP</th>\n",
       "      <td>48</td>\n",
       "    </tr>\n",
       "    <tr>\n",
       "      <th>ESTJ</th>\n",
       "      <td>39</td>\n",
       "    </tr>\n",
       "    <tr>\n",
       "      <th>ESTP</th>\n",
       "      <td>89</td>\n",
       "    </tr>\n",
       "    <tr>\n",
       "      <th>INFJ</th>\n",
       "      <td>1470</td>\n",
       "    </tr>\n",
       "    <tr>\n",
       "      <th>INFP</th>\n",
       "      <td>1832</td>\n",
       "    </tr>\n",
       "    <tr>\n",
       "      <th>INTJ</th>\n",
       "      <td>1091</td>\n",
       "    </tr>\n",
       "    <tr>\n",
       "      <th>INTP</th>\n",
       "      <td>1304</td>\n",
       "    </tr>\n",
       "    <tr>\n",
       "      <th>ISFJ</th>\n",
       "      <td>166</td>\n",
       "    </tr>\n",
       "    <tr>\n",
       "      <th>ISFP</th>\n",
       "      <td>271</td>\n",
       "    </tr>\n",
       "    <tr>\n",
       "      <th>ISTJ</th>\n",
       "      <td>205</td>\n",
       "    </tr>\n",
       "    <tr>\n",
       "      <th>ISTP</th>\n",
       "      <td>337</td>\n",
       "    </tr>\n",
       "  </tbody>\n",
       "</table>\n",
       "</div>"
      ],
      "text/plain": [
       "      posts\n",
       "type       \n",
       "ENFJ    190\n",
       "ENFP    675\n",
       "ENTJ    231\n",
       "ENTP    685\n",
       "ESFJ     42\n",
       "ESFP     48\n",
       "ESTJ     39\n",
       "ESTP     89\n",
       "INFJ   1470\n",
       "INFP   1832\n",
       "INTJ   1091\n",
       "INTP   1304\n",
       "ISFJ    166\n",
       "ISFP    271\n",
       "ISTJ    205\n",
       "ISTP    337"
      ]
     },
     "execution_count": 148,
     "metadata": {},
     "output_type": "execute_result"
    }
   ],
   "source": [
    "data2.groupby('type').count()"
   ]
  },
  {
   "cell_type": "markdown",
   "metadata": {},
   "source": [
    "### Create category MBTI list"
   ]
  },
  {
   "cell_type": "code",
   "execution_count": 149,
   "metadata": {
    "scrolled": false
   },
   "outputs": [
    {
     "data": {
      "text/plain": [
       "['ENFJ',\n",
       " 'ESFP',\n",
       " 'INFJ',\n",
       " 'ESTJ',\n",
       " 'ISTJ',\n",
       " 'ENTJ',\n",
       " 'ISFP',\n",
       " 'INTJ',\n",
       " 'ISTP',\n",
       " 'ENTP',\n",
       " 'ISFJ',\n",
       " 'INTP',\n",
       " 'ESFJ',\n",
       " 'ESTP',\n",
       " 'ENFP',\n",
       " 'INFP']"
      ]
     },
     "execution_count": 149,
     "metadata": {},
     "output_type": "execute_result"
    }
   ],
   "source": [
    "list(set(data2.type))"
   ]
  },
  {
   "cell_type": "code",
   "execution_count": 150,
   "metadata": {
    "collapsed": true
   },
   "outputs": [],
   "source": [
    "category = list(data2['type'].unique())"
   ]
  },
  {
   "cell_type": "code",
   "execution_count": 151,
   "metadata": {},
   "outputs": [
    {
     "name": "stdout",
     "output_type": "stream",
     "text": [
      "['INFJ', 'ENTP', 'INTP', 'INTJ', 'ENTJ', 'ENFJ', 'INFP', 'ENFP', 'ISFP', 'ISTP', 'ISFJ', 'ISTJ', 'ESTP', 'ESFP', 'ESTJ', 'ESFJ']\n"
     ]
    }
   ],
   "source": [
    "print (category)"
   ]
  },
  {
   "cell_type": "markdown",
   "metadata": {
    "collapsed": true
   },
   "source": [
    "## Data cleaning"
   ]
  },
  {
   "cell_type": "markdown",
   "metadata": {},
   "source": [
    "plan:\n",
    "1) Remove URL\n",
    "2) Vectorization"
   ]
  },
  {
   "cell_type": "markdown",
   "metadata": {},
   "source": [
    "### Remove URL using regex"
   ]
  },
  {
   "cell_type": "code",
   "execution_count": 152,
   "metadata": {
    "collapsed": true
   },
   "outputs": [],
   "source": [
    "import re"
   ]
  },
  {
   "cell_type": "markdown",
   "metadata": {},
   "source": [
    "We are applying the regex function on the colum post"
   ]
  },
  {
   "cell_type": "code",
   "execution_count": 153,
   "metadata": {
    "scrolled": true
   },
   "outputs": [
    {
     "name": "stdout",
     "output_type": "stream",
     "text": [
      "0       '||||||enfp and intj moments    sportscenter n...\n",
      "1       'I'm finding the lack of me in these posts ver...\n",
      "2       'Good one  _____   |||Of course, to which I sa...\n",
      "3       'Dear INTP,   I enjoyed our conversation the o...\n",
      "4       'You're fired.|||That's another silly misconce...\n",
      "5       '18/37 @.@|||Science  is not perfect. No scien...\n",
      "6       'No, I can't draw on my own nails (haha). Thos...\n",
      "7       'I tend to build up a collection of things on ...\n",
      "8       I'm not sure, that's a good question. The dist...\n",
      "9       '|||I'm in this position where I have to actua...\n",
      "10      'One time my parents were fighting over my dad...\n",
      "11      '|||51 :o|||I went through a break up some mon...\n",
      "12      'Joe santagato - ENTP|||ENFJ or  ENTP?   I'm n...\n",
      "13      'Fair enough, if that's how you want to look a...\n",
      "14      'Basically this...  |||Can I has Cheezburgr?||...\n",
      "15      'Your comment screams INTJ, bro. Especially th...\n",
      "16      'some of these both excite and calm me:  BUTTS...\n",
      "17      'I think we do agree. I personally don't consi...\n",
      "18      'I fully believe in the power of being a prote...\n",
      "19      'That's normal, it happens also to me. If I am...\n",
      "20      'Steve Job's was recognized for his striving f...\n",
      "21      'It is very annoying to be misinterpreted. Esp...\n",
      "22      'Now I'm interested. But too lazy to go resear...\n",
      "23      '45016 urh sorry uh. couldn't resist.|||all of...\n",
      "24      'Still going strong at just over the two year ...\n",
      "25      'Personally, I was thinking this would be more...\n",
      "26      'He doesn't want to go on the trip without me,...\n",
      "27      'They paint without numbers|||I'd guess at ist...\n",
      "28      'Basically, my main questions are : What do yo...\n",
      "29      'I think that that can absolutely be true of i...\n",
      "                              ...                        \n",
      "8645    'I play cello, and I'm also a classically trai...\n",
      "8646    Its more or less based on how YOU experienced ...\n",
      "8647    Socionics picked up on this.  They call it vis...\n",
      "8648    'Good advice, thank you.|||I am in a tough sit...\n",
      "8649      enjoy infps|||okok lets stop at kicking walk...\n",
      "8650    'I think the real question is whether INFJs ca...\n",
      "8651    '-Being alone -Being insensitive  -Over thinki...\n",
      "8652    'Being assertive and standing up for myself is...\n",
      "8653    'You should do whatever it is you want. If you...\n",
      "8654    'Assuming I had a hand in it, I always at leas...\n",
      "8655    'I find that poster and your facial expression...\n",
      "8656    Rim  In some approximate order, it seems like ...\n",
      "8657    Social  1) Generally, I positively associate w...\n",
      "8658    'Don't worry, I do that too when a car comes c...\n",
      "8659    'leoni I had really bad social anxiety until I...\n",
      "8660    'I love the vastness of the sky, because my pr...\n",
      "8661    '**haven't logged in and read posts for over 6...\n",
      "8662    'I can't say I have any one specific belief. I...\n",
      "8663    'doesn't matter, you don't have a choice, Elec...\n",
      "8664    '|||So many, but I'd say there's a tie between...\n",
      "8665    'This test wasn't even close on my gender, age...\n",
      "8666    'Highly recommend this to those who wants to t...\n",
      "8667    'I think generally people experience post trau...\n",
      "8668    'Here's a planned stress relieving activity th...\n",
      "8669    'I'm not sure about a method for picking out I...\n",
      "8670    '|||IxFP just because I always think of cats a...\n",
      "8671    'So...if this thread already exists someplace ...\n",
      "8672    'So many questions when i do these things.  I ...\n",
      "8673    'I am very conflicted right now when it comes ...\n",
      "8674    'It has been too long since I have been on per...\n",
      "Name: posts, Length: 8675, dtype: object\n"
     ]
    }
   ],
   "source": [
    "for idx, x in enumerate(data2['posts']):\n",
    "    data2['posts'][idx] = re.sub(r'http([a-z]|[A-Z]|\\.|/|\\?|=|:|[0-9]|_|-)*','',x)\n",
    "    #data2['posts'][idx] = re.sub(r'http('(\\'|\\\")','',x)\n",
    "print(data2['posts'])"
   ]
  },
  {
   "cell_type": "code",
   "execution_count": 154,
   "metadata": {
    "scrolled": true
   },
   "outputs": [
    {
     "name": "stdout",
     "output_type": "stream",
     "text": [
      "      type                                              posts\n",
      "0     INFJ  '||||||enfp and intj moments    sportscenter n...\n",
      "1     ENTP  'I'm finding the lack of me in these posts ver...\n",
      "2     INTP  'Good one  _____   |||Of course, to which I sa...\n",
      "3     INTJ  'Dear INTP,   I enjoyed our conversation the o...\n",
      "4     ENTJ  'You're fired.|||That's another silly misconce...\n",
      "5     INTJ  '18/37 @.@|||Science  is not perfect. No scien...\n",
      "6     INFJ  'No, I can't draw on my own nails (haha). Thos...\n",
      "7     INTJ  'I tend to build up a collection of things on ...\n",
      "8     INFJ  I'm not sure, that's a good question. The dist...\n",
      "9     INTP  '|||I'm in this position where I have to actua...\n",
      "10    INFJ  'One time my parents were fighting over my dad...\n",
      "11    ENFJ  '|||51 :o|||I went through a break up some mon...\n",
      "12    INFJ  'Joe santagato - ENTP|||ENFJ or  ENTP?   I'm n...\n",
      "13    INTJ  'Fair enough, if that's how you want to look a...\n",
      "14    INTP  'Basically this...  |||Can I has Cheezburgr?||...\n",
      "15    INTP  'Your comment screams INTJ, bro. Especially th...\n",
      "16    INFJ  'some of these both excite and calm me:  BUTTS...\n",
      "17    INFP  'I think we do agree. I personally don't consi...\n",
      "18    INFJ  'I fully believe in the power of being a prote...\n",
      "19    INFP  'That's normal, it happens also to me. If I am...\n",
      "20    INTP  'Steve Job's was recognized for his striving f...\n",
      "21    INFJ  'It is very annoying to be misinterpreted. Esp...\n",
      "22    ENTJ  'Now I'm interested. But too lazy to go resear...\n",
      "23    INFP  '45016 urh sorry uh. couldn't resist.|||all of...\n",
      "24    ENTJ  'Still going strong at just over the two year ...\n",
      "25    INFP  'Personally, I was thinking this would be more...\n",
      "26    ENFP  'He doesn't want to go on the trip without me,...\n",
      "27    ISFP  'They paint without numbers|||I'd guess at ist...\n",
      "28    INFP  'Basically, my main questions are : What do yo...\n",
      "29    INFJ  'I think that that can absolutely be true of i...\n",
      "...    ...                                                ...\n",
      "8645  INFJ  'I play cello, and I'm also a classically trai...\n",
      "8646  INFP  Its more or less based on how YOU experienced ...\n",
      "8647  INTP  Socionics picked up on this.  They call it vis...\n",
      "8648  INFP  'Good advice, thank you.|||I am in a tough sit...\n",
      "8649  INFP    enjoy infps|||okok lets stop at kicking walk...\n",
      "8650  INFJ  'I think the real question is whether INFJs ca...\n",
      "8651  ISTP  '-Being alone -Being insensitive  -Over thinki...\n",
      "8652  ISFJ  'Being assertive and standing up for myself is...\n",
      "8653  INFP  'You should do whatever it is you want. If you...\n",
      "8654  ISTJ  'Assuming I had a hand in it, I always at leas...\n",
      "8655  INFJ  'I find that poster and your facial expression...\n",
      "8656  INFJ  Rim  In some approximate order, it seems like ...\n",
      "8657  INTJ  Social  1) Generally, I positively associate w...\n",
      "8658  ESFJ  'Don't worry, I do that too when a car comes c...\n",
      "8659  ENFP  'leoni I had really bad social anxiety until I...\n",
      "8660  INFP  'I love the vastness of the sky, because my pr...\n",
      "8661  ENTP  '**haven't logged in and read posts for over 6...\n",
      "8662  INTJ  'I can't say I have any one specific belief. I...\n",
      "8663  INTP  'doesn't matter, you don't have a choice, Elec...\n",
      "8664  INTP  '|||So many, but I'd say there's a tie between...\n",
      "8665  ENTP  'This test wasn't even close on my gender, age...\n",
      "8666  INTJ  'Highly recommend this to those who wants to t...\n",
      "8667  ENTP  'I think generally people experience post trau...\n",
      "8668  INTJ  'Here's a planned stress relieving activity th...\n",
      "8669  INFJ  'I'm not sure about a method for picking out I...\n",
      "8670  ISFP  '|||IxFP just because I always think of cats a...\n",
      "8671  ENFP  'So...if this thread already exists someplace ...\n",
      "8672  INTP  'So many questions when i do these things.  I ...\n",
      "8673  INFP  'I am very conflicted right now when it comes ...\n",
      "8674  INFP  'It has been too long since I have been on per...\n",
      "\n",
      "[8675 rows x 2 columns]\n"
     ]
    }
   ],
   "source": [
    "print(data2)"
   ]
  },
  {
   "cell_type": "markdown",
   "metadata": {},
   "source": [
    "## Data prepartion: Bag of words "
   ]
  },
  {
   "cell_type": "markdown",
   "metadata": {
    "collapsed": true
   },
   "source": [
    "The objective is to extract numerical features vectors from a text, by tokenizing string (and give to each token an numerical id, using white-space as delimiter), by counting occurence of each token in each posts, by normalizing token (concerning importance of token in occurence/post). And, as most features will be zero (when tokenizing phase), we need to manage stockage space (a possibility is using an inverse document with TF-IDF)."
   ]
  },
  {
   "cell_type": "markdown",
   "metadata": {},
   "source": [
    "### Vectorization using CountVectorizer of scikit-learn"
   ]
  },
  {
   "cell_type": "markdown",
   "metadata": {},
   "source": [
    "CountVectorizer is doing in a single class the (1) tokenization and the (2) count occurences"
   ]
  },
  {
   "cell_type": "code",
   "execution_count": 155,
   "metadata": {
    "collapsed": true
   },
   "outputs": [],
   "source": [
    "data_for_vec = data2\n",
    "from sklearn.feature_extraction.text import CountVectorizer\n",
    "count_vect = CountVectorizer()\n",
    "data_counts = count_vect.fit_transform(data_for_vec['posts'])"
   ]
  },
  {
   "cell_type": "code",
   "execution_count": 156,
   "metadata": {},
   "outputs": [
    {
     "data": {
      "text/plain": [
       "(8675, 110188)"
      ]
     },
     "execution_count": 156,
     "metadata": {},
     "output_type": "execute_result"
    }
   ],
   "source": [
    "data_counts.shape"
   ]
  },
  {
   "cell_type": "markdown",
   "metadata": {},
   "source": [
    "It's give us a 8675 x 110188 sparce matrix, of 955 880 900 element (zero include as we can see above)"
   ]
  },
  {
   "cell_type": "code",
   "execution_count": 157,
   "metadata": {},
   "outputs": [
    {
     "ename": "MemoryError",
     "evalue": "",
     "output_type": "error",
     "traceback": [
      "\u001b[1;31m---------------------------------------------------------------------------\u001b[0m",
      "\u001b[1;31mMemoryError\u001b[0m                               Traceback (most recent call last)",
      "\u001b[1;32m<ipython-input-157-5292e81eb4b8>\u001b[0m in \u001b[0;36m<module>\u001b[1;34m()\u001b[0m\n\u001b[1;32m----> 1\u001b[1;33m \u001b[0mdata_counts\u001b[0m\u001b[1;33m.\u001b[0m\u001b[0mtoarray\u001b[0m\u001b[1;33m(\u001b[0m\u001b[1;33m)\u001b[0m\u001b[1;33m\u001b[0m\u001b[0m\n\u001b[0m",
      "\u001b[1;32mC:\\Users\\Gwen\\Anaconda2\\lib\\site-packages\\scipy\\sparse\\compressed.pyc\u001b[0m in \u001b[0;36mtoarray\u001b[1;34m(self, order, out)\u001b[0m\n\u001b[0;32m    941\u001b[0m         \u001b[1;32mif\u001b[0m \u001b[0mout\u001b[0m \u001b[1;32mis\u001b[0m \u001b[0mNone\u001b[0m \u001b[1;32mand\u001b[0m \u001b[0morder\u001b[0m \u001b[1;32mis\u001b[0m \u001b[0mNone\u001b[0m\u001b[1;33m:\u001b[0m\u001b[1;33m\u001b[0m\u001b[0m\n\u001b[0;32m    942\u001b[0m             \u001b[0morder\u001b[0m \u001b[1;33m=\u001b[0m \u001b[0mself\u001b[0m\u001b[1;33m.\u001b[0m\u001b[0m_swap\u001b[0m\u001b[1;33m(\u001b[0m\u001b[1;34m'cf'\u001b[0m\u001b[1;33m)\u001b[0m\u001b[1;33m[\u001b[0m\u001b[1;36m0\u001b[0m\u001b[1;33m]\u001b[0m\u001b[1;33m\u001b[0m\u001b[0m\n\u001b[1;32m--> 943\u001b[1;33m         \u001b[0mout\u001b[0m \u001b[1;33m=\u001b[0m \u001b[0mself\u001b[0m\u001b[1;33m.\u001b[0m\u001b[0m_process_toarray_args\u001b[0m\u001b[1;33m(\u001b[0m\u001b[0morder\u001b[0m\u001b[1;33m,\u001b[0m \u001b[0mout\u001b[0m\u001b[1;33m)\u001b[0m\u001b[1;33m\u001b[0m\u001b[0m\n\u001b[0m\u001b[0;32m    944\u001b[0m         \u001b[1;32mif\u001b[0m \u001b[1;32mnot\u001b[0m \u001b[1;33m(\u001b[0m\u001b[0mout\u001b[0m\u001b[1;33m.\u001b[0m\u001b[0mflags\u001b[0m\u001b[1;33m.\u001b[0m\u001b[0mc_contiguous\u001b[0m \u001b[1;32mor\u001b[0m \u001b[0mout\u001b[0m\u001b[1;33m.\u001b[0m\u001b[0mflags\u001b[0m\u001b[1;33m.\u001b[0m\u001b[0mf_contiguous\u001b[0m\u001b[1;33m)\u001b[0m\u001b[1;33m:\u001b[0m\u001b[1;33m\u001b[0m\u001b[0m\n\u001b[0;32m    945\u001b[0m             \u001b[1;32mraise\u001b[0m \u001b[0mValueError\u001b[0m\u001b[1;33m(\u001b[0m\u001b[1;34m'Output array must be C or F contiguous'\u001b[0m\u001b[1;33m)\u001b[0m\u001b[1;33m\u001b[0m\u001b[0m\n",
      "\u001b[1;32mC:\\Users\\Gwen\\Anaconda2\\lib\\site-packages\\scipy\\sparse\\base.pyc\u001b[0m in \u001b[0;36m_process_toarray_args\u001b[1;34m(self, order, out)\u001b[0m\n\u001b[0;32m   1128\u001b[0m             \u001b[1;32mreturn\u001b[0m \u001b[0mout\u001b[0m\u001b[1;33m\u001b[0m\u001b[0m\n\u001b[0;32m   1129\u001b[0m         \u001b[1;32melse\u001b[0m\u001b[1;33m:\u001b[0m\u001b[1;33m\u001b[0m\u001b[0m\n\u001b[1;32m-> 1130\u001b[1;33m             \u001b[1;32mreturn\u001b[0m \u001b[0mnp\u001b[0m\u001b[1;33m.\u001b[0m\u001b[0mzeros\u001b[0m\u001b[1;33m(\u001b[0m\u001b[0mself\u001b[0m\u001b[1;33m.\u001b[0m\u001b[0mshape\u001b[0m\u001b[1;33m,\u001b[0m \u001b[0mdtype\u001b[0m\u001b[1;33m=\u001b[0m\u001b[0mself\u001b[0m\u001b[1;33m.\u001b[0m\u001b[0mdtype\u001b[0m\u001b[1;33m,\u001b[0m \u001b[0morder\u001b[0m\u001b[1;33m=\u001b[0m\u001b[0morder\u001b[0m\u001b[1;33m)\u001b[0m\u001b[1;33m\u001b[0m\u001b[0m\n\u001b[0m\u001b[0;32m   1131\u001b[0m \u001b[1;33m\u001b[0m\u001b[0m\n\u001b[0;32m   1132\u001b[0m     \u001b[1;32mdef\u001b[0m \u001b[0m__numpy_ufunc__\u001b[0m\u001b[1;33m(\u001b[0m\u001b[0mself\u001b[0m\u001b[1;33m,\u001b[0m \u001b[0mfunc\u001b[0m\u001b[1;33m,\u001b[0m \u001b[0mmethod\u001b[0m\u001b[1;33m,\u001b[0m \u001b[0mpos\u001b[0m\u001b[1;33m,\u001b[0m \u001b[0minputs\u001b[0m\u001b[1;33m,\u001b[0m \u001b[1;33m**\u001b[0m\u001b[0mkwargs\u001b[0m\u001b[1;33m)\u001b[0m\u001b[1;33m:\u001b[0m\u001b[1;33m\u001b[0m\u001b[0m\n",
      "\u001b[1;31mMemoryError\u001b[0m: "
     ]
    }
   ],
   "source": [
    "data_counts.toarray()"
   ]
  },
  {
   "cell_type": "code",
   "execution_count": 159,
   "metadata": {
    "scrolled": true
   },
   "outputs": [
    {
     "name": "stdout",
     "output_type": "stream",
     "text": [
      "  (0, 68708)\t1\n",
      "  (0, 92603)\t1\n",
      "  (0, 13880)\t1\n",
      "  (0, 30678)\t1\n",
      "  (0, 66610)\t1\n",
      "  (0, 105427)\t1\n",
      "  (0, 26167)\t1\n",
      "  (0, 47683)\t1\n",
      "  (0, 63943)\t1\n",
      "  (0, 67381)\t2\n",
      "  (0, 72581)\t1\n",
      "  (0, 39250)\t1\n",
      "  (0, 17917)\t1\n",
      "  (0, 10930)\t1\n",
      "  (0, 77066)\t1\n",
      "  (0, 17730)\t1\n",
      "  (0, 58888)\t1\n",
      "  (0, 91080)\t1\n",
      "  (0, 11066)\t1\n",
      "  (0, 108657)\t1\n",
      "  (0, 40249)\t1\n",
      "  (0, 91456)\t1\n",
      "  (0, 79159)\t1\n",
      "  (0, 39237)\t1\n",
      "  (0, 10982)\t1\n",
      "  :\t:\n",
      "  (8674, 71316)\t6\n",
      "  (8674, 54418)\t30\n",
      "  (8674, 98444)\t42\n",
      "  (8674, 73981)\t1\n",
      "  (8674, 29576)\t1\n",
      "  (8674, 68791)\t1\n",
      "  (8674, 39098)\t1\n",
      "  (8674, 67305)\t22\n",
      "  (8674, 97564)\t4\n",
      "  (8674, 58542)\t1\n",
      "  (8674, 109036)\t15\n",
      "  (8674, 63127)\t3\n",
      "  (8674, 70765)\t11\n",
      "  (8674, 41655)\t8\n",
      "  (8674, 71233)\t6\n",
      "  (8674, 109090)\t8\n",
      "  (8674, 51675)\t17\n",
      "  (8674, 59557)\t2\n",
      "  (8674, 97122)\t39\n",
      "  (8674, 17153)\t2\n",
      "  (8674, 47412)\t2\n",
      "  (8674, 105974)\t5\n",
      "  (8674, 98783)\t1\n",
      "  (8674, 69749)\t12\n",
      "  (8674, 12542)\t34\n"
     ]
    }
   ],
   "source": [
    "print(data_counts)"
   ]
  },
  {
   "cell_type": "code",
   "execution_count": 160,
   "metadata": {},
   "outputs": [
    {
     "data": {
      "text/plain": [
       "65914"
      ]
     },
     "execution_count": 160,
     "metadata": {},
     "output_type": "execute_result"
    }
   ],
   "source": [
    "count_vect.vocabulary_.get('moments')"
   ]
  },
  {
   "cell_type": "markdown",
   "metadata": {},
   "source": [
    "Here an example, we have 65914 occurences of the word \"moments\" in the posts. "
   ]
  },
  {
   "cell_type": "markdown",
   "metadata": {},
   "source": [
    "Now we have (1) tokenize the posts content and (2) count the words occurencies, but it's better to work with frequencies."
   ]
  },
  {
   "cell_type": "markdown",
   "metadata": {},
   "source": [
    "Currently we are using only dictionnary of 1-grams (individual words) because default value for the function CountVectorizer() is ngram_range=(1, 1). But we can take 2-grams (using parameter ngram_range=(1, 2) in the function) if we want to enrich the dictionnary (we have also group of two words), but it also taking much more place. So I will choose for the moment to use only 1-gram (and maybe enrich later if necessary)."
   ]
  },
  {
   "cell_type": "markdown",
   "metadata": {},
   "source": [
    "### TF-IDF"
   ]
  },
  {
   "cell_type": "markdown",
   "metadata": {},
   "source": [
    "To avoid space stockage issues, I will use the TF-IDF (term frequency-inverse document frequency) methods, which will allow for example (1:tf) to devide each occurences of a word in a post by total number of words in this post (that give new features names tf). This method also allow (2:tf-idf) to give less weight (importance) on words which appear in many posts of the corpus and automatically that give less information than words that appear in a less sample of posts."
   ]
  },
  {
   "cell_type": "markdown",
   "metadata": {},
   "source": [
    "$ tfidf(t,d) = tf(t,d) * idf(t) $"
   ]
  },
  {
   "cell_type": "code",
   "execution_count": 161,
   "metadata": {},
   "outputs": [
    {
     "data": {
      "text/plain": [
       "(8675, 110188)"
      ]
     },
     "execution_count": 161,
     "metadata": {},
     "output_type": "execute_result"
    }
   ],
   "source": [
    "from sklearn.feature_extraction.text import TfidfTransformer\n",
    "tfidf_transformer = TfidfTransformer()\n",
    "data_tfidf = tfidf_transformer.fit_transform(data_counts)\n",
    "data_tfidf.shape"
   ]
  },
  {
   "cell_type": "markdown",
   "metadata": {},
   "source": [
    "With the function \"fit_tranform()\" we are doing in one time the fit() which fit the estimator to data (1:tf) and the transform() which transform the matrix of occurences (data_counts) in tf-idf matrix with frequencies (2:tf-idf)."
   ]
  },
  {
   "cell_type": "markdown",
   "metadata": {},
   "source": [
    "### Train and Test set"
   ]
  },
  {
   "cell_type": "markdown",
   "metadata": {},
   "source": [
    "I will now devide the dataset in trainset (75%) and testset (25%) to execute models. I will use a specific train/test split function given by scikit-learn."
   ]
  },
  {
   "cell_type": "code",
   "execution_count": 162,
   "metadata": {
    "collapsed": true
   },
   "outputs": [],
   "source": [
    "from sklearn.model_selection import train_test_split\n",
    "trainset, testset = train_test_split(data2, test_size=0.25)"
   ]
  },
  {
   "cell_type": "code",
   "execution_count": 163,
   "metadata": {
    "scrolled": true
   },
   "outputs": [
    {
     "name": "stdout",
     "output_type": "stream",
     "text": [
      "      type                                              posts\n",
      "3583  INFP  'I've heard INFPs are ruthless when they've be...\n",
      "142   ENFP  Same story here|||I'm feeling it a bit right n...\n",
      "317   INFP  'Lakigigar Omg, I've been gone for a while, an...\n",
      "605   INFP  Anger doesn't bother me and hasn't for a long ...\n",
      "1470  INFP  'Koch brothers paid Romney a lot of money to p...\n",
      "3759  INTP  'I'm always down for some mischief if someone ...\n",
      "3503  ENTP  'Drunk Parrot I don't have much right now sinc...\n",
      "7512  INFP  'Happiness is the meaning and purpose of life,...\n",
      "2223  INTJ  'Maybe you should go to a different website. S...\n",
      "8648  INFP  'Good advice, thank you.|||I am in a tough sit...\n",
      "6394  INTP  'It's like I have very little social energy of...\n",
      "4119  INFJ  'I like to try to come across as funny, quirky...\n",
      "2105  ESTP  'I do that when I'm not really interested in w...\n",
      "2637  INTP  I think this thread is worthy of 'sticky threa...\n",
      "1474  INFJ  'Yes, it does.  Makes sense.  And that's why S...\n",
      "296   INTJ  'I don't know, maybe something I've heard or r...\n",
      "8225  INFJ  Why does it have to be one or the other? I thi...\n",
      "5901  INTJ  'What do you mean by mental pattern of pattern...\n",
      "4231  INTP  Depends on the circumstance, but if that's jus...\n",
      "1306  ISFJ  'have to bump again|||have to bump|||I am dysl...\n",
      "8080  INFJ  'No I'm just attracted to boys (gay ppl exist ...\n",
      "7187  INTP  'This strikes me as an INTJ who doesn't know h...\n",
      "7614  INFP  'I was like, why is Hitler preaching about thi...\n",
      "5074  ENFP  'Are you shitting me? He's so type 7 its not e...\n",
      "2130  INTP  'INTP Cancer|||I used to believe that because ...\n",
      "4143  INFJ  'Humans have to become aware of ambivalence, b...\n",
      "5048  INFJ  'In my experience, ESFP's don't make very good...\n",
      "4290  INFP  'What is this place? Why am I being repeatedly...\n",
      "4015  ENTP  'I would, but the last time I participated in ...\n",
      "8398  ENTP  'Alright how about this one.  It might be smal...\n",
      "...    ...                                                ...\n",
      "2095  INFJ  'Apologies for jumping into the thread so late...\n",
      "3216  INTJ  'Realisation.|||Because shorts with a liner is...\n",
      "6448  INFJ  'Anna seemed a bit more N on OUAT, and with he...\n",
      "2898  INTP  'An INTP villain that didn't start off as a vi...\n",
      "2397  INFP  'TL;DR means: Too long; didn't read. :)|||I re...\n",
      "6327  INTJ  'Alright, I'm going to argue for Makishima as ...\n",
      "1788  INTJ  '&ob=av2n  Probably The Best Indie Band Around...\n",
      "3774  ENFP  'It was actually easier for me to tell in term...\n",
      "5457  INTJ  'Incorrect. A movie about that would be wholly...\n",
      "1947  INFJ  'I don't mean like its a front or anything. It...\n",
      "3176  INFJ  'Most definitely!...:)|||Yesterday I went swim...\n",
      "5467  INTJ  'I'm going to be boring and say Spirited Away ...\n",
      "5815  INTP  'Well, I have a strong belief (note I said bel...\n",
      "4550  ISFP  'FreeBeer  yeah I was horribly assertive as a ...\n",
      "3038  INFP  '[quote=auriel;472047]Really? I'm leaning towa...\n",
      "3843  ENTP  'become a stylist|||i trapped a giant house sp...\n",
      "7447  INFP  'There is an unrequited love theme with my fav...\n",
      "2156  INFP  'Jess: ENFP Nick: ISFP Schmidt: ESTJ Winston: ...\n",
      "2112  ENTJ  'How can you be an ISTP when your Si is strong...\n",
      "249   ISFP  'I am married to an ISTJ. We get on really wel...\n",
      "3399  INFJ  'Do you realize the hypocrisy of what you're d...\n",
      "7968  INFJ  'Dear ENFP,   I don't like how you feel the ne...\n",
      "3585  INTJ  'INFP, from experience. I would say types desi...\n",
      "3198  ISTJ  'Great.  I already have pretty thin hair.  I g...\n",
      "1976  ISFP  '- They're like people who baked a beautiful c...\n",
      "7930  INFJ  'Hi Quang,  You are great. :kitteh:|||Hey y'al...\n",
      "1744  INFJ  'Hi! Thanks for your input! Yes, I do use my a...\n",
      "8003  ESTJ  hitler was what he was,and i am estj or esfj. ...\n",
      "2086  INTJ  713514 713522|||Frank miller's Batman might be...\n",
      "6129  ISFP  'Me, Hitler, Carmen Electra. Tauruses yo!  lol...\n",
      "\n",
      "[6506 rows x 2 columns]\n"
     ]
    }
   ],
   "source": [
    "print(trainset)"
   ]
  },
  {
   "cell_type": "code",
   "execution_count": 164,
   "metadata": {},
   "outputs": [
    {
     "data": {
      "text/plain": [
       "type     6506\n",
       "posts    6506\n",
       "dtype: int64"
      ]
     },
     "execution_count": 164,
     "metadata": {},
     "output_type": "execute_result"
    }
   ],
   "source": [
    "trainset.count()"
   ]
  },
  {
   "cell_type": "markdown",
   "metadata": {},
   "source": [
    "A trainset with 75% of the dataframe (8675 raws)"
   ]
  },
  {
   "cell_type": "code",
   "execution_count": 165,
   "metadata": {},
   "outputs": [
    {
     "data": {
      "text/plain": [
       "type     2169\n",
       "posts    2169\n",
       "dtype: int64"
      ]
     },
     "execution_count": 165,
     "metadata": {},
     "output_type": "execute_result"
    }
   ],
   "source": [
    "testset.count()"
   ]
  },
  {
   "cell_type": "markdown",
   "metadata": {},
   "source": [
    "A testset with 25% of the dataframe (8675 raws)"
   ]
  },
  {
   "cell_type": "code",
   "execution_count": null,
   "metadata": {
    "collapsed": true
   },
   "outputs": [],
   "source": []
  }
 ],
 "metadata": {
  "kernelspec": {
   "display_name": "Python 2",
   "language": "python",
   "name": "python2"
  },
  "language_info": {
   "codemirror_mode": {
    "name": "ipython",
    "version": 2
   },
   "file_extension": ".py",
   "mimetype": "text/x-python",
   "name": "python",
   "nbconvert_exporter": "python",
   "pygments_lexer": "ipython2",
   "version": "2.7.13"
  }
 },
 "nbformat": 4,
 "nbformat_minor": 2
}
