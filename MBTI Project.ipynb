{
 "cells": [
  {
   "cell_type": "markdown",
   "metadata": {},
   "source": [
    "# Project MBTI"
   ]
  },
  {
   "cell_type": "markdown",
   "metadata": {},
   "source": [
    "Create a model to predict MBTI personality types from posts"
   ]
  },
  {
   "cell_type": "markdown",
   "metadata": {},
   "source": [
    "Data format:\n",
    "    =>type (string): MBTI types\n",
    "    =>posts (string): text posts "
   ]
  },
  {
   "cell_type": "markdown",
   "metadata": {},
   "source": [
    "## Data exploration"
   ]
  },
  {
   "cell_type": "code",
   "execution_count": 5,
   "metadata": {
    "collapsed": true
   },
   "outputs": [],
   "source": [
    "import numpy as np\n",
    "import csv\n",
    "import pandas as pd"
   ]
  },
  {
   "cell_type": "code",
   "execution_count": 17,
   "metadata": {
    "collapsed": true
   },
   "outputs": [],
   "source": [
    "csv_file = csv.reader(open('C:\\Users\\Gwen\\MBTI\\mbti_1.csv', 'rb'))"
   ]
  },
  {
   "cell_type": "code",
   "execution_count": 37,
   "metadata": {
    "collapsed": true
   },
   "outputs": [],
   "source": [
    "names = [\"type\", \"posts\"]"
   ]
  },
  {
   "cell_type": "code",
   "execution_count": 72,
   "metadata": {
    "collapsed": true
   },
   "outputs": [],
   "source": [
    "data = np.genfromtxt(\"C:\\Users\\Gwen\\MBTI\\mbti_1.csv\", dtype=None, delimiter=',\"', names=names, skip_header=1)"
   ]
  },
  {
   "cell_type": "code",
   "execution_count": 73,
   "metadata": {},
   "outputs": [
    {
     "name": "stdout",
     "output_type": "stream",
     "text": [
      "[ ('INFJ', '\\'http://www.youtube.com/watch?v=qsXHcwe3krw|||http://41.media.tumblr.com/tumblr_lfouy03PMA1qa1rooo1_500.jpg|||enfp and intj moments  https://www.youtube.com/watch?v=iz7lE1g4XM4  sportscenter not top ten plays  https://www.youtube.com/watch?v=uCdfze1etec  pranks|||What has been the most life-changing experience in your life?|||http://www.youtube.com/watch?v=vXZeYwwRDw8   http://www.youtube.com/watch?v=u8ejam5DP3E  On repeat for most of today.|||May the PerC Experience immerse you.|||The last thing my INFJ friend posted on his facebook before committing suicide the next day. Rest in peace~   http://vimeo.com/22842206|||Hello ENFJ7. Sorry to hear of your distress. It\\'s only natural for a relationship to not be perfection all the time in every moment of existence. Try to figure the hard times as times of growth, as...|||84389  84390  http://wallpaperpassion.com/upload/23700/friendship-boy-and-girl-wallpaper.jpg  http://assets.dornob.com/wp-content/uploads/2010/04/round-home-design.jpg ...|||Welcome and stuff.|||http://playeressence.com/wp-content/uploads/2013/08/RED-red-the-pokemon-master-32560474-450-338.jpg  Game. Set. Match.|||Prozac, wellbrutin, at least thirty minutes of moving your legs (and I don\\'t mean moving them while sitting in your same desk chair), weed in moderation (maybe try edibles as a healthier alternative...|||Basically come up with three items you\\'ve determined that each type (or whichever types you want to do) would more than likely use, given each types\\' cognitive functions and whatnot, when left by...|||All things in moderation.  Sims is indeed a video game, and a good one at that. Note: a good one at that is somewhat subjective in that I am not completely promoting the death of any given Sim...|||Dear ENFP:  What were your favorite video games growing up and what are your now, current favorite video games? :cool:|||https://www.youtube.com/watch?v=QyPqT8umzmY|||It appears to be too late. :sad:|||There\\'s someone out there for everyone.|||Wait... I thought confidence was a good thing.|||I just cherish the time of solitude b/c i revel within my inner world more whereas most other time i\\'d be workin... just enjoy the me time while you can. Don\\'t worry, people will always be around to...|||Yo entp ladies... if you\\'re into a complimentary personality,well, hey.|||... when your main social outlet is xbox live conversations and even then you verbally fatigue quickly.|||http://www.youtube.com/watch?v=gDhy7rdfm14  I really dig the part from 1:46 to 2:50|||http://www.youtube.com/watch?v=msqXffgh7b8|||Banned because this thread requires it of me.|||Get high in backyard, roast and eat marshmellows in backyard while conversing over something intellectual, followed by massages and kisses.|||http://www.youtube.com/watch?v=Mw7eoU3BMbE|||http://www.youtube.com/watch?v=4V2uYORhQOk|||http://www.youtube.com/watch?v=SlVmgFQQ0TI|||Banned for too many b\\'s in that sentence. How could you! Think of the B!|||Banned for watching movies in the corner with the dunces.|||Banned because Health class clearly taught you nothing about peer pressure.|||Banned for a whole host of reasons!|||http://www.youtube.com/watch?v=IRcrv41hgz4|||1) Two baby deer on left and right munching on a beetle in the middle.  2) Using their own blood, two cavemen diary today\\'s latest happenings on their designated cave diary wall.  3) I see it as...|||a pokemon world  an infj society  everyone becomes an optimist|||49142|||http://www.youtube.com/watch?v=ZRCEq_JFeFM|||http://discovermagazine.com/2012/jul-aug/20-things-you-didnt-know-about-deserts/desert.jpg|||http://oyster.ignimgs.com/mediawiki/apis.ign.com/pokemon-silver-version/d/dd/Ditto.gif|||http://www.serebii.net/potw-dp/Scizor.jpg|||Not all artists are artists because they draw. It\\'s the idea that counts in forming something of your own... like a signature.|||Welcome to the robot ranks, person who downed my self-esteem cuz I\\'m not an avid signature artist like herself. :proud:|||Banned for taking all the room under my bed. Ya gotta learn to share with the roaches.|||http://www.youtube.com/watch?v=w8IgImn57aQ|||Banned for being too much of a thundering, grumbling kind of storm... yep.|||Ahh... old high school music I haven\\'t heard in ages.   http://www.youtube.com/watch?v=dcCRUPCdB1w|||I failed a public speaking class a few years ago and I\\'ve sort of learned what I could do better were I to be in that position again. A big part of my failure was just overloading myself with too...|||I like this person\\'s mentality. He\\'s a confirmed INTJ by the way. http://www.youtube.com/watch?v=hGKLI-GEc6M|||Move to the Denver area and start a new life for myself.\\'\"')\n",
      " ('ENTP', '\\'I\\'m finding the lack of me in these posts very alarming.|||Sex can be boring if it\\'s in the same position often. For example me and my girlfriend are currently in an environment where we have to creatively use cowgirl and missionary. There isn\\'t enough...|||Giving new meaning to \\'Game\\' theory.|||Hello *ENTP Grin*  That\\'s all it takes. Than we converse and they do most of the flirting while I acknowledge their presence and return their words with smooth wordplay and more cheeky grins.|||This + Lack of Balance and Hand Eye Coordination.|||Real IQ test I score 127. Internet IQ tests are funny. I score 140s or higher.  Now, like the former responses of this thread I will mention that I don\\'t believe in the IQ test. Before you banish...|||You know you\\'re an ENTP when you vanish from a site for a year and a half, return, and find people are still commenting on your posts and liking your ideas/thoughts. You know you\\'re an ENTP when you...|||http://img188.imageshack.us/img188/6422/6020d1f9da6944a6b71bbe6.jpg|||http://img.adultdvdtalk.com/813a0c6243814cab84c51|||I over think things sometimes. I go by the old Sherlock Holmes quote.  Perhaps, when a man has special knowledge and special powers like my  own, it rather encourages him to seek a complex...|||cheshirewolf.tumblr.com  So is I :D|||400,000+  post|||Not really; I\\'ve never thought of E/I or J/P as real functions.  I judge myself on what I use. I use Ne and Ti as my dominates. Fe for emotions and rarely Si. I also use Ni due to me strength...|||You know though. That was ingenious. After saying it I really want to try it and see what happens with me playing a first person shooter in the back while we drive around. I want to see the look on...|||out of all of them the rock paper one is the best. It makes me lol.  You guys are lucky :D I\\'m really high up on the tumblr system.|||So did you hear about that new first person shooter game? I\\'ve been rocking the hell out of the soundtrack on my auto sound equipment that will shake the heavens. We managed to put a couple PS3\\'s in...|||No; The way he connected things was very Ne. Ne dominates are just as aware of their environments as Se dominates.  Example: Shawn Spencer or Patrick Jane; Both ENTPs.|||Well charlie I will be the first to admit I do get jealous like you do. I chalk it up to my 4w3 heart mixed with my dominate 7w8. 7s and 8s both like to be noticed. 4\\'s like to be known (not the same...|||;D I\\'ll upload the same clip with the mic away from my mouth. Than you won\\'t hear anything.  Ninja Assassin style but with splatter.|||Tik Tok is a really great song. As long as you can mental block out the singer. I love the beat it makes me bounce.|||drop.io v1swck0  :D Mic really close to my mouth and smokin aces: assassins ball playing in the background.|||Sociable =/= extrovert; I\\'m an extrovert and I\\'m not sociable. :)|||Sherlock in the movie was an ENTP. Normally he\\'s played as a EXTJ. In the books he\\'s an ESTJ.  As I said. The movie looked good except for it being called sherlock holmes.|||http://i817.photobucket.com/albums/zz96/kamioo/Dirtywinch.png|||Oh, I never had fear of kissing a guy. I will kiss an animal too. So there was nothing to vanish. Just personal taste and me not liking it.  The guy I kissed didn\\'t know me. It was one of those...|||Sounds pretty much like my area and what I\\'m going through right now trying to figure out which way I want to take my life. I want to do so many things. The biggest problem is that I know if I don\\'t...|||;D I was operating under the impression that you were female. I never looked at your boxy. Okay, I help out my gay friends all the time and one of them has developed a little crush on me. I get red...|||T_T You just described me  and I\\'m living the worst nightmare. I\\'m trapped in one place with one one around. Only dull woods. If I was a serial killer this would be the perfect place but sadly I\\'m...|||TBH, and biased, sounds like a shadowed INFP. I think maybe he was hurt and turned ESTJ. I can tell because he has some of the typical INFP traits left over.|||*Checks list* I\\'m sorry. It seems that you have came at a bad time. We\\'ve already reached our quota of INFJs. However, being you\\'re female and I like females I will make you a deal. I will kick one...|||I\\'m ANTP (Leaning toward E). I\\'m easy for both ENTPs and INTPs to identify with. :)|||I also imagine ENTP\\'s interrogations would go a little bit like Jack\\'s from 24 except more mechanical. Rigging up shock treatment equipment in an abandoned building out of an old car batty, jumper...|||It was a compliment :) Trust me. I\\'m just as psychopathic :D except I have emoticons. They\\'re just weird ones. Like laughing when I get hurt or at people running themselves over with their lawn mower...|||http://i817.photobucket.com/albums/zz96/kamioo/Thunderstorm.pnghttp://i817.photobucket.com/albums/zz96/kamioo/Thunderstormbw.png http://i817.photobucket.com/albums/zz96/kamioo/Cosmicstorm.png|||No. It\\'s like a theme for where I live and that is why I know it by heart.   http://www.youtube.com/watch?v=j5W73HaVQBg|||and I usual don\\'t leave until the thing ends. But in the mean time. In between times. You work your thing. I\\'ll work mine :D  ;D I\\'m the MBP; Pleasure to meet you.|||Damn, need to trust my instincts more I would have been closer I was going to say INFP.|||EXFP? Leaning toward S with the way she responded.  :D My friends, even my gay and lesbian ones, always come to me for advice.|||I bow to my entp masters ENTPs are so great. If it wasn\\'t for ENTPs I wouldn\\'t have been able to build what I\\'m building  Duck Duck  Duck  Shotgun|||What? Me? I never do that >.> <.<|||Because its hard to be sad about losing someone you like when you knew you were right and give yourself a big pat on the back because you\\'re awesome and always correct.|||Oh, you don\\'t have to tell me that most of them are stupid. I know this. That is why I play with them and it makes me laugh. :D As I\\'m going to take Neuropsychology and I have a few psychologist...|||:D I\\'m a Nightowl. I wake up between 6-7pm and stay awake till 10-11:30am.|||Personal opinion backed by theory would suggest that INTPs are the most socially difficult. While INTJs can be socially indifferent but they will also use social situations if the the need arises....|||Personal stocks that I have on my desktop that I\\'ve downloaded from random stock sites and stock photobuckets.|||I\\'ll tell you when I open photoshop.  :) Glad you like it static.|||:D Thanks.|||http://i817.photobucket.com/albums/zz96/kamioo/Deathgrip.png http://i817.photobucket.com/albums/zz96/kamioo/Deathgripbw.png  Made for a friend. Several hours of work. I constructed every line by...|||:) Static: http://i817.photobucket.com/albums/zz96/kamioo/Statickitten.png  I\\'ll have to get to your avatar later if one of my fellow teammates doesn\\'t.|||Psychologist don\\'t keep me around long enough to diagnosis me. I like to toy with them. What I have diagnosis myself with and had a few psychologist friends (+ a few other friends) tell me I have is...\\'\"')\n",
      " ('INTP', '\\'Good one  _____   https://www.youtube.com/watch?v=fHiGbolFFGw|||Of course, to which I say I know; that\\'s my blessing and my curse.|||Does being absolutely positive that you and your best friend could be an amazing couple count? If so, than yes.   Or it\\'s more I could be madly in love in case I reconciled my feelings (which at...|||No, I didn\\'t; thank you for a link!|||So-called Ti-Si loop (and it can stem from any current topic/obsession) can be deadly. It\\'s like when you\\'re stuck in your own thoughts, and your mind just wanders in circles. Feels truly terrible. ...|||Have you noticed how peculiar vegetation can be? All you have to do is look down at the grass: dozens of different plant species there.    And now imagine that hundreds of years later (when/if soil...|||The Smiths \\xe2\\x80\\x93 Never Had No One Ever|||I often find myself spotting faces on marble tiles/wood.|||This 5 year-old sentence is an incredibly accurate and beautiful description.|||I haven\\'t visited this website in the last 3 years. So whoever reads this (and maybe even remembers me, which I highly doubt): hi.  700049  700057|||When you sit in your garden until 10:30 PM writing songs, and sing them (together with dozens of crickets) while playing your acoustic guitar.|||This is the most INTP-ish thread I\\'ve ever seen.|||I wouldn\\'t be able to look at the painting for the entire life if I knew that I picked it over the human being.|||I was drawing a background for my animation on which I\\'m working right now - it should have been Mars.. But I felt obligated to make Mark Watneyx92s postcard from it :D  If you read the book...|||I started to make comics about turtle Gordon and unicorn Chimes - here you can see two first stories: https://www.tumblr.com/blog/-alexxxandra-|||INTJ Recently I started to post my comics about two friends - turtle Gordon and unicorn Chimes. Before that, I just posted stuff that interested me, but from now on I\\'ll try to include only my works...|||Probably we could work together on a new model - I\\'m an expert in abrupt explosions of laughter upon various weird stuff. That happens because of peculiar sense of humor - so peculiar that not much...|||Hellooo Nah, you can touch it. Everyone thinks that it\\'s scared or sad, but that\\'s not true - in fact it has an absolutely neutral face. And this kitten actually really likes patting and hugs (only...|||Well.. kind of; As it was already mentioned, sometimes because of Ni it\\'s hard to convey complex stuff which pops up in your head in whimsical compilations of shapes and pictures only with words....|||I think this kitten would be very appropriate here.  376562|||367034|||GOOD NIGHT everyone out there! Even if for someone there is morning right now - nights always supersede mornings.. And people say good night in order to meet next day :)|||Oh, that movie :) It\\'s awesome Thank you! Hope you had good sleep in the air; anyway, I\\'m wishing you good night for the next night ahead! (hopefully it will be on land)  Good people deserve good...|||358882  358890|||Well, other people who may be wondering about an issue from the name of the topic will find your response helpful anyway :)|||This. Finally someone mentioned that :)|||I still see creatures/faces in a maze of various random patterns. It can be amusing sometimes.  It\\'s a very handy skill when you\\'re bored.|||Oh, I didn\\'t know that.. What a pity.  Why not sacrifice whole supermarket, then? We can decide which Walmart will be the best (I think the biggest one would be great).|||yippy  Here you go  357002  He thinks that the fire is delicious. Should I sacrifice tofu? I don\\'t like to waste food.|||I don\\'t think that the creator of this thread cares what\\'s going on here after 3 years :)|||Heh, I understand you :) With these same given languages)))|||Yessss, Adventure Time :D|||I get angry quite rarely, but when I do, it\\'s safer for surrounding people to go somewhere else. It\\'s impossible for me to hide or suppress anger; the only way to get rid of this feeling is to burst...|||I\\'ve never liked it  Anything fake is bad, actually.|||Hugs should be given only to chosen ones. Chosen. There are quite few of them, though.|||349890|||Yup, you\\'re doing it right :)|||http://-alexxxandra-.tumblr.com/|||256818|||Of course it\\'s not very comfortable.  But. Human race survived thankfully women\\'s ability to give birth to other human beings. It worked for thousands of years. Why change it? Besides, there are...|||That happens. And it occurs because most often people use results of extremely precise and elaborate online tests as a basis of determining one\\'s type.      Both visual and language arts (more...|||246386|||I study graphic design now, which I really enjoy. What is interesting about this field, is that the ability to generate ideas and solve problems is much more important than possession of a specific...|||Alexxxandra97 - DeviantArt|||236994|||http://www.youtube.com/watch?v=2Nkcn8m9M0M|||I am always ready to discipline (to intimidate, to be precise) my sibling\\'s offender.|||World domination? Shooting people in the head? Why?  Oh, right, INTJs always must be characterised only with these words.     I want to show so badly my reaction to this: 221226|||218106|||ISTP?   http://www.youtube.com/watch?v=7ghqoYxmaUE\\'\"')\n",
      " ...,\n",
      " ('INTP', '\\'So many questions when i do these things.  I would take the purple pill. Pick winning lottery numbers. Do whatever I want.|||I worked in a brewery for a couple years here. I dont know if you\\'re familiar with the local micros/craft at all but Mill st. was the name of it. Their tankhouse is my favorite of anything local.|||I am going to summon the great and powerful mr cafebot and his song of destruction. The four horseman ride. Count your days people of earth.   Intro: Nick - the INTP male - from a basement...|||This thread is obviously about the textbook definition of manliness. Ruffin it, tuffin it, and going hard in the mother fking paint.|||Stand up for yourself. You asked for the time off and it was approved. When they say, oh shit we are short staffed, where is Badgers? They figure out you asked for it off, that\\'s why you arn\\'t there....|||Lol excellent thread @NT the DC. I love watching baseball, and playing it. Oh and I hate the yankees. I\\'m 19, I\\'ve had multiple partners, I consider myself a manly man, I lift, and I am intp.   No...|||The thing with relationships is that you spend very little time in the bedroom compared to everything else. So while a dumb blonde can make you happy for 20 minutes a night, its going to take more...|||Thinking: A man plants a fruit tree because it will give him food in a few years. Feeling: A few years later a squirrel is hungry so it eats the fruit from the tree. Intuitive: The man sees his...|||Well I think you can appreciate an Einstein quote.. Everyone is a genius, but if you judge a fish on it\\'s abiility to climb a tree it will live it\\'s whole life believing it is stupid.  Everybody...|||Vsauce|||Real men write poetry.|||19, 6\\'4|||Oh and: Mountain dew releases mountain flavored Doritos locos tacos skateboards. That is all.  Also  http://www.youtube.com/watch?v=VP9--tH_YRo&amp;feature=youtu.be check this out. (still...|||There\\'s only two things I am certain of with Rusell Brand.  1. He is very heavilly extraverted. 2. He is a magical man.|||Here I am people.   https://www.youtube.com/watch?v=rKVJARVcuhc|||badgers  I\\'m gonna make a male version intp video today.|||The creative process of intps is getting around to doing the thing and not putting it off. I think we\\'re always ready for work provided we have sleep, and food in our stomachs.|||I may look busy, but I hear everything.|||I\\'m a guy but I like making videos. I\\'d love to be a part of this.|||Hey man, it\\'s your life. Do or do not, there is no try.|||Yes. You know you\\'re an intp when you have more conversations in your head than you do with real people.|||tl;dr   Yes I posted this.|||spoken like a true intp.|||If you really are bothered (and I believe you are), I think you should tell your boyfriend what you just said there.|||Morality invariably gets me talking, because it has philosophy but with tangable answers.  Other good subjects include evolution, hunter gatherer societies, political systems, good movies,...|||Hey b3th. I read your post and my immediate reaction was that your boyfriend is flipping out over something insignificant. Having trust issues is nothing to wag a finger at, but I think your idea of...|||I enjoy 9/10 of DarkBarlow \\'s posts. So a crush, ya maybe.|||In self defense, but then it\\'s not really a crime.  Would you kill somebody to save 1000 people? For millions of dollars?|||\\xe2\\x80\\x9cThirty years later he could not come to any other conclusion: women  were indisputably better than men. They were gentler, more affectionate,  more loving and more compassionate, they were rarely...|||We really should make a clear-cut method of differentiating the two. Intp are lazy and useless. They do things for no reason, often with disastrous results. The basically lack the things that make...|||743177431874319|||>2013 >Not using adblocker  Ps: ask an analytical type they will tell you they want to see less advertising, not help you do it better.|||Hahahaha this.|||73701 This is now a mango thread.|||+ Chameleon skills. That thing where we can mirror the mood/personality of others.  - Chameleon skills. Makes me wonder if I\\'m being true to myself.|||Free for all.|||We wouldn\\'t be human without either of them.|||Well I know 100% sure you are wrong, because I exist. But obviously I can\\'t prove it.|||73121|||The problem is in the first word of your post, Watching the news. TV news is entertainment, not journalism.|||I resent the thought that humans are nothing but selfish creatures, when being selfless can be accomplished on a whim. Fulfillment in life often comes in the form of giving to others. And Solfonny,...|||yup basically this. lol.|||Suicide is a permanent solution to non-permanent problems.   Selfish?  -It will cause pain and burden to your family for the rest of their lives, so not thinking of them could be considered...|||Lol you\\'re a women. That was easy.|||Seriously, a day where every intp is on adderal? We would live in utopia by noon.|||Repeat the mantra: I am self aware.|||So you reject ideas that don\\'t come from gods?  Camus declares that humans are here, we exist, there is nothing that can change that. Now we have a choice.  1. Get pissed off, give up, or revolt,...|||What, in fact, is the Absurd Man? He who, without negating it, does nothing for the eternal. Not that nostalgia is foreign to him. But he prefers his courage and  his reasoning. The first teaches him...|||So they don\\'t need to elbow past people in a hurry and potentially miss the train door closing. Otherwise, they want to be first off the train/bus and not get stuck behind a crowd of slow walkers. ...|||This is a loaded question.   As for me I\\'m 19 and still strongly believing in non-belief.      INTERNET POLICE:   RESTRAIN FROM TROLLING AT ONCE! INTP:                    I...I...CAN\\'T...\\'\"')\n",
      " ('INFP', '\\'I am very conflicted right now when it comes to wanting children.  I honestly had no maternal instinct whatsoever until recently.  Up until now, none of my close friends have had children, and I...|||If I had to guess for my closest friends:  1. ISFJ 2. ESFP 3. ISTJ 4. xNFP 5. ESFJ  I don\\'t know if this is correct or not because I don\\'t know if *they* know their types (actually the xNFP...|||What you said in the last paragraph ... as a teacher, this frustrates me too!  There\\'s a trend in education to combine classes more and more to contain a variety of types of students (which I won\\'t...|||I can\\'t say that I had much trouble with my community in general.  I mean, if I\\'m talking about my same-age peers, I was never considered popular because I was too into artsy extracurricular...|||I do eat meat, and I do feel guilty about it.  I have vaguely considered not eating meat, but I don\\'t think I could actually do it because of my nutritional requirements.  I need a high protein diet...|||Well I am in the SAME boat as you except I teach science, not theater (I know most people don\\'t think of science as INFP but I find it interesting, and I\\'m good at it).  I had another career that I...|||Exactly if God truly created one man and one woman, and he technically created the woman from the man, then we\\'re all products of incest.|||As per the 10 books that have stayed with you list going around Facebook, my choices are the following (in no special order):   The Reader by Bernhard Schlink   Interpreter of Maladies by Jhumpa...|||These are some amazing lists, and I\\'m partially posting on here just so I\\'m sure I can find it again if I need some ideas for what to listen to.  My list isn\\'t as long as others\\' but I\\'m being pretty...|||Another point: INFP types are known as the Idealists and I have heard a theory of procrastination which says that it comes from a person setting such high standards in their mind (an ideal, perhaps...|||Well, this isn\\'t me at all, but then again I have a bit of impulse control so if I\\'m not feeling calm no one else is going to feel calm because of me.  As for cute I don\\'t think you can stereotype...|||I think Eleanor Roosevelt may have been an INFP.  If you google it, they have her classified as an ENFP but if you read a biography of her it actually seems like she was an introvert forced by her...|||Don\\'t know much about subtypes, and ... WOW.  Definitely the Teacher.  First time I read it through I thought, yeah, in some ways.  Reading more carefully a second time, it is me almost perfectly. ...|||[/LIST]  Interests and hobbies: I generally like to read a lot (I\\'ll tell you more about what later), though sometimes work gets too busy.  I also enjoy writing but it comes in bursts and goes...|||Well, I can\\'t help with the is he/isn\\'t he gay thing at all, sorry.  However, I can commiserate with the part about waiting for someone to text back, and feeling like they have this power over your...|||Oh, wow, I am totally in that situation right now where I\\'m being treated very poorly, only I have the opposite problem as you, which is that I can\\'t seem to find the courage to stand my ground.  Do...|||I don\\'t think I cry too much but my mom thinks so.  I\\'m pretty sure she thinks I\\'m clinically depressed because of it, even though I\\'m not.  I mean, I\\'m pretty sure I\\'m not.  I cry for a bit,...|||Lol, well I feel dumb.  But it works, see?  Thanks!|||Alcohol doesn\\'t actually change your base personality.  If it were as easy to change who you are as that, MBTI wouldn\\'t be very valid.  Alcohol just makes you say or do things that you would...|||So I was absent from the site for a couple months, and since I\\'ve been back a couple weeks ago whenever I try to create a thread (like right now) or reply to a thread, I am unable to create a new...|||Also, sorry for the huge long single paragraph.  For some reason, the window here won\\'t let me create new paragraphs.  Attempting to fix that now.|||Eggsies, thanks for the reply.  Your perspective on the cheating thing is interesting, I never really thought about it that way, especially not at the beginning but perhaps you make a good point...|||In the INFP forums we once had a conversation about what we like getting for gifts and we agreed on a lot of things.  However, I\\'m a terrible gift giver for anyone with different tastes.  So, I\\'m...|||I was always very, very good at math, but I never *enjoyed* math.  To be fair, I\\'m only slightly more F than T (as opposed to the other functions).  Also, I have to say while math is very methodical,...|||Ok Mr. ENFJ, I have a conundrum for you.  I am dating an ENFJ, have been since about January, but we both have very busy schedules and have been able to spend very little time with each other (being...|||I love bikes but use one for recreation, not actual transportation.  I might bike on weekend or evening errands when the weather\\'s nice except right now I live up a steep hill that I\\'d never make it...|||I haven\\'t been clinically diagnosed with ADHD, but after reading extensively and talking with my mom about my behaviors as a kid (and found out she wanted to take me to a psychologist but my dad...|||My yoga clothes: tight black capris and a pink and purple tank.|||I tear up at movies sometimes, but I don\\'t generally cry hard.  Exceptions are if it\\'s the movie version of a book I read (like Harry Potter).  I believe this is because two hours is not usually...|||Unfortunately, I kind of read a lot of books at once.  For fiction, I\\'m working on The Night Circus by Erin Morgenstern and am almost done with The Dovekeepers by Alice Hoffman.  Also reading a...|||I\\'m a little ambivalent about books being made into movies.  Many of my favorite books are literary enough that a movie version would be a atrocious.  A couple I agree with:  1. Finish His Dark...|||I could not read this point without replying.  You may be physically alone, but someone\\'s hearing you!  I haven\\'t posted on this thread before, but I fear it may be where I belong ...|||Out of curiosity, if you had someone who desperately wanted to meet your needs but didn\\'t know how, what would you tell this person?  Would you even know what to ask them for?  Or is this more of...|||Well I\\'ve never read that book but I have seen the loosely-based movie, and I see what you\\'re saying.  I have thought of that, too, but I\\'m just not fully convinced that this is the case, and I\\'m not...|||I greatly appreciate your input.  What you and boxerkitty have said about an ENFJs need to socialize with a wide set of people and to have time to unwind do make me feel somewhat better about the...|||My one thing that I would love to have in the person I choose to spend my life with (assuming that I do find someone with whom I choose to spend my life), is similar to a point you made.  I have...|||Completely agreed, MadRabbit.  Once exception: if I\\'m pursuing an answer that I will never find, that possibly doesn\\'t exist.  I go through cycles where I get frustrated, give up and decide to stop...|||Yeah, I hear you.  I know it\\'s not really as complicated as I wish it were, but it seems that way in my mind.  One, I don\\'t entirely know how to bring it up without using the word marriage which...|||I don\\'t know for sure that he is an ENFJ but it seems by far the most likely, so I thought I\\'d post here for some advice.  ENFJs, what are some of the difficulties you have with relationships?  If...|||This is something that has been bugging me for a few weeks now, and I thought I would post it on here where other people seem to get me and think about things in the same way.  So, I\\'m seeing...|||But why?  If your original post title is anything to go by, I can totally relate.  I almost posted a similar thread -- about not being able to trust in relationships -- a few days ago.  If you...|||I have no desire to control others, but I do kind of freak out when I feel like I have no control over my feelings in a situation.  Let me explain.  I have no desire to tell someone else what to do...|||As others have mentioned, I feel really guilty when I spend a lot of money on spa-type things.  I just feel like I could be putting it somewhere more useful especially since I don\\'t make a ton of...|||Sad, angry, pathetic, embarrassed, love|||Oh, definitely, definitely.  This stems from a combination of a number of things that have occurred in my life, but the biggest overall factor is that I form attachments incredibly easy.  Seems a...|||I\\'m really hoping that since you referred to a break-up letter that this is a long-distance relationship.  Because if not, seriously?  You can\\'t even face this person to tell them how you feel? ...|||I can\\'t honestly see the point in saying which letter I\\'d like to change because I can\\'t imagine being anyone but who I am.  That being said, I voted INTP because I\\'m closer to T than I am to E, S,...|||Ok, a few things, sort of issues I had with the test.  1. I took the quiz and got 147 - The Entertainer.  One, I don\\'t think this is really my type, for reasons I\\'ll describe below, and two,...|||Yeah, I definitely get jealous when it comes to romantic relationships.  To be honest, I haven\\'t had many serious romantic relationships, and this is part of the reason (though certainly there are...|||Wait, leafstone, third volume of 1Q84?  Was the book originally split in Japanese (or another language)?  I spent an entire week at the beach with that book and didn\\'t finish (I have finished since...\\'\"')\n",
      " ('INFP', '\\'It has been too long since I have been on personalitycafe - although it doesn\\'t seem to have changed one bit - but I must say it is good to be back somewhere like this. Usually I turn to Doctor Who...|||http://www.youtube.com/watch?v=6EEW-9NDM5k|||Overwhelmed by the world around me.|||In one dream I have had I was being chased by a large shadowy creature, with someone else who I felt I had to save above all else. The dream ended after she reached safety, but as for what happened...|||Well now My Avatar is a Doctor Who Clockwork Creature. I always liked this monster because It is just a worker trying to do it\\'s job, kind of :3|||1st - Thanks for your reply, I appreciate all the help I can get. 2nd - I think everyone has the right to their opinion :) (however too many people abuse that right :P )|||Yea, Not Doing the Iron Man Thing xD  Thanks for all the advice everyone :)|||Thanks :)  I think I needed some humour. I might show them this (maybe).   I know they won\\'t do anything harsh like throw me out or beat me ( although I have places to go ) . But I really don\\'t...|||I don\\'t really know how to judge personality types, I can only say Mums Introverted, while dad is Extroverted :P|||Ok, So I understand what I want, and how I feel about liking men. That\\'s all good. But the problem now Is how do I tell my parents?  I want to tell them, but I really don\\'t know how to say to them...|||I\\'m Contempt, as always I suppose, I have spent this afternoon buried in my book and In my own world, only after spending this morning out with our animals. Suppose It\\'s a good mix :) . I will have...|||Whats the hardest thing I\\'m going to face in life? . . I haven\\'t got a clue. But from my current perspective, telling my parents I\\'m gay seems like a huge hurdle. I do suspect that it will seem...|||I do! MI6 too, and Torchwood.  ...oh that\\'s fictional. oh well, still :)|||I just got the book two days ago and have just read it. I thought it was brilliant!|||This is true for me too. My family love me, and i them, but they never wanted to deeply understand who I am. I am contempt with this and just keeping the deeper me to my self. different people see...|||To look at, and understand yourself. knowing yourself is important; and there is so much to know!  also be happy - I have not let anything get me down lately, and I feel better for it -either that...|||I guess not, but I wasn\\'t watching Comedy Central|||http://www.youtube.com/watch?v=i1GmxMTwUgs&amp;feature=plcp This is such an incredible song <3|||Thanks for your reply, and I can relate, in part at least, to you.|||This is not as big a deal as I may have made it to be, but the reply to pointing it out Well just do it more or something along those lines.|||I feel the same, although I have only ever \\'entered\\' this state of mind in a time of \\'need\\' or \\'emotion\\' not just for the sake of it. sometimes I think I\\'m too young, other times I just live my life...|||I Find that my parents are never happy with any effort I give them with anything. I will say I used to be quite lazy but lately I have tried to do by best and do everything they ask without hassle...|||Hey there! 43579|||Those spoiler buttons still pre-load the images so it doesn\\'t matter|||I\\'m not the best driver, and I currently hold only a restricted licence, but I drive as safely as I can, and (don\\'t tell my parents) only speed on an open road with no one around.|||Don\\'t let someone tell you your beliefs are wrong, they are yours. What you think is right and true. People may not agree with you, that does not make your beliefs wrong it just means they are...|||Midnight Blue, no question.  I can be so many things and I feel I\\'m very contrasting.  You may see a dark shade of blue where, in fact, there is a story behind every line of that magnificent...|||I\\'m fine with ads. I make websites so know how sometimes you need them. Just a reccomendation though, make them open in a new window when clicked (\\'target=_top\\')|||Yes I want people to Understand. Some people anyway. But I think it doesn\\'t matter if they could understand me, because so many people don\\'t care to. Not really and fully.|||Just interested to know what some other INFJs\\' ideas are on letting people in to our lives, or keeping a distance. Personaly there are very few people I let in to my world at all, and I let no one...|||I wouldn\\'t be bothered personally. Actually I sometimes actually think that I don\\'t realize how obvious I can be or how others might feel.|||If I don\\'t see good in someone, I won\\'t hang around. If it happens to be you chances are you won\\'t notice me by accident. I can be good at just disappearing If I don\\'t want to see you|||In a library or out on a walk somewhere remote alone|||I agree, and although i\\'m a very black and white person (on the outside anyway), this website needs some colour. It is too bright and the black doesn\\'t help at all.|||I\\'m defiantly a night person, no doubt about it. I enjoy being out late and sleeping half the day away.|||When you say you have lost your balance I knew exactly how you feel, I can say I\\'m in a similar place right now and have lost the thing that really keeps me going (my balance) and my world i spinning...|||Looks good! I think the top navigation bar/news would look better with a darker colour, white seems to bright.|||I Would Be With The Tenth, all the way.  ... Actually Both of them ;) - and Capt. Jack|||I was going to say that (About Doctor Who), but I thought my second thing seemed more appropriate.     But apart from the TARDIS, I would get in my car and just drive, stopping only to enjoy a...|||Thanks @Solitude315. Your right and I do like constructive criticism because you have something to work on and improve, i guess it just upset me a little.|||How do you feel when people criticize your work or something you do?  Whenever someone tells me that something I have done is not good enough it makes me feel like I am not good enough.   Maybe...|||YES -  Owner of a Lonely Heart  http://www.youtube.com/watch?v=ELpmmeT69cE|||As a Doctor Who fan I have to say Repeated memory wipes by the Silence will eventually fry your brain - The Eleventh Doctor But I\\'m the same, and when I do remember it\\'s after a while and people...|||Currently I am reading \\'The White Wolf\\'s Son\\', a good read. Not quite what I expected when I picked it up but I will finish it soon. and next I want to read \\'The Wolf Gift\\'...|||Tonight I sit outside my window in the blackness of night, staring out into the wilderness we call space. Peace. Beauty. I could stay here till the morning light. The thousands of suns I stare upon...|||I was going to close my facebook a few months back, but as well as wanting to be able to message my family in ausse and school friends i found that i had connected a few other websites to it...|||30 Seconds to Mars - All of my collections. It seems to be fitting my mood right now.|||I have seen it, and i agree. I did actually think that the first time I watched the movie, and from the beginning (or when they got their powers) I kinda thought Andrew would never work right with...|||Ok so i have just watched Underworld 4 (Awakening) and must say it was a really good film, Compared to the other films out in the last few months anyway. I don\\'t think it was as good as the first 3...|||I would never want to turn off my emotions. sometimes I hide them from the world, but I still need them for me.\\'\"')]\n"
     ]
    }
   ],
   "source": [
    "print (data)"
   ]
  },
  {
   "cell_type": "code",
   "execution_count": 105,
   "metadata": {},
   "outputs": [
    {
     "data": {
      "text/plain": [
       "('type', 'posts')"
      ]
     },
     "execution_count": 105,
     "metadata": {},
     "output_type": "execute_result"
    }
   ],
   "source": [
    "data.dtype.names"
   ]
  },
  {
   "cell_type": "markdown",
   "metadata": {},
   "source": [
    "Load with panda read_csv to avoid delimiter problem between header and data"
   ]
  },
  {
   "cell_type": "code",
   "execution_count": 6,
   "metadata": {
    "collapsed": true,
    "scrolled": true
   },
   "outputs": [],
   "source": [
    "data2 = pd.read_csv(\"C:\\Users\\Gwen\\MBTI\\mbti_1.csv\", header =0)"
   ]
  },
  {
   "cell_type": "code",
   "execution_count": 7,
   "metadata": {
    "scrolled": true
   },
   "outputs": [
    {
     "name": "stdout",
     "output_type": "stream",
     "text": [
      "      type                                              posts\n",
      "0     INFJ  'http://www.youtube.com/watch?v=qsXHcwe3krw|||...\n",
      "1     ENTP  'I'm finding the lack of me in these posts ver...\n",
      "2     INTP  'Good one  _____   https://www.youtube.com/wat...\n",
      "3     INTJ  'Dear INTP,   I enjoyed our conversation the o...\n",
      "4     ENTJ  'You're fired.|||That's another silly misconce...\n",
      "5     INTJ  '18/37 @.@|||Science  is not perfect. No scien...\n",
      "6     INFJ  'No, I can't draw on my own nails (haha). Thos...\n",
      "7     INTJ  'I tend to build up a collection of things on ...\n",
      "8     INFJ  I'm not sure, that's a good question. The dist...\n",
      "9     INTP  'https://www.youtube.com/watch?v=w8-egj0y8Qs||...\n",
      "10    INFJ  'One time my parents were fighting over my dad...\n",
      "11    ENFJ  'https://www.youtube.com/watch?v=PLAaiKvHvZs||...\n",
      "12    INFJ  'Joe santagato - ENTP|||ENFJ or  ENTP?   I'm n...\n",
      "13    INTJ  'Fair enough, if that's how you want to look a...\n",
      "14    INTP  'Basically this...  https://youtu.be/1pH5c1Jkh...\n",
      "15    INTP  'Your comment screams INTJ, bro. Especially th...\n",
      "16    INFJ  'some of these both excite and calm me:  BUTTS...\n",
      "17    INFP  'I think we do agree. I personally don't consi...\n",
      "18    INFJ  'I fully believe in the power of being a prote...\n",
      "19    INFP  'That's normal, it happens also to me. If I am...\n",
      "20    INTP  'Steve Job's was recognized for his striving f...\n",
      "21    INFJ  'It is very annoying to be misinterpreted. Esp...\n",
      "22    ENTJ  'Now I'm interested. But too lazy to go resear...\n",
      "23    INFP  '45016 urh sorry uh. couldn't resist.|||all of...\n",
      "24    ENTJ  'Still going strong at just over the two year ...\n",
      "25    INFP  'Personally, I was thinking this would be more...\n",
      "26    ENFP  'He doesn't want to go on the trip without me,...\n",
      "27    ISFP  'They paint without numbers|||I'd guess at ist...\n",
      "28    INFP  'Basically, my main questions are : What do yo...\n",
      "29    INFJ  'I think that that can absolutely be true of i...\n",
      "...    ...                                                ...\n",
      "8645  INFJ  'I play cello, and I'm also a classically trai...\n",
      "8646  INFP  Its more or less based on how YOU experienced ...\n",
      "8647  INTP  Socionics picked up on this.  They call it vis...\n",
      "8648  INFP  'Good advice, thank you.|||I am in a tough sit...\n",
      "8649  INFP  https://www.youtube.com/watch?v=nPDusM-75FE  e...\n",
      "8650  INFJ  'I think the real question is whether INFJs ca...\n",
      "8651  ISTP  '-Being alone -Being insensitive  -Over thinki...\n",
      "8652  ISFJ  'Being assertive and standing up for myself is...\n",
      "8653  INFP  'You should do whatever it is you want. If you...\n",
      "8654  ISTJ  'Assuming I had a hand in it, I always at leas...\n",
      "8655  INFJ  'I find that poster and your facial expression...\n",
      "8656  INFJ  Rim  In some approximate order, it seems like ...\n",
      "8657  INTJ  Social  1) Generally, I positively associate w...\n",
      "8658  ESFJ  'Don't worry, I do that too when a car comes c...\n",
      "8659  ENFP  'leoni I had really bad social anxiety until I...\n",
      "8660  INFP  'I love the vastness of the sky, because my pr...\n",
      "8661  ENTP  '**haven't logged in and read posts for over 6...\n",
      "8662  INTJ  'I can't say I have any one specific belief. I...\n",
      "8663  INTP  'doesn't matter, you don't have a choice, Elec...\n",
      "8664  INTP  'https://www.youtube.com/watch?v=7zsMdi714mI||...\n",
      "8665  ENTP  'This test wasn't even close on my gender, age...\n",
      "8666  INTJ  'Highly recommend this to those who wants to t...\n",
      "8667  ENTP  'I think generally people experience post trau...\n",
      "8668  INTJ  'Here's a planned stress relieving activity th...\n",
      "8669  INFJ  'I'm not sure about a method for picking out I...\n",
      "8670  ISFP  'https://www.youtube.com/watch?v=t8edHB_h908||...\n",
      "8671  ENFP  'So...if this thread already exists someplace ...\n",
      "8672  INTP  'So many questions when i do these things.  I ...\n",
      "8673  INFP  'I am very conflicted right now when it comes ...\n",
      "8674  INFP  'It has been too long since I have been on per...\n",
      "\n",
      "[8675 rows x 2 columns]\n"
     ]
    }
   ],
   "source": [
    "print (data2)"
   ]
  },
  {
   "cell_type": "markdown",
   "metadata": {},
   "source": [
    "Test columns"
   ]
  },
  {
   "cell_type": "code",
   "execution_count": 8,
   "metadata": {},
   "outputs": [
    {
     "data": {
      "text/plain": [
       "Index([u'type', u'posts'], dtype='object')"
      ]
     },
     "execution_count": 8,
     "metadata": {},
     "output_type": "execute_result"
    }
   ],
   "source": [
    "data2.columns"
   ]
  },
  {
   "cell_type": "code",
   "execution_count": 9,
   "metadata": {},
   "outputs": [
    {
     "data": {
      "text/html": [
       "<div>\n",
       "<style>\n",
       "    .dataframe thead tr:only-child th {\n",
       "        text-align: right;\n",
       "    }\n",
       "\n",
       "    .dataframe thead th {\n",
       "        text-align: left;\n",
       "    }\n",
       "\n",
       "    .dataframe tbody tr th {\n",
       "        vertical-align: top;\n",
       "    }\n",
       "</style>\n",
       "<table border=\"1\" class=\"dataframe\">\n",
       "  <thead>\n",
       "    <tr style=\"text-align: right;\">\n",
       "      <th></th>\n",
       "      <th>type</th>\n",
       "      <th>posts</th>\n",
       "    </tr>\n",
       "  </thead>\n",
       "  <tbody>\n",
       "  </tbody>\n",
       "</table>\n",
       "</div>"
      ],
      "text/plain": [
       "Empty DataFrame\n",
       "Columns: [type, posts]\n",
       "Index: []"
      ]
     },
     "execution_count": 9,
     "metadata": {},
     "output_type": "execute_result"
    }
   ],
   "source": [
    "data2[:0]"
   ]
  },
  {
   "cell_type": "markdown",
   "metadata": {},
   "source": [
    "Overview of the dataset"
   ]
  },
  {
   "cell_type": "code",
   "execution_count": 10,
   "metadata": {},
   "outputs": [
    {
     "name": "stdout",
     "output_type": "stream",
     "text": [
      "(8675, 2)\n"
     ]
    }
   ],
   "source": [
    "print(data2.shape)"
   ]
  },
  {
   "cell_type": "markdown",
   "metadata": {},
   "source": [
    "We have 8675 raws and 2 columns, which correspond to the dataset in input."
   ]
  },
  {
   "cell_type": "markdown",
   "metadata": {},
   "source": [
    "### Frequence of each MBTI type in the dataset"
   ]
  },
  {
   "cell_type": "code",
   "execution_count": 11,
   "metadata": {
    "scrolled": true
   },
   "outputs": [
    {
     "data": {
      "text/html": [
       "<div>\n",
       "<style>\n",
       "    .dataframe thead tr:only-child th {\n",
       "        text-align: right;\n",
       "    }\n",
       "\n",
       "    .dataframe thead th {\n",
       "        text-align: left;\n",
       "    }\n",
       "\n",
       "    .dataframe tbody tr th {\n",
       "        vertical-align: top;\n",
       "    }\n",
       "</style>\n",
       "<table border=\"1\" class=\"dataframe\">\n",
       "  <thead>\n",
       "    <tr style=\"text-align: right;\">\n",
       "      <th></th>\n",
       "      <th>posts</th>\n",
       "    </tr>\n",
       "    <tr>\n",
       "      <th>type</th>\n",
       "      <th></th>\n",
       "    </tr>\n",
       "  </thead>\n",
       "  <tbody>\n",
       "    <tr>\n",
       "      <th>ENFJ</th>\n",
       "      <td>190</td>\n",
       "    </tr>\n",
       "    <tr>\n",
       "      <th>ENFP</th>\n",
       "      <td>675</td>\n",
       "    </tr>\n",
       "    <tr>\n",
       "      <th>ENTJ</th>\n",
       "      <td>231</td>\n",
       "    </tr>\n",
       "    <tr>\n",
       "      <th>ENTP</th>\n",
       "      <td>685</td>\n",
       "    </tr>\n",
       "    <tr>\n",
       "      <th>ESFJ</th>\n",
       "      <td>42</td>\n",
       "    </tr>\n",
       "    <tr>\n",
       "      <th>ESFP</th>\n",
       "      <td>48</td>\n",
       "    </tr>\n",
       "    <tr>\n",
       "      <th>ESTJ</th>\n",
       "      <td>39</td>\n",
       "    </tr>\n",
       "    <tr>\n",
       "      <th>ESTP</th>\n",
       "      <td>89</td>\n",
       "    </tr>\n",
       "    <tr>\n",
       "      <th>INFJ</th>\n",
       "      <td>1470</td>\n",
       "    </tr>\n",
       "    <tr>\n",
       "      <th>INFP</th>\n",
       "      <td>1832</td>\n",
       "    </tr>\n",
       "    <tr>\n",
       "      <th>INTJ</th>\n",
       "      <td>1091</td>\n",
       "    </tr>\n",
       "    <tr>\n",
       "      <th>INTP</th>\n",
       "      <td>1304</td>\n",
       "    </tr>\n",
       "    <tr>\n",
       "      <th>ISFJ</th>\n",
       "      <td>166</td>\n",
       "    </tr>\n",
       "    <tr>\n",
       "      <th>ISFP</th>\n",
       "      <td>271</td>\n",
       "    </tr>\n",
       "    <tr>\n",
       "      <th>ISTJ</th>\n",
       "      <td>205</td>\n",
       "    </tr>\n",
       "    <tr>\n",
       "      <th>ISTP</th>\n",
       "      <td>337</td>\n",
       "    </tr>\n",
       "  </tbody>\n",
       "</table>\n",
       "</div>"
      ],
      "text/plain": [
       "      posts\n",
       "type       \n",
       "ENFJ    190\n",
       "ENFP    675\n",
       "ENTJ    231\n",
       "ENTP    685\n",
       "ESFJ     42\n",
       "ESFP     48\n",
       "ESTJ     39\n",
       "ESTP     89\n",
       "INFJ   1470\n",
       "INFP   1832\n",
       "INTJ   1091\n",
       "INTP   1304\n",
       "ISFJ    166\n",
       "ISFP    271\n",
       "ISTJ    205\n",
       "ISTP    337"
      ]
     },
     "execution_count": 11,
     "metadata": {},
     "output_type": "execute_result"
    }
   ],
   "source": [
    "data2.groupby('type').count()"
   ]
  },
  {
   "cell_type": "markdown",
   "metadata": {},
   "source": [
    "### Create category MBTI list"
   ]
  },
  {
   "cell_type": "code",
   "execution_count": 12,
   "metadata": {
    "scrolled": false
   },
   "outputs": [
    {
     "data": {
      "text/plain": [
       "['ENFJ',\n",
       " 'ESFP',\n",
       " 'INFJ',\n",
       " 'ESTJ',\n",
       " 'ISTJ',\n",
       " 'ENTJ',\n",
       " 'ISFP',\n",
       " 'INTJ',\n",
       " 'ISTP',\n",
       " 'ENTP',\n",
       " 'ISFJ',\n",
       " 'INTP',\n",
       " 'ESFJ',\n",
       " 'ESTP',\n",
       " 'ENFP',\n",
       " 'INFP']"
      ]
     },
     "execution_count": 12,
     "metadata": {},
     "output_type": "execute_result"
    }
   ],
   "source": [
    "list(set(data2.type))"
   ]
  },
  {
   "cell_type": "code",
   "execution_count": 14,
   "metadata": {
    "collapsed": true
   },
   "outputs": [],
   "source": [
    "category = list(data2['type'].unique())"
   ]
  },
  {
   "cell_type": "code",
   "execution_count": 15,
   "metadata": {},
   "outputs": [
    {
     "name": "stdout",
     "output_type": "stream",
     "text": [
      "['INFJ', 'ENTP', 'INTP', 'INTJ', 'ENTJ', 'ENFJ', 'INFP', 'ENFP', 'ISFP', 'ISTP', 'ISFJ', 'ISTJ', 'ESTP', 'ESFP', 'ESTJ', 'ESFJ']\n"
     ]
    }
   ],
   "source": [
    "print (category)"
   ]
  },
  {
   "cell_type": "markdown",
   "metadata": {
    "collapsed": true
   },
   "source": [
    "## Data cleaning"
   ]
  },
  {
   "cell_type": "markdown",
   "metadata": {},
   "source": [
    "plan:\n",
    "1) Remove URL\n",
    "2) Vectorization"
   ]
  },
  {
   "cell_type": "markdown",
   "metadata": {},
   "source": [
    "### Remove URL using regex"
   ]
  },
  {
   "cell_type": "code",
   "execution_count": 17,
   "metadata": {
    "collapsed": true
   },
   "outputs": [],
   "source": [
    "import re"
   ]
  },
  {
   "cell_type": "markdown",
   "metadata": {},
   "source": [
    "We are applying the regex function on the colum post"
   ]
  },
  {
   "cell_type": "code",
   "execution_count": 118,
   "metadata": {
    "scrolled": true
   },
   "outputs": [
    {
     "name": "stdout",
     "output_type": "stream",
     "text": [
      "0       '||||||enfp and intj moments    sportscenter n...\n",
      "1       'I'm finding the lack of me in these posts ver...\n",
      "2       'Good one  _____   |||Of course, to which I sa...\n",
      "3       'Dear INTP,   I enjoyed our conversation the o...\n",
      "4       'You're fired.|||That's another silly misconce...\n",
      "5       '18/37 @.@|||Science  is not perfect. No scien...\n",
      "6       'No, I can't draw on my own nails (haha). Thos...\n",
      "7       'I tend to build up a collection of things on ...\n",
      "8       I'm not sure, that's a good question. The dist...\n",
      "9       '|||I'm in this position where I have to actua...\n",
      "10      'One time my parents were fighting over my dad...\n",
      "11      '|||51 :o|||I went through a break up some mon...\n",
      "12      'Joe santagato - ENTP|||ENFJ or  ENTP?   I'm n...\n",
      "13      'Fair enough, if that's how you want to look a...\n",
      "14      'Basically this...  |||Can I has Cheezburgr?||...\n",
      "15      'Your comment screams INTJ, bro. Especially th...\n",
      "16      'some of these both excite and calm me:  BUTTS...\n",
      "17      'I think we do agree. I personally don't consi...\n",
      "18      'I fully believe in the power of being a prote...\n",
      "19      'That's normal, it happens also to me. If I am...\n",
      "20      'Steve Job's was recognized for his striving f...\n",
      "21      'It is very annoying to be misinterpreted. Esp...\n",
      "22      'Now I'm interested. But too lazy to go resear...\n",
      "23      '45016 urh sorry uh. couldn't resist.|||all of...\n",
      "24      'Still going strong at just over the two year ...\n",
      "25      'Personally, I was thinking this would be more...\n",
      "26      'He doesn't want to go on the trip without me,...\n",
      "27      'They paint without numbers|||I'd guess at ist...\n",
      "28      'Basically, my main questions are : What do yo...\n",
      "29      'I think that that can absolutely be true of i...\n",
      "                              ...                        \n",
      "8645    'I play cello, and I'm also a classically trai...\n",
      "8646    Its more or less based on how YOU experienced ...\n",
      "8647    Socionics picked up on this.  They call it vis...\n",
      "8648    'Good advice, thank you.|||I am in a tough sit...\n",
      "8649      enjoy infps|||okok lets stop at kicking walk...\n",
      "8650    'I think the real question is whether INFJs ca...\n",
      "8651    '-Being alone -Being insensitive  -Over thinki...\n",
      "8652    'Being assertive and standing up for myself is...\n",
      "8653    'You should do whatever it is you want. If you...\n",
      "8654    'Assuming I had a hand in it, I always at leas...\n",
      "8655    'I find that poster and your facial expression...\n",
      "8656    Rim  In some approximate order, it seems like ...\n",
      "8657    Social  1) Generally, I positively associate w...\n",
      "8658    'Don't worry, I do that too when a car comes c...\n",
      "8659    'leoni I had really bad social anxiety until I...\n",
      "8660    'I love the vastness of the sky, because my pr...\n",
      "8661    '**haven't logged in and read posts for over 6...\n",
      "8662    'I can't say I have any one specific belief. I...\n",
      "8663    'doesn't matter, you don't have a choice, Elec...\n",
      "8664    '|||So many, but I'd say there's a tie between...\n",
      "8665    'This test wasn't even close on my gender, age...\n",
      "8666    'Highly recommend this to those who wants to t...\n",
      "8667    'I think generally people experience post trau...\n",
      "8668    'Here's a planned stress relieving activity th...\n",
      "8669    'I'm not sure about a method for picking out I...\n",
      "8670    '|||IxFP just because I always think of cats a...\n",
      "8671    'So...if this thread already exists someplace ...\n",
      "8672    'So many questions when i do these things.  I ...\n",
      "8673    'I am very conflicted right now when it comes ...\n",
      "8674    'It has been too long since I have been on per...\n",
      "Name: posts, Length: 8675, dtype: object\n"
     ]
    }
   ],
   "source": [
    "for idx, x in enumerate(data2['posts']):\n",
    "    data2['posts'][idx] = re.sub(r'http([a-z]|[A-Z]|\\.|/|\\?|=|:|[0-9]|_|-)*','',x)\n",
    "    #data2['posts'][idx] = re.sub(r'http('(\\'|\\\")','',x)\n",
    "print(data2['posts'])"
   ]
  },
  {
   "cell_type": "code",
   "execution_count": 120,
   "metadata": {
    "scrolled": true
   },
   "outputs": [
    {
     "name": "stdout",
     "output_type": "stream",
     "text": [
      "      type                                              posts  \\\n",
      "0     INFJ  '||||||enfp and intj moments    sportscenter n...   \n",
      "1     ENTP  'I'm finding the lack of me in these posts ver...   \n",
      "2     INTP  'Good one  _____   |||Of course, to which I sa...   \n",
      "3     INTJ  'Dear INTP,   I enjoyed our conversation the o...   \n",
      "4     ENTJ  'You're fired.|||That's another silly misconce...   \n",
      "5     INTJ  '18/37 @.@|||Science  is not perfect. No scien...   \n",
      "6     INFJ  'No, I can't draw on my own nails (haha). Thos...   \n",
      "7     INTJ  'I tend to build up a collection of things on ...   \n",
      "8     INFJ  I'm not sure, that's a good question. The dist...   \n",
      "9     INTP  '|||I'm in this position where I have to actua...   \n",
      "10    INFJ  'One time my parents were fighting over my dad...   \n",
      "11    ENFJ  '|||51 :o|||I went through a break up some mon...   \n",
      "12    INFJ  'Joe santagato - ENTP|||ENFJ or  ENTP?   I'm n...   \n",
      "13    INTJ  'Fair enough, if that's how you want to look a...   \n",
      "14    INTP  'Basically this...  |||Can I has Cheezburgr?||...   \n",
      "15    INTP  'Your comment screams INTJ, bro. Especially th...   \n",
      "16    INFJ  'some of these both excite and calm me:  BUTTS...   \n",
      "17    INFP  'I think we do agree. I personally don't consi...   \n",
      "18    INFJ  'I fully believe in the power of being a prote...   \n",
      "19    INFP  'That's normal, it happens also to me. If I am...   \n",
      "20    INTP  'Steve Job's was recognized for his striving f...   \n",
      "21    INFJ  'It is very annoying to be misinterpreted. Esp...   \n",
      "22    ENTJ  'Now I'm interested. But too lazy to go resear...   \n",
      "23    INFP  '45016 urh sorry uh. couldn't resist.|||all of...   \n",
      "24    ENTJ  'Still going strong at just over the two year ...   \n",
      "25    INFP  'Personally, I was thinking this would be more...   \n",
      "26    ENFP  'He doesn't want to go on the trip without me,...   \n",
      "27    ISFP  'They paint without numbers|||I'd guess at ist...   \n",
      "28    INFP  'Basically, my main questions are : What do yo...   \n",
      "29    INFJ  'I think that that can absolutely be true of i...   \n",
      "...    ...                                                ...   \n",
      "8645  INFJ  'I play cello, and I'm also a classically trai...   \n",
      "8646  INFP  Its more or less based on how YOU experienced ...   \n",
      "8647  INTP  Socionics picked up on this.  They call it vis...   \n",
      "8648  INFP  'Good advice, thank you.|||I am in a tough sit...   \n",
      "8649  INFP    enjoy infps|||okok lets stop at kicking walk...   \n",
      "8650  INFJ  'I think the real question is whether INFJs ca...   \n",
      "8651  ISTP  '-Being alone -Being insensitive  -Over thinki...   \n",
      "8652  ISFJ  'Being assertive and standing up for myself is...   \n",
      "8653  INFP  'You should do whatever it is you want. If you...   \n",
      "8654  ISTJ  'Assuming I had a hand in it, I always at leas...   \n",
      "8655  INFJ  'I find that poster and your facial expression...   \n",
      "8656  INFJ  Rim  In some approximate order, it seems like ...   \n",
      "8657  INTJ  Social  1) Generally, I positively associate w...   \n",
      "8658  ESFJ  'Don't worry, I do that too when a car comes c...   \n",
      "8659  ENFP  'leoni I had really bad social anxiety until I...   \n",
      "8660  INFP  'I love the vastness of the sky, because my pr...   \n",
      "8661  ENTP  '**haven't logged in and read posts for over 6...   \n",
      "8662  INTJ  'I can't say I have any one specific belief. I...   \n",
      "8663  INTP  'doesn't matter, you don't have a choice, Elec...   \n",
      "8664  INTP  '|||So many, but I'd say there's a tie between...   \n",
      "8665  ENTP  'This test wasn't even close on my gender, age...   \n",
      "8666  INTJ  'Highly recommend this to those who wants to t...   \n",
      "8667  ENTP  'I think generally people experience post trau...   \n",
      "8668  INTJ  'Here's a planned stress relieving activity th...   \n",
      "8669  INFJ  'I'm not sure about a method for picking out I...   \n",
      "8670  ISFP  '|||IxFP just because I always think of cats a...   \n",
      "8671  ENFP  'So...if this thread already exists someplace ...   \n",
      "8672  INTP  'So many questions when i do these things.  I ...   \n",
      "8673  INFP  'I am very conflicted right now when it comes ...   \n",
      "8674  INFP  'It has been too long since I have been on per...   \n",
      "\n",
      "                                                   post  \\\n",
      "0     0       '|||...\\n1       'I'm finding the lack...   \n",
      "1     0       '|||...\\n1       'I'm finding the lack...   \n",
      "2     0       '|||...\\n1       'I'm finding the lack...   \n",
      "3     0       '|||...\\n1       'I'm finding the lack...   \n",
      "4     0       '|||...\\n1       'I'm finding the lack...   \n",
      "5     0       '|||...\\n1       'I'm finding the lack...   \n",
      "6     0       '|||...\\n1       'I'm finding the lack...   \n",
      "7     0       '|||...\\n1       'I'm finding the lack...   \n",
      "8     0       '|||...\\n1       'I'm finding the lack...   \n",
      "9     0       '|||...\\n1       'I'm finding the lack...   \n",
      "10    0       '|||...\\n1       'I'm finding the lack...   \n",
      "11    0       '|||...\\n1       'I'm finding the lack...   \n",
      "12    0       '|||...\\n1       'I'm finding the lack...   \n",
      "13    0       '|||...\\n1       'I'm finding the lack...   \n",
      "14    0       '|||...\\n1       'I'm finding the lack...   \n",
      "15    0       '|||...\\n1       'I'm finding the lack...   \n",
      "16    0       '|||...\\n1       'I'm finding the lack...   \n",
      "17    0       '|||...\\n1       'I'm finding the lack...   \n",
      "18    0       '|||...\\n1       'I'm finding the lack...   \n",
      "19    0       '|||...\\n1       'I'm finding the lack...   \n",
      "20    0       '|||...\\n1       'I'm finding the lack...   \n",
      "21    0       '|||...\\n1       'I'm finding the lack...   \n",
      "22    0       '|||...\\n1       'I'm finding the lack...   \n",
      "23    0       '|||...\\n1       'I'm finding the lack...   \n",
      "24    0       '|||...\\n1       'I'm finding the lack...   \n",
      "25    0       '|||...\\n1       'I'm finding the lack...   \n",
      "26    0       '|||...\\n1       'I'm finding the lack...   \n",
      "27    0       '|||...\\n1       'I'm finding the lack...   \n",
      "28    0       '|||...\\n1       'I'm finding the lack...   \n",
      "29    0       '|||...\\n1       'I'm finding the lack...   \n",
      "...                                                 ...   \n",
      "8645  0       '|||...\\n1       'I'm finding the lack...   \n",
      "8646  0       '|||...\\n1       'I'm finding the lack...   \n",
      "8647  0       '|||...\\n1       'I'm finding the lack...   \n",
      "8648  0       '|||...\\n1       'I'm finding the lack...   \n",
      "8649  0       '|||...\\n1       'I'm finding the lack...   \n",
      "8650  0       '|||...\\n1       'I'm finding the lack...   \n",
      "8651  0       '|||...\\n1       'I'm finding the lack...   \n",
      "8652  0       '|||...\\n1       'I'm finding the lack...   \n",
      "8653  0       '|||...\\n1       'I'm finding the lack...   \n",
      "8654  0       '|||...\\n1       'I'm finding the lack...   \n",
      "8655  0       '|||...\\n1       'I'm finding the lack...   \n",
      "8656  0       '|||...\\n1       'I'm finding the lack...   \n",
      "8657  0       '|||...\\n1       'I'm finding the lack...   \n",
      "8658  0       '|||...\\n1       'I'm finding the lack...   \n",
      "8659  0       '|||...\\n1       'I'm finding the lack...   \n",
      "8660  0       '|||...\\n1       'I'm finding the lack...   \n",
      "8661  0       '|||...\\n1       'I'm finding the lack...   \n",
      "8662  0       '|||...\\n1       'I'm finding the lack...   \n",
      "8663  0       '|||...\\n1       'I'm finding the lack...   \n",
      "8664  0       '|||...\\n1       'I'm finding the lack...   \n",
      "8665  0       '|||...\\n1       'I'm finding the lack...   \n",
      "8666  0       '|||...\\n1       'I'm finding the lack...   \n",
      "8667  0       '|||...\\n1       'I'm finding the lack...   \n",
      "8668  0       '|||...\\n1       'I'm finding the lack...   \n",
      "8669  0       '|||...\\n1       'I'm finding the lack...   \n",
      "8670  0       '|||...\\n1       'I'm finding the lack...   \n",
      "8671  0       '|||...\\n1       'I'm finding the lack...   \n",
      "8672  0       '|||...\\n1       'I'm finding the lack...   \n",
      "8673  0       '|||...\\n1       'I'm finding the lack...   \n",
      "8674  0       '|||...\\n1       'I'm finding the lack...   \n",
      "\n",
      "                                                   test  \n",
      "0     0       '|||...\\n1       'I'm finding the lack...  \n",
      "1     0       '|||...\\n1       'I'm finding the lack...  \n",
      "2     0       '|||...\\n1       'I'm finding the lack...  \n",
      "3     0       '|||...\\n1       'I'm finding the lack...  \n",
      "4     0       '|||...\\n1       'I'm finding the lack...  \n",
      "5     0       '|||...\\n1       'I'm finding the lack...  \n",
      "6     0       '|||...\\n1       'I'm finding the lack...  \n",
      "7     0       '|||...\\n1       'I'm finding the lack...  \n",
      "8     0       '|||...\\n1       'I'm finding the lack...  \n",
      "9     0       '|||...\\n1       'I'm finding the lack...  \n",
      "10    0       '|||...\\n1       'I'm finding the lack...  \n",
      "11    0       '|||...\\n1       'I'm finding the lack...  \n",
      "12    0       '|||...\\n1       'I'm finding the lack...  \n",
      "13    0       '|||...\\n1       'I'm finding the lack...  \n",
      "14    0       '|||...\\n1       'I'm finding the lack...  \n",
      "15    0       '|||...\\n1       'I'm finding the lack...  \n",
      "16    0       '|||...\\n1       'I'm finding the lack...  \n",
      "17    0       '|||...\\n1       'I'm finding the lack...  \n",
      "18    0       '|||...\\n1       'I'm finding the lack...  \n",
      "19    0       '|||...\\n1       'I'm finding the lack...  \n",
      "20    0       '|||...\\n1       'I'm finding the lack...  \n",
      "21    0       '|||...\\n1       'I'm finding the lack...  \n",
      "22    0       '|||...\\n1       'I'm finding the lack...  \n",
      "23    0       '|||...\\n1       'I'm finding the lack...  \n",
      "24    0       '|||...\\n1       'I'm finding the lack...  \n",
      "25    0       '|||...\\n1       'I'm finding the lack...  \n",
      "26    0       '|||...\\n1       'I'm finding the lack...  \n",
      "27    0       '|||...\\n1       'I'm finding the lack...  \n",
      "28    0       '|||...\\n1       'I'm finding the lack...  \n",
      "29    0       '|||...\\n1       'I'm finding the lack...  \n",
      "...                                                 ...  \n",
      "8645  0       '|||...\\n1       'I'm finding the lack...  \n",
      "8646  0       '|||...\\n1       'I'm finding the lack...  \n",
      "8647  0       '|||...\\n1       'I'm finding the lack...  \n",
      "8648  0       '|||...\\n1       'I'm finding the lack...  \n",
      "8649  0       '|||...\\n1       'I'm finding the lack...  \n",
      "8650  0       '|||...\\n1       'I'm finding the lack...  \n",
      "8651  0       '|||...\\n1       'I'm finding the lack...  \n",
      "8652  0       '|||...\\n1       'I'm finding the lack...  \n",
      "8653  0       '|||...\\n1       'I'm finding the lack...  \n",
      "8654  0       '|||...\\n1       'I'm finding the lack...  \n",
      "8655  0       '|||...\\n1       'I'm finding the lack...  \n",
      "8656  0       '|||...\\n1       'I'm finding the lack...  \n",
      "8657  0       '|||...\\n1       'I'm finding the lack...  \n",
      "8658  0       '|||...\\n1       'I'm finding the lack...  \n",
      "8659  0       '|||...\\n1       'I'm finding the lack...  \n",
      "8660  0       '|||...\\n1       'I'm finding the lack...  \n",
      "8661  0       '|||...\\n1       'I'm finding the lack...  \n",
      "8662  0       '|||...\\n1       'I'm finding the lack...  \n",
      "8663  0       '|||...\\n1       'I'm finding the lack...  \n",
      "8664  0       '|||...\\n1       'I'm finding the lack...  \n",
      "8665  0       '|||...\\n1       'I'm finding the lack...  \n",
      "8666  0       '|||...\\n1       'I'm finding the lack...  \n",
      "8667  0       '|||...\\n1       'I'm finding the lack...  \n",
      "8668  0       '|||...\\n1       'I'm finding the lack...  \n",
      "8669  0       '|||...\\n1       'I'm finding the lack...  \n",
      "8670  0       '|||...\\n1       'I'm finding the lack...  \n",
      "8671  0       '|||...\\n1       'I'm finding the lack...  \n",
      "8672  0       '|||...\\n1       'I'm finding the lack...  \n",
      "8673  0       '|||...\\n1       'I'm finding the lack...  \n",
      "8674  0       '|||...\\n1       'I'm finding the lack...  \n",
      "\n",
      "[8675 rows x 4 columns]\n"
     ]
    }
   ],
   "source": [
    "print(data2)"
   ]
  },
  {
   "cell_type": "markdown",
   "metadata": {},
   "source": [
    "## Data prepartion: Bag of words "
   ]
  },
  {
   "cell_type": "markdown",
   "metadata": {
    "collapsed": true
   },
   "source": [
    "The objective is to extract numerical features vectors from a text, by tokenizing string (and give to each token an numerical id, using white-space as delimiter), by counting occurence of each token in each posts, by normalizing token (concerning importance of token in occurence/post). And, as most features will be zero (when tokenizing phase), we need to manage stockage space (a possibility is using an inverse document with TF-IDF)."
   ]
  },
  {
   "cell_type": "markdown",
   "metadata": {},
   "source": [
    "### Vectorization using CountVectorizer of scikit-learn"
   ]
  },
  {
   "cell_type": "markdown",
   "metadata": {},
   "source": [
    "CountVectorizer is doing in a single class the (1) tokenization and the (2) count occurences"
   ]
  },
  {
   "cell_type": "code",
   "execution_count": 126,
   "metadata": {
    "collapsed": true
   },
   "outputs": [],
   "source": [
    "data_for_vec = data2\n",
    "from sklearn.feature_extraction.text import CountVectorizer\n",
    "count_vect = CountVectorizer()\n",
    "data_counts = count_vect.fit_transform(data_for_vec['posts'])"
   ]
  },
  {
   "cell_type": "code",
   "execution_count": 127,
   "metadata": {},
   "outputs": [
    {
     "data": {
      "text/plain": [
       "(8675, 110188)"
      ]
     },
     "execution_count": 127,
     "metadata": {},
     "output_type": "execute_result"
    }
   ],
   "source": [
    "data_counts.shape"
   ]
  },
  {
   "cell_type": "markdown",
   "metadata": {},
   "source": [
    "It's give us a 8675 x 110188 sparce matrix, of 955 880 900 element (zero include as we can see above)"
   ]
  },
  {
   "cell_type": "code",
   "execution_count": 129,
   "metadata": {},
   "outputs": [
    {
     "data": {
      "text/plain": [
       "array([[0, 0, 0, ..., 0, 0, 0],\n",
       "       [0, 1, 0, ..., 0, 0, 0],\n",
       "       [0, 0, 0, ..., 0, 0, 0],\n",
       "       ..., \n",
       "       [0, 0, 0, ..., 0, 0, 0],\n",
       "       [0, 0, 0, ..., 0, 0, 0],\n",
       "       [0, 0, 0, ..., 0, 0, 0]], dtype=int64)"
      ]
     },
     "execution_count": 129,
     "metadata": {},
     "output_type": "execute_result"
    }
   ],
   "source": [
    "data_counts.toarray()"
   ]
  },
  {
   "cell_type": "code",
   "execution_count": 128,
   "metadata": {
    "scrolled": true
   },
   "outputs": [
    {
     "name": "stdout",
     "output_type": "stream",
     "text": [
      "  (0, 68708)\t1\n",
      "  (0, 92603)\t1\n",
      "  (0, 13880)\t1\n",
      "  (0, 30678)\t1\n",
      "  (0, 66610)\t1\n",
      "  (0, 105427)\t1\n",
      "  (0, 26167)\t1\n",
      "  (0, 47683)\t1\n",
      "  (0, 63943)\t1\n",
      "  (0, 67381)\t2\n",
      "  (0, 72581)\t1\n",
      "  (0, 39250)\t1\n",
      "  (0, 17917)\t1\n",
      "  (0, 10930)\t1\n",
      "  (0, 77066)\t1\n",
      "  (0, 17730)\t1\n",
      "  (0, 58888)\t1\n",
      "  (0, 91080)\t1\n",
      "  (0, 11066)\t1\n",
      "  (0, 108657)\t1\n",
      "  (0, 40249)\t1\n",
      "  (0, 91456)\t1\n",
      "  (0, 79159)\t1\n",
      "  (0, 39237)\t1\n",
      "  (0, 10982)\t1\n",
      "  :\t:\n",
      "  (8674, 71316)\t6\n",
      "  (8674, 54418)\t30\n",
      "  (8674, 98444)\t42\n",
      "  (8674, 73981)\t1\n",
      "  (8674, 29576)\t1\n",
      "  (8674, 68791)\t1\n",
      "  (8674, 39098)\t1\n",
      "  (8674, 67305)\t22\n",
      "  (8674, 97564)\t4\n",
      "  (8674, 58542)\t1\n",
      "  (8674, 109036)\t15\n",
      "  (8674, 63127)\t3\n",
      "  (8674, 70765)\t11\n",
      "  (8674, 41655)\t8\n",
      "  (8674, 71233)\t6\n",
      "  (8674, 109090)\t8\n",
      "  (8674, 51675)\t17\n",
      "  (8674, 59557)\t2\n",
      "  (8674, 97122)\t39\n",
      "  (8674, 17153)\t2\n",
      "  (8674, 47412)\t2\n",
      "  (8674, 105974)\t5\n",
      "  (8674, 98783)\t1\n",
      "  (8674, 69749)\t12\n",
      "  (8674, 12542)\t34\n"
     ]
    }
   ],
   "source": [
    "print(data_counts)"
   ]
  },
  {
   "cell_type": "code",
   "execution_count": 131,
   "metadata": {},
   "outputs": [
    {
     "data": {
      "text/plain": [
       "65914"
      ]
     },
     "execution_count": 131,
     "metadata": {},
     "output_type": "execute_result"
    }
   ],
   "source": [
    "count_vect.vocabulary_.get('moments')"
   ]
  },
  {
   "cell_type": "markdown",
   "metadata": {},
   "source": [
    "Here an example, we have 65914 occurences of the word \"moments\" in the posts. "
   ]
  },
  {
   "cell_type": "markdown",
   "metadata": {},
   "source": [
    "Now we have (1) tokenize the posts content and (2) count the words occurencies, but it's better to work with frequencies."
   ]
  },
  {
   "cell_type": "markdown",
   "metadata": {},
   "source": [
    "Currently we are using only dictionnary of 1-grams (individual words) because default value for the function CountVectorizer() is ngram_range=(1, 1). But we can take 2-grams (using parameter ngram_range=(1, 2) in the function) if we want to enrich the dictionnary (we have also group of two words), but it also taking much more place. So I will choose for the moment to use only 1-gram (and maybe enrich later if necessary)."
   ]
  },
  {
   "cell_type": "markdown",
   "metadata": {},
   "source": [
    "### TF-IDF"
   ]
  },
  {
   "cell_type": "markdown",
   "metadata": {},
   "source": [
    "To avoid space stockage issues, I will use the TF-IDF (term frequency-inverse document frequency) methods, which will allow for example (1:tf) to devide each occurences of a word in a post by total number of words in this post (that give new features names tf). This method also allow (2:tf-idf) to give less weight (importance) on words which appear in many posts of the corpus and automatically that give less information than words that appear in a less sample of posts."
   ]
  },
  {
   "cell_type": "markdown",
   "metadata": {},
   "source": [
    "$ tfidf(t,d) = tf(t,d) * idf(t) $"
   ]
  },
  {
   "cell_type": "code",
   "execution_count": 136,
   "metadata": {},
   "outputs": [
    {
     "data": {
      "text/plain": [
       "(8675, 110188)"
      ]
     },
     "execution_count": 136,
     "metadata": {},
     "output_type": "execute_result"
    }
   ],
   "source": [
    "from sklearn.feature_extraction.text import TfidfTransformer\n",
    "tfidf_transformer = TfidfTransformer()\n",
    "data_tfidf = tfidf_transformer.fit_transform(data_counts)\n",
    "data_tfidf.shape"
   ]
  },
  {
   "cell_type": "markdown",
   "metadata": {},
   "source": [
    "With the function \"fit_tranform()\" we are doing in one time the fit() which fit the estimator to data (1:tf) and the transform() which transform the matrix of occurences (data_counts) in tf-idf matrix with frequencies (2:tf-idf)."
   ]
  },
  {
   "cell_type": "markdown",
   "metadata": {},
   "source": [
    "### Train and Test set"
   ]
  },
  {
   "cell_type": "markdown",
   "metadata": {},
   "source": [
    "I will now devide the dataset in trainset (75%) and testset (25%) to execute models. I will use a specific train/test split function given by scikit-learn."
   ]
  },
  {
   "cell_type": "code",
   "execution_count": 138,
   "metadata": {
    "collapsed": true
   },
   "outputs": [],
   "source": [
    "from sklearn.model_selection import train_test_split\n",
    "trainset, testset = train_test_split(data2, test_size=0.25)"
   ]
  },
  {
   "cell_type": "code",
   "execution_count": 139,
   "metadata": {
    "scrolled": true
   },
   "outputs": [
    {
     "name": "stdout",
     "output_type": "stream",
     "text": [
      "      type                                              posts  \\\n",
      "7246  INFJ  'It depends on the group but in the past, with...   \n",
      "3526  INFJ  'Dear classmates (just a few),  It's not cool ...   \n",
      "3078  INFJ  'With maybe a belt like this  ...|||Thanks! I ...   \n",
      "482   INTJ  'I used to love Nutella, so I decided to buy a...   \n",
      "1564  ISTJ  'CallSignOWL's post reminded me of a question....   \n",
      "6199  INFJ  'To never become like my mom and having to hav...   \n",
      "1086  INFP  'Ok, I'll go first. I'm a 29 year old INFP mal...   \n",
      "4624  INFJ  'Not always. It depends on the severity of the...   \n",
      "3858  ENFP  A lot of this is assuming that we're talking a...   \n",
      "3389  INFJ  'Welcome! My favorite type is INTJs, you guys ...   \n",
      "3587  INFP  'I'm curious too|||Omg this right here lol. I ...   \n",
      "2600  INFP  'All of you guys saying Just cut them out of y...   \n",
      "8042  INFP  Is it ever possible to have the perfect life? ...   \n",
      "5351  INFJ  'infjs do this too. I have a system for gettin...   \n",
      "4711  INFP  'oh boy- started this thread a while back, jus...   \n",
      "5216  INFJ  'Have you given thought to the possibility of ...   \n",
      "4334  ENFP  I often thing about the complexity of life and...   \n",
      "7283  ISFJ  'Get Busy Living or Get Busy Dying. -Andy Dufr...   \n",
      "2395  INFJ  'I'm here because @Rebecca.M summoned me lol  ...   \n",
      "6256  INFP  I don't think older self reflects your mbti, p...   \n",
      "6349  ISTP  'bump|||Definitely feeler type, that's for sur...   \n",
      "7220  INTJ  'Every morning when I make coffee, the second ...   \n",
      "2931  INTJ  'I used to commute every day on a major East-W...   \n",
      "71    INFP  Last real relationship I've been in was over a...   \n",
      "1879  ENTP  'Dirk Gently ESTP 9w8 > 7w8 > 3w4 sp/sx|||Ti-d...   \n",
      "5738  INTP  'I'm quite good for someone who doesn't play f...   \n",
      "56    INFP  'Pure sass when it strikes me.|||It's hard to ...   \n",
      "1189  INFP  'I think...they say that 1% of the population ...   \n",
      "7704  INTP  'Remove post.|||No self respecting INTP hasn't...   \n",
      "4997  ENFP  'Hey everyone, I just graduated from college t...   \n",
      "...    ...                                                ...   \n",
      "221   INTJ  'Sounds like your logic is based on your defin...   \n",
      "4772  ENTP  'Just getting divorced from one after 19 years...   \n",
      "7652  INTP  'I'm not sure but I feel like I'm the same but...   \n",
      "2030  ENFP  'Hugs!!!|||Welcome! I am an ENFP 7w8. sx/so.||...   \n",
      "5954  INFJ  'Duality: yer doin' it rong.  Duality would te...   \n",
      "5914  INFJ  '|||besides the usual stuff about politics or ...   \n",
      "4151  INTP  'No.  For some reason, I was born unhealthy an...   \n",
      "6259  INFP  'Ah, I see. My bad.  Tried googling the topic ...   \n",
      "6786  ENTJ  'In day to day life I'd say I'm more process o...   \n",
      "8631  INFP  'Here is another!   |||I'm attracted to the sh...   \n",
      "413   INFJ  'Hey there! Just wondering about your experien...   \n",
      "4078  ENTP  'For me this mostly manifests with me falling ...   \n",
      "2215  ENFP  'Im from Latvia, which was part of USSR for 5 ...   \n",
      "3602  INTP  'Also anything by Sky Tenkitsune, original or ...   \n",
      "5667  INFJ  'I tested as ISFP, though I'm an INFJ. I think...   \n",
      "3672  INFJ  'I know 3 cats.  One of them is very definitel...   \n",
      "1138  INTP  'Could I have a nice glass of uranus? Thanks.|...   \n",
      "7367  INTP  '&nohtml5=False|||I forgot those things existe...   \n",
      "374   INFP  'Your situation not only helps you maintain a ...   \n",
      "3450  INTP  '&feature=youtube_gdata_player|||0, privately ...   \n",
      "2909  INFJ  'Talking it out doesn't work. Whenever I want ...   \n",
      "7204  INTP  'Wow it's been a long time since I've been her...   \n",
      "6854  ENFP  'Yeah, actually the way I came to decide I am ...   \n",
      "250   INFP  'This was such spot on advice that I laughed, ...   \n",
      "3335  INFP  'Most of the time, it's just that when I expre...   \n",
      "7854  INFJ  'I don't necessarily have a fascination with e...   \n",
      "5827  INFJ  'IMO, INTP for this doesn't make sense. As nob...   \n",
      "2261  ISFJ  'Sounds like you have to look at this objectiv...   \n",
      "1295  INTP  'Well I could recommend The Witcher saga by An...   \n",
      "5187  ENFP  'I confess that i focus too much on how others...   \n",
      "\n",
      "                                                   post  \\\n",
      "7246  0       '|||...\\n1       'I'm finding the lack...   \n",
      "3526  0       '|||...\\n1       'I'm finding the lack...   \n",
      "3078  0       '|||...\\n1       'I'm finding the lack...   \n",
      "482   0       '|||...\\n1       'I'm finding the lack...   \n",
      "1564  0       '|||...\\n1       'I'm finding the lack...   \n",
      "6199  0       '|||...\\n1       'I'm finding the lack...   \n",
      "1086  0       '|||...\\n1       'I'm finding the lack...   \n",
      "4624  0       '|||...\\n1       'I'm finding the lack...   \n",
      "3858  0       '|||...\\n1       'I'm finding the lack...   \n",
      "3389  0       '|||...\\n1       'I'm finding the lack...   \n",
      "3587  0       '|||...\\n1       'I'm finding the lack...   \n",
      "2600  0       '|||...\\n1       'I'm finding the lack...   \n",
      "8042  0       '|||...\\n1       'I'm finding the lack...   \n",
      "5351  0       '|||...\\n1       'I'm finding the lack...   \n",
      "4711  0       '|||...\\n1       'I'm finding the lack...   \n",
      "5216  0       '|||...\\n1       'I'm finding the lack...   \n",
      "4334  0       '|||...\\n1       'I'm finding the lack...   \n",
      "7283  0       '|||...\\n1       'I'm finding the lack...   \n",
      "2395  0       '|||...\\n1       'I'm finding the lack...   \n",
      "6256  0       '|||...\\n1       'I'm finding the lack...   \n",
      "6349  0       '|||...\\n1       'I'm finding the lack...   \n",
      "7220  0       '|||...\\n1       'I'm finding the lack...   \n",
      "2931  0       '|||...\\n1       'I'm finding the lack...   \n",
      "71    0       '|||...\\n1       'I'm finding the lack...   \n",
      "1879  0       '|||...\\n1       'I'm finding the lack...   \n",
      "5738  0       '|||...\\n1       'I'm finding the lack...   \n",
      "56    0       '|||...\\n1       'I'm finding the lack...   \n",
      "1189  0       '|||...\\n1       'I'm finding the lack...   \n",
      "7704  0       '|||...\\n1       'I'm finding the lack...   \n",
      "4997  0       '|||...\\n1       'I'm finding the lack...   \n",
      "...                                                 ...   \n",
      "221   0       '|||...\\n1       'I'm finding the lack...   \n",
      "4772  0       '|||...\\n1       'I'm finding the lack...   \n",
      "7652  0       '|||...\\n1       'I'm finding the lack...   \n",
      "2030  0       '|||...\\n1       'I'm finding the lack...   \n",
      "5954  0       '|||...\\n1       'I'm finding the lack...   \n",
      "5914  0       '|||...\\n1       'I'm finding the lack...   \n",
      "4151  0       '|||...\\n1       'I'm finding the lack...   \n",
      "6259  0       '|||...\\n1       'I'm finding the lack...   \n",
      "6786  0       '|||...\\n1       'I'm finding the lack...   \n",
      "8631  0       '|||...\\n1       'I'm finding the lack...   \n",
      "413   0       '|||...\\n1       'I'm finding the lack...   \n",
      "4078  0       '|||...\\n1       'I'm finding the lack...   \n",
      "2215  0       '|||...\\n1       'I'm finding the lack...   \n",
      "3602  0       '|||...\\n1       'I'm finding the lack...   \n",
      "5667  0       '|||...\\n1       'I'm finding the lack...   \n",
      "3672  0       '|||...\\n1       'I'm finding the lack...   \n",
      "1138  0       '|||...\\n1       'I'm finding the lack...   \n",
      "7367  0       '|||...\\n1       'I'm finding the lack...   \n",
      "374   0       '|||...\\n1       'I'm finding the lack...   \n",
      "3450  0       '|||...\\n1       'I'm finding the lack...   \n",
      "2909  0       '|||...\\n1       'I'm finding the lack...   \n",
      "7204  0       '|||...\\n1       'I'm finding the lack...   \n",
      "6854  0       '|||...\\n1       'I'm finding the lack...   \n",
      "250   0       '|||...\\n1       'I'm finding the lack...   \n",
      "3335  0       '|||...\\n1       'I'm finding the lack...   \n",
      "7854  0       '|||...\\n1       'I'm finding the lack...   \n",
      "5827  0       '|||...\\n1       'I'm finding the lack...   \n",
      "2261  0       '|||...\\n1       'I'm finding the lack...   \n",
      "1295  0       '|||...\\n1       'I'm finding the lack...   \n",
      "5187  0       '|||...\\n1       'I'm finding the lack...   \n",
      "\n",
      "                                                   test  \n",
      "7246  0       '|||...\\n1       'I'm finding the lack...  \n",
      "3526  0       '|||...\\n1       'I'm finding the lack...  \n",
      "3078  0       '|||...\\n1       'I'm finding the lack...  \n",
      "482   0       '|||...\\n1       'I'm finding the lack...  \n",
      "1564  0       '|||...\\n1       'I'm finding the lack...  \n",
      "6199  0       '|||...\\n1       'I'm finding the lack...  \n",
      "1086  0       '|||...\\n1       'I'm finding the lack...  \n",
      "4624  0       '|||...\\n1       'I'm finding the lack...  \n",
      "3858  0       '|||...\\n1       'I'm finding the lack...  \n",
      "3389  0       '|||...\\n1       'I'm finding the lack...  \n",
      "3587  0       '|||...\\n1       'I'm finding the lack...  \n",
      "2600  0       '|||...\\n1       'I'm finding the lack...  \n",
      "8042  0       '|||...\\n1       'I'm finding the lack...  \n",
      "5351  0       '|||...\\n1       'I'm finding the lack...  \n",
      "4711  0       '|||...\\n1       'I'm finding the lack...  \n",
      "5216  0       '|||...\\n1       'I'm finding the lack...  \n",
      "4334  0       '|||...\\n1       'I'm finding the lack...  \n",
      "7283  0       '|||...\\n1       'I'm finding the lack...  \n",
      "2395  0       '|||...\\n1       'I'm finding the lack...  \n",
      "6256  0       '|||...\\n1       'I'm finding the lack...  \n",
      "6349  0       '|||...\\n1       'I'm finding the lack...  \n",
      "7220  0       '|||...\\n1       'I'm finding the lack...  \n",
      "2931  0       '|||...\\n1       'I'm finding the lack...  \n",
      "71    0       '|||...\\n1       'I'm finding the lack...  \n",
      "1879  0       '|||...\\n1       'I'm finding the lack...  \n",
      "5738  0       '|||...\\n1       'I'm finding the lack...  \n",
      "56    0       '|||...\\n1       'I'm finding the lack...  \n",
      "1189  0       '|||...\\n1       'I'm finding the lack...  \n",
      "7704  0       '|||...\\n1       'I'm finding the lack...  \n",
      "4997  0       '|||...\\n1       'I'm finding the lack...  \n",
      "...                                                 ...  \n",
      "221   0       '|||...\\n1       'I'm finding the lack...  \n",
      "4772  0       '|||...\\n1       'I'm finding the lack...  \n",
      "7652  0       '|||...\\n1       'I'm finding the lack...  \n",
      "2030  0       '|||...\\n1       'I'm finding the lack...  \n",
      "5954  0       '|||...\\n1       'I'm finding the lack...  \n",
      "5914  0       '|||...\\n1       'I'm finding the lack...  \n",
      "4151  0       '|||...\\n1       'I'm finding the lack...  \n",
      "6259  0       '|||...\\n1       'I'm finding the lack...  \n",
      "6786  0       '|||...\\n1       'I'm finding the lack...  \n",
      "8631  0       '|||...\\n1       'I'm finding the lack...  \n",
      "413   0       '|||...\\n1       'I'm finding the lack...  \n",
      "4078  0       '|||...\\n1       'I'm finding the lack...  \n",
      "2215  0       '|||...\\n1       'I'm finding the lack...  \n",
      "3602  0       '|||...\\n1       'I'm finding the lack...  \n",
      "5667  0       '|||...\\n1       'I'm finding the lack...  \n",
      "3672  0       '|||...\\n1       'I'm finding the lack...  \n",
      "1138  0       '|||...\\n1       'I'm finding the lack...  \n",
      "7367  0       '|||...\\n1       'I'm finding the lack...  \n",
      "374   0       '|||...\\n1       'I'm finding the lack...  \n",
      "3450  0       '|||...\\n1       'I'm finding the lack...  \n",
      "2909  0       '|||...\\n1       'I'm finding the lack...  \n",
      "7204  0       '|||...\\n1       'I'm finding the lack...  \n",
      "6854  0       '|||...\\n1       'I'm finding the lack...  \n",
      "250   0       '|||...\\n1       'I'm finding the lack...  \n",
      "3335  0       '|||...\\n1       'I'm finding the lack...  \n",
      "7854  0       '|||...\\n1       'I'm finding the lack...  \n",
      "5827  0       '|||...\\n1       'I'm finding the lack...  \n",
      "2261  0       '|||...\\n1       'I'm finding the lack...  \n",
      "1295  0       '|||...\\n1       'I'm finding the lack...  \n",
      "5187  0       '|||...\\n1       'I'm finding the lack...  \n",
      "\n",
      "[6506 rows x 4 columns]\n"
     ]
    }
   ],
   "source": [
    "print(trainset)"
   ]
  },
  {
   "cell_type": "code",
   "execution_count": 140,
   "metadata": {},
   "outputs": [
    {
     "data": {
      "text/plain": [
       "type     6506\n",
       "posts    6506\n",
       "post     6506\n",
       "test     6506\n",
       "dtype: int64"
      ]
     },
     "execution_count": 140,
     "metadata": {},
     "output_type": "execute_result"
    }
   ],
   "source": [
    "trainset.count()"
   ]
  },
  {
   "cell_type": "markdown",
   "metadata": {},
   "source": [
    "A trainset with 75% of the dataframe (8675 raws)"
   ]
  },
  {
   "cell_type": "code",
   "execution_count": 141,
   "metadata": {},
   "outputs": [
    {
     "data": {
      "text/plain": [
       "type     2169\n",
       "posts    2169\n",
       "post     2169\n",
       "test     2169\n",
       "dtype: int64"
      ]
     },
     "execution_count": 141,
     "metadata": {},
     "output_type": "execute_result"
    }
   ],
   "source": [
    "testset.count()"
   ]
  },
  {
   "cell_type": "markdown",
   "metadata": {},
   "source": [
    "A testset with 25% of the dataframe (8675 raws)"
   ]
  },
  {
   "cell_type": "code",
   "execution_count": null,
   "metadata": {
    "collapsed": true
   },
   "outputs": [],
   "source": []
  }
 ],
 "metadata": {
  "kernelspec": {
   "display_name": "Python 2",
   "language": "python",
   "name": "python2"
  },
  "language_info": {
   "codemirror_mode": {
    "name": "ipython",
    "version": 2
   },
   "file_extension": ".py",
   "mimetype": "text/x-python",
   "name": "python",
   "nbconvert_exporter": "python",
   "pygments_lexer": "ipython2",
   "version": "2.7.13"
  }
 },
 "nbformat": 4,
 "nbformat_minor": 2
}
