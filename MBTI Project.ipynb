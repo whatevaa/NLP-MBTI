{
 "cells": [
  {
   "cell_type": "markdown",
   "metadata": {},
   "source": [
    "# Project MBTI"
   ]
  },
  {
   "cell_type": "markdown",
   "metadata": {},
   "source": [
    "Create a model to predict MBTI personality types from posts"
   ]
  },
  {
   "cell_type": "markdown",
   "metadata": {},
   "source": [
    "Data format:\n",
    "    =>type (string): MBTI types\n",
    "    =>posts (string): text posts "
   ]
  },
  {
   "cell_type": "markdown",
   "metadata": {},
   "source": [
    "## Data exploration"
   ]
  },
  {
   "cell_type": "code",
   "execution_count": 1,
   "metadata": {
    "collapsed": true
   },
   "outputs": [],
   "source": [
    "import numpy as np\n",
    "import csv\n",
    "import pandas as pd"
   ]
  },
  {
   "cell_type": "markdown",
   "metadata": {},
   "source": [
    "Load with panda read_csv to avoid delimiter problem between header and data"
   ]
  },
  {
   "cell_type": "code",
   "execution_count": 2,
   "metadata": {
    "collapsed": true,
    "scrolled": true
   },
   "outputs": [],
   "source": [
    "data2 = pd.read_csv(\"C:\\Users\\Gwen\\MBTI\\mbti_1.csv\", header =0)"
   ]
  },
  {
   "cell_type": "code",
   "execution_count": 3,
   "metadata": {
    "scrolled": true
   },
   "outputs": [
    {
     "name": "stdout",
     "output_type": "stream",
     "text": [
      "      type                                              posts\n",
      "0     INFJ  'http://www.youtube.com/watch?v=qsXHcwe3krw|||...\n",
      "1     ENTP  'I'm finding the lack of me in these posts ver...\n",
      "2     INTP  'Good one  _____   https://www.youtube.com/wat...\n",
      "3     INTJ  'Dear INTP,   I enjoyed our conversation the o...\n",
      "4     ENTJ  'You're fired.|||That's another silly misconce...\n",
      "5     INTJ  '18/37 @.@|||Science  is not perfect. No scien...\n",
      "6     INFJ  'No, I can't draw on my own nails (haha). Thos...\n",
      "7     INTJ  'I tend to build up a collection of things on ...\n",
      "8     INFJ  I'm not sure, that's a good question. The dist...\n",
      "9     INTP  'https://www.youtube.com/watch?v=w8-egj0y8Qs||...\n",
      "10    INFJ  'One time my parents were fighting over my dad...\n",
      "11    ENFJ  'https://www.youtube.com/watch?v=PLAaiKvHvZs||...\n",
      "12    INFJ  'Joe santagato - ENTP|||ENFJ or  ENTP?   I'm n...\n",
      "13    INTJ  'Fair enough, if that's how you want to look a...\n",
      "14    INTP  'Basically this...  https://youtu.be/1pH5c1Jkh...\n",
      "15    INTP  'Your comment screams INTJ, bro. Especially th...\n",
      "16    INFJ  'some of these both excite and calm me:  BUTTS...\n",
      "17    INFP  'I think we do agree. I personally don't consi...\n",
      "18    INFJ  'I fully believe in the power of being a prote...\n",
      "19    INFP  'That's normal, it happens also to me. If I am...\n",
      "20    INTP  'Steve Job's was recognized for his striving f...\n",
      "21    INFJ  'It is very annoying to be misinterpreted. Esp...\n",
      "22    ENTJ  'Now I'm interested. But too lazy to go resear...\n",
      "23    INFP  '45016 urh sorry uh. couldn't resist.|||all of...\n",
      "24    ENTJ  'Still going strong at just over the two year ...\n",
      "25    INFP  'Personally, I was thinking this would be more...\n",
      "26    ENFP  'He doesn't want to go on the trip without me,...\n",
      "27    ISFP  'They paint without numbers|||I'd guess at ist...\n",
      "28    INFP  'Basically, my main questions are : What do yo...\n",
      "29    INFJ  'I think that that can absolutely be true of i...\n",
      "...    ...                                                ...\n",
      "8645  INFJ  'I play cello, and I'm also a classically trai...\n",
      "8646  INFP  Its more or less based on how YOU experienced ...\n",
      "8647  INTP  Socionics picked up on this.  They call it vis...\n",
      "8648  INFP  'Good advice, thank you.|||I am in a tough sit...\n",
      "8649  INFP  https://www.youtube.com/watch?v=nPDusM-75FE  e...\n",
      "8650  INFJ  'I think the real question is whether INFJs ca...\n",
      "8651  ISTP  '-Being alone -Being insensitive  -Over thinki...\n",
      "8652  ISFJ  'Being assertive and standing up for myself is...\n",
      "8653  INFP  'You should do whatever it is you want. If you...\n",
      "8654  ISTJ  'Assuming I had a hand in it, I always at leas...\n",
      "8655  INFJ  'I find that poster and your facial expression...\n",
      "8656  INFJ  Rim  In some approximate order, it seems like ...\n",
      "8657  INTJ  Social  1) Generally, I positively associate w...\n",
      "8658  ESFJ  'Don't worry, I do that too when a car comes c...\n",
      "8659  ENFP  'leoni I had really bad social anxiety until I...\n",
      "8660  INFP  'I love the vastness of the sky, because my pr...\n",
      "8661  ENTP  '**haven't logged in and read posts for over 6...\n",
      "8662  INTJ  'I can't say I have any one specific belief. I...\n",
      "8663  INTP  'doesn't matter, you don't have a choice, Elec...\n",
      "8664  INTP  'https://www.youtube.com/watch?v=7zsMdi714mI||...\n",
      "8665  ENTP  'This test wasn't even close on my gender, age...\n",
      "8666  INTJ  'Highly recommend this to those who wants to t...\n",
      "8667  ENTP  'I think generally people experience post trau...\n",
      "8668  INTJ  'Here's a planned stress relieving activity th...\n",
      "8669  INFJ  'I'm not sure about a method for picking out I...\n",
      "8670  ISFP  'https://www.youtube.com/watch?v=t8edHB_h908||...\n",
      "8671  ENFP  'So...if this thread already exists someplace ...\n",
      "8672  INTP  'So many questions when i do these things.  I ...\n",
      "8673  INFP  'I am very conflicted right now when it comes ...\n",
      "8674  INFP  'It has been too long since I have been on per...\n",
      "\n",
      "[8675 rows x 2 columns]\n"
     ]
    }
   ],
   "source": [
    "print (data2)"
   ]
  },
  {
   "cell_type": "markdown",
   "metadata": {},
   "source": [
    "Test columns"
   ]
  },
  {
   "cell_type": "code",
   "execution_count": 4,
   "metadata": {},
   "outputs": [
    {
     "data": {
      "text/plain": [
       "Index([u'type', u'posts'], dtype='object')"
      ]
     },
     "execution_count": 4,
     "metadata": {},
     "output_type": "execute_result"
    }
   ],
   "source": [
    "data2.columns"
   ]
  },
  {
   "cell_type": "code",
   "execution_count": 5,
   "metadata": {},
   "outputs": [
    {
     "data": {
      "text/html": [
       "<div>\n",
       "<style>\n",
       "    .dataframe thead tr:only-child th {\n",
       "        text-align: right;\n",
       "    }\n",
       "\n",
       "    .dataframe thead th {\n",
       "        text-align: left;\n",
       "    }\n",
       "\n",
       "    .dataframe tbody tr th {\n",
       "        vertical-align: top;\n",
       "    }\n",
       "</style>\n",
       "<table border=\"1\" class=\"dataframe\">\n",
       "  <thead>\n",
       "    <tr style=\"text-align: right;\">\n",
       "      <th></th>\n",
       "      <th>type</th>\n",
       "      <th>posts</th>\n",
       "    </tr>\n",
       "  </thead>\n",
       "  <tbody>\n",
       "  </tbody>\n",
       "</table>\n",
       "</div>"
      ],
      "text/plain": [
       "Empty DataFrame\n",
       "Columns: [type, posts]\n",
       "Index: []"
      ]
     },
     "execution_count": 5,
     "metadata": {},
     "output_type": "execute_result"
    }
   ],
   "source": [
    "data2[:0]"
   ]
  },
  {
   "cell_type": "markdown",
   "metadata": {},
   "source": [
    "Overview of the dataset"
   ]
  },
  {
   "cell_type": "code",
   "execution_count": 6,
   "metadata": {},
   "outputs": [
    {
     "name": "stdout",
     "output_type": "stream",
     "text": [
      "(8675, 2)\n"
     ]
    }
   ],
   "source": [
    "print(data2.shape)"
   ]
  },
  {
   "cell_type": "markdown",
   "metadata": {},
   "source": [
    "We have 8675 raws and 2 columns, which correspond to the dataset in input."
   ]
  },
  {
   "cell_type": "markdown",
   "metadata": {},
   "source": [
    "### Frequence of each MBTI type in the dataset"
   ]
  },
  {
   "cell_type": "code",
   "execution_count": 7,
   "metadata": {
    "scrolled": true
   },
   "outputs": [
    {
     "data": {
      "text/html": [
       "<div>\n",
       "<style>\n",
       "    .dataframe thead tr:only-child th {\n",
       "        text-align: right;\n",
       "    }\n",
       "\n",
       "    .dataframe thead th {\n",
       "        text-align: left;\n",
       "    }\n",
       "\n",
       "    .dataframe tbody tr th {\n",
       "        vertical-align: top;\n",
       "    }\n",
       "</style>\n",
       "<table border=\"1\" class=\"dataframe\">\n",
       "  <thead>\n",
       "    <tr style=\"text-align: right;\">\n",
       "      <th></th>\n",
       "      <th>posts</th>\n",
       "    </tr>\n",
       "    <tr>\n",
       "      <th>type</th>\n",
       "      <th></th>\n",
       "    </tr>\n",
       "  </thead>\n",
       "  <tbody>\n",
       "    <tr>\n",
       "      <th>ENFJ</th>\n",
       "      <td>190</td>\n",
       "    </tr>\n",
       "    <tr>\n",
       "      <th>ENFP</th>\n",
       "      <td>675</td>\n",
       "    </tr>\n",
       "    <tr>\n",
       "      <th>ENTJ</th>\n",
       "      <td>231</td>\n",
       "    </tr>\n",
       "    <tr>\n",
       "      <th>ENTP</th>\n",
       "      <td>685</td>\n",
       "    </tr>\n",
       "    <tr>\n",
       "      <th>ESFJ</th>\n",
       "      <td>42</td>\n",
       "    </tr>\n",
       "    <tr>\n",
       "      <th>ESFP</th>\n",
       "      <td>48</td>\n",
       "    </tr>\n",
       "    <tr>\n",
       "      <th>ESTJ</th>\n",
       "      <td>39</td>\n",
       "    </tr>\n",
       "    <tr>\n",
       "      <th>ESTP</th>\n",
       "      <td>89</td>\n",
       "    </tr>\n",
       "    <tr>\n",
       "      <th>INFJ</th>\n",
       "      <td>1470</td>\n",
       "    </tr>\n",
       "    <tr>\n",
       "      <th>INFP</th>\n",
       "      <td>1832</td>\n",
       "    </tr>\n",
       "    <tr>\n",
       "      <th>INTJ</th>\n",
       "      <td>1091</td>\n",
       "    </tr>\n",
       "    <tr>\n",
       "      <th>INTP</th>\n",
       "      <td>1304</td>\n",
       "    </tr>\n",
       "    <tr>\n",
       "      <th>ISFJ</th>\n",
       "      <td>166</td>\n",
       "    </tr>\n",
       "    <tr>\n",
       "      <th>ISFP</th>\n",
       "      <td>271</td>\n",
       "    </tr>\n",
       "    <tr>\n",
       "      <th>ISTJ</th>\n",
       "      <td>205</td>\n",
       "    </tr>\n",
       "    <tr>\n",
       "      <th>ISTP</th>\n",
       "      <td>337</td>\n",
       "    </tr>\n",
       "  </tbody>\n",
       "</table>\n",
       "</div>"
      ],
      "text/plain": [
       "      posts\n",
       "type       \n",
       "ENFJ    190\n",
       "ENFP    675\n",
       "ENTJ    231\n",
       "ENTP    685\n",
       "ESFJ     42\n",
       "ESFP     48\n",
       "ESTJ     39\n",
       "ESTP     89\n",
       "INFJ   1470\n",
       "INFP   1832\n",
       "INTJ   1091\n",
       "INTP   1304\n",
       "ISFJ    166\n",
       "ISFP    271\n",
       "ISTJ    205\n",
       "ISTP    337"
      ]
     },
     "execution_count": 7,
     "metadata": {},
     "output_type": "execute_result"
    }
   ],
   "source": [
    "data2.groupby('type').count()"
   ]
  },
  {
   "cell_type": "markdown",
   "metadata": {},
   "source": [
    "### Create category MBTI list"
   ]
  },
  {
   "cell_type": "code",
   "execution_count": 8,
   "metadata": {
    "scrolled": false
   },
   "outputs": [
    {
     "data": {
      "text/plain": [
       "['ENFJ',\n",
       " 'ESFP',\n",
       " 'INFJ',\n",
       " 'ESTJ',\n",
       " 'ISTJ',\n",
       " 'ENTJ',\n",
       " 'ISFP',\n",
       " 'INTJ',\n",
       " 'ISTP',\n",
       " 'ENTP',\n",
       " 'ISFJ',\n",
       " 'INTP',\n",
       " 'ESFJ',\n",
       " 'ESTP',\n",
       " 'ENFP',\n",
       " 'INFP']"
      ]
     },
     "execution_count": 8,
     "metadata": {},
     "output_type": "execute_result"
    }
   ],
   "source": [
    "list(set(data2.type))"
   ]
  },
  {
   "cell_type": "code",
   "execution_count": 9,
   "metadata": {
    "collapsed": true
   },
   "outputs": [],
   "source": [
    "category = list(data2['type'].unique())"
   ]
  },
  {
   "cell_type": "code",
   "execution_count": 10,
   "metadata": {},
   "outputs": [
    {
     "name": "stdout",
     "output_type": "stream",
     "text": [
      "['INFJ', 'ENTP', 'INTP', 'INTJ', 'ENTJ', 'ENFJ', 'INFP', 'ENFP', 'ISFP', 'ISTP', 'ISFJ', 'ISTJ', 'ESTP', 'ESFP', 'ESTJ', 'ESFJ']\n"
     ]
    }
   ],
   "source": [
    "print (category)"
   ]
  },
  {
   "cell_type": "code",
   "execution_count": 11,
   "metadata": {},
   "outputs": [
    {
     "name": "stdout",
     "output_type": "stream",
     "text": [
      "{'ENFJ': 6, 'ESFP': 14, 'INFJ': 1, 'ESTJ': 15, 'ISTJ': 12, 'ENTJ': 5, 'ISFP': 9, 'INTJ': 4, 'ISTP': 10, 'ENTP': 2, 'ISFJ': 11, 'INTP': 3, 'ESFJ': 16, 'ESTP': 13, 'ENFP': 8, 'INFP': 7}\n"
     ]
    }
   ],
   "source": [
    "dict_category = {}\n",
    "for idx, x in enumerate(category):\n",
    "    dict_category[x]= idx+1\n",
    "print dict_category"
   ]
  },
  {
   "cell_type": "markdown",
   "metadata": {
    "collapsed": true
   },
   "source": [
    "## Data cleaning"
   ]
  },
  {
   "cell_type": "markdown",
   "metadata": {},
   "source": [
    "plan:\n",
    "1) Remove URL\n",
    "2) Vectorization"
   ]
  },
  {
   "cell_type": "markdown",
   "metadata": {},
   "source": [
    "### Remove URL using regex"
   ]
  },
  {
   "cell_type": "code",
   "execution_count": 12,
   "metadata": {
    "collapsed": true
   },
   "outputs": [],
   "source": [
    "import re"
   ]
  },
  {
   "cell_type": "markdown",
   "metadata": {},
   "source": [
    "We are applying the regex function on the colum post"
   ]
  },
  {
   "cell_type": "code",
   "execution_count": 13,
   "metadata": {
    "scrolled": true
   },
   "outputs": [
    {
     "name": "stdout",
     "output_type": "stream",
     "text": [
      "0       '||||||enfp and intj moments    sportscenter n...\n",
      "1       'I'm finding the lack of me in these posts ver...\n",
      "2       'Good one  _____   |||Of course, to which I sa...\n",
      "3       'Dear INTP,   I enjoyed our conversation the o...\n",
      "4       'You're fired.|||That's another silly misconce...\n",
      "5       '18/37 @.@|||Science  is not perfect. No scien...\n",
      "6       'No, I can't draw on my own nails (haha). Thos...\n",
      "7       'I tend to build up a collection of things on ...\n",
      "8       I'm not sure, that's a good question. The dist...\n",
      "9       '|||I'm in this position where I have to actua...\n",
      "10      'One time my parents were fighting over my dad...\n",
      "11      '|||51 :o|||I went through a break up some mon...\n",
      "12      'Joe santagato - ENTP|||ENFJ or  ENTP?   I'm n...\n",
      "13      'Fair enough, if that's how you want to look a...\n",
      "14      'Basically this...  |||Can I has Cheezburgr?||...\n",
      "15      'Your comment screams INTJ, bro. Especially th...\n",
      "16      'some of these both excite and calm me:  BUTTS...\n",
      "17      'I think we do agree. I personally don't consi...\n",
      "18      'I fully believe in the power of being a prote...\n",
      "19      'That's normal, it happens also to me. If I am...\n",
      "20      'Steve Job's was recognized for his striving f...\n",
      "21      'It is very annoying to be misinterpreted. Esp...\n",
      "22      'Now I'm interested. But too lazy to go resear...\n",
      "23      '45016 urh sorry uh. couldn't resist.|||all of...\n",
      "24      'Still going strong at just over the two year ...\n",
      "25      'Personally, I was thinking this would be more...\n",
      "26      'He doesn't want to go on the trip without me,...\n",
      "27      'They paint without numbers|||I'd guess at ist...\n",
      "28      'Basically, my main questions are : What do yo...\n",
      "29      'I think that that can absolutely be true of i...\n",
      "                              ...                        \n",
      "8645    'I play cello, and I'm also a classically trai...\n",
      "8646    Its more or less based on how YOU experienced ...\n",
      "8647    Socionics picked up on this.  They call it vis...\n",
      "8648    'Good advice, thank you.|||I am in a tough sit...\n",
      "8649      enjoy infps|||okok lets stop at kicking walk...\n",
      "8650    'I think the real question is whether INFJs ca...\n",
      "8651    '-Being alone -Being insensitive  -Over thinki...\n",
      "8652    'Being assertive and standing up for myself is...\n",
      "8653    'You should do whatever it is you want. If you...\n",
      "8654    'Assuming I had a hand in it, I always at leas...\n",
      "8655    'I find that poster and your facial expression...\n",
      "8656    Rim  In some approximate order, it seems like ...\n",
      "8657    Social  1) Generally, I positively associate w...\n",
      "8658    'Don't worry, I do that too when a car comes c...\n",
      "8659    'leoni I had really bad social anxiety until I...\n",
      "8660    'I love the vastness of the sky, because my pr...\n",
      "8661    '**haven't logged in and read posts for over 6...\n",
      "8662    'I can't say I have any one specific belief. I...\n",
      "8663    'doesn't matter, you don't have a choice, Elec...\n",
      "8664    '|||So many, but I'd say there's a tie between...\n",
      "8665    'This test wasn't even close on my gender, age...\n",
      "8666    'Highly recommend this to those who wants to t...\n",
      "8667    'I think generally people experience post trau...\n",
      "8668    'Here's a planned stress relieving activity th...\n",
      "8669    'I'm not sure about a method for picking out I...\n",
      "8670    '|||IxFP just because I always think of cats a...\n",
      "8671    'So...if this thread already exists someplace ...\n",
      "8672    'So many questions when i do these things.  I ...\n",
      "8673    'I am very conflicted right now when it comes ...\n",
      "8674    'It has been too long since I have been on per...\n",
      "Name: posts, Length: 8675, dtype: object\n"
     ]
    }
   ],
   "source": [
    "for idx, x in enumerate(data2['posts']):\n",
    "    data2['posts'][idx] = re.sub(r'http([a-z]|[A-Z]|\\.|/|\\?|=|:|[0-9]|_|-)*','',x)\n",
    "    #data2['posts'][idx] = re.sub(r'http('(\\'|\\\")','',x)\n",
    "print(data2['posts'])"
   ]
  },
  {
   "cell_type": "code",
   "execution_count": 14,
   "metadata": {
    "scrolled": true
   },
   "outputs": [
    {
     "name": "stdout",
     "output_type": "stream",
     "text": [
      "      type                                              posts\n",
      "0     INFJ  '||||||enfp and intj moments    sportscenter n...\n",
      "1     ENTP  'I'm finding the lack of me in these posts ver...\n",
      "2     INTP  'Good one  _____   |||Of course, to which I sa...\n",
      "3     INTJ  'Dear INTP,   I enjoyed our conversation the o...\n",
      "4     ENTJ  'You're fired.|||That's another silly misconce...\n",
      "5     INTJ  '18/37 @.@|||Science  is not perfect. No scien...\n",
      "6     INFJ  'No, I can't draw on my own nails (haha). Thos...\n",
      "7     INTJ  'I tend to build up a collection of things on ...\n",
      "8     INFJ  I'm not sure, that's a good question. The dist...\n",
      "9     INTP  '|||I'm in this position where I have to actua...\n",
      "10    INFJ  'One time my parents were fighting over my dad...\n",
      "11    ENFJ  '|||51 :o|||I went through a break up some mon...\n",
      "12    INFJ  'Joe santagato - ENTP|||ENFJ or  ENTP?   I'm n...\n",
      "13    INTJ  'Fair enough, if that's how you want to look a...\n",
      "14    INTP  'Basically this...  |||Can I has Cheezburgr?||...\n",
      "15    INTP  'Your comment screams INTJ, bro. Especially th...\n",
      "16    INFJ  'some of these both excite and calm me:  BUTTS...\n",
      "17    INFP  'I think we do agree. I personally don't consi...\n",
      "18    INFJ  'I fully believe in the power of being a prote...\n",
      "19    INFP  'That's normal, it happens also to me. If I am...\n",
      "20    INTP  'Steve Job's was recognized for his striving f...\n",
      "21    INFJ  'It is very annoying to be misinterpreted. Esp...\n",
      "22    ENTJ  'Now I'm interested. But too lazy to go resear...\n",
      "23    INFP  '45016 urh sorry uh. couldn't resist.|||all of...\n",
      "24    ENTJ  'Still going strong at just over the two year ...\n",
      "25    INFP  'Personally, I was thinking this would be more...\n",
      "26    ENFP  'He doesn't want to go on the trip without me,...\n",
      "27    ISFP  'They paint without numbers|||I'd guess at ist...\n",
      "28    INFP  'Basically, my main questions are : What do yo...\n",
      "29    INFJ  'I think that that can absolutely be true of i...\n",
      "...    ...                                                ...\n",
      "8645  INFJ  'I play cello, and I'm also a classically trai...\n",
      "8646  INFP  Its more or less based on how YOU experienced ...\n",
      "8647  INTP  Socionics picked up on this.  They call it vis...\n",
      "8648  INFP  'Good advice, thank you.|||I am in a tough sit...\n",
      "8649  INFP    enjoy infps|||okok lets stop at kicking walk...\n",
      "8650  INFJ  'I think the real question is whether INFJs ca...\n",
      "8651  ISTP  '-Being alone -Being insensitive  -Over thinki...\n",
      "8652  ISFJ  'Being assertive and standing up for myself is...\n",
      "8653  INFP  'You should do whatever it is you want. If you...\n",
      "8654  ISTJ  'Assuming I had a hand in it, I always at leas...\n",
      "8655  INFJ  'I find that poster and your facial expression...\n",
      "8656  INFJ  Rim  In some approximate order, it seems like ...\n",
      "8657  INTJ  Social  1) Generally, I positively associate w...\n",
      "8658  ESFJ  'Don't worry, I do that too when a car comes c...\n",
      "8659  ENFP  'leoni I had really bad social anxiety until I...\n",
      "8660  INFP  'I love the vastness of the sky, because my pr...\n",
      "8661  ENTP  '**haven't logged in and read posts for over 6...\n",
      "8662  INTJ  'I can't say I have any one specific belief. I...\n",
      "8663  INTP  'doesn't matter, you don't have a choice, Elec...\n",
      "8664  INTP  '|||So many, but I'd say there's a tie between...\n",
      "8665  ENTP  'This test wasn't even close on my gender, age...\n",
      "8666  INTJ  'Highly recommend this to those who wants to t...\n",
      "8667  ENTP  'I think generally people experience post trau...\n",
      "8668  INTJ  'Here's a planned stress relieving activity th...\n",
      "8669  INFJ  'I'm not sure about a method for picking out I...\n",
      "8670  ISFP  '|||IxFP just because I always think of cats a...\n",
      "8671  ENFP  'So...if this thread already exists someplace ...\n",
      "8672  INTP  'So many questions when i do these things.  I ...\n",
      "8673  INFP  'I am very conflicted right now when it comes ...\n",
      "8674  INFP  'It has been too long since I have been on per...\n",
      "\n",
      "[8675 rows x 2 columns]\n"
     ]
    }
   ],
   "source": [
    "print(data2)"
   ]
  },
  {
   "cell_type": "markdown",
   "metadata": {},
   "source": [
    "## Data prepartion: Bag of words "
   ]
  },
  {
   "cell_type": "markdown",
   "metadata": {
    "collapsed": true
   },
   "source": [
    "The objective is to extract numerical features vectors from a text, by tokenizing string (separate words of the corpus and give to each token an numerical id, using white-space as delimiter), by counting occurence of each token in each posts, by normalizing token (concerning importance of token in occurence/post). And, as most features will be zero (when tokenizing phase), we need to manage stockage space (a possibility is using an inverse document with TF-IDF)."
   ]
  },
  {
   "cell_type": "markdown",
   "metadata": {},
   "source": [
    "At first I will construct the train and test set. It's need to be done before the vectorization because the matrix posts/term  mustn't contain all the words of all the posts but only those of the trainset."
   ]
  },
  {
   "cell_type": "markdown",
   "metadata": {},
   "source": [
    "### Train and Test set"
   ]
  },
  {
   "cell_type": "markdown",
   "metadata": {},
   "source": [
    "I will now devide the dataset in trainset (75%) and testset (25%) to execute models. I will use a specific train/test split function given by scikit-learn."
   ]
  },
  {
   "cell_type": "code",
   "execution_count": 15,
   "metadata": {
    "collapsed": true
   },
   "outputs": [],
   "source": [
    "from sklearn.model_selection import train_test_split\n",
    "trainset, testset = train_test_split(data2, test_size=0.25)"
   ]
  },
  {
   "cell_type": "code",
   "execution_count": 16,
   "metadata": {
    "scrolled": true
   },
   "outputs": [
    {
     "name": "stdout",
     "output_type": "stream",
     "text": [
      "      type                                              posts\n",
      "3735  ENTP  'Why isn't anyone answering the P.S. question?...\n",
      "634   ESFP  'Leslie: ENFJ Ann: ESFJ Apirl: INFP Tom: ESTP ...\n",
      "3302  INFP  'There used to be a similarminds forums, but i...\n",
      "1957  INTP  'Or maybe it intentionally left you out just t...\n",
      "6568  INTP  'My parents always told me I would need to put...\n",
      "2063  INFJ  Aw this sucks. I am in Arizona. Have fun guys ...\n",
      "3226  ESTP  'The way you describe sensory details and life...\n",
      "8017  INFJ  'Istp|||Another ENTP!  Holy shit.  Are we bein...\n",
      "4799  ENTP  'death|||rip|||Nah, in the Chance Me part, the...\n",
      "3556  INTP  'well i havent read your previous post, but br...\n",
      "5563  INTJ  'At my work, I worked the register, and dealt ...\n",
      "6861  INFP  'ISTJ dad: What are you thinking about?  INFP ...\n",
      "5731  ENFP  '7w6 ENFP here|||Im in ISTJ mode   I think i n...\n",
      "1272  INTP  'My father is an ISTP and I can attest to this...\n",
      "7024  INFP  'Anyone can be anything and we all have our sh...\n",
      "8377  ISFP  'I like Sandbox games.   Stardew Valley Don't ...\n",
      "7160  INTP  'My roommate for the last three years and best...\n",
      "4978  INTJ  'My father and I are the only Ni doms alive th...\n",
      "7071  INFJ  'Yes, kind of. I still think about him everyda...\n",
      "4431  ISFP  'a) or e) fix a great babysitter to be with th...\n",
      "3734  INFP  INFP's in prison...these threads seem to make ...\n",
      "5506  ENTP  'Oddly enough, I have a near photographic memo...\n",
      "6277  ISTP  'Fuck me, climbing out of this hole I dug myse...\n",
      "7053  ENTP  Derpaderp|||my third nipple likes to eat pie.|...\n",
      "6365  INFJ  'Now I'm on the second season of Buffy, and it...\n",
      "3230  INTJ  'The stress points are, at the moment, that he...\n",
      "344   INTP  I always find those instances of 'reverse disc...\n",
      "6910  INFJ  'My memory of an ESFJ. He is a back sword of l...\n",
      "2706  ENFP  'I'm imagining an ENFP meetup........ hahahaha...\n",
      "7444  INFP  'Improbable....|||I wish I wouldn't so easily ...\n",
      "...    ...                                                ...\n",
      "6965  ENTP  'I'm such a gangster.|||I wasn't supposed to s...\n",
      "5707  INFJ  'Is building a theme park inside of a human bo...\n",
      "4469  INTP  '...when he starts to undress you.|||This has ...\n",
      "5113  ISFP  'Scrambled eggs with tomatoes and onions on ch...\n",
      "4865  INFJ  '||||||Do you have more trouble with Fe or Si?...\n",
      "3558  INTP  'The problem is that a good amount of math is ...\n",
      "2541  INFJ  'If i feel comfortable, i will argue. I wont l...\n",
      "643   ENFP  'Haha to some extent. I mean, I get along with...\n",
      "6959  ENFP  'Thank you, I might :).|||Your dynamic sounds ...\n",
      "5044  INFJ  'Looks like the preliminary results from the p...\n",
      "7853  ENTJ  'There are several ESTJs in my circle and all ...\n",
      "7668  INTP  'I usually act or more specifically speak befo...\n",
      "5620  INTJ  'Persona 4:  Brotagonist - ENTJ Chie Saonaka -...\n",
      "1216  ISTJ  As an SX/SP 5, I agree with the descriptions i...\n",
      "7138  INFP  Hi fellow Singaporean:) but i'm currently resi...\n",
      "3677  ENFP  'I used to be. In high school. When my parents...\n",
      "1936  INFJ  To add to this, it's not just that the democra...\n",
      "3115  ESFP  'I recently watched all of Unbreakable Kimmy S...\n",
      "1781  INFP  'From 4:55 til the end: pure magic.   |||This ...\n",
      "3478  INFJ  'Infants don't make their own antibodies until...\n",
      "8274  ENFJ  'Welcome, fellow ENFJ! I'm relatively new to E...\n",
      "398   INFP  'Noted that I have been noted.  Also, it's you...\n",
      "239   ISFP  I have a friend who is a type 7 but is chronic...\n",
      "7421  INTP  'I study clinical psychology, but if money was...\n",
      "1403  INFP  My favorite book is jane eyre by charlotte Bro...\n",
      "6911  INTP  'Dark blue. Somehow it just relaxes me.||||||W...\n",
      "2893  INFP  'I had a lot of difficulty determining my type...\n",
      "1236  ENFP  Hi! didn't read down the whole post, only the ...\n",
      "757   INFJ  'How does intj prefer to deal with an argument...\n",
      "7876  INFJ  ||||||Can I be the short bald guy??|||A good d...\n",
      "\n",
      "[6506 rows x 2 columns]\n"
     ]
    }
   ],
   "source": [
    "print(trainset)"
   ]
  },
  {
   "cell_type": "code",
   "execution_count": 17,
   "metadata": {},
   "outputs": [
    {
     "data": {
      "text/plain": [
       "type     6506\n",
       "posts    6506\n",
       "dtype: int64"
      ]
     },
     "execution_count": 17,
     "metadata": {},
     "output_type": "execute_result"
    }
   ],
   "source": [
    "trainset.count()"
   ]
  },
  {
   "cell_type": "markdown",
   "metadata": {},
   "source": [
    "A trainset with 75% of the dataframe (8675 raws)"
   ]
  },
  {
   "cell_type": "code",
   "execution_count": 18,
   "metadata": {},
   "outputs": [
    {
     "data": {
      "text/plain": [
       "type     2169\n",
       "posts    2169\n",
       "dtype: int64"
      ]
     },
     "execution_count": 18,
     "metadata": {},
     "output_type": "execute_result"
    }
   ],
   "source": [
    "testset.count()"
   ]
  },
  {
   "cell_type": "markdown",
   "metadata": {},
   "source": [
    "A testset with 25% of the dataframe (8675 raws)"
   ]
  },
  {
   "cell_type": "markdown",
   "metadata": {},
   "source": [
    "#### Transform the types in numerical number with the dictionary category"
   ]
  },
  {
   "cell_type": "markdown",
   "metadata": {},
   "source": [
    "##### For train set"
   ]
  },
  {
   "cell_type": "code",
   "execution_count": 19,
   "metadata": {
    "scrolled": true
   },
   "outputs": [
    {
     "name": "stdout",
     "output_type": "stream",
     "text": [
      "      type                                              posts\n",
      "3735  ENTP  'Why isn't anyone answering the P.S. question?...\n",
      "634   ESFP  'Leslie: ENFJ Ann: ESFJ Apirl: INFP Tom: ESTP ...\n",
      "3302  INFP  'There used to be a similarminds forums, but i...\n",
      "1957  INTP  'Or maybe it intentionally left you out just t...\n",
      "6568  INTP  'My parents always told me I would need to put...\n",
      "2063  INFJ  Aw this sucks. I am in Arizona. Have fun guys ...\n",
      "3226  ESTP  'The way you describe sensory details and life...\n",
      "8017  INFJ  'Istp|||Another ENTP!  Holy shit.  Are we bein...\n",
      "4799  ENTP  'death|||rip|||Nah, in the Chance Me part, the...\n",
      "3556  INTP  'well i havent read your previous post, but br...\n",
      "5563  INTJ  'At my work, I worked the register, and dealt ...\n",
      "6861  INFP  'ISTJ dad: What are you thinking about?  INFP ...\n",
      "5731  ENFP  '7w6 ENFP here|||Im in ISTJ mode   I think i n...\n",
      "1272  INTP  'My father is an ISTP and I can attest to this...\n",
      "7024  INFP  'Anyone can be anything and we all have our sh...\n",
      "8377  ISFP  'I like Sandbox games.   Stardew Valley Don't ...\n",
      "7160  INTP  'My roommate for the last three years and best...\n",
      "4978  INTJ  'My father and I are the only Ni doms alive th...\n",
      "7071  INFJ  'Yes, kind of. I still think about him everyda...\n",
      "4431  ISFP  'a) or e) fix a great babysitter to be with th...\n",
      "3734  INFP  INFP's in prison...these threads seem to make ...\n",
      "5506  ENTP  'Oddly enough, I have a near photographic memo...\n",
      "6277  ISTP  'Fuck me, climbing out of this hole I dug myse...\n",
      "7053  ENTP  Derpaderp|||my third nipple likes to eat pie.|...\n",
      "6365  INFJ  'Now I'm on the second season of Buffy, and it...\n",
      "3230  INTJ  'The stress points are, at the moment, that he...\n",
      "344   INTP  I always find those instances of 'reverse disc...\n",
      "6910  INFJ  'My memory of an ESFJ. He is a back sword of l...\n",
      "2706  ENFP  'I'm imagining an ENFP meetup........ hahahaha...\n",
      "7444  INFP  'Improbable....|||I wish I wouldn't so easily ...\n",
      "...    ...                                                ...\n",
      "6965  ENTP  'I'm such a gangster.|||I wasn't supposed to s...\n",
      "5707  INFJ  'Is building a theme park inside of a human bo...\n",
      "4469  INTP  '...when he starts to undress you.|||This has ...\n",
      "5113  ISFP  'Scrambled eggs with tomatoes and onions on ch...\n",
      "4865  INFJ  '||||||Do you have more trouble with Fe or Si?...\n",
      "3558  INTP  'The problem is that a good amount of math is ...\n",
      "2541  INFJ  'If i feel comfortable, i will argue. I wont l...\n",
      "643   ENFP  'Haha to some extent. I mean, I get along with...\n",
      "6959  ENFP  'Thank you, I might :).|||Your dynamic sounds ...\n",
      "5044  INFJ  'Looks like the preliminary results from the p...\n",
      "7853  ENTJ  'There are several ESTJs in my circle and all ...\n",
      "7668  INTP  'I usually act or more specifically speak befo...\n",
      "5620  INTJ  'Persona 4:  Brotagonist - ENTJ Chie Saonaka -...\n",
      "1216  ISTJ  As an SX/SP 5, I agree with the descriptions i...\n",
      "7138  INFP  Hi fellow Singaporean:) but i'm currently resi...\n",
      "3677  ENFP  'I used to be. In high school. When my parents...\n",
      "1936  INFJ  To add to this, it's not just that the democra...\n",
      "3115  ESFP  'I recently watched all of Unbreakable Kimmy S...\n",
      "1781  INFP  'From 4:55 til the end: pure magic.   |||This ...\n",
      "3478  INFJ  'Infants don't make their own antibodies until...\n",
      "8274  ENFJ  'Welcome, fellow ENFJ! I'm relatively new to E...\n",
      "398   INFP  'Noted that I have been noted.  Also, it's you...\n",
      "239   ISFP  I have a friend who is a type 7 but is chronic...\n",
      "7421  INTP  'I study clinical psychology, but if money was...\n",
      "1403  INFP  My favorite book is jane eyre by charlotte Bro...\n",
      "6911  INTP  'Dark blue. Somehow it just relaxes me.||||||W...\n",
      "2893  INFP  'I had a lot of difficulty determining my type...\n",
      "1236  ENFP  Hi! didn't read down the whole post, only the ...\n",
      "757   INFJ  'How does intj prefer to deal with an argument...\n",
      "7876  INFJ  ||||||Can I be the short bald guy??|||A good d...\n",
      "\n",
      "[6506 rows x 2 columns]\n"
     ]
    }
   ],
   "source": [
    "trainset_type_num = trainset[:]\n",
    "print(trainset_type_num)"
   ]
  },
  {
   "cell_type": "code",
   "execution_count": 20,
   "metadata": {
    "scrolled": true
   },
   "outputs": [
    {
     "name": "stdout",
     "output_type": "stream",
     "text": [
      "      type                                              posts\n",
      "3735     2  'Why isn't anyone answering the P.S. question?...\n",
      "634     14  'Leslie: ENFJ Ann: ESFJ Apirl: INFP Tom: ESTP ...\n",
      "3302     7  'There used to be a similarminds forums, but i...\n",
      "1957     3  'Or maybe it intentionally left you out just t...\n",
      "6568     3  'My parents always told me I would need to put...\n",
      "2063     1  Aw this sucks. I am in Arizona. Have fun guys ...\n",
      "3226    13  'The way you describe sensory details and life...\n",
      "8017     1  'Istp|||Another ENTP!  Holy shit.  Are we bein...\n",
      "4799     2  'death|||rip|||Nah, in the Chance Me part, the...\n",
      "3556     3  'well i havent read your previous post, but br...\n",
      "5563     4  'At my work, I worked the register, and dealt ...\n",
      "6861     7  'ISTJ dad: What are you thinking about?  INFP ...\n",
      "5731     8  '7w6 ENFP here|||Im in ISTJ mode   I think i n...\n",
      "1272     3  'My father is an ISTP and I can attest to this...\n",
      "7024     7  'Anyone can be anything and we all have our sh...\n",
      "8377     9  'I like Sandbox games.   Stardew Valley Don't ...\n",
      "7160     3  'My roommate for the last three years and best...\n",
      "4978     4  'My father and I are the only Ni doms alive th...\n",
      "7071     1  'Yes, kind of. I still think about him everyda...\n",
      "4431     9  'a) or e) fix a great babysitter to be with th...\n",
      "3734     7  INFP's in prison...these threads seem to make ...\n",
      "5506     2  'Oddly enough, I have a near photographic memo...\n",
      "6277    10  'Fuck me, climbing out of this hole I dug myse...\n",
      "7053     2  Derpaderp|||my third nipple likes to eat pie.|...\n",
      "6365     1  'Now I'm on the second season of Buffy, and it...\n",
      "3230     4  'The stress points are, at the moment, that he...\n",
      "344      3  I always find those instances of 'reverse disc...\n",
      "6910     1  'My memory of an ESFJ. He is a back sword of l...\n",
      "2706     8  'I'm imagining an ENFP meetup........ hahahaha...\n",
      "7444     7  'Improbable....|||I wish I wouldn't so easily ...\n",
      "...    ...                                                ...\n",
      "6965     2  'I'm such a gangster.|||I wasn't supposed to s...\n",
      "5707     1  'Is building a theme park inside of a human bo...\n",
      "4469     3  '...when he starts to undress you.|||This has ...\n",
      "5113     9  'Scrambled eggs with tomatoes and onions on ch...\n",
      "4865     1  '||||||Do you have more trouble with Fe or Si?...\n",
      "3558     3  'The problem is that a good amount of math is ...\n",
      "2541     1  'If i feel comfortable, i will argue. I wont l...\n",
      "643      8  'Haha to some extent. I mean, I get along with...\n",
      "6959     8  'Thank you, I might :).|||Your dynamic sounds ...\n",
      "5044     1  'Looks like the preliminary results from the p...\n",
      "7853     5  'There are several ESTJs in my circle and all ...\n",
      "7668     3  'I usually act or more specifically speak befo...\n",
      "5620     4  'Persona 4:  Brotagonist - ENTJ Chie Saonaka -...\n",
      "1216    12  As an SX/SP 5, I agree with the descriptions i...\n",
      "7138     7  Hi fellow Singaporean:) but i'm currently resi...\n",
      "3677     8  'I used to be. In high school. When my parents...\n",
      "1936     1  To add to this, it's not just that the democra...\n",
      "3115    14  'I recently watched all of Unbreakable Kimmy S...\n",
      "1781     7  'From 4:55 til the end: pure magic.   |||This ...\n",
      "3478     1  'Infants don't make their own antibodies until...\n",
      "8274     6  'Welcome, fellow ENFJ! I'm relatively new to E...\n",
      "398      7  'Noted that I have been noted.  Also, it's you...\n",
      "239      9  I have a friend who is a type 7 but is chronic...\n",
      "7421     3  'I study clinical psychology, but if money was...\n",
      "1403     7  My favorite book is jane eyre by charlotte Bro...\n",
      "6911     3  'Dark blue. Somehow it just relaxes me.||||||W...\n",
      "2893     7  'I had a lot of difficulty determining my type...\n",
      "1236     8  Hi! didn't read down the whole post, only the ...\n",
      "757      1  'How does intj prefer to deal with an argument...\n",
      "7876     1  ||||||Can I be the short bald guy??|||A good d...\n",
      "\n",
      "[6506 rows x 2 columns]\n"
     ]
    }
   ],
   "source": [
    "trainset_type_num['type'] = trainset_type_num['type'].replace(dict_category)\n",
    "print(trainset_type_num)"
   ]
  },
  {
   "cell_type": "markdown",
   "metadata": {},
   "source": [
    "POST TRAIN"
   ]
  },
  {
   "cell_type": "code",
   "execution_count": 21,
   "metadata": {
    "scrolled": true
   },
   "outputs": [
    {
     "name": "stdout",
     "output_type": "stream",
     "text": [
      "                                                  posts\n",
      "3735  'Why isn't anyone answering the P.S. question?...\n",
      "634   'Leslie: ENFJ Ann: ESFJ Apirl: INFP Tom: ESTP ...\n",
      "3302  'There used to be a similarminds forums, but i...\n",
      "1957  'Or maybe it intentionally left you out just t...\n",
      "6568  'My parents always told me I would need to put...\n",
      "2063  Aw this sucks. I am in Arizona. Have fun guys ...\n",
      "3226  'The way you describe sensory details and life...\n",
      "8017  'Istp|||Another ENTP!  Holy shit.  Are we bein...\n",
      "4799  'death|||rip|||Nah, in the Chance Me part, the...\n",
      "3556  'well i havent read your previous post, but br...\n",
      "5563  'At my work, I worked the register, and dealt ...\n",
      "6861  'ISTJ dad: What are you thinking about?  INFP ...\n",
      "5731  '7w6 ENFP here|||Im in ISTJ mode   I think i n...\n",
      "1272  'My father is an ISTP and I can attest to this...\n",
      "7024  'Anyone can be anything and we all have our sh...\n",
      "8377  'I like Sandbox games.   Stardew Valley Don't ...\n",
      "7160  'My roommate for the last three years and best...\n",
      "4978  'My father and I are the only Ni doms alive th...\n",
      "7071  'Yes, kind of. I still think about him everyda...\n",
      "4431  'a) or e) fix a great babysitter to be with th...\n",
      "3734  INFP's in prison...these threads seem to make ...\n",
      "5506  'Oddly enough, I have a near photographic memo...\n",
      "6277  'Fuck me, climbing out of this hole I dug myse...\n",
      "7053  Derpaderp|||my third nipple likes to eat pie.|...\n",
      "6365  'Now I'm on the second season of Buffy, and it...\n",
      "3230  'The stress points are, at the moment, that he...\n",
      "344   I always find those instances of 'reverse disc...\n",
      "6910  'My memory of an ESFJ. He is a back sword of l...\n",
      "2706  'I'm imagining an ENFP meetup........ hahahaha...\n",
      "7444  'Improbable....|||I wish I wouldn't so easily ...\n",
      "...                                                 ...\n",
      "6965  'I'm such a gangster.|||I wasn't supposed to s...\n",
      "5707  'Is building a theme park inside of a human bo...\n",
      "4469  '...when he starts to undress you.|||This has ...\n",
      "5113  'Scrambled eggs with tomatoes and onions on ch...\n",
      "4865  '||||||Do you have more trouble with Fe or Si?...\n",
      "3558  'The problem is that a good amount of math is ...\n",
      "2541  'If i feel comfortable, i will argue. I wont l...\n",
      "643   'Haha to some extent. I mean, I get along with...\n",
      "6959  'Thank you, I might :).|||Your dynamic sounds ...\n",
      "5044  'Looks like the preliminary results from the p...\n",
      "7853  'There are several ESTJs in my circle and all ...\n",
      "7668  'I usually act or more specifically speak befo...\n",
      "5620  'Persona 4:  Brotagonist - ENTJ Chie Saonaka -...\n",
      "1216  As an SX/SP 5, I agree with the descriptions i...\n",
      "7138  Hi fellow Singaporean:) but i'm currently resi...\n",
      "3677  'I used to be. In high school. When my parents...\n",
      "1936  To add to this, it's not just that the democra...\n",
      "3115  'I recently watched all of Unbreakable Kimmy S...\n",
      "1781  'From 4:55 til the end: pure magic.   |||This ...\n",
      "3478  'Infants don't make their own antibodies until...\n",
      "8274  'Welcome, fellow ENFJ! I'm relatively new to E...\n",
      "398   'Noted that I have been noted.  Also, it's you...\n",
      "239   I have a friend who is a type 7 but is chronic...\n",
      "7421  'I study clinical psychology, but if money was...\n",
      "1403  My favorite book is jane eyre by charlotte Bro...\n",
      "6911  'Dark blue. Somehow it just relaxes me.||||||W...\n",
      "2893  'I had a lot of difficulty determining my type...\n",
      "1236  Hi! didn't read down the whole post, only the ...\n",
      "757   'How does intj prefer to deal with an argument...\n",
      "7876  ||||||Can I be the short bald guy??|||A good d...\n",
      "\n",
      "[6506 rows x 1 columns]\n"
     ]
    }
   ],
   "source": [
    "trainset_posts_only = pd.DataFrame(data=trainset_type_num['posts'])\n",
    "print(trainset_posts_only)"
   ]
  },
  {
   "cell_type": "markdown",
   "metadata": {},
   "source": [
    "LABEL NUMBER TRAIN : Dataframe of only posts value of testset "
   ]
  },
  {
   "cell_type": "code",
   "execution_count": 22,
   "metadata": {},
   "outputs": [],
   "source": [
    "trainset_type_num_only = pd.DataFrame(data=trainset_type_num['type'])"
   ]
  },
  {
   "cell_type": "code",
   "execution_count": 46,
   "metadata": {
    "scrolled": true
   },
   "outputs": [
    {
     "name": "stdout",
     "output_type": "stream",
     "text": [
      "[[ 2]\n",
      " [14]\n",
      " [ 7]\n",
      " ..., \n",
      " [ 8]\n",
      " [ 1]\n",
      " [ 1]]\n"
     ]
    },
    {
     "data": {
      "text/plain": [
       "(6506L, 1L)"
      ]
     },
     "execution_count": 46,
     "metadata": {},
     "output_type": "execute_result"
    }
   ],
   "source": [
    "#train set type column only\n",
    "df = trainset_type_num_only.values\n",
    "print(df)\n",
    "df.shape"
   ]
  },
  {
   "cell_type": "markdown",
   "metadata": {},
   "source": [
    "##### For test set"
   ]
  },
  {
   "cell_type": "code",
   "execution_count": 24,
   "metadata": {
    "scrolled": true
   },
   "outputs": [
    {
     "name": "stdout",
     "output_type": "stream",
     "text": [
      "      type                                              posts\n",
      "8548  INTP  'Change my username name to XZ9|||There are mu...\n",
      "4553  INTP  'I thought I would be alone forever but now I'...\n",
      "8672  INTP  'So many questions when i do these things.  I ...\n",
      "4488  INFP  'Accurate. Though certain of my dominant Fi, I...\n",
      "7025  ISFP  'black is my favorite|||ergo proxy and hell gi...\n",
      "7128  INFJ  'I get it. The fairy dust kind of disappears. ...\n",
      "5249  INTJ  'the veiliathan|||frosty u 've all our respect...\n",
      "2972  INFJ  'Ha! Jung is my hero and I have had a somewhat...\n",
      "119   ENFP  'Just got married to my ESFP today! :proud: 68...\n",
      "5149  INFP  'For a long while I've been identifying as a t...\n",
      "965   INFP  I second this, especially if we're not emotion...\n",
      "5388  INFJ  '|||You know you're really lonely when you com...\n",
      "5479  INTP  'Whatcha talkin bout Willis?  INTP's are proba...\n",
      "5250  INFJ  'I have the SAME argument with my INTP boyfrie...\n",
      "1900  ENTP  'You're not manipulating the rule, you're brea...\n",
      "6147  INFP  'So over three months ago, I was feeling prett...\n",
      "5660  ESTJ  In matters of romance it comes down to the ind...\n",
      "5092  INFP  'This is so awesome!  YES, this is what I was ...\n",
      "1237  INFJ  'I haven't, but maybe I will. He's still quite...\n",
      "4104  INFP  Dang my kind is pretty. And ya'll have big eye...\n",
      "8087  INFP  'That INFPs aren't rational and can't make goo...\n",
      "3284  INTP  'Pure math is pretty much math for the sake of...\n",
      "1732  INFP  'nervous / excited / lonely.  nervous and exci...\n",
      "403   ISFP  'Warm Spring - Soft Autumn overlap.   My hair ...\n",
      "7611  INFJ  'In terms of the big 5 personality traits (ext...\n",
      "908   ENTP  'I hope that all of you guys know that what ha...\n",
      "1243  INTP  I like them. I think one of my friends is one ...\n",
      "5052  INFJ  '3rd eye buddy, fuckin' facepalm|||Maybe ur ou...\n",
      "6181  INFP  'Almost never. The only other results I got ot...\n",
      "5818  ENTP  'Just curious. I realise this is a bit of a st...\n",
      "...    ...                                                ...\n",
      "5125  INFP  'People you don´t trust and like - big wall.  ...\n",
      "4147  INTP  'I suppose it would feel like atheism so...I w...\n",
      "4214  ISFP  'tyler: INFP josh: ISFP  i think these two sho...\n",
      "4072  ENFP  'When you talk less and do more, yet, once you...\n",
      "7858  INFJ  'In Keirsey's re-organization of the types, IS...\n",
      "4958  ENFJ  'I chose populists, liberalists and pacifists ...\n",
      "4135  ENTP  'Did you know that the Japanese once traded to...\n",
      "7329  ESFP  'bluekitdon   I never thought about it that wa...\n",
      "6098  ENFP  'Sounds like an ESFJ I was in a relationship r...\n",
      "738   ENFP  'Hi wanted188! Which country are you from, if ...\n",
      "2852  INFP  'This sounds like it's about something specifi...\n",
      "6529  INTP  'For, Honor  nay|||Read a description of anyth...\n",
      "2412  INFP  '||||||||||||Green Day was one of the first ba...\n",
      "7935  INFP  '717674 717666|||Like we always trying to do t...\n",
      "6759  ESTP  Not to derail your thread. But my update is th...\n",
      "3439  INFJ  'Hey dude bro, here.  Read.  And read.  Now go...\n",
      "6516  INFP  'I respect every mind. I just ask a question f...\n",
      "7788  INTJ  'I know that I get depressed, but I have found...\n",
      "3816  ISTP  'Dear ENFJ,   I can't relate to wishy-washy. Y...\n",
      "2665  ISFP  'I always cry when I laugh alot. I can't remem...\n",
      "1372  INFJ  'Every little slightest action from the bodies...\n",
      "6654  INTJ  'Truly creepy.|||Soooo Fe (Extraverted Feeling...\n",
      "186   INTJ  'My mama used to read me Andersen's fairy tale...\n",
      "2194  ENTP  'I understand that Ni is a strong background p...\n",
      "5158  ISFJ  'My type is ISFJ, so Si dom.   I truly cannot ...\n",
      "934   INFP  'My impression after watching these two videos...\n",
      "1093  ENFJ  'xlillithx you came out of the closet at 15???...\n",
      "3712  ENFJ  'honestly in person I've seen 5s more frequent...\n",
      "4233  ISTP  'boring|||&amp;feature=related mhm|||cap and c...\n",
      "3267  INTP  'Thank you for posting this! It's very much to...\n",
      "\n",
      "[2169 rows x 2 columns]\n"
     ]
    }
   ],
   "source": [
    "testset_type_num = testset[:]\n",
    "print(testset_type_num)"
   ]
  },
  {
   "cell_type": "code",
   "execution_count": 25,
   "metadata": {
    "scrolled": true
   },
   "outputs": [
    {
     "name": "stdout",
     "output_type": "stream",
     "text": [
      "      type                                              posts\n",
      "8548     3  'Change my username name to XZ9|||There are mu...\n",
      "4553     3  'I thought I would be alone forever but now I'...\n",
      "8672     3  'So many questions when i do these things.  I ...\n",
      "4488     7  'Accurate. Though certain of my dominant Fi, I...\n",
      "7025     9  'black is my favorite|||ergo proxy and hell gi...\n",
      "7128     1  'I get it. The fairy dust kind of disappears. ...\n",
      "5249     4  'the veiliathan|||frosty u 've all our respect...\n",
      "2972     1  'Ha! Jung is my hero and I have had a somewhat...\n",
      "119      8  'Just got married to my ESFP today! :proud: 68...\n",
      "5149     7  'For a long while I've been identifying as a t...\n",
      "965      7  I second this, especially if we're not emotion...\n",
      "5388     1  '|||You know you're really lonely when you com...\n",
      "5479     3  'Whatcha talkin bout Willis?  INTP's are proba...\n",
      "5250     1  'I have the SAME argument with my INTP boyfrie...\n",
      "1900     2  'You're not manipulating the rule, you're brea...\n",
      "6147     7  'So over three months ago, I was feeling prett...\n",
      "5660    15  In matters of romance it comes down to the ind...\n",
      "5092     7  'This is so awesome!  YES, this is what I was ...\n",
      "1237     1  'I haven't, but maybe I will. He's still quite...\n",
      "4104     7  Dang my kind is pretty. And ya'll have big eye...\n",
      "8087     7  'That INFPs aren't rational and can't make goo...\n",
      "3284     3  'Pure math is pretty much math for the sake of...\n",
      "1732     7  'nervous / excited / lonely.  nervous and exci...\n",
      "403      9  'Warm Spring - Soft Autumn overlap.   My hair ...\n",
      "7611     1  'In terms of the big 5 personality traits (ext...\n",
      "908      2  'I hope that all of you guys know that what ha...\n",
      "1243     3  I like them. I think one of my friends is one ...\n",
      "5052     1  '3rd eye buddy, fuckin' facepalm|||Maybe ur ou...\n",
      "6181     7  'Almost never. The only other results I got ot...\n",
      "5818     2  'Just curious. I realise this is a bit of a st...\n",
      "...    ...                                                ...\n",
      "5125     7  'People you don´t trust and like - big wall.  ...\n",
      "4147     3  'I suppose it would feel like atheism so...I w...\n",
      "4214     9  'tyler: INFP josh: ISFP  i think these two sho...\n",
      "4072     8  'When you talk less and do more, yet, once you...\n",
      "7858     1  'In Keirsey's re-organization of the types, IS...\n",
      "4958     6  'I chose populists, liberalists and pacifists ...\n",
      "4135     2  'Did you know that the Japanese once traded to...\n",
      "7329    14  'bluekitdon   I never thought about it that wa...\n",
      "6098     8  'Sounds like an ESFJ I was in a relationship r...\n",
      "738      8  'Hi wanted188! Which country are you from, if ...\n",
      "2852     7  'This sounds like it's about something specifi...\n",
      "6529     3  'For, Honor  nay|||Read a description of anyth...\n",
      "2412     7  '||||||||||||Green Day was one of the first ba...\n",
      "7935     7  '717674 717666|||Like we always trying to do t...\n",
      "6759    13  Not to derail your thread. But my update is th...\n",
      "3439     1  'Hey dude bro, here.  Read.  And read.  Now go...\n",
      "6516     7  'I respect every mind. I just ask a question f...\n",
      "7788     4  'I know that I get depressed, but I have found...\n",
      "3816    10  'Dear ENFJ,   I can't relate to wishy-washy. Y...\n",
      "2665     9  'I always cry when I laugh alot. I can't remem...\n",
      "1372     1  'Every little slightest action from the bodies...\n",
      "6654     4  'Truly creepy.|||Soooo Fe (Extraverted Feeling...\n",
      "186      4  'My mama used to read me Andersen's fairy tale...\n",
      "2194     2  'I understand that Ni is a strong background p...\n",
      "5158    11  'My type is ISFJ, so Si dom.   I truly cannot ...\n",
      "934      7  'My impression after watching these two videos...\n",
      "1093     6  'xlillithx you came out of the closet at 15???...\n",
      "3712     6  'honestly in person I've seen 5s more frequent...\n",
      "4233    10  'boring|||&amp;feature=related mhm|||cap and c...\n",
      "3267     3  'Thank you for posting this! It's very much to...\n",
      "\n",
      "[2169 rows x 2 columns]\n"
     ]
    }
   ],
   "source": [
    "testset_type_num['type'] = testset_type_num['type'].replace(dict_category)\n",
    "print(testset_type_num)"
   ]
  },
  {
   "cell_type": "code",
   "execution_count": 26,
   "metadata": {
    "scrolled": true
   },
   "outputs": [
    {
     "name": "stdout",
     "output_type": "stream",
     "text": [
      "                                                  posts\n",
      "8548  'Change my username name to XZ9|||There are mu...\n",
      "4553  'I thought I would be alone forever but now I'...\n",
      "8672  'So many questions when i do these things.  I ...\n",
      "4488  'Accurate. Though certain of my dominant Fi, I...\n",
      "7025  'black is my favorite|||ergo proxy and hell gi...\n",
      "7128  'I get it. The fairy dust kind of disappears. ...\n",
      "5249  'the veiliathan|||frosty u 've all our respect...\n",
      "2972  'Ha! Jung is my hero and I have had a somewhat...\n",
      "119   'Just got married to my ESFP today! :proud: 68...\n",
      "5149  'For a long while I've been identifying as a t...\n",
      "965   I second this, especially if we're not emotion...\n",
      "5388  '|||You know you're really lonely when you com...\n",
      "5479  'Whatcha talkin bout Willis?  INTP's are proba...\n",
      "5250  'I have the SAME argument with my INTP boyfrie...\n",
      "1900  'You're not manipulating the rule, you're brea...\n",
      "6147  'So over three months ago, I was feeling prett...\n",
      "5660  In matters of romance it comes down to the ind...\n",
      "5092  'This is so awesome!  YES, this is what I was ...\n",
      "1237  'I haven't, but maybe I will. He's still quite...\n",
      "4104  Dang my kind is pretty. And ya'll have big eye...\n",
      "8087  'That INFPs aren't rational and can't make goo...\n",
      "3284  'Pure math is pretty much math for the sake of...\n",
      "1732  'nervous / excited / lonely.  nervous and exci...\n",
      "403   'Warm Spring - Soft Autumn overlap.   My hair ...\n",
      "7611  'In terms of the big 5 personality traits (ext...\n",
      "908   'I hope that all of you guys know that what ha...\n",
      "1243  I like them. I think one of my friends is one ...\n",
      "5052  '3rd eye buddy, fuckin' facepalm|||Maybe ur ou...\n",
      "6181  'Almost never. The only other results I got ot...\n",
      "5818  'Just curious. I realise this is a bit of a st...\n",
      "...                                                 ...\n",
      "5125  'People you don´t trust and like - big wall.  ...\n",
      "4147  'I suppose it would feel like atheism so...I w...\n",
      "4214  'tyler: INFP josh: ISFP  i think these two sho...\n",
      "4072  'When you talk less and do more, yet, once you...\n",
      "7858  'In Keirsey's re-organization of the types, IS...\n",
      "4958  'I chose populists, liberalists and pacifists ...\n",
      "4135  'Did you know that the Japanese once traded to...\n",
      "7329  'bluekitdon   I never thought about it that wa...\n",
      "6098  'Sounds like an ESFJ I was in a relationship r...\n",
      "738   'Hi wanted188! Which country are you from, if ...\n",
      "2852  'This sounds like it's about something specifi...\n",
      "6529  'For, Honor  nay|||Read a description of anyth...\n",
      "2412  '||||||||||||Green Day was one of the first ba...\n",
      "7935  '717674 717666|||Like we always trying to do t...\n",
      "6759  Not to derail your thread. But my update is th...\n",
      "3439  'Hey dude bro, here.  Read.  And read.  Now go...\n",
      "6516  'I respect every mind. I just ask a question f...\n",
      "7788  'I know that I get depressed, but I have found...\n",
      "3816  'Dear ENFJ,   I can't relate to wishy-washy. Y...\n",
      "2665  'I always cry when I laugh alot. I can't remem...\n",
      "1372  'Every little slightest action from the bodies...\n",
      "6654  'Truly creepy.|||Soooo Fe (Extraverted Feeling...\n",
      "186   'My mama used to read me Andersen's fairy tale...\n",
      "2194  'I understand that Ni is a strong background p...\n",
      "5158  'My type is ISFJ, so Si dom.   I truly cannot ...\n",
      "934   'My impression after watching these two videos...\n",
      "1093  'xlillithx you came out of the closet at 15???...\n",
      "3712  'honestly in person I've seen 5s more frequent...\n",
      "4233  'boring|||&amp;feature=related mhm|||cap and c...\n",
      "3267  'Thank you for posting this! It's very much to...\n",
      "\n",
      "[2169 rows x 1 columns]\n"
     ]
    }
   ],
   "source": [
    "testset_posts_only = pd.DataFrame(data=testset_type_num['posts'])\n",
    "print(testset_posts_only)"
   ]
  },
  {
   "cell_type": "code",
   "execution_count": 27,
   "metadata": {
    "scrolled": true
   },
   "outputs": [
    {
     "name": "stdout",
     "output_type": "stream",
     "text": [
      "[[ \"'Change my username name to XZ9|||There are multiple tri-type combinations. Each gives you a personality.  8-6-3 The justice fighter  This is really typical of ESTJ description. Others may know this type as a old school military...|||I wanted to add that there are certain types of ESTJ I find more attractive. The most I find attractive is the old school military general type.|||This pairing is recommended because INTP and ESTJ have dominate Ti and Te who share the same view of the world.  |||I find myself attractive to the idea of an ESTP. However, I think this pairing is horrible in the long run. I can't image this working out all. The reason why I'm drawn to ESTP is because of their...|||I have heard your idea that ESTJs are less likely to come out of the closet before due to their masculinity.|||The question asks how common are lgbt ESTJs. Given the fact that ESTJ are a numerous personality type by 10%, 3% of the population are homosexual. Doing simple probability statistics, there are 21...|||There were studies showing how people's brains get pleasure equivalent to receiving money or buying food when ask to talk about themselves. You can just ask people to talk about themselves which is...|||My family member who is an INFP broke up with her ENFJ boyfriend who have been dating for one year. My relative said the reason was that he kept on getting domineering and aggressive like our mom...|||INTJ and ESTJ are suppose to be illusion relations.   Illusionary, or mirage, relations, like semi-duality, are similar to duality in that many of each partners' functions directly correspond to...|||I wouldn't misrepresent your Myers-Briggs type. That'd be like changing your gender.|||I wanted to add that descriptions are a poor way to type people. My ISTP relatives sounded a lot like the description on personality page. I had a hard time typing my other ISTP relatives. He...|||uhhh So how did you confuse yourself for ESTJ when you're INFP?|||In response to the ESFP and ESTJ pairing, this is suppose to be a Benefactor-Beneficiary relationship.   Benefit, or request, is an asymmetric relation in which the type with the higher status is...|||Why don't you guys approach this from a biological perspective. The need for partying is for people who have a high simulations and high socialization. I don't think those things are exclusive to...|||That's your opposing argument. That doesn't exactly refute why XSTJ and XNFP is a bad pairing because everyone is a little different. Correct, you can fall in love with any type, however,...|||That's a fooling thing to say. INFP and ENFP paired up with ESTJ and ISTJ had a low satisfactory rating. They rated each other 43%.  NF paired with NF had an 80% positive rating. I think you're...|||Quiet Minute  Cognitive functions are a flawless way of typing people.  INFJ- Ne-Fe-Ti-Se ENFJ- Fe-Ni-Se-Ti|||ehhhe make your post have paragraphs so I can read it better.|||I know a few INTPs that acted like types 8 and came off like businessmen. It all depends on the individual.|||You should like at the romantic style for ISTJ and ESTJ. Pretty different if you ask me despite being introverted and extroverted types.  Conquerors: SLE (ESTp) LSI (ISTj)  These are assertive...|||ISTP or INTP are suppose to be your best matches, however, I suppose any pairing is possible. Be warned that INFP and ENFP reported low satisfactory rate when paired up with ESTJ or ISTJ.   I find...|||Well what exactly don't you like about the function? What are some real life examples?  Ti- Analyzing, categorizing, and evaluating according to principles   Te- Segmenting, organizing for...|||I have never heard of Ti and Te clash. That's ridiculous.  Here's why ISTP's and INTP's are suppose to be ESTJ's pairings.  You may be interested in understanding how we came to the conclusion...|||I'm curious too. Thoughts?|||My sister has been with her ENFJ boyfriend for a year and a half. They appear to be happy.   I think ESFJ's can be a good couple too.  Fi-Ne-Si-Te INFP's Fe-Si-Ne-Ti ESFJ's|||Every time an NF walks in the room, music of idealism starts playing. The stars! the moon!  I think of ENFJ's as somebody who is mysterious.|||ISFP or INFP because they have introverted feeling to line up with your extroverted feeling.  Basically Fe-Ni-Se-Ti  Fi-Se-Ni-Te Fi-Ne-Si-Te|||Yeah you don't have to marry ISTP or INTP who is suppose to be ESTJ's ideal partner. However, you want to end of with somebody who cares about your cognitive functions.|||ISTP's or INTP's are your best match because their Introverted thinking lines up with your Extroverted thinking. However, you may pick which ever partner you want including a second ESTJ like...|||Sokka was ENTP.|||It appears INTJ and INTP are similar on the surface being both quiet types who are into science and the abstract concepts. The downside of two introvert relations is that it can get stagnant. You'd...|||I read The Hunger Games. I believe the main character was ISTP and her possible romance partner was ENTJ which is why I'm so interested. I'm really INTP.|||I read The Hunger Games. I believe the main character was ISTP and his love match was ENTJ which is why I'm so interested. I'm really INTP.|||You can't articulate your thoughts well. You're probably an INTP.|||So what about ISTP's?|||I think they are four romantic types for INTP as a pairing.  ESTP- I've been attractive to ESTP's before but I would never consider for a long term relations.  ESFP- ESFP's are a bit more...|||This is suppose to be business relations. Communication isn't that attractive. Fe and Te is their the 8th function of these types which is neglected and poorly used. Partners never care into each...|||How good are ESTJ's at theory and abstracts?|||What do you guys think of ISTP's for relationship?|||This is suppose to be business relations according to socionics as posted on the first page. Commutation isn't that attractive. Partners are similar but there's enough physiology distance that they...|||Is it hard interacting up close to each other?|||I'm curious of there's any ENFJ's or ESTP's that live together. What is the relation like? Is it hard doing chores and errands around each other?|||There was a study showing that 50% old people who lost their partner showed normal behavior after one year. Death is often over exaggerated. You shouldn't feel bad for not acting a certain way....|||edit|||How well is your knowledge at science as an ENFJ?|||This is relationship of Supervision+Supervise. ENFJ's are the Supervision and INTP's are the supervise because of Fe+Ni. Probably the worst thing INTP's in the eyes of ENFJ's is disregard how other...|||Yes, they do exist. I've meet an INTP girl as a counselor and her tri-type was 5-2-1. Her type two made her caring. This, however, can apply to any type in Myers-Brigg whereas people with type 2 vibe...|||Your function will never be romantically attractive to sensors.|||INFJ's are attractive to our Ne. That's the reason why they fall for INTP's. However, INTP's may not feel the same way.'\"]\n",
      " [ \"'I thought I would be alone forever but now I'm in a relationship type thing and it's honestly pretty wonderful. In fact, it's not just a relationship, it's a poly relationship. Who even am I.  She...|||I have a healthy appreciation for nature. I enjoy being in it, and being by myself in it, because it's calming and introspective and when you're alone in nature you can notice things you might not...|||I can't seem to find where I stored all my photos, but here are a few I guess I kind of like.   ...|||Dirty dishes in the sink drives me crazy, I do mine immediately after I finish eating. But I also live with two roommates, one of which can't seem to grasp the concept of a dishwasher. Nothing...|||The hottest potato.  |||True, I'll have to collect more data before I can make a solid conclusion. Though I'll need some volunteers.|||Aggressive? Sure. Dominant? Not really.|||Feels forced, yeah. There was nothing wrong with her, she was quite nice and we got along, it just made me feel claustrophobic. And I just don't think we're that compatible. But I'm also one of...|||I went on a date today for the first time and I can now confidently say that dating is not my thing.|||DudeGuy If you're trying to win my heart, it's working.   |||It really depends on the length of the flight and who I'm traveling with. Because I've done almost all of those things on one 12 hr flight. But generally I watch TV/movies on the IFE, then listen to...|||I'm assuming if I were famous I would also be reasonably wealthy or at the very least would have the means to gain wealth. And I'm also admittedly a bit of an attention whore, so I think fame would...|||\\xc2\\xaf_(\\xe3\\x83\\x84)_/\\xc2\\xaf  458505  458513|||Starting to accept that I'm probably more IxTP than anything, leaning slightly more towards N. Kind of frustrating to be honest.|||I think it depends on the individual. I've heard some INTPs who prefer small colleges, and I've heard of others who like large colleges. Small colleges have the perk of being more intimate, you can...|||I voted +1.  I've had a lot of trouble in the past dealing with sadness (not going to say depression) and anxiety, but over the last few months I've felt genuinely content with my life. I've always...|||I support feminism. There are radicals in every movement, but that doesn't mean the movement itself is a bad thing. It's just unfortunate that the radicals are the ones who get heard the most.  ...|||I'm really sensitive to sounds. I almost get a kind of sensory overload sometimes, and it gives me a lot of anxiety. When this happens, I just need to get out of that situation and go off to be by...|||As a female INTP, I find that I often do this sort of thing, where I still genuinely like the person, but it starts to become really draining and I start feeling claustrophobic with the relationship....|||I don't really doubt my type anymore because I realize now that it's not a box I have to fit into. There are a lot of things about me that are very un-INTP-like, but there are also a lot more things...|||ENTP or ESTP for me.  I love being an INTP, but the extroversion would make my life 10 times easier, and I think sensing would be of great use to me. Motivation would be really nice to have.|||Honestly though, if OP has that severe of a problem with as many jobs as he's listed, then there's probably a deeper issue that needs to be addressed. I'm not saying those jobs can't be that way...|||I'm pretty sure most entry level jobs for an INTP will suck no matter what. I recently got a job as a stocker at a grocery store, thinking it would suit me because it's easy, and monotonous, and it...|||Genuine enthusiasm and passion is so endearing to me. I can also be pretty enthusiastic about some things, but I don't get excited very easily. I've had the fortune to do a lot of amazing things in...|||Five years ago, I made a shitty post about thinking puns are funny. Since then, it has somehow received 107 thanks. I wouldn't say it's my best but it's definitely my most successful.  I still...|||I've been on the fence about kids for a while. I used to want them. Then I didn't. And now I'm kind of in the middle where I can see both the positives and negatives and I can't decide which side I...|||This is me to a T.   Conflict for me is just unnecessary stress and too much negative emotion. I can't deal with conflict without getting involved with the inevitable emotions, so I prefer to just...|||Posters of things I enjoy and artwork (my own + some paintings that I've bought).|||Probably going to be the only one here to say that programming never really clicked with me. Not unlike math, I enjoy it when I get it, but I can barely understand it.|||I complain so much. Like.... I feel like 90% of my personality is just grumpiness and complaining. How can anyone stand to be around me.|||Alcohol doesn't make a person more truthful, it just makes you not care. I'm an idiot when I drink. Generally I'm a really quiet person because most of the time when I'm sober I'm literally afraid to...|||But I honestly don't think what many people say is flaunting is actually that. In every situation I've personally been in (in my real life, not the Internet) that someone has claimed that another...|||Sure, when the default assumption isn't that everyone is cisgender and heterosexual, then sure, we can keep everything personal. Until then, I'm going to keep wearing my pride as a badge because I...|||I'm really unimpressed with a lot of the attitude's expressed in this thread.   Personally, I identify as a demiromantic asexual nonbinary individual, and I think those labels are an important part...|||I'm allergic to cats, but I still love them. But I chose dogs because I just don't think a cat would provide the same satisfaction that I get from having a dog as my companion. But ideally, I would...|||I know what you mean. Like... of course it's normal to sympathize with other people's pain, but it's way deeper than that, at least for me. I can't watch movies like Saw because it makes me so...|||After 20 years of worrying about what I want to do with my life, I decided that the only thing I've consistently loved throughout my life is film and television (and also dogs). So I've decided to...|||I'm most cranky when a) I'm tired, b) I need to recharge, and c) when plans don't go accordingly.   When I'm cranky, I just bitch about pretty much everything, to the point that even I don't want...|||I'm wondering how many other INTPs suffer from social anxiety. And how you deal with it. Especially with being introverted anyway, and how easy this makes it for me to hide behind my introversion...|||Tfw you look back at some of your oldest posts and realize how stupid and hateful and awful you were... I've grown a lot since then but seeing some of those posts makes me want to delete my account...|||I have found that I struggle in a lot of areas that INTPs are supposed to be good at. Math, physics, computer science.  Computer science is quickly becoming my worst enemy. I don't get this at all....|||My first selfie of 2015.  ...|||My opinion on suicide is mixed. There's a large part of me that feels like it's a selfish (and permanent) solution to a temporary problem, but another part of me understands that depression is a...|||I hate my name. I hate introducing myself because my name just feels awkward and out of place when I say/type it in reference to myself. But I can't find any names that I prefer. All of the names...|||Personally, I have enjoyed participating in sports like baseball/softball, gymnastics, martial arts, bowling, tennis, and swimming.   But I have to say that I don't like playing team sports that...|||In middle school, I was called a tranny. And a lesbian (which is hardly an insult???). I've been called an unfeeling psychopath with murderous tendencies by someone here on PerC. My brother has...|||Countless writing projects. Learning guitar. Learning several languages. Exercising and eating healthier.   Basically the only thing I've consistently done throughout my life is waste my time and...|||I want to comfort people, but I am utterly incapable of actually doing it.   |||It appears that I voted for other at some point, but I don't remember ever voting in this poll. Needless to say, I am asexual (and panromantic) and I can't imagine why I would say I was anything...|||I've been crying a lot lately and it's freaking me out. Just crying at stupid shit. I fucking cried during the new Night at the Museum movie. I almost cried when my mom revealed a secret to me that...'\"]\n",
      " [ \"'So many questions when i do these things.  I would take the purple pill. Pick winning lottery numbers. Do whatever I want.|||I worked in a brewery for a couple years here. I dont know if you're familiar with the local micros/craft at all but Mill st. was the name of it. Their tankhouse is my favorite of anything local.|||I am going to summon the great and powerful mr cafebot and his song of destruction. The four horseman ride. Count your days people of earth.   Intro: Nick - the INTP male - from a basement...|||This thread is obviously about the textbook definition of manliness. Ruffin it, tuffin it, and going hard in the mother fking paint.|||Stand up for yourself. You asked for the time off and it was approved. When they say, oh shit we are short staffed, where is Badgers? They figure out you asked for it off, that's why you arn't there....|||Lol excellent thread @NT the DC. I love watching baseball, and playing it. Oh and I hate the yankees. I'm 19, I've had multiple partners, I consider myself a manly man, I lift, and I am intp.   No...|||The thing with relationships is that you spend very little time in the bedroom compared to everything else. So while a dumb blonde can make you happy for 20 minutes a night, its going to take more...|||Thinking: A man plants a fruit tree because it will give him food in a few years. Feeling: A few years later a squirrel is hungry so it eats the fruit from the tree. Intuitive: The man sees his...|||Well I think you can appreciate an Einstein quote.. Everyone is a genius, but if you judge a fish on it's abiility to climb a tree it will live it's whole life believing it is stupid.  Everybody...|||Vsauce|||Real men write poetry.|||19, 6'4|||Oh and: Mountain dew releases mountain flavored Doritos locos tacos skateboards. That is all.  Also  &amp;feature=youtu.be check this out. (still...|||There's only two things I am certain of with Rusell Brand.  1. He is very heavilly extraverted. 2. He is a magical man.|||Here I am people.   |||badgers  I'm gonna make a male version intp video today.|||The creative process of intps is getting around to doing the thing and not putting it off. I think we're always ready for work provided we have sleep, and food in our stomachs.|||I may look busy, but I hear everything.|||I'm a guy but I like making videos. I'd love to be a part of this.|||Hey man, it's your life. Do or do not, there is no try.|||Yes. You know you're an intp when you have more conversations in your head than you do with real people.|||tl;dr   Yes I posted this.|||spoken like a true intp.|||If you really are bothered (and I believe you are), I think you should tell your boyfriend what you just said there.|||Morality invariably gets me talking, because it has philosophy but with tangable answers.  Other good subjects include evolution, hunter gatherer societies, political systems, good movies,...|||Hey b3th. I read your post and my immediate reaction was that your boyfriend is flipping out over something insignificant. Having trust issues is nothing to wag a finger at, but I think your idea of...|||I enjoy 9/10 of DarkBarlow 's posts. So a crush, ya maybe.|||In self defense, but then it's not really a crime.  Would you kill somebody to save 1000 people? For millions of dollars?|||\\xe2\\x80\\x9cThirty years later he could not come to any other conclusion: women  were indisputably better than men. They were gentler, more affectionate,  more loving and more compassionate, they were rarely...|||We really should make a clear-cut method of differentiating the two. Intp are lazy and useless. They do things for no reason, often with disastrous results. The basically lack the things that make...|||743177431874319|||>2013 >Not using adblocker  Ps: ask an analytical type they will tell you they want to see less advertising, not help you do it better.|||Hahahaha this.|||73701 This is now a mango thread.|||+ Chameleon skills. That thing where we can mirror the mood/personality of others.  - Chameleon skills. Makes me wonder if I'm being true to myself.|||Free for all.|||We wouldn't be human without either of them.|||Well I know 100% sure you are wrong, because I exist. But obviously I can't prove it.|||73121|||The problem is in the first word of your post, Watching the news. TV news is entertainment, not journalism.|||I resent the thought that humans are nothing but selfish creatures, when being selfless can be accomplished on a whim. Fulfillment in life often comes in the form of giving to others. And Solfonny,...|||yup basically this. lol.|||Suicide is a permanent solution to non-permanent problems.   Selfish?  -It will cause pain and burden to your family for the rest of their lives, so not thinking of them could be considered...|||Lol you're a women. That was easy.|||Seriously, a day where every intp is on adderal? We would live in utopia by noon.|||Repeat the mantra: I am self aware.|||So you reject ideas that don't come from gods?  Camus declares that humans are here, we exist, there is nothing that can change that. Now we have a choice.  1. Get pissed off, give up, or revolt,...|||What, in fact, is the Absurd Man? He who, without negating it, does nothing for the eternal. Not that nostalgia is foreign to him. But he prefers his courage and  his reasoning. The first teaches him...|||So they don't need to elbow past people in a hurry and potentially miss the train door closing. Otherwise, they want to be first off the train/bus and not get stuck behind a crowd of slow walkers. ...|||This is a loaded question.   As for me I'm 19 and still strongly believing in non-belief.      INTERNET POLICE:   RESTRAIN FROM TROLLING AT ONCE! INTP:                    I...I...CAN'T...'\"]\n",
      " ..., \n",
      " [ \"'honestly in person I've seen 5s more frequently than 6s.   The 5s are always ranting and reinforcing stereotypes. They get super uncomfortable any time you say something about them personally (even...|||elvis2010, just what I wanted to hear. You're correct, the haziness of intuition,  while a bit less hazy for us ENFJs is not the best way to make decisions.   Best way for me to describe our...|||John Francis Daley - played Sam Weir from Freaks and Geeks, and the Mitch from Waiting   Frankie Muniz - Malcolm in the Middle  Michael Cera - Arrested Development, Superbad  Jim Parsons -...|||just playin. I love you ISFPs|||Penis!!!|||Penis!!!|||I can see the attraction to an ENTJ girl with the 8/7 cause of that alpha vibe. The thing is, those women can be some baby back bitches, especially when it comes to money and ultimatums|||Glad to hear Sensational. I actually messed up the title, meant to say ENFJ, not ENF :)|||Curious cause I know y'all like current events, and I know y'all like to read news that is brief, direct and to the point. I'm actually trying to find a new outlet, something along those lines. Pls...|||I am undoubtedly an ENFJ, who would probably lay my stack in ease of communication with other types as:   INFJ>ISTP>ESTP  I'm sure its not a coincidence, considering we have the same exact...|||I am undoubtedly an ENFJ, who would probably lay my stack in ease of communication with other types as:   INFJ>ISTP>ESTP  I'm sure its not a coincidence, considering we have the same exact...|||Carbs, and most recently- chocolate milk. I've never been a milk drinker till just recently, but man oh man, something about milk just calms me the fuck down. Nothing works better than herb, but...|||No, if you're an ENFJ, your essentially an ENFJ for life.  One thing about ENFJs is their chameleon-like behavior of being friendly and charismatic around other people, even if its not how they're...|||Its called Flaked.     I've recently grown attracted to Will Arnett's silly insights, and more and more he appears like the go-to STP character I've seen in real...|||I've recently grown attracted to Will Arnett's silly insights, and more and more he appears like the go-to STP character I've seen in real life.  Anyone seen this series? Its really good. No...|||I find that my getaway is actually IN the public eye. But i'm consider myself very incognito in the sense of where I fit in in public. My best friends call me sketchy while more distant...|||Frankly I think INTJs are much more interested in ESTPs than those estps are with intjs. That being said, I think INTJs have wayyy more charisma and depth than most estps. All in all, I think INTJs...|||I''m an ENFJ. So as many of you ESTPs might imagine, I'm pretty easy to figure out, I'm occasionally clingy, easy to win over, and can talk for hours on end about basically nothing. Also really...|||My dad (ENFP) always starts these conversations with me with absolutely no context. He will actually go as far as a minute in dialogue without me having a clue as to what he's talking about because...|||So I was smoking a cigg on my balcony and dropped it. It nearly fell on this cute girl who was just sitting on the porch reading a book and enjoying her day. Fell right by her feet and she freaked...|||most the time I just go with the ol' hey YOU DONT SAY THAT|||Wow. I wanted to take your word for it when I asked, and I'm shocked. Idk, I guess I just thought I had a good grasp of SeNi and TiFe to think he would resemble any of those.   I know its never...||||||Gilly brought this up recently, how enfjs tend to be terrible at recognizing how others perceive them. I notice this in my everyday life. After some of the things I say (mainly when Im joking...|||I never really prefer to sit on the ground over a chair, but.. My little (infj) brother grew up with this weird habit of sleeping on the ground near his bed, but never on the bed. I have no...|||pardon me for skimming over this, but I see some of the same obstacles in my own life. I too highly value being around my close acquaintances. I've moved far away from my family and yet I think about...|||This is interesting. I see a huuge correlation with ESTPs and ENFJs, mainly in how we communicate. I know that when I try to speak articulately and in a sequential manner, estps almost always see my...|||Ugh this is so true.    So i was just reading a very similar thread to this in the Enneagram Type 3 forum. Seems to be a type 3 thing. We sort of have this independent till I die mentality...|||My brother-in-law ISTP. We actually became close friends for a period of time. Him being the older one (as a sort of admirable figure). All of my weaknesses seem to be the very strengths of ISTPs....|||Guys Idk why but I don't like them very much. Maybe its cause of a bad roommate experience with one. Maybe its cause Frank Gallagher from the TV series Shameless is one. Its something about how every...|||This was brought up in a subforum and too many people made comments about it. We sit weird. Lets take some pride in how we sit!  How do I sit? sometimes on one foot, sometimes on both my feet. The...|||This is SO TRUE. I tend to be a sloucher. When I stand, sometimes i peacock with one foot against my femur. Also sometimes I sit on my foot so I can sit higher in my chair :D|||Us humans are social creatures as they say. I think this rings true with ENFJs more than many other types. For instance- I can't say I've ever ended my day on a good note without having had some...|||Wow, this really blew up. Well thanks for the input y'all. This may be true in that I'm speaking mainly from an anecdotal standpoint and therefore lose all credibility. I've just noticed that over...|||I've thought about this. The thing is, my boss is a type 8 ESTP. There's still this major difference, in that ESTPs rarely rarely lose their temper. They seem to understand how things operate. While...|||Please add substance to your comment|||There's a consensus going around that Donald Trump is definitive ESTP. But this just seems way off. I want to share this in the ISTP forum because I believe Ti Ni functions extremely effective in...|||I wanted to share this in the INFJ forum because I know you guys (of all types) know how to accurately type people. There's a consensus going around that Donald Trump is definitive ESTP. But this...|||I'm a pretty big reddit fan. While the content was probably what initially reeled me in, its really the comments that keep me hooked. Everyone speaks in such a Se sort of fashion. If I were to guess,...|||HEALTHY!   No really. I want a good diet, good sleeping habits, vitality and happiness. Those are my aspirations.   Easier said than done though, especially when you're a big procrastinating ball...|||&feature=youtu.be  nuff said.|||She's the protagonist in the netflix series Shameless. Great series btw.   Could some of my NFJ peers confirm this? I've never seen a character embody the ENFJ so much as I see in her.|||Here's a big one- They lose all patience whenever they receive unfamiliar insights/criticism.   My best friend is an ESTJ. We probably get along so well because of our mutual fascination with our...|||Are you not as sociable towards people at first? Accurate. Sometimes I tend to put off this don't talk to me vibe but I think it has to do with my ego.   Take time to open up? Called reserved?...|||My best guess is Universities, coffee shops, gyms, improv/theatre joints, social clubs, bars, dance clubs, health clubs, dog parks. In careers (although I myself am an engineer) I would suspect to...|||Here's a video of what I would highly presume is an ESTJ. Nobody could say for sure what his type is, but I believe this cause I have worked with many of them in the past. More specifically what I...|||Some of you are saying i've heard of it but never tried it. Here's my thoughts:   You don't necessarily have to try it. For myself, its a subconscious guideline i've followed based on my...|||Ugh, op its such a wild coincidence that you posted this. I've actually considered posting the same topic in here.   I first heard about that movie a few years ago. Watched the first 20 or 30...|||Well i mean I would never in my life wear a v-neck, and i dont have blonde hair but the facial characteristics are disturbingly similar, so much that i almost jumped out of my chair haha. Sorry can't...|||this is really weird.. I stumbled upon one of Kalix posts after I found out I'm a 3w2 (same type), and we look almost identical. Its so creepy I'm almost speechless'\"]\n",
      " [ \"'boring|||&amp;feature=related mhm|||cap and carpenter's glasses.  48895|||the bags under my eyes disappear when i get enough sleep. then i don't feel old. the key to me not feeling old is plenty of sleep and water.   somebody better comment on my comment 'cause i'm...|||i'm obsessed with grooming and stroking my beard and, maths. by maths i mean this , this , and this  |||i like to burgle turds.  i'm a turd burglar.|||my username. i mean wtf was i thinking?!  you know that scene in Of Mice And Men where Gary Sinese tears up just before he blows Johnny Malcovich's head off? those kinds of things, where it feels...|||35053   there it is. what?!|||*feigned irony*|||I'll fap my gourd to that. ::thinks about it::|||A person posts a thread that's basically a novel attempt at resuscitating the conversation of Is the ISTP forum interesting enough to the ISTPs? Certain members intuit my intended meaning to be...|||How so, Capisum?|||Noted. You also are dismissed.|||I'm inclined to agree with your finely worded phrasings good sir. In the morrow, I will return w/a mediocre impressive list of intellectual topics for a new thread. ::adjusting monocle::|||Novel, lol.  Also, nice to meet  you.|||You're dismissed.|||(Edit)  That's quite alright, CKTofu. I wouldn't expect more from a bloke w/self proclaimed 25% Verbal/Linguistic ability. However, 10 characters?...  1. a 2. c  3. o 4. m 5. p 6. l|||I'm unhappy w/the current writing productions on the ISTP forum. Sure, there are some members who have and continue to be good contributors (me not included, given my sober but cryptic and...|||as a kid, i'd watch the never ending story over and over. i'd pause the vhs tape on the falcor scenes, where his white shimmery bulbs of flesh would shimmer on the dragons fur coat. i wanted to pop...|||want to know if someone is genuinely conveying gratitude when they say thank you? you can't. life's a bitch and then you die - Notorious B.I.G.|||novel word combination. what happens at the 100% mark?|||drunk guys and guns, SMART! XD|||you ain't so bad yourself|||you know that feeling when, no wait you're probably too busy over analyzing shit to notice it; the feeling just after you take a shit, flush, and a drip of cold water gently splashes on your keister?...|||have i been drinking. wow, you people are lame. WHERE ARE THE CRAZY FUCKS AT ON THIS WEBSITE? smh|||whad' you say, can you clean a hobo? of course you can ya dummies, all you need is dry bar of soap and your spit. just spit on the soap and rub 'till the lather dries, then keep scrubbing until he's...|||barathrum, to say i do feel for you would be a lie. i don't. having said that, read some of your posts - i like you. just for that, i'll give you a do over. no more pansy ass complaining bullshit....|||(Edit) Disclaimer: No complaining, romance, no bullshit in here okay, just be creative and write crazy shit.  Hey people, come on into the lounge... What's that greasy blood stained white thing...|||yes, when provoked. otherwise, i'm unassuming,|||That is true Roman.   None of us are saints. -Anonymous serial killer :unsure:|||Just woke up. I dreamed I was recruited as an informant to assist a couple hippie vigilantes in a fake herbal incense sting operation. It's too bad I woke up before the neighborhood smoke shop was...|||Rewritten 'sentance': Shit happens. Like this thread, for example... KIDDING.  This thread didn't do well in the ISTP forum. I wonder why?... Clarification pls.|||Where's the edit and delete button when you need them?! Somehow during the re-editing of my post I rearranged the content causing a shit ton of grammatical errors... so much for appearing to write...|||Dunno about these lists, but everybody I know says I'm a slick mo'fucka.|||On the right fella, cowboy boots look fuckin' cool!|||The radiological technology program here is 2 years plus residency (?) to get certification. Truthfully, I chose said path last year. -a bit unchallenging though.|||Yep, one of those... Which ever option provides the better career path.|||I take it you're implying that your post is leaning toward 'extraneous' anyhow, right? Go ahead, delete it. Move your tips, click the button, delete it, all done. :laughing:  (Edit)   Btw, where...|||Lol. The title of the threads on this website amuse me. :crazy:  Such a contrast from INTP central.|||Nah, I was being intentionally vague. School is boring to me, as such I wouldn't wonna bore you all with every detail about my major, the title of it, etc. lol    Neato, whatcha gonna do with...|||Neato, whatcha gonna do with it?|||Thread title reads Famous ISTPs, but its contents include fictional characters, duplicate Fictional ISTP thread?   As for infamous ISTPs, I choose Me, Lazy Gourd 'n Extremities. :cool:|||Are you talking to me? Haha, too funny! If you're talking to me then yeah, my post read as a pretty corny scenario. But I'm more attentive and charming in real life. It's just that particular lady...|||What is my sense of humor? Here...   FREAKS!! :crazy:|||When I think of romantic comedies I'm reminded of actor Ryan Reynolds. Hollywood's likeable cool guy with this terribly smarmish brand of comedy. I dunno why, but some women love that shit :crazy:|||Here's a typical exchange between myself and this cutie INTP female whom I have a friendship/sexual arrangement with.  Me: Hey, want me to cook dinner for us?  Her: (Convoluted minutia that means...|||Blah blah blah... the other members will sort you out.   Kudos on the avatar.:crazy:|||I love it.|||While I type as ISTP, my functions measure out relatively balanced. College, intellectual hobbies, etc., have done wonders for me in the self-improvement of inferior functions domain.|||I prefer the one-sided smile :wink:, but I also posses an inventory of symmetrical facial expressions to indicate pleasure, favor, amusement and negative emotion as well. -more suitable appearance in...'\"]\n",
      " [ \"'Thank you for posting this! It's very much to the point, as well as helpful.|||Hey everyone! I've been having a hard time finding my place in the world, to say the least. And it might help to get everyone's opinion on this.   I've always been told/pressured to be something...|||I don't think I'm lazy, and the only thing I really procrastinate on is school work. But I think this is just because I feel like I'm being forced to do something, rather than something I want to do...|||I'm always second guessing myself, but I have been getting myself to make tentative decisions, so that I don't stay in perpetual indecision and drive myself crazy.|||I like drinking and popping fireworks.|||Putting off an online test that's due midnight Pacific time|||Career paths taken:  1) Cashier (fast food & retail)  2) Exotic Dancer                                                       3) Waitress  4) Bartender|||My new year's resolution is to lose all my pregnancy weight and file for graduation in the summer.  To lose the weight, I'll be sticking to my diet that works for me (went back on it yesterday)....|||Dad: ISTJ  Mom: ISFJ  Brother: ESTP  Sister: ESFJ  It's really fun being the only intuitive.... NOT|||Well, I really didn't realize that I got with my exes out of convenience in the first place. I just know this after a lot of reading and soul searching years later. Hind sight is 20/20. I didn't...|||Nevermind...|||Yes, we really do love. I know I love my son for sure. But I think I can relate to the emotional convenience thing. I found out months ago, from reading articles, that I had married my ex husband out...|||I've been really wanting to ask this question, so here goes. What am I supposed to make of ENTJs staring at me as if they know me, or as if I was some sort of big time celebrity? That's the best I...|||You and me both, at least until work and school come back in full swing next month for me.|||What things do you value in life?|||I'm an INTP and below are things that are not in line with the descriptions/stereotypes of us:   1) I sure don't mind doing ordinary domestic stuff like cooking, cleaning, laundry, etc.   2) Have...|||To go back to being petite again.|||I do feel very much at ease with ENTPs generally. However, I'm not necessarily looking for easy. In fact, I have a very serious Ti agenda. If say I met an ENTJ microbiologist who's spent some time...|||Actually, I wasn't implying that this is an ENTJ thing. I said that i attract ENTJs and ENTPs. So that's pretty much what I have to work with. Just wanted to see if there was somewhat of a consensus,...|||This question popped up in my mind after seeing a few posts by ENTJs on various sites on the internet saying/implying they didn't like women with children. Is that a sentiment that a majority of ENTJ...|||A suitable partner and two more children.|||I get different reactions from different people, depending on type/temperament/gender. A lot of women don't like me upon seeing me, except for ENTPs, ESFPs & at least some ISFJs. The common ground I...|||Hello. I'm a Christian too. I hope that learning about your Type will help you loads, like it has for me.|||I used to smoke; did it because I caved into peer pressure. It was simple as that.|||I have found NTJs to appear judgemental in a moral sense, if that's the right word for it. Like for instance, I told an ENTJ male how I was gay but was always in heterosexual relationships, including...|||I've been spending the past day or so trying to plan out what minors/classes I will be picking out for my Interdisciplinary degree. After looking through the social sciences at the university I want...|||I can't help but think that I must be a very different sort of INTP. I'm not condescending. I just used to make sarcastic comments here and there when I'd get annoyed/angry at someone when I was...|||I can't imagine myself walking into anyone's office without a reason...|||Theoretically, INFJs and INTPs are supposed to be a pretty good match because both happen to share Ti and Fe in their functional stack, which lends itself to having somewhat similar world views. In...|||I'd agree with everything said about INTPs, except Always prepare for a debate over nothing. If I disagree with something, it's spur of the moment. In fact, I don't really like preparing for...|||Well, the bit more part is in regards to expressing myself on here, in order to help me peer into myself and discover things about myself that might help me out with every aspect of my life. For...|||I realize I can do that, and I have given that considerable thought in the past. But the thing is.... I've always been sexually attracted to women; however, I don't have the attachment/feelings for...|||PerC and other sites like this one helps me with some of all that and a bit more.|||I don't have a problem with having sex. I know that sex comes with the territory. I've been in heterosexual relationships before, including marriage. However, now I'm very aware that I'm not...|||Would it really bother you guys if your wife or life partner wasn't attracted to men, but wanted to be with you and have a family together anyway?|||The single worst beating I ever received from my ISTJ father was when he had me lay down on the bed face down. He took a plunger and with the wooden handle, proceeded to bash me up and down, from...|||Way more men than women have been drawn to interact with me. But after I had my kid, I started having more things to talk about with other females.|||I could never stick with anyone and they all happened to be sensors (ESFJ, ISFJ, and ESTP). That doesn't even include the tons of guys I've been on dates with. So I haven't been with anyone or even...|||You can find me at work, school, gym (not consistently), briefly shopping for my son & me, taking him to buffet and/or video game places, natural science/health/children's museums. I guess I just do...|||I'm feeling pretty good this morning. I have my 5 year old son and niece with me and working towards my future goals.|||I spent a lot of time in my head. When I did come out to play, I would play video games, watch scary movies, and explore the woods a lot with my childhood friends and brother.|||Cerebral|||Yes, I can say that my inferior Fe prevents me from doing certain things because of the reaction I might get. For example, I stopped cleaning my mom's kitchen when I was growing up because I knew...|||I tend to have a live and let live attitude towards others. Ideally, I want to get along with everyone else. However, I find that ISTJs really have it in for me. Sometimes ESFJs don't like me right...||||||I should of thought of that.... simple yet profound.... lol|||How do I talk to my parents about being safe when children are around. I have a very hard time trying to talk to them about doing things like keeping the handle of a frying pan full of hot oil from...|||If she's really an INTP, she sounds as though she's a bit unbalanced. When I was younger, I was told that I wore my heart on my sleeve. And in hind sight, I see that my bipolar relationship with my...|||Turkey, brown sugar-glazed ham, rolls, spinach, green bean & cheddar/bacon/potato casseroles, plus stuffing. I guess your typical turkey day meal. Feelin pretty fat right now!  Oh! Also, I couldn't...|||The jobs I've worked didn't require me to bring my work home with me. So school definitely is more time consuming out of the two. I take school over any of the jobs I've had. It's the only...'\"]]\n"
     ]
    }
   ],
   "source": [
    "test_post_array = testset_posts_only.values\n",
    "print(test_post_array)"
   ]
  },
  {
   "cell_type": "markdown",
   "metadata": {},
   "source": [
    "LABEL NUMBER TEST : Dataframe of only numerical type value of testset "
   ]
  },
  {
   "cell_type": "code",
   "execution_count": 28,
   "metadata": {
    "scrolled": true
   },
   "outputs": [
    {
     "name": "stdout",
     "output_type": "stream",
     "text": [
      "      type\n",
      "8548     3\n",
      "4553     3\n",
      "8672     3\n",
      "4488     7\n",
      "7025     9\n",
      "7128     1\n",
      "5249     4\n",
      "2972     1\n",
      "119      8\n",
      "5149     7\n",
      "965      7\n",
      "5388     1\n",
      "5479     3\n",
      "5250     1\n",
      "1900     2\n",
      "6147     7\n",
      "5660    15\n",
      "5092     7\n",
      "1237     1\n",
      "4104     7\n",
      "8087     7\n",
      "3284     3\n",
      "1732     7\n",
      "403      9\n",
      "7611     1\n",
      "908      2\n",
      "1243     3\n",
      "5052     1\n",
      "6181     7\n",
      "5818     2\n",
      "...    ...\n",
      "5125     7\n",
      "4147     3\n",
      "4214     9\n",
      "4072     8\n",
      "7858     1\n",
      "4958     6\n",
      "4135     2\n",
      "7329    14\n",
      "6098     8\n",
      "738      8\n",
      "2852     7\n",
      "6529     3\n",
      "2412     7\n",
      "7935     7\n",
      "6759    13\n",
      "3439     1\n",
      "6516     7\n",
      "7788     4\n",
      "3816    10\n",
      "2665     9\n",
      "1372     1\n",
      "6654     4\n",
      "186      4\n",
      "2194     2\n",
      "5158    11\n",
      "934      7\n",
      "1093     6\n",
      "3712     6\n",
      "4233    10\n",
      "3267     3\n",
      "\n",
      "[2169 rows x 1 columns]\n"
     ]
    }
   ],
   "source": [
    "testset_type_num_only = pd.DataFrame(data=testset_type_num['type'])\n",
    "print(testset_type_num_only)"
   ]
  },
  {
   "cell_type": "code",
   "execution_count": 49,
   "metadata": {},
   "outputs": [
    {
     "name": "stdout",
     "output_type": "stream",
     "text": [
      "[[ 3]\n",
      " [ 3]\n",
      " [ 3]\n",
      " ..., \n",
      " [ 6]\n",
      " [10]\n",
      " [ 3]]\n"
     ]
    },
    {
     "data": {
      "text/plain": [
       "(2169L, 1L)"
      ]
     },
     "execution_count": 49,
     "metadata": {},
     "output_type": "execute_result"
    }
   ],
   "source": [
    "#test set type column only\n",
    "df_test = testset_type_num_only.values\n",
    "print(df_test)\n",
    "df_test.shape"
   ]
  },
  {
   "cell_type": "markdown",
   "metadata": {},
   "source": [
    "### Vectorization using CountVectorizer of scikit-learn"
   ]
  },
  {
   "cell_type": "markdown",
   "metadata": {},
   "source": [
    "CountVectorizer is doing in a single class the (1) tokenization and the (2) count occurences"
   ]
  },
  {
   "cell_type": "markdown",
   "metadata": {},
   "source": [
    "For train"
   ]
  },
  {
   "cell_type": "code",
   "execution_count": 29,
   "metadata": {
    "collapsed": true
   },
   "outputs": [],
   "source": [
    "train_for_vec = trainset\n",
    "from sklearn.feature_extraction.text import CountVectorizer\n",
    "count_vect = CountVectorizer()\n",
    "train_counts = count_vect.fit_transform(train_for_vec['posts'])"
   ]
  },
  {
   "cell_type": "markdown",
   "metadata": {},
   "source": [
    "For test"
   ]
  },
  {
   "cell_type": "code",
   "execution_count": 30,
   "metadata": {
    "collapsed": true
   },
   "outputs": [],
   "source": [
    "test_counts = count_vect.transform(testset['posts'])"
   ]
  },
  {
   "cell_type": "code",
   "execution_count": 31,
   "metadata": {},
   "outputs": [
    {
     "data": {
      "text/plain": [
       "(6506, 94411)"
      ]
     },
     "execution_count": 31,
     "metadata": {},
     "output_type": "execute_result"
    }
   ],
   "source": [
    "train_counts.shape"
   ]
  },
  {
   "cell_type": "code",
   "execution_count": 32,
   "metadata": {},
   "outputs": [
    {
     "data": {
      "text/plain": [
       "(2169, 94411)"
      ]
     },
     "execution_count": 32,
     "metadata": {},
     "output_type": "execute_result"
    }
   ],
   "source": [
    "test_counts.shape"
   ]
  },
  {
   "cell_type": "markdown",
   "metadata": {},
   "source": [
    "It's give us two sparce matrix: one of 6506 x 94411 (for train) with 614 237 966 elements (zero include as we can see bellow) and one of 2169 x 94411 (for test) with 204 777 459 elements (zero include as we can see bellow)."
   ]
  },
  {
   "cell_type": "code",
   "execution_count": 33,
   "metadata": {},
   "outputs": [
    {
     "data": {
      "text/plain": [
       "array([[0, 0, 0, ..., 0, 0, 0],\n",
       "       [0, 1, 0, ..., 0, 0, 0],\n",
       "       [0, 0, 0, ..., 0, 0, 0],\n",
       "       ..., \n",
       "       [0, 0, 0, ..., 0, 0, 0],\n",
       "       [0, 0, 0, ..., 0, 0, 0],\n",
       "       [0, 0, 0, ..., 0, 0, 0]], dtype=int64)"
      ]
     },
     "execution_count": 33,
     "metadata": {},
     "output_type": "execute_result"
    }
   ],
   "source": [
    "train_counts.toarray()"
   ]
  },
  {
   "cell_type": "code",
   "execution_count": 34,
   "metadata": {},
   "outputs": [
    {
     "data": {
      "text/plain": [
       "array([[0, 0, 0, ..., 0, 0, 0],\n",
       "       [0, 0, 0, ..., 0, 0, 0],\n",
       "       [0, 0, 0, ..., 0, 0, 0],\n",
       "       ..., \n",
       "       [0, 0, 0, ..., 0, 0, 0],\n",
       "       [0, 0, 0, ..., 0, 0, 0],\n",
       "       [0, 0, 0, ..., 0, 0, 0]], dtype=int64)"
      ]
     },
     "execution_count": 34,
     "metadata": {},
     "output_type": "execute_result"
    }
   ],
   "source": [
    "test_counts.toarray()"
   ]
  },
  {
   "cell_type": "code",
   "execution_count": 35,
   "metadata": {
    "scrolled": true
   },
   "outputs": [
    {
     "name": "stdout",
     "output_type": "stream",
     "text": [
      "  (0, 19017)\t1\n",
      "  (0, 66360)\t1\n",
      "  (0, 69425)\t1\n",
      "  (0, 56876)\t1\n",
      "  (0, 53275)\t1\n",
      "  (0, 85356)\t1\n",
      "  (0, 78071)\t1\n",
      "  (0, 10967)\t1\n",
      "  (0, 72281)\t1\n",
      "  (0, 56702)\t1\n",
      "  (0, 31096)\t1\n",
      "  (0, 91886)\t1\n",
      "  (0, 76206)\t1\n",
      "  (0, 147)\t1\n",
      "  (0, 88807)\t1\n",
      "  (0, 33116)\t1\n",
      "  (0, 2405)\t1\n",
      "  (0, 2365)\t1\n",
      "  (0, 21019)\t1\n",
      "  (0, 2383)\t1\n",
      "  (0, 2350)\t1\n",
      "  (0, 3202)\t1\n",
      "  (0, 88272)\t1\n",
      "  (0, 114)\t1\n",
      "  (0, 88859)\t1\n",
      "  :\t:\n",
      "  (6505, 41113)\t1\n",
      "  (6505, 52870)\t2\n",
      "  (6505, 13766)\t7\n",
      "  (6505, 47724)\t4\n",
      "  (6505, 11180)\t3\n",
      "  (6505, 71610)\t1\n",
      "  (6505, 11551)\t1\n",
      "  (6505, 10037)\t17\n",
      "  (6505, 91001)\t1\n",
      "  (6505, 12907)\t1\n",
      "  (6505, 91695)\t5\n",
      "  (6505, 17234)\t5\n",
      "  (6505, 32077)\t1\n",
      "  (6505, 46205)\t10\n",
      "  (6505, 46378)\t4\n",
      "  (6505, 33154)\t1\n",
      "  (6505, 83288)\t12\n",
      "  (6505, 43368)\t3\n",
      "  (6505, 92119)\t1\n",
      "  (6505, 44008)\t8\n",
      "  (6505, 84459)\t12\n",
      "  (6505, 90174)\t3\n",
      "  (6505, 93474)\t5\n",
      "  (6505, 83325)\t17\n",
      "  (6505, 91253)\t1\n"
     ]
    }
   ],
   "source": [
    "print(train_counts)"
   ]
  },
  {
   "cell_type": "code",
   "execution_count": 36,
   "metadata": {
    "scrolled": true
   },
   "outputs": [
    {
     "name": "stdout",
     "output_type": "stream",
     "text": [
      "  (0, 147)\t1\n",
      "  (0, 1626)\t1\n",
      "  (0, 3461)\t1\n",
      "  (0, 4110)\t1\n",
      "  (0, 6369)\t1\n",
      "  (0, 6778)\t1\n",
      "  (0, 7527)\t5\n",
      "  (0, 7616)\t1\n",
      "  (0, 7625)\t1\n",
      "  (0, 7775)\t2\n",
      "  (0, 7985)\t1\n",
      "  (0, 7988)\t1\n",
      "  (0, 8108)\t2\n",
      "  (0, 8595)\t1\n",
      "  (0, 8703)\t1\n",
      "  (0, 9323)\t2\n",
      "  (0, 9916)\t8\n",
      "  (0, 9972)\t1\n",
      "  (0, 10037)\t27\n",
      "  (0, 10588)\t4\n",
      "  (0, 10820)\t1\n",
      "  (0, 10832)\t1\n",
      "  (0, 10890)\t1\n",
      "  (0, 10938)\t1\n",
      "  (0, 11180)\t26\n",
      "  :\t:\n",
      "  (2168, 91152)\t1\n",
      "  (2168, 91337)\t1\n",
      "  (2168, 91428)\t2\n",
      "  (2168, 91695)\t23\n",
      "  (2168, 91721)\t1\n",
      "  (2168, 91879)\t4\n",
      "  (2168, 91942)\t1\n",
      "  (2168, 91953)\t1\n",
      "  (2168, 92037)\t1\n",
      "  (2168, 92059)\t1\n",
      "  (2168, 92065)\t5\n",
      "  (2168, 92080)\t1\n",
      "  (2168, 92092)\t1\n",
      "  (2168, 92106)\t1\n",
      "  (2168, 92119)\t2\n",
      "  (2168, 92177)\t1\n",
      "  (2168, 92199)\t2\n",
      "  (2168, 93145)\t2\n",
      "  (2168, 93160)\t1\n",
      "  (2168, 93279)\t2\n",
      "  (2168, 93302)\t1\n",
      "  (2168, 93313)\t1\n",
      "  (2168, 93474)\t7\n",
      "  (2168, 93506)\t1\n",
      "  (2168, 93523)\t3\n"
     ]
    }
   ],
   "source": [
    "print(test_counts)"
   ]
  },
  {
   "cell_type": "code",
   "execution_count": 37,
   "metadata": {},
   "outputs": [
    {
     "data": {
      "text/plain": [
       "23293"
      ]
     },
     "execution_count": 37,
     "metadata": {},
     "output_type": "execute_result"
    }
   ],
   "source": [
    "count_vect.vocabulary_.get('crazy')"
   ]
  },
  {
   "cell_type": "markdown",
   "metadata": {},
   "source": [
    "Here an example, we have 23411 occurences of the word \"crazy\" in the posts. "
   ]
  },
  {
   "cell_type": "markdown",
   "metadata": {},
   "source": [
    "Now we have (1) tokenize the posts content and (2) count the words occurencies, but it's better to work with frequencies."
   ]
  },
  {
   "cell_type": "markdown",
   "metadata": {},
   "source": [
    "Currently we are using only dictionnary of 1-grams (individual words) because default value for the function CountVectorizer() is ngram_range=(1, 1). But we can take 2-grams (using parameter ngram_range=(1, 2) in the function) if we want to enrich the dictionnary (we have also group of two words), but it also taking much more place. So I will choose for the moment to use only 1-gram (and maybe enrich later if necessary)."
   ]
  },
  {
   "cell_type": "markdown",
   "metadata": {},
   "source": [
    "### TF-IDF"
   ]
  },
  {
   "cell_type": "markdown",
   "metadata": {},
   "source": [
    "To avoid space stockage issues, I will use the TF-IDF (term frequency-inverse document frequency) methods, which will allow for example (1:tf) to devide each occurences of a word in a post by total number of words in this post (that give new features names tf). This method also allow (2:tf-idf) to give less weight (importance) on words which appear in many posts of the corpus and automatically that give less information than words that appear in a less sample of posts."
   ]
  },
  {
   "cell_type": "markdown",
   "metadata": {},
   "source": [
    "$ tfidf(t,d) = tf(t,d) * idf(t) $"
   ]
  },
  {
   "cell_type": "code",
   "execution_count": 41,
   "metadata": {},
   "outputs": [
    {
     "data": {
      "text/plain": [
       "(6506, 94411)"
      ]
     },
     "execution_count": 41,
     "metadata": {},
     "output_type": "execute_result"
    }
   ],
   "source": [
    "from sklearn.feature_extraction.text import TfidfTransformer\n",
    "tfidf_transformer = TfidfTransformer()\n",
    "train_tfidf = tfidf_transformer.fit_transform(train_counts)\n",
    "train_tfidf.shape"
   ]
  },
  {
   "cell_type": "markdown",
   "metadata": {},
   "source": [
    "With the function \"fit_tranform()\" we are doing in one time the fit() which fit the estimator to data (1:tf) and the transform() which transform the matrix of occurences (data_counts) in tf-idf matrix with frequencies (2:tf-idf)."
   ]
  },
  {
   "cell_type": "code",
   "execution_count": 42,
   "metadata": {},
   "outputs": [
    {
     "data": {
      "text/plain": [
       "(2169, 94411)"
      ]
     },
     "execution_count": 42,
     "metadata": {},
     "output_type": "execute_result"
    }
   ],
   "source": [
    "test_tfidf = tfidf_transformer.transform(test_counts)\n",
    "test_tfidf.shape"
   ]
  },
  {
   "cell_type": "markdown",
   "metadata": {},
   "source": [
    "To fit in the model the matrix test and train tf-idf need to be same dimention (94411)"
   ]
  },
  {
   "cell_type": "markdown",
   "metadata": {},
   "source": [
    "## Models "
   ]
  },
  {
   "cell_type": "markdown",
   "metadata": {},
   "source": [
    "### Training a classifier"
   ]
  },
  {
   "cell_type": "markdown",
   "metadata": {},
   "source": [
    "Now we are training a classifier using all those features to classify posts. We will use a basic Naive Bayes classifier from  named MultinomialNB also provided by scikit-learn."
   ]
  },
  {
   "cell_type": "code",
   "execution_count": 47,
   "metadata": {},
   "outputs": [],
   "source": [
    "from sklearn.naive_bayes import MultinomialNB\n",
    "cl = MultinomialNB().fit(train_tfidf, df)"
   ]
  },
  {
   "cell_type": "markdown",
   "metadata": {},
   "source": [
    "I could also use a Pipeline to do faster and easier the Vectorization, Tf-idf and the classifier, using scikit-learn class sklearn.pipeline. It could be an improvement for later."
   ]
  },
  {
   "cell_type": "markdown",
   "metadata": {},
   "source": [
    "### Test of the model performance on testset"
   ]
  },
  {
   "cell_type": "markdown",
   "metadata": {},
   "source": [
    "Construct a class prediction for tf-idf matrix of test"
   ]
  },
  {
   "cell_type": "code",
   "execution_count": 48,
   "metadata": {},
   "outputs": [],
   "source": [
    "predicted = cl.predict(test_tfidf)"
   ]
  },
  {
   "cell_type": "markdown",
   "metadata": {},
   "source": [
    "Now we are calculating the prediction accuracy using metrix from scikit-learn"
   ]
  },
  {
   "cell_type": "code",
   "execution_count": 50,
   "metadata": {},
   "outputs": [
    {
     "data": {
      "text/plain": [
       "0.20470262793914246"
      ]
     },
     "execution_count": 50,
     "metadata": {},
     "output_type": "execute_result"
    }
   ],
   "source": [
    "from sklearn import metrics\n",
    "metrics.accuracy_score(df_test, predicted)"
   ]
  },
  {
   "cell_type": "markdown",
   "metadata": {},
   "source": [
    "I have now the accuracy of the first results, which is pretty bad: only 20% of the posts are well classify (associated to the good MBTI type)."
   ]
  },
  {
   "cell_type": "code",
   "execution_count": null,
   "metadata": {
    "collapsed": true
   },
   "outputs": [],
   "source": []
  }
 ],
 "metadata": {
  "kernelspec": {
   "display_name": "Python 2",
   "language": "python",
   "name": "python2"
  },
  "language_info": {
   "codemirror_mode": {
    "name": "ipython",
    "version": 2
   },
   "file_extension": ".py",
   "mimetype": "text/x-python",
   "name": "python",
   "nbconvert_exporter": "python",
   "pygments_lexer": "ipython2",
   "version": "2.7.13"
  }
 },
 "nbformat": 4,
 "nbformat_minor": 2
}
