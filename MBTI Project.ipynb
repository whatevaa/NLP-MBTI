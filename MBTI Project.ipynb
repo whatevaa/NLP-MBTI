{
 "cells": [
  {
   "cell_type": "markdown",
   "metadata": {},
   "source": [
    "# Project MBTI"
   ]
  },
  {
   "cell_type": "markdown",
   "metadata": {},
   "source": [
    "Create a model to predict MBTI personality types from posts"
   ]
  },
  {
   "cell_type": "markdown",
   "metadata": {},
   "source": [
    "Data format:\n",
    "    =>type (string): MBTI types\n",
    "    =>posts (string): text posts "
   ]
  },
  {
   "cell_type": "markdown",
   "metadata": {},
   "source": [
    "## Data exploration"
   ]
  },
  {
   "cell_type": "code",
   "execution_count": 1,
   "metadata": {
    "collapsed": true
   },
   "outputs": [],
   "source": [
    "import numpy as np\n",
    "import csv\n",
    "import pandas as pd"
   ]
  },
  {
   "cell_type": "markdown",
   "metadata": {},
   "source": [
    "Load with panda read_csv to avoid delimiter problem between header and data"
   ]
  },
  {
   "cell_type": "code",
   "execution_count": 2,
   "metadata": {
    "collapsed": true,
    "scrolled": true
   },
   "outputs": [],
   "source": [
    "data2 = pd.read_csv(\"C:\\Users\\Gwen\\MBTI\\mbti_1.csv\", header =0)"
   ]
  },
  {
   "cell_type": "code",
   "execution_count": 3,
   "metadata": {
    "scrolled": true
   },
   "outputs": [
    {
     "name": "stdout",
     "output_type": "stream",
     "text": [
      "      type                                              posts\n",
      "0     INFJ  'http://www.youtube.com/watch?v=qsXHcwe3krw|||...\n",
      "1     ENTP  'I'm finding the lack of me in these posts ver...\n",
      "2     INTP  'Good one  _____   https://www.youtube.com/wat...\n",
      "3     INTJ  'Dear INTP,   I enjoyed our conversation the o...\n",
      "4     ENTJ  'You're fired.|||That's another silly misconce...\n",
      "5     INTJ  '18/37 @.@|||Science  is not perfect. No scien...\n",
      "6     INFJ  'No, I can't draw on my own nails (haha). Thos...\n",
      "7     INTJ  'I tend to build up a collection of things on ...\n",
      "8     INFJ  I'm not sure, that's a good question. The dist...\n",
      "9     INTP  'https://www.youtube.com/watch?v=w8-egj0y8Qs||...\n",
      "10    INFJ  'One time my parents were fighting over my dad...\n",
      "11    ENFJ  'https://www.youtube.com/watch?v=PLAaiKvHvZs||...\n",
      "12    INFJ  'Joe santagato - ENTP|||ENFJ or  ENTP?   I'm n...\n",
      "13    INTJ  'Fair enough, if that's how you want to look a...\n",
      "14    INTP  'Basically this...  https://youtu.be/1pH5c1Jkh...\n",
      "15    INTP  'Your comment screams INTJ, bro. Especially th...\n",
      "16    INFJ  'some of these both excite and calm me:  BUTTS...\n",
      "17    INFP  'I think we do agree. I personally don't consi...\n",
      "18    INFJ  'I fully believe in the power of being a prote...\n",
      "19    INFP  'That's normal, it happens also to me. If I am...\n",
      "20    INTP  'Steve Job's was recognized for his striving f...\n",
      "21    INFJ  'It is very annoying to be misinterpreted. Esp...\n",
      "22    ENTJ  'Now I'm interested. But too lazy to go resear...\n",
      "23    INFP  '45016 urh sorry uh. couldn't resist.|||all of...\n",
      "24    ENTJ  'Still going strong at just over the two year ...\n",
      "25    INFP  'Personally, I was thinking this would be more...\n",
      "26    ENFP  'He doesn't want to go on the trip without me,...\n",
      "27    ISFP  'They paint without numbers|||I'd guess at ist...\n",
      "28    INFP  'Basically, my main questions are : What do yo...\n",
      "29    INFJ  'I think that that can absolutely be true of i...\n",
      "...    ...                                                ...\n",
      "8645  INFJ  'I play cello, and I'm also a classically trai...\n",
      "8646  INFP  Its more or less based on how YOU experienced ...\n",
      "8647  INTP  Socionics picked up on this.  They call it vis...\n",
      "8648  INFP  'Good advice, thank you.|||I am in a tough sit...\n",
      "8649  INFP  https://www.youtube.com/watch?v=nPDusM-75FE  e...\n",
      "8650  INFJ  'I think the real question is whether INFJs ca...\n",
      "8651  ISTP  '-Being alone -Being insensitive  -Over thinki...\n",
      "8652  ISFJ  'Being assertive and standing up for myself is...\n",
      "8653  INFP  'You should do whatever it is you want. If you...\n",
      "8654  ISTJ  'Assuming I had a hand in it, I always at leas...\n",
      "8655  INFJ  'I find that poster and your facial expression...\n",
      "8656  INFJ  Rim  In some approximate order, it seems like ...\n",
      "8657  INTJ  Social  1) Generally, I positively associate w...\n",
      "8658  ESFJ  'Don't worry, I do that too when a car comes c...\n",
      "8659  ENFP  'leoni I had really bad social anxiety until I...\n",
      "8660  INFP  'I love the vastness of the sky, because my pr...\n",
      "8661  ENTP  '**haven't logged in and read posts for over 6...\n",
      "8662  INTJ  'I can't say I have any one specific belief. I...\n",
      "8663  INTP  'doesn't matter, you don't have a choice, Elec...\n",
      "8664  INTP  'https://www.youtube.com/watch?v=7zsMdi714mI||...\n",
      "8665  ENTP  'This test wasn't even close on my gender, age...\n",
      "8666  INTJ  'Highly recommend this to those who wants to t...\n",
      "8667  ENTP  'I think generally people experience post trau...\n",
      "8668  INTJ  'Here's a planned stress relieving activity th...\n",
      "8669  INFJ  'I'm not sure about a method for picking out I...\n",
      "8670  ISFP  'https://www.youtube.com/watch?v=t8edHB_h908||...\n",
      "8671  ENFP  'So...if this thread already exists someplace ...\n",
      "8672  INTP  'So many questions when i do these things.  I ...\n",
      "8673  INFP  'I am very conflicted right now when it comes ...\n",
      "8674  INFP  'It has been too long since I have been on per...\n",
      "\n",
      "[8675 rows x 2 columns]\n"
     ]
    }
   ],
   "source": [
    "print (data2)"
   ]
  },
  {
   "cell_type": "markdown",
   "metadata": {},
   "source": [
    "Test columns"
   ]
  },
  {
   "cell_type": "code",
   "execution_count": 4,
   "metadata": {},
   "outputs": [
    {
     "data": {
      "text/plain": [
       "Index([u'type', u'posts'], dtype='object')"
      ]
     },
     "execution_count": 4,
     "metadata": {},
     "output_type": "execute_result"
    }
   ],
   "source": [
    "data2.columns"
   ]
  },
  {
   "cell_type": "code",
   "execution_count": 5,
   "metadata": {},
   "outputs": [
    {
     "data": {
      "text/html": [
       "<div>\n",
       "<style>\n",
       "    .dataframe thead tr:only-child th {\n",
       "        text-align: right;\n",
       "    }\n",
       "\n",
       "    .dataframe thead th {\n",
       "        text-align: left;\n",
       "    }\n",
       "\n",
       "    .dataframe tbody tr th {\n",
       "        vertical-align: top;\n",
       "    }\n",
       "</style>\n",
       "<table border=\"1\" class=\"dataframe\">\n",
       "  <thead>\n",
       "    <tr style=\"text-align: right;\">\n",
       "      <th></th>\n",
       "      <th>type</th>\n",
       "      <th>posts</th>\n",
       "    </tr>\n",
       "  </thead>\n",
       "  <tbody>\n",
       "  </tbody>\n",
       "</table>\n",
       "</div>"
      ],
      "text/plain": [
       "Empty DataFrame\n",
       "Columns: [type, posts]\n",
       "Index: []"
      ]
     },
     "execution_count": 5,
     "metadata": {},
     "output_type": "execute_result"
    }
   ],
   "source": [
    "data2[:0]"
   ]
  },
  {
   "cell_type": "markdown",
   "metadata": {},
   "source": [
    "Overview of the dataset"
   ]
  },
  {
   "cell_type": "code",
   "execution_count": 6,
   "metadata": {},
   "outputs": [
    {
     "name": "stdout",
     "output_type": "stream",
     "text": [
      "(8675, 2)\n"
     ]
    }
   ],
   "source": [
    "print(data2.shape)"
   ]
  },
  {
   "cell_type": "markdown",
   "metadata": {},
   "source": [
    "We have 8675 raws and 2 columns, which correspond to the dataset in input."
   ]
  },
  {
   "cell_type": "markdown",
   "metadata": {},
   "source": [
    "### Frequence of each MBTI type in the dataset"
   ]
  },
  {
   "cell_type": "code",
   "execution_count": 7,
   "metadata": {
    "scrolled": true
   },
   "outputs": [
    {
     "data": {
      "text/html": [
       "<div>\n",
       "<style>\n",
       "    .dataframe thead tr:only-child th {\n",
       "        text-align: right;\n",
       "    }\n",
       "\n",
       "    .dataframe thead th {\n",
       "        text-align: left;\n",
       "    }\n",
       "\n",
       "    .dataframe tbody tr th {\n",
       "        vertical-align: top;\n",
       "    }\n",
       "</style>\n",
       "<table border=\"1\" class=\"dataframe\">\n",
       "  <thead>\n",
       "    <tr style=\"text-align: right;\">\n",
       "      <th></th>\n",
       "      <th>posts</th>\n",
       "    </tr>\n",
       "    <tr>\n",
       "      <th>type</th>\n",
       "      <th></th>\n",
       "    </tr>\n",
       "  </thead>\n",
       "  <tbody>\n",
       "    <tr>\n",
       "      <th>ENFJ</th>\n",
       "      <td>190</td>\n",
       "    </tr>\n",
       "    <tr>\n",
       "      <th>ENFP</th>\n",
       "      <td>675</td>\n",
       "    </tr>\n",
       "    <tr>\n",
       "      <th>ENTJ</th>\n",
       "      <td>231</td>\n",
       "    </tr>\n",
       "    <tr>\n",
       "      <th>ENTP</th>\n",
       "      <td>685</td>\n",
       "    </tr>\n",
       "    <tr>\n",
       "      <th>ESFJ</th>\n",
       "      <td>42</td>\n",
       "    </tr>\n",
       "    <tr>\n",
       "      <th>ESFP</th>\n",
       "      <td>48</td>\n",
       "    </tr>\n",
       "    <tr>\n",
       "      <th>ESTJ</th>\n",
       "      <td>39</td>\n",
       "    </tr>\n",
       "    <tr>\n",
       "      <th>ESTP</th>\n",
       "      <td>89</td>\n",
       "    </tr>\n",
       "    <tr>\n",
       "      <th>INFJ</th>\n",
       "      <td>1470</td>\n",
       "    </tr>\n",
       "    <tr>\n",
       "      <th>INFP</th>\n",
       "      <td>1832</td>\n",
       "    </tr>\n",
       "    <tr>\n",
       "      <th>INTJ</th>\n",
       "      <td>1091</td>\n",
       "    </tr>\n",
       "    <tr>\n",
       "      <th>INTP</th>\n",
       "      <td>1304</td>\n",
       "    </tr>\n",
       "    <tr>\n",
       "      <th>ISFJ</th>\n",
       "      <td>166</td>\n",
       "    </tr>\n",
       "    <tr>\n",
       "      <th>ISFP</th>\n",
       "      <td>271</td>\n",
       "    </tr>\n",
       "    <tr>\n",
       "      <th>ISTJ</th>\n",
       "      <td>205</td>\n",
       "    </tr>\n",
       "    <tr>\n",
       "      <th>ISTP</th>\n",
       "      <td>337</td>\n",
       "    </tr>\n",
       "  </tbody>\n",
       "</table>\n",
       "</div>"
      ],
      "text/plain": [
       "      posts\n",
       "type       \n",
       "ENFJ    190\n",
       "ENFP    675\n",
       "ENTJ    231\n",
       "ENTP    685\n",
       "ESFJ     42\n",
       "ESFP     48\n",
       "ESTJ     39\n",
       "ESTP     89\n",
       "INFJ   1470\n",
       "INFP   1832\n",
       "INTJ   1091\n",
       "INTP   1304\n",
       "ISFJ    166\n",
       "ISFP    271\n",
       "ISTJ    205\n",
       "ISTP    337"
      ]
     },
     "execution_count": 7,
     "metadata": {},
     "output_type": "execute_result"
    }
   ],
   "source": [
    "data2.groupby('type').count()"
   ]
  },
  {
   "cell_type": "markdown",
   "metadata": {},
   "source": [
    "### Create category MBTI list"
   ]
  },
  {
   "cell_type": "code",
   "execution_count": 8,
   "metadata": {
    "scrolled": false
   },
   "outputs": [
    {
     "data": {
      "text/plain": [
       "['ENFJ',\n",
       " 'ESFP',\n",
       " 'INFJ',\n",
       " 'ESTJ',\n",
       " 'ISTJ',\n",
       " 'ENTJ',\n",
       " 'ISFP',\n",
       " 'INTJ',\n",
       " 'ISTP',\n",
       " 'ENTP',\n",
       " 'ISFJ',\n",
       " 'INTP',\n",
       " 'ESFJ',\n",
       " 'ESTP',\n",
       " 'ENFP',\n",
       " 'INFP']"
      ]
     },
     "execution_count": 8,
     "metadata": {},
     "output_type": "execute_result"
    }
   ],
   "source": [
    "list(set(data2.type))"
   ]
  },
  {
   "cell_type": "code",
   "execution_count": 9,
   "metadata": {
    "collapsed": true
   },
   "outputs": [],
   "source": [
    "category = list(data2['type'].unique())"
   ]
  },
  {
   "cell_type": "code",
   "execution_count": 10,
   "metadata": {},
   "outputs": [
    {
     "name": "stdout",
     "output_type": "stream",
     "text": [
      "['INFJ', 'ENTP', 'INTP', 'INTJ', 'ENTJ', 'ENFJ', 'INFP', 'ENFP', 'ISFP', 'ISTP', 'ISFJ', 'ISTJ', 'ESTP', 'ESFP', 'ESTJ', 'ESFJ']\n"
     ]
    }
   ],
   "source": [
    "print (category)"
   ]
  },
  {
   "cell_type": "code",
   "execution_count": 11,
   "metadata": {},
   "outputs": [
    {
     "name": "stdout",
     "output_type": "stream",
     "text": [
      "{'ENFJ': 6, 'ESFP': 14, 'INFJ': 1, 'ESTJ': 15, 'ISTJ': 12, 'ENTJ': 5, 'ISFP': 9, 'INTJ': 4, 'ISTP': 10, 'ENTP': 2, 'ISFJ': 11, 'INTP': 3, 'ESFJ': 16, 'ESTP': 13, 'ENFP': 8, 'INFP': 7}\n"
     ]
    }
   ],
   "source": [
    "dict_category = {}\n",
    "for idx, x in enumerate(category):\n",
    "    dict_category[x]= idx+1\n",
    "print dict_category"
   ]
  },
  {
   "cell_type": "markdown",
   "metadata": {
    "collapsed": true
   },
   "source": [
    "## Data cleaning"
   ]
  },
  {
   "cell_type": "markdown",
   "metadata": {},
   "source": [
    "plan:\n",
    "1) Remove URL\n",
    "2) Vectorization"
   ]
  },
  {
   "cell_type": "markdown",
   "metadata": {},
   "source": [
    "### Remove URL using regex"
   ]
  },
  {
   "cell_type": "code",
   "execution_count": 12,
   "metadata": {
    "collapsed": true
   },
   "outputs": [],
   "source": [
    "import re"
   ]
  },
  {
   "cell_type": "markdown",
   "metadata": {},
   "source": [
    "We are applying the regex function on the colum post"
   ]
  },
  {
   "cell_type": "code",
   "execution_count": 13,
   "metadata": {
    "scrolled": true
   },
   "outputs": [
    {
     "name": "stdout",
     "output_type": "stream",
     "text": [
      "0       '||||||enfp and intj moments    sportscenter n...\n",
      "1       'I'm finding the lack of me in these posts ver...\n",
      "2       'Good one  _____   |||Of course, to which I sa...\n",
      "3       'Dear INTP,   I enjoyed our conversation the o...\n",
      "4       'You're fired.|||That's another silly misconce...\n",
      "5       '18/37 @.@|||Science  is not perfect. No scien...\n",
      "6       'No, I can't draw on my own nails (haha). Thos...\n",
      "7       'I tend to build up a collection of things on ...\n",
      "8       I'm not sure, that's a good question. The dist...\n",
      "9       '|||I'm in this position where I have to actua...\n",
      "10      'One time my parents were fighting over my dad...\n",
      "11      '|||51 :o|||I went through a break up some mon...\n",
      "12      'Joe santagato - ENTP|||ENFJ or  ENTP?   I'm n...\n",
      "13      'Fair enough, if that's how you want to look a...\n",
      "14      'Basically this...  |||Can I has Cheezburgr?||...\n",
      "15      'Your comment screams INTJ, bro. Especially th...\n",
      "16      'some of these both excite and calm me:  BUTTS...\n",
      "17      'I think we do agree. I personally don't consi...\n",
      "18      'I fully believe in the power of being a prote...\n",
      "19      'That's normal, it happens also to me. If I am...\n",
      "20      'Steve Job's was recognized for his striving f...\n",
      "21      'It is very annoying to be misinterpreted. Esp...\n",
      "22      'Now I'm interested. But too lazy to go resear...\n",
      "23      '45016 urh sorry uh. couldn't resist.|||all of...\n",
      "24      'Still going strong at just over the two year ...\n",
      "25      'Personally, I was thinking this would be more...\n",
      "26      'He doesn't want to go on the trip without me,...\n",
      "27      'They paint without numbers|||I'd guess at ist...\n",
      "28      'Basically, my main questions are : What do yo...\n",
      "29      'I think that that can absolutely be true of i...\n",
      "                              ...                        \n",
      "8645    'I play cello, and I'm also a classically trai...\n",
      "8646    Its more or less based on how YOU experienced ...\n",
      "8647    Socionics picked up on this.  They call it vis...\n",
      "8648    'Good advice, thank you.|||I am in a tough sit...\n",
      "8649      enjoy infps|||okok lets stop at kicking walk...\n",
      "8650    'I think the real question is whether INFJs ca...\n",
      "8651    '-Being alone -Being insensitive  -Over thinki...\n",
      "8652    'Being assertive and standing up for myself is...\n",
      "8653    'You should do whatever it is you want. If you...\n",
      "8654    'Assuming I had a hand in it, I always at leas...\n",
      "8655    'I find that poster and your facial expression...\n",
      "8656    Rim  In some approximate order, it seems like ...\n",
      "8657    Social  1) Generally, I positively associate w...\n",
      "8658    'Don't worry, I do that too when a car comes c...\n",
      "8659    'leoni I had really bad social anxiety until I...\n",
      "8660    'I love the vastness of the sky, because my pr...\n",
      "8661    '**haven't logged in and read posts for over 6...\n",
      "8662    'I can't say I have any one specific belief. I...\n",
      "8663    'doesn't matter, you don't have a choice, Elec...\n",
      "8664    '|||So many, but I'd say there's a tie between...\n",
      "8665    'This test wasn't even close on my gender, age...\n",
      "8666    'Highly recommend this to those who wants to t...\n",
      "8667    'I think generally people experience post trau...\n",
      "8668    'Here's a planned stress relieving activity th...\n",
      "8669    'I'm not sure about a method for picking out I...\n",
      "8670    '|||IxFP just because I always think of cats a...\n",
      "8671    'So...if this thread already exists someplace ...\n",
      "8672    'So many questions when i do these things.  I ...\n",
      "8673    'I am very conflicted right now when it comes ...\n",
      "8674    'It has been too long since I have been on per...\n",
      "Name: posts, Length: 8675, dtype: object\n"
     ]
    }
   ],
   "source": [
    "for idx, x in enumerate(data2['posts']):\n",
    "    data2['posts'][idx] = re.sub(r'http([a-z]|[A-Z]|\\.|/|\\?|=|:|[0-9]|_|-)*','',x)\n",
    "    #data2['posts'][idx] = re.sub(r'http('(\\'|\\\")','',x)\n",
    "print(data2['posts'])"
   ]
  },
  {
   "cell_type": "code",
   "execution_count": 14,
   "metadata": {
    "scrolled": true
   },
   "outputs": [
    {
     "name": "stdout",
     "output_type": "stream",
     "text": [
      "      type                                              posts\n",
      "0     INFJ  '||||||enfp and intj moments    sportscenter n...\n",
      "1     ENTP  'I'm finding the lack of me in these posts ver...\n",
      "2     INTP  'Good one  _____   |||Of course, to which I sa...\n",
      "3     INTJ  'Dear INTP,   I enjoyed our conversation the o...\n",
      "4     ENTJ  'You're fired.|||That's another silly misconce...\n",
      "5     INTJ  '18/37 @.@|||Science  is not perfect. No scien...\n",
      "6     INFJ  'No, I can't draw on my own nails (haha). Thos...\n",
      "7     INTJ  'I tend to build up a collection of things on ...\n",
      "8     INFJ  I'm not sure, that's a good question. The dist...\n",
      "9     INTP  '|||I'm in this position where I have to actua...\n",
      "10    INFJ  'One time my parents were fighting over my dad...\n",
      "11    ENFJ  '|||51 :o|||I went through a break up some mon...\n",
      "12    INFJ  'Joe santagato - ENTP|||ENFJ or  ENTP?   I'm n...\n",
      "13    INTJ  'Fair enough, if that's how you want to look a...\n",
      "14    INTP  'Basically this...  |||Can I has Cheezburgr?||...\n",
      "15    INTP  'Your comment screams INTJ, bro. Especially th...\n",
      "16    INFJ  'some of these both excite and calm me:  BUTTS...\n",
      "17    INFP  'I think we do agree. I personally don't consi...\n",
      "18    INFJ  'I fully believe in the power of being a prote...\n",
      "19    INFP  'That's normal, it happens also to me. If I am...\n",
      "20    INTP  'Steve Job's was recognized for his striving f...\n",
      "21    INFJ  'It is very annoying to be misinterpreted. Esp...\n",
      "22    ENTJ  'Now I'm interested. But too lazy to go resear...\n",
      "23    INFP  '45016 urh sorry uh. couldn't resist.|||all of...\n",
      "24    ENTJ  'Still going strong at just over the two year ...\n",
      "25    INFP  'Personally, I was thinking this would be more...\n",
      "26    ENFP  'He doesn't want to go on the trip without me,...\n",
      "27    ISFP  'They paint without numbers|||I'd guess at ist...\n",
      "28    INFP  'Basically, my main questions are : What do yo...\n",
      "29    INFJ  'I think that that can absolutely be true of i...\n",
      "...    ...                                                ...\n",
      "8645  INFJ  'I play cello, and I'm also a classically trai...\n",
      "8646  INFP  Its more or less based on how YOU experienced ...\n",
      "8647  INTP  Socionics picked up on this.  They call it vis...\n",
      "8648  INFP  'Good advice, thank you.|||I am in a tough sit...\n",
      "8649  INFP    enjoy infps|||okok lets stop at kicking walk...\n",
      "8650  INFJ  'I think the real question is whether INFJs ca...\n",
      "8651  ISTP  '-Being alone -Being insensitive  -Over thinki...\n",
      "8652  ISFJ  'Being assertive and standing up for myself is...\n",
      "8653  INFP  'You should do whatever it is you want. If you...\n",
      "8654  ISTJ  'Assuming I had a hand in it, I always at leas...\n",
      "8655  INFJ  'I find that poster and your facial expression...\n",
      "8656  INFJ  Rim  In some approximate order, it seems like ...\n",
      "8657  INTJ  Social  1) Generally, I positively associate w...\n",
      "8658  ESFJ  'Don't worry, I do that too when a car comes c...\n",
      "8659  ENFP  'leoni I had really bad social anxiety until I...\n",
      "8660  INFP  'I love the vastness of the sky, because my pr...\n",
      "8661  ENTP  '**haven't logged in and read posts for over 6...\n",
      "8662  INTJ  'I can't say I have any one specific belief. I...\n",
      "8663  INTP  'doesn't matter, you don't have a choice, Elec...\n",
      "8664  INTP  '|||So many, but I'd say there's a tie between...\n",
      "8665  ENTP  'This test wasn't even close on my gender, age...\n",
      "8666  INTJ  'Highly recommend this to those who wants to t...\n",
      "8667  ENTP  'I think generally people experience post trau...\n",
      "8668  INTJ  'Here's a planned stress relieving activity th...\n",
      "8669  INFJ  'I'm not sure about a method for picking out I...\n",
      "8670  ISFP  '|||IxFP just because I always think of cats a...\n",
      "8671  ENFP  'So...if this thread already exists someplace ...\n",
      "8672  INTP  'So many questions when i do these things.  I ...\n",
      "8673  INFP  'I am very conflicted right now when it comes ...\n",
      "8674  INFP  'It has been too long since I have been on per...\n",
      "\n",
      "[8675 rows x 2 columns]\n"
     ]
    }
   ],
   "source": [
    "print(data2)"
   ]
  },
  {
   "cell_type": "markdown",
   "metadata": {},
   "source": [
    "## Data prepartion: Bag of words "
   ]
  },
  {
   "cell_type": "markdown",
   "metadata": {
    "collapsed": true
   },
   "source": [
    "The objective is to extract numerical features vectors from a text, by tokenizing string (and give to each token an numerical id, using white-space as delimiter), by counting occurence of each token in each posts, by normalizing token (concerning importance of token in occurence/post). And, as most features will be zero (when tokenizing phase), we need to manage stockage space (a possibility is using an inverse document with TF-IDF)."
   ]
  },
  {
   "cell_type": "markdown",
   "metadata": {},
   "source": [
    "At first I will construct the train and test set."
   ]
  },
  {
   "cell_type": "markdown",
   "metadata": {},
   "source": [
    "### Train and Test set"
   ]
  },
  {
   "cell_type": "markdown",
   "metadata": {},
   "source": [
    "I will now devide the dataset in trainset (75%) and testset (25%) to execute models. I will use a specific train/test split function given by scikit-learn."
   ]
  },
  {
   "cell_type": "code",
   "execution_count": 45,
   "metadata": {
    "collapsed": true
   },
   "outputs": [],
   "source": [
    "from sklearn.model_selection import train_test_split\n",
    "trainset, testset = train_test_split(data2, test_size=0.25)"
   ]
  },
  {
   "cell_type": "code",
   "execution_count": 46,
   "metadata": {
    "scrolled": true
   },
   "outputs": [
    {
     "name": "stdout",
     "output_type": "stream",
     "text": [
      "      type                                              posts\n",
      "3084  INFP  You're crazy|||Aunts|||Curious|||THISSS. Felt ...\n",
      "363   ENFP  'This type of metal is actually much closer to...\n",
      "8220  INFJ  'Is it easier for you to maintain, or harder? ...\n",
      "6659  INTJ  'I have a genuine love for science, but an ove...\n",
      "4320  INFP  'Well, I'm more of a scientist, so I tend to b...\n",
      "5314  INTJ  'That's a good question.|||Stereotypes are for...\n",
      "4973  INFJ  'I think this is a good start.  Both INFJ and ...\n",
      "4553  INTP  'I thought I would be alone forever but now I'...\n",
      "2435  INTP  'careful with your broad strokes there, boss.....\n",
      "3080  ENTJ  'Dear ENTP,  I used to resent you so much, but...\n",
      "5896  ENTJ  'Whoa alot of hate on Trump here! I thought yo...\n",
      "2998  ISTP  'Can I please have my account retired? It's ti...\n",
      "534   ENTJ  'I'd very much like to believe this were true,...\n",
      "5125  INFP  'People you don´t trust and like - big wall.  ...\n",
      "7020  INTP  'I'm currently an engineering student, but my ...\n",
      "4775  INFP  'I've never like my name... It's super common ...\n",
      "678   ISTP  'I guess I was curious about the modus operand...\n",
      "5317  INFP  Dreading going back to work on the 21st, reall...\n",
      "7587  INTP  'memorizing facts: Poor.  remembering ideas/th...\n",
      "7672  ENTP  'ENTP with ADD, but I definitely don't think p...\n",
      "349   INTJ  'Hey there,  First of all, sorry for the gener...\n",
      "1424  INFJ  'I hope you don't mind me chiming in, although...\n",
      "2892  INFJ  'Haha, shit hit the fan. I knew that my sudden...\n",
      "6272  INFJ  'you know what, I actually can't tell. Seulgi ...\n",
      "578   INTJ  'Hello,  May I have my name changed to Ástartö...\n",
      "1212  ENFP  'Hey there!!!!! If you are new to MBTI, like m...\n",
      "6157  INFP  'I thought this article was very enlightening....\n",
      "1007  ISTP  'Oh yeah, I recognized you from your profile p...\n",
      "321   ENTP  'He's the best explanation I've heard of chess...\n",
      "2121  INTJ  DarlingWildflower Welcome to PerC!|||I'm not s...\n",
      "...    ...                                                ...\n",
      "3574  INTP  'George Carlin Sam Kinison Lewis Black Richard...\n",
      "7810  ENFJ  'As an ENFJ, how ambitious are you? I am fairl...\n",
      "5588  ISTP  'My dreams are rare but fun, and a little myst...\n",
      "3018  INTP  'It's been 2 years since I got to know him. I ...\n",
      "7927  INFJ  'My dad is an istj and my mom is an infp and t...\n",
      "2409  INFJ  '|||||||||||||||||||||||||||||||||Gender: fema...\n",
      "8040  ISTP  'I think generalised lists aren't a good appro...\n",
      "4476  INFP  'I would like to delete my account but I can't...\n",
      "1582  INTP  'So why do they put so much credence in those ...\n",
      "5360  ISTJ  'I just rewatched this movie (the full movie i...\n",
      "7819  INFJ  'Someone who knows what the definition of reci...\n",
      "2976  INFJ  'Foregiveness is given to those who deserve it...\n",
      "3155  ISTJ  'I've read 14 books since mid-May and now it f...\n",
      "5196  ENTP  'Angelic Gardevoir  Mutant Hive Queen  Fairnes...\n",
      "2368  INFP  LMAO no, he wasn't smart. Saying things like y...\n",
      "3748  INFJ  'The Swedish version has the same name, all th...\n",
      "3970  INTP  'Yes, yes, yes, that's how it'll eventually ha...\n",
      "7557  INTJ  'pc3000 yes, I have come across those links be...\n",
      "934   INFP  'My impression after watching these two videos...\n",
      "6384  INFJ  'Himistu  You helped me alot, i have expierien...\n",
      "813   INFP  Things moved pretty fast initially...but at th...\n",
      "2188  INFP  'Have gone for a walk with the dog, wonderfull...\n",
      "2585  ENTP  Woooooow gz!!!!!!!|||Someone hand me an INFJ g...\n",
      "6340  INTP  'I guess it's my turn to seek the guidance of ...\n",
      "3414  INFP  'As long as she feels comfortable with the ide...\n",
      "2334  INFP  'Temperament wise he's very INFP, but he doesn...\n",
      "7655  ISTP  'I read somewhere an argument that Mike was an...\n",
      "8111  INTJ  'Alas. These cryptic words escape my comprehen...\n",
      "8472  INTJ  FUUUUUUUCK my group for a project just decided...\n",
      "1866  INFJ  'INTP.    Internet haters who think they're su...\n",
      "\n",
      "[6506 rows x 2 columns]\n"
     ]
    }
   ],
   "source": [
    "print(trainset)"
   ]
  },
  {
   "cell_type": "code",
   "execution_count": 23,
   "metadata": {},
   "outputs": [
    {
     "data": {
      "text/plain": [
       "type     6506\n",
       "posts    6506\n",
       "dtype: int64"
      ]
     },
     "execution_count": 23,
     "metadata": {},
     "output_type": "execute_result"
    }
   ],
   "source": [
    "trainset.count()"
   ]
  },
  {
   "cell_type": "markdown",
   "metadata": {},
   "source": [
    "A trainset with 75% of the dataframe (8675 raws)"
   ]
  },
  {
   "cell_type": "code",
   "execution_count": 24,
   "metadata": {},
   "outputs": [
    {
     "data": {
      "text/plain": [
       "type     2169\n",
       "posts    2169\n",
       "dtype: int64"
      ]
     },
     "execution_count": 24,
     "metadata": {},
     "output_type": "execute_result"
    }
   ],
   "source": [
    "testset.count()"
   ]
  },
  {
   "cell_type": "markdown",
   "metadata": {},
   "source": [
    "A testset with 25% of the dataframe (8675 raws)"
   ]
  },
  {
   "cell_type": "markdown",
   "metadata": {},
   "source": [
    "#### Transform the types in numerical number with the dictionary category"
   ]
  },
  {
   "cell_type": "markdown",
   "metadata": {},
   "source": [
    "For train set"
   ]
  },
  {
   "cell_type": "code",
   "execution_count": 47,
   "metadata": {
    "scrolled": true
   },
   "outputs": [
    {
     "name": "stdout",
     "output_type": "stream",
     "text": [
      "      type                                              posts\n",
      "3084  INFP  You're crazy|||Aunts|||Curious|||THISSS. Felt ...\n",
      "363   ENFP  'This type of metal is actually much closer to...\n",
      "8220  INFJ  'Is it easier for you to maintain, or harder? ...\n",
      "6659  INTJ  'I have a genuine love for science, but an ove...\n",
      "4320  INFP  'Well, I'm more of a scientist, so I tend to b...\n",
      "5314  INTJ  'That's a good question.|||Stereotypes are for...\n",
      "4973  INFJ  'I think this is a good start.  Both INFJ and ...\n",
      "4553  INTP  'I thought I would be alone forever but now I'...\n",
      "2435  INTP  'careful with your broad strokes there, boss.....\n",
      "3080  ENTJ  'Dear ENTP,  I used to resent you so much, but...\n",
      "5896  ENTJ  'Whoa alot of hate on Trump here! I thought yo...\n",
      "2998  ISTP  'Can I please have my account retired? It's ti...\n",
      "534   ENTJ  'I'd very much like to believe this were true,...\n",
      "5125  INFP  'People you don´t trust and like - big wall.  ...\n",
      "7020  INTP  'I'm currently an engineering student, but my ...\n",
      "4775  INFP  'I've never like my name... It's super common ...\n",
      "678   ISTP  'I guess I was curious about the modus operand...\n",
      "5317  INFP  Dreading going back to work on the 21st, reall...\n",
      "7587  INTP  'memorizing facts: Poor.  remembering ideas/th...\n",
      "7672  ENTP  'ENTP with ADD, but I definitely don't think p...\n",
      "349   INTJ  'Hey there,  First of all, sorry for the gener...\n",
      "1424  INFJ  'I hope you don't mind me chiming in, although...\n",
      "2892  INFJ  'Haha, shit hit the fan. I knew that my sudden...\n",
      "6272  INFJ  'you know what, I actually can't tell. Seulgi ...\n",
      "578   INTJ  'Hello,  May I have my name changed to Ástartö...\n",
      "1212  ENFP  'Hey there!!!!! If you are new to MBTI, like m...\n",
      "6157  INFP  'I thought this article was very enlightening....\n",
      "1007  ISTP  'Oh yeah, I recognized you from your profile p...\n",
      "321   ENTP  'He's the best explanation I've heard of chess...\n",
      "2121  INTJ  DarlingWildflower Welcome to PerC!|||I'm not s...\n",
      "...    ...                                                ...\n",
      "3574  INTP  'George Carlin Sam Kinison Lewis Black Richard...\n",
      "7810  ENFJ  'As an ENFJ, how ambitious are you? I am fairl...\n",
      "5588  ISTP  'My dreams are rare but fun, and a little myst...\n",
      "3018  INTP  'It's been 2 years since I got to know him. I ...\n",
      "7927  INFJ  'My dad is an istj and my mom is an infp and t...\n",
      "2409  INFJ  '|||||||||||||||||||||||||||||||||Gender: fema...\n",
      "8040  ISTP  'I think generalised lists aren't a good appro...\n",
      "4476  INFP  'I would like to delete my account but I can't...\n",
      "1582  INTP  'So why do they put so much credence in those ...\n",
      "5360  ISTJ  'I just rewatched this movie (the full movie i...\n",
      "7819  INFJ  'Someone who knows what the definition of reci...\n",
      "2976  INFJ  'Foregiveness is given to those who deserve it...\n",
      "3155  ISTJ  'I've read 14 books since mid-May and now it f...\n",
      "5196  ENTP  'Angelic Gardevoir  Mutant Hive Queen  Fairnes...\n",
      "2368  INFP  LMAO no, he wasn't smart. Saying things like y...\n",
      "3748  INFJ  'The Swedish version has the same name, all th...\n",
      "3970  INTP  'Yes, yes, yes, that's how it'll eventually ha...\n",
      "7557  INTJ  'pc3000 yes, I have come across those links be...\n",
      "934   INFP  'My impression after watching these two videos...\n",
      "6384  INFJ  'Himistu  You helped me alot, i have expierien...\n",
      "813   INFP  Things moved pretty fast initially...but at th...\n",
      "2188  INFP  'Have gone for a walk with the dog, wonderfull...\n",
      "2585  ENTP  Woooooow gz!!!!!!!|||Someone hand me an INFJ g...\n",
      "6340  INTP  'I guess it's my turn to seek the guidance of ...\n",
      "3414  INFP  'As long as she feels comfortable with the ide...\n",
      "2334  INFP  'Temperament wise he's very INFP, but he doesn...\n",
      "7655  ISTP  'I read somewhere an argument that Mike was an...\n",
      "8111  INTJ  'Alas. These cryptic words escape my comprehen...\n",
      "8472  INTJ  FUUUUUUUCK my group for a project just decided...\n",
      "1866  INFJ  'INTP.    Internet haters who think they're su...\n",
      "\n",
      "[6506 rows x 2 columns]\n"
     ]
    }
   ],
   "source": [
    "trainset_type_num = trainset[:]\n",
    "print(trainset_type_num)"
   ]
  },
  {
   "cell_type": "code",
   "execution_count": 48,
   "metadata": {
    "scrolled": true
   },
   "outputs": [
    {
     "name": "stdout",
     "output_type": "stream",
     "text": [
      "      type                                              posts\n",
      "3084     7  You're crazy|||Aunts|||Curious|||THISSS. Felt ...\n",
      "363      8  'This type of metal is actually much closer to...\n",
      "8220     1  'Is it easier for you to maintain, or harder? ...\n",
      "6659     4  'I have a genuine love for science, but an ove...\n",
      "4320     7  'Well, I'm more of a scientist, so I tend to b...\n",
      "5314     4  'That's a good question.|||Stereotypes are for...\n",
      "4973     1  'I think this is a good start.  Both INFJ and ...\n",
      "4553     3  'I thought I would be alone forever but now I'...\n",
      "2435     3  'careful with your broad strokes there, boss.....\n",
      "3080     5  'Dear ENTP,  I used to resent you so much, but...\n",
      "5896     5  'Whoa alot of hate on Trump here! I thought yo...\n",
      "2998    10  'Can I please have my account retired? It's ti...\n",
      "534      5  'I'd very much like to believe this were true,...\n",
      "5125     7  'People you don´t trust and like - big wall.  ...\n",
      "7020     3  'I'm currently an engineering student, but my ...\n",
      "4775     7  'I've never like my name... It's super common ...\n",
      "678     10  'I guess I was curious about the modus operand...\n",
      "5317     7  Dreading going back to work on the 21st, reall...\n",
      "7587     3  'memorizing facts: Poor.  remembering ideas/th...\n",
      "7672     2  'ENTP with ADD, but I definitely don't think p...\n",
      "349      4  'Hey there,  First of all, sorry for the gener...\n",
      "1424     1  'I hope you don't mind me chiming in, although...\n",
      "2892     1  'Haha, shit hit the fan. I knew that my sudden...\n",
      "6272     1  'you know what, I actually can't tell. Seulgi ...\n",
      "578      4  'Hello,  May I have my name changed to Ástartö...\n",
      "1212     8  'Hey there!!!!! If you are new to MBTI, like m...\n",
      "6157     7  'I thought this article was very enlightening....\n",
      "1007    10  'Oh yeah, I recognized you from your profile p...\n",
      "321      2  'He's the best explanation I've heard of chess...\n",
      "2121     4  DarlingWildflower Welcome to PerC!|||I'm not s...\n",
      "...    ...                                                ...\n",
      "3574     3  'George Carlin Sam Kinison Lewis Black Richard...\n",
      "7810     6  'As an ENFJ, how ambitious are you? I am fairl...\n",
      "5588    10  'My dreams are rare but fun, and a little myst...\n",
      "3018     3  'It's been 2 years since I got to know him. I ...\n",
      "7927     1  'My dad is an istj and my mom is an infp and t...\n",
      "2409     1  '|||||||||||||||||||||||||||||||||Gender: fema...\n",
      "8040    10  'I think generalised lists aren't a good appro...\n",
      "4476     7  'I would like to delete my account but I can't...\n",
      "1582     3  'So why do they put so much credence in those ...\n",
      "5360    12  'I just rewatched this movie (the full movie i...\n",
      "7819     1  'Someone who knows what the definition of reci...\n",
      "2976     1  'Foregiveness is given to those who deserve it...\n",
      "3155    12  'I've read 14 books since mid-May and now it f...\n",
      "5196     2  'Angelic Gardevoir  Mutant Hive Queen  Fairnes...\n",
      "2368     7  LMAO no, he wasn't smart. Saying things like y...\n",
      "3748     1  'The Swedish version has the same name, all th...\n",
      "3970     3  'Yes, yes, yes, that's how it'll eventually ha...\n",
      "7557     4  'pc3000 yes, I have come across those links be...\n",
      "934      7  'My impression after watching these two videos...\n",
      "6384     1  'Himistu  You helped me alot, i have expierien...\n",
      "813      7  Things moved pretty fast initially...but at th...\n",
      "2188     7  'Have gone for a walk with the dog, wonderfull...\n",
      "2585     2  Woooooow gz!!!!!!!|||Someone hand me an INFJ g...\n",
      "6340     3  'I guess it's my turn to seek the guidance of ...\n",
      "3414     7  'As long as she feels comfortable with the ide...\n",
      "2334     7  'Temperament wise he's very INFP, but he doesn...\n",
      "7655    10  'I read somewhere an argument that Mike was an...\n",
      "8111     4  'Alas. These cryptic words escape my comprehen...\n",
      "8472     4  FUUUUUUUCK my group for a project just decided...\n",
      "1866     1  'INTP.    Internet haters who think they're su...\n",
      "\n",
      "[6506 rows x 2 columns]\n"
     ]
    }
   ],
   "source": [
    "trainset_type_num['type'] = trainset_type_num['type'].replace(dict_category)\n",
    "print(trainset_type_num)"
   ]
  },
  {
   "cell_type": "code",
   "execution_count": 50,
   "metadata": {},
   "outputs": [],
   "source": [
    "trainset_type_num_only = pd.DataFrame(data=trainset_type_num['type'])"
   ]
  },
  {
   "cell_type": "code",
   "execution_count": 57,
   "metadata": {
    "scrolled": true
   },
   "outputs": [
    {
     "name": "stdout",
     "output_type": "stream",
     "text": [
      "[[7]\n",
      " [8]\n",
      " [1]\n",
      " ..., \n",
      " [4]\n",
      " [4]\n",
      " [1]]\n"
     ]
    }
   ],
   "source": [
    "#print(trainset_type_num_only)\n",
    "df = trainset_type_num_only.values\n",
    "print(df)"
   ]
  },
  {
   "cell_type": "markdown",
   "metadata": {},
   "source": [
    "For test set"
   ]
  },
  {
   "cell_type": "markdown",
   "metadata": {},
   "source": [
    "### Vectorization using CountVectorizer of scikit-learn"
   ]
  },
  {
   "cell_type": "markdown",
   "metadata": {},
   "source": [
    "CountVectorizer is doing in a single class the (1) tokenization and the (2) count occurences"
   ]
  },
  {
   "cell_type": "code",
   "execution_count": 15,
   "metadata": {
    "collapsed": true
   },
   "outputs": [],
   "source": [
    "data_for_vec = data2\n",
    "from sklearn.feature_extraction.text import CountVectorizer\n",
    "count_vect = CountVectorizer()\n",
    "data_counts = count_vect.fit_transform(data_for_vec['posts'])"
   ]
  },
  {
   "cell_type": "code",
   "execution_count": 59,
   "metadata": {
    "collapsed": true
   },
   "outputs": [],
   "source": [
    "train_for_vec = trainset\n",
    "from sklearn.feature_extraction.text import CountVectorizer\n",
    "count_vect = CountVectorizer()\n",
    "train_counts = count_vect.fit_transform(train_for_vec['posts'])"
   ]
  },
  {
   "cell_type": "code",
   "execution_count": 60,
   "metadata": {},
   "outputs": [
    {
     "data": {
      "text/plain": [
       "(6506, 94451)"
      ]
     },
     "execution_count": 60,
     "metadata": {},
     "output_type": "execute_result"
    }
   ],
   "source": [
    "train_counts.shape"
   ]
  },
  {
   "cell_type": "code",
   "execution_count": 16,
   "metadata": {},
   "outputs": [
    {
     "data": {
      "text/plain": [
       "(8675, 110188)"
      ]
     },
     "execution_count": 16,
     "metadata": {},
     "output_type": "execute_result"
    }
   ],
   "source": [
    "data_counts.shape"
   ]
  },
  {
   "cell_type": "markdown",
   "metadata": {},
   "source": [
    "It's give us a 8675 x 110188 sparce matrix, of 955 880 900 element (zero include as we can see above)"
   ]
  },
  {
   "cell_type": "code",
   "execution_count": 61,
   "metadata": {},
   "outputs": [
    {
     "data": {
      "text/plain": [
       "array([[0, 0, 0, ..., 0, 0, 0],\n",
       "       [0, 0, 0, ..., 0, 0, 0],\n",
       "       [0, 0, 0, ..., 0, 0, 0],\n",
       "       ..., \n",
       "       [0, 0, 0, ..., 0, 0, 0],\n",
       "       [0, 0, 0, ..., 0, 0, 0],\n",
       "       [0, 0, 0, ..., 0, 0, 0]], dtype=int64)"
      ]
     },
     "execution_count": 61,
     "metadata": {},
     "output_type": "execute_result"
    }
   ],
   "source": [
    "train_counts.toarray()"
   ]
  },
  {
   "cell_type": "code",
   "execution_count": 17,
   "metadata": {},
   "outputs": [
    {
     "data": {
      "text/plain": [
       "array([[0, 0, 0, ..., 0, 0, 0],\n",
       "       [0, 1, 0, ..., 0, 0, 0],\n",
       "       [0, 0, 0, ..., 0, 0, 0],\n",
       "       ..., \n",
       "       [0, 0, 0, ..., 0, 0, 0],\n",
       "       [0, 0, 0, ..., 0, 0, 0],\n",
       "       [0, 0, 0, ..., 0, 0, 0]], dtype=int64)"
      ]
     },
     "execution_count": 17,
     "metadata": {},
     "output_type": "execute_result"
    }
   ],
   "source": [
    "data_counts.toarray()"
   ]
  },
  {
   "cell_type": "code",
   "execution_count": 62,
   "metadata": {
    "scrolled": true
   },
   "outputs": [
    {
     "name": "stdout",
     "output_type": "stream",
     "text": [
      "  (0, 47394)\t1\n",
      "  (0, 73043)\t1\n",
      "  (0, 17611)\t1\n",
      "  (0, 63818)\t1\n",
      "  (0, 18903)\t1\n",
      "  (0, 31281)\t1\n",
      "  (0, 56447)\t1\n",
      "  (0, 90655)\t1\n",
      "  (0, 42404)\t1\n",
      "  (0, 78494)\t1\n",
      "  (0, 7750)\t1\n",
      "  (0, 91276)\t1\n",
      "  (0, 72524)\t1\n",
      "  (0, 82832)\t1\n",
      "  (0, 83118)\t1\n",
      "  (0, 72289)\t1\n",
      "  (0, 40473)\t2\n",
      "  (0, 29674)\t1\n",
      "  (0, 39271)\t1\n",
      "  (0, 51999)\t1\n",
      "  (0, 64968)\t1\n",
      "  (0, 36973)\t3\n",
      "  (0, 36972)\t1\n",
      "  (0, 11194)\t1\n",
      "  (0, 32270)\t1\n",
      "  :\t:\n",
      "  (6505, 9918)\t11\n",
      "  (6505, 50921)\t5\n",
      "  (6505, 85721)\t1\n",
      "  (6505, 83258)\t3\n",
      "  (6505, 84164)\t1\n",
      "  (6505, 46443)\t9\n",
      "  (6505, 27875)\t3\n",
      "  (6505, 17334)\t4\n",
      "  (6505, 51986)\t1\n",
      "  (6505, 60390)\t12\n",
      "  (6505, 44071)\t5\n",
      "  (6505, 91713)\t9\n",
      "  (6505, 9331)\t4\n",
      "  (6505, 8617)\t1\n",
      "  (6505, 60618)\t1\n",
      "  (6505, 12634)\t1\n",
      "  (6505, 59537)\t1\n",
      "  (6505, 84421)\t61\n",
      "  (6505, 83299)\t10\n",
      "  (6505, 10036)\t17\n",
      "  (6505, 83387)\t1\n",
      "  (6505, 35466)\t1\n",
      "  (6505, 77465)\t4\n",
      "  (6505, 69202)\t7\n",
      "  (6505, 93521)\t1\n"
     ]
    }
   ],
   "source": [
    "print(train_counts)"
   ]
  },
  {
   "cell_type": "code",
   "execution_count": 18,
   "metadata": {
    "scrolled": true
   },
   "outputs": [
    {
     "name": "stdout",
     "output_type": "stream",
     "text": [
      "  (0, 68708)\t1\n",
      "  (0, 92603)\t1\n",
      "  (0, 13880)\t1\n",
      "  (0, 30678)\t1\n",
      "  (0, 66610)\t1\n",
      "  (0, 105427)\t1\n",
      "  (0, 26167)\t1\n",
      "  (0, 47683)\t1\n",
      "  (0, 63943)\t1\n",
      "  (0, 67381)\t2\n",
      "  (0, 72581)\t1\n",
      "  (0, 39250)\t1\n",
      "  (0, 17917)\t1\n",
      "  (0, 10930)\t1\n",
      "  (0, 77066)\t1\n",
      "  (0, 17730)\t1\n",
      "  (0, 58888)\t1\n",
      "  (0, 91080)\t1\n",
      "  (0, 11066)\t1\n",
      "  (0, 108657)\t1\n",
      "  (0, 40249)\t1\n",
      "  (0, 91456)\t1\n",
      "  (0, 79159)\t1\n",
      "  (0, 39237)\t1\n",
      "  (0, 10982)\t1\n",
      "  :\t:\n",
      "  (8674, 71316)\t6\n",
      "  (8674, 54418)\t30\n",
      "  (8674, 98444)\t42\n",
      "  (8674, 73981)\t1\n",
      "  (8674, 29576)\t1\n",
      "  (8674, 68791)\t1\n",
      "  (8674, 39098)\t1\n",
      "  (8674, 67305)\t22\n",
      "  (8674, 97564)\t4\n",
      "  (8674, 58542)\t1\n",
      "  (8674, 109036)\t15\n",
      "  (8674, 63127)\t3\n",
      "  (8674, 70765)\t11\n",
      "  (8674, 41655)\t8\n",
      "  (8674, 71233)\t6\n",
      "  (8674, 109090)\t8\n",
      "  (8674, 51675)\t17\n",
      "  (8674, 59557)\t2\n",
      "  (8674, 97122)\t39\n",
      "  (8674, 17153)\t2\n",
      "  (8674, 47412)\t2\n",
      "  (8674, 105974)\t5\n",
      "  (8674, 98783)\t1\n",
      "  (8674, 69749)\t12\n",
      "  (8674, 12542)\t34\n"
     ]
    }
   ],
   "source": [
    "print(data_counts)"
   ]
  },
  {
   "cell_type": "code",
   "execution_count": 65,
   "metadata": {},
   "outputs": [
    {
     "data": {
      "text/plain": [
       "23411"
      ]
     },
     "execution_count": 65,
     "metadata": {},
     "output_type": "execute_result"
    }
   ],
   "source": [
    "count_vect.vocabulary_.get('crazy')"
   ]
  },
  {
   "cell_type": "code",
   "execution_count": 19,
   "metadata": {},
   "outputs": [
    {
     "data": {
      "text/plain": [
       "65914"
      ]
     },
     "execution_count": 19,
     "metadata": {},
     "output_type": "execute_result"
    }
   ],
   "source": [
    "count_vect.vocabulary_.get('moments')"
   ]
  },
  {
   "cell_type": "markdown",
   "metadata": {},
   "source": [
    "Here an example, we have 65914 occurences of the word \"moments\" in the posts. "
   ]
  },
  {
   "cell_type": "markdown",
   "metadata": {},
   "source": [
    "Now we have (1) tokenize the posts content and (2) count the words occurencies, but it's better to work with frequencies."
   ]
  },
  {
   "cell_type": "markdown",
   "metadata": {},
   "source": [
    "Currently we are using only dictionnary of 1-grams (individual words) because default value for the function CountVectorizer() is ngram_range=(1, 1). But we can take 2-grams (using parameter ngram_range=(1, 2) in the function) if we want to enrich the dictionnary (we have also group of two words), but it also taking much more place. So I will choose for the moment to use only 1-gram (and maybe enrich later if necessary)."
   ]
  },
  {
   "cell_type": "markdown",
   "metadata": {},
   "source": [
    "### TF-IDF"
   ]
  },
  {
   "cell_type": "markdown",
   "metadata": {},
   "source": [
    "To avoid space stockage issues, I will use the TF-IDF (term frequency-inverse document frequency) methods, which will allow for example (1:tf) to devide each occurences of a word in a post by total number of words in this post (that give new features names tf). This method also allow (2:tf-idf) to give less weight (importance) on words which appear in many posts of the corpus and automatically that give less information than words that appear in a less sample of posts."
   ]
  },
  {
   "cell_type": "markdown",
   "metadata": {},
   "source": [
    "$ tfidf(t,d) = tf(t,d) * idf(t) $"
   ]
  },
  {
   "cell_type": "code",
   "execution_count": 35,
   "metadata": {},
   "outputs": [
    {
     "data": {
      "text/plain": [
       "(8675, 110188)"
      ]
     },
     "execution_count": 35,
     "metadata": {},
     "output_type": "execute_result"
    }
   ],
   "source": [
    "from sklearn.feature_extraction.text import TfidfTransformer\n",
    "tfidf_transformer = TfidfTransformer()\n",
    "data_tfidf = tfidf_transformer.fit_transform(data_counts)\n",
    "data_tfidf.shape"
   ]
  },
  {
   "cell_type": "code",
   "execution_count": 66,
   "metadata": {},
   "outputs": [
    {
     "data": {
      "text/plain": [
       "(6506, 94451)"
      ]
     },
     "execution_count": 66,
     "metadata": {},
     "output_type": "execute_result"
    }
   ],
   "source": [
    "from sklearn.feature_extraction.text import TfidfTransformer\n",
    "tfidf_transformer2 = TfidfTransformer()\n",
    "train_tfidf = tfidf_transformer2.fit_transform(train_counts)\n",
    "train_tfidf.shape"
   ]
  },
  {
   "cell_type": "markdown",
   "metadata": {},
   "source": [
    "With the function \"fit_tranform()\" we are doing in one time the fit() which fit the estimator to data (1:tf) and the transform() which transform the matrix of occurences (data_counts) in tf-idf matrix with frequencies (2:tf-idf)."
   ]
  },
  {
   "cell_type": "markdown",
   "metadata": {},
   "source": [
    "## Models "
   ]
  },
  {
   "cell_type": "markdown",
   "metadata": {},
   "source": [
    "### Training a classifier"
   ]
  },
  {
   "cell_type": "markdown",
   "metadata": {},
   "source": [
    "Now we are training a classifier using all those features to classify posts. We will use a basic Naive Bayes classifier from  named MultinomialNB also provided by scikit-learn."
   ]
  },
  {
   "cell_type": "code",
   "execution_count": 67,
   "metadata": {},
   "outputs": [],
   "source": [
    "from sklearn.naive_bayes import MultinomialNB\n",
    "cl = MultinomialNB().fit(train_tfidf, df)"
   ]
  },
  {
   "cell_type": "markdown",
   "metadata": {},
   "source": [
    "I could also use a Pipeline to do faster and easier the Vectorization, Tf-idf and the classifier, using scikit-learn class sklearn.pipeline. It could be an improvement for later."
   ]
  },
  {
   "cell_type": "markdown",
   "metadata": {},
   "source": [
    "### Test of the model performance on testset"
   ]
  },
  {
   "cell_type": "code",
   "execution_count": 68,
   "metadata": {
    "collapsed": true
   },
   "outputs": [],
   "source": [
    "predicted = cl.predict()"
   ]
  }
 ],
 "metadata": {
  "kernelspec": {
   "display_name": "Python 2",
   "language": "python",
   "name": "python2"
  },
  "language_info": {
   "codemirror_mode": {
    "name": "ipython",
    "version": 2
   },
   "file_extension": ".py",
   "mimetype": "text/x-python",
   "name": "python",
   "nbconvert_exporter": "python",
   "pygments_lexer": "ipython2",
   "version": "2.7.13"
  }
 },
 "nbformat": 4,
 "nbformat_minor": 2
}
