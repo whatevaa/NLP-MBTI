{
 "cells": [
  {
   "cell_type": "markdown",
   "metadata": {},
   "source": [
    "# Project MBTI"
   ]
  },
  {
   "cell_type": "markdown",
   "metadata": {},
   "source": [
    "Subject : Creating a model to predict MBTI personality types from social media posts"
   ]
  },
  {
   "cell_type": "markdown",
   "metadata": {},
   "source": [
    "Data format (English dataset):\n",
    "    \n",
    "    =>type (string): MBTI types\n",
    "    =>posts (string): text posts "
   ]
  },
  {
   "cell_type": "markdown",
   "metadata": {},
   "source": [
    "## I. Data exploration"
   ]
  },
  {
   "cell_type": "code",
   "execution_count": 1,
   "metadata": {
    "collapsed": true
   },
   "outputs": [],
   "source": [
    "import numpy as np\n",
    "import csv\n",
    "import pandas as pd"
   ]
  },
  {
   "cell_type": "markdown",
   "metadata": {},
   "source": [
    "Load with panda read_csv to avoid delimiter problem between header and data"
   ]
  },
  {
   "cell_type": "code",
   "execution_count": 2,
   "metadata": {
    "collapsed": true,
    "scrolled": true
   },
   "outputs": [],
   "source": [
    "data2 = pd.read_csv(\"C:\\Users\\Gwen\\MBTI\\mbti_1.csv\", header =0)"
   ]
  },
  {
   "cell_type": "code",
   "execution_count": 3,
   "metadata": {
    "scrolled": true
   },
   "outputs": [
    {
     "name": "stdout",
     "output_type": "stream",
     "text": [
      "      type                                              posts\n",
      "0     INFJ  'http://www.youtube.com/watch?v=qsXHcwe3krw|||...\n",
      "1     ENTP  'I'm finding the lack of me in these posts ver...\n",
      "2     INTP  'Good one  _____   https://www.youtube.com/wat...\n",
      "3     INTJ  'Dear INTP,   I enjoyed our conversation the o...\n",
      "4     ENTJ  'You're fired.|||That's another silly misconce...\n",
      "5     INTJ  '18/37 @.@|||Science  is not perfect. No scien...\n",
      "6     INFJ  'No, I can't draw on my own nails (haha). Thos...\n",
      "7     INTJ  'I tend to build up a collection of things on ...\n",
      "8     INFJ  I'm not sure, that's a good question. The dist...\n",
      "9     INTP  'https://www.youtube.com/watch?v=w8-egj0y8Qs||...\n",
      "10    INFJ  'One time my parents were fighting over my dad...\n",
      "11    ENFJ  'https://www.youtube.com/watch?v=PLAaiKvHvZs||...\n",
      "12    INFJ  'Joe santagato - ENTP|||ENFJ or  ENTP?   I'm n...\n",
      "13    INTJ  'Fair enough, if that's how you want to look a...\n",
      "14    INTP  'Basically this...  https://youtu.be/1pH5c1Jkh...\n",
      "15    INTP  'Your comment screams INTJ, bro. Especially th...\n",
      "16    INFJ  'some of these both excite and calm me:  BUTTS...\n",
      "17    INFP  'I think we do agree. I personally don't consi...\n",
      "18    INFJ  'I fully believe in the power of being a prote...\n",
      "19    INFP  'That's normal, it happens also to me. If I am...\n",
      "20    INTP  'Steve Job's was recognized for his striving f...\n",
      "21    INFJ  'It is very annoying to be misinterpreted. Esp...\n",
      "22    ENTJ  'Now I'm interested. But too lazy to go resear...\n",
      "23    INFP  '45016 urh sorry uh. couldn't resist.|||all of...\n",
      "24    ENTJ  'Still going strong at just over the two year ...\n",
      "25    INFP  'Personally, I was thinking this would be more...\n",
      "26    ENFP  'He doesn't want to go on the trip without me,...\n",
      "27    ISFP  'They paint without numbers|||I'd guess at ist...\n",
      "28    INFP  'Basically, my main questions are : What do yo...\n",
      "29    INFJ  'I think that that can absolutely be true of i...\n",
      "...    ...                                                ...\n",
      "8645  INFJ  'I play cello, and I'm also a classically trai...\n",
      "8646  INFP  Its more or less based on how YOU experienced ...\n",
      "8647  INTP  Socionics picked up on this.  They call it vis...\n",
      "8648  INFP  'Good advice, thank you.|||I am in a tough sit...\n",
      "8649  INFP  https://www.youtube.com/watch?v=nPDusM-75FE  e...\n",
      "8650  INFJ  'I think the real question is whether INFJs ca...\n",
      "8651  ISTP  '-Being alone -Being insensitive  -Over thinki...\n",
      "8652  ISFJ  'Being assertive and standing up for myself is...\n",
      "8653  INFP  'You should do whatever it is you want. If you...\n",
      "8654  ISTJ  'Assuming I had a hand in it, I always at leas...\n",
      "8655  INFJ  'I find that poster and your facial expression...\n",
      "8656  INFJ  Rim  In some approximate order, it seems like ...\n",
      "8657  INTJ  Social  1) Generally, I positively associate w...\n",
      "8658  ESFJ  'Don't worry, I do that too when a car comes c...\n",
      "8659  ENFP  'leoni I had really bad social anxiety until I...\n",
      "8660  INFP  'I love the vastness of the sky, because my pr...\n",
      "8661  ENTP  '**haven't logged in and read posts for over 6...\n",
      "8662  INTJ  'I can't say I have any one specific belief. I...\n",
      "8663  INTP  'doesn't matter, you don't have a choice, Elec...\n",
      "8664  INTP  'https://www.youtube.com/watch?v=7zsMdi714mI||...\n",
      "8665  ENTP  'This test wasn't even close on my gender, age...\n",
      "8666  INTJ  'Highly recommend this to those who wants to t...\n",
      "8667  ENTP  'I think generally people experience post trau...\n",
      "8668  INTJ  'Here's a planned stress relieving activity th...\n",
      "8669  INFJ  'I'm not sure about a method for picking out I...\n",
      "8670  ISFP  'https://www.youtube.com/watch?v=t8edHB_h908||...\n",
      "8671  ENFP  'So...if this thread already exists someplace ...\n",
      "8672  INTP  'So many questions when i do these things.  I ...\n",
      "8673  INFP  'I am very conflicted right now when it comes ...\n",
      "8674  INFP  'It has been too long since I have been on per...\n",
      "\n",
      "[8675 rows x 2 columns]\n"
     ]
    }
   ],
   "source": [
    "print (data2)"
   ]
  },
  {
   "cell_type": "markdown",
   "metadata": {},
   "source": [
    "We are testing what we have in columns header"
   ]
  },
  {
   "cell_type": "code",
   "execution_count": 4,
   "metadata": {},
   "outputs": [
    {
     "data": {
      "text/plain": [
       "Index([u'type', u'posts'], dtype='object')"
      ]
     },
     "execution_count": 4,
     "metadata": {},
     "output_type": "execute_result"
    }
   ],
   "source": [
    "data2.columns"
   ]
  },
  {
   "cell_type": "code",
   "execution_count": 5,
   "metadata": {},
   "outputs": [
    {
     "data": {
      "text/html": [
       "<div>\n",
       "<style>\n",
       "    .dataframe thead tr:only-child th {\n",
       "        text-align: right;\n",
       "    }\n",
       "\n",
       "    .dataframe thead th {\n",
       "        text-align: left;\n",
       "    }\n",
       "\n",
       "    .dataframe tbody tr th {\n",
       "        vertical-align: top;\n",
       "    }\n",
       "</style>\n",
       "<table border=\"1\" class=\"dataframe\">\n",
       "  <thead>\n",
       "    <tr style=\"text-align: right;\">\n",
       "      <th></th>\n",
       "      <th>type</th>\n",
       "      <th>posts</th>\n",
       "    </tr>\n",
       "  </thead>\n",
       "  <tbody>\n",
       "  </tbody>\n",
       "</table>\n",
       "</div>"
      ],
      "text/plain": [
       "Empty DataFrame\n",
       "Columns: [type, posts]\n",
       "Index: []"
      ]
     },
     "execution_count": 5,
     "metadata": {},
     "output_type": "execute_result"
    }
   ],
   "source": [
    "data2[:0]"
   ]
  },
  {
   "cell_type": "markdown",
   "metadata": {},
   "source": [
    "Overview of the dataset"
   ]
  },
  {
   "cell_type": "code",
   "execution_count": 6,
   "metadata": {},
   "outputs": [
    {
     "name": "stdout",
     "output_type": "stream",
     "text": [
      "(8675, 2)\n"
     ]
    }
   ],
   "source": [
    "print(data2.shape)"
   ]
  },
  {
   "cell_type": "markdown",
   "metadata": {},
   "source": [
    "We have 8675 raws and 2 columns, which correspond to the dataset in input."
   ]
  },
  {
   "cell_type": "markdown",
   "metadata": {},
   "source": [
    "### 1. Frequence of each MBTI type in the dataset"
   ]
  },
  {
   "cell_type": "markdown",
   "metadata": {},
   "source": [
    "Here we can see the repartition of each type in the dataset. We can see we have mainly posts of INFP, INFJ, INTJ and INTP: all the \"IN\" (Introvert and iNtuitive) are much more represented. "
   ]
  },
  {
   "cell_type": "code",
   "execution_count": 7,
   "metadata": {
    "scrolled": true
   },
   "outputs": [
    {
     "data": {
      "text/html": [
       "<div>\n",
       "<style>\n",
       "    .dataframe thead tr:only-child th {\n",
       "        text-align: right;\n",
       "    }\n",
       "\n",
       "    .dataframe thead th {\n",
       "        text-align: left;\n",
       "    }\n",
       "\n",
       "    .dataframe tbody tr th {\n",
       "        vertical-align: top;\n",
       "    }\n",
       "</style>\n",
       "<table border=\"1\" class=\"dataframe\">\n",
       "  <thead>\n",
       "    <tr style=\"text-align: right;\">\n",
       "      <th></th>\n",
       "      <th>posts</th>\n",
       "    </tr>\n",
       "    <tr>\n",
       "      <th>type</th>\n",
       "      <th></th>\n",
       "    </tr>\n",
       "  </thead>\n",
       "  <tbody>\n",
       "    <tr>\n",
       "      <th>ENFJ</th>\n",
       "      <td>190</td>\n",
       "    </tr>\n",
       "    <tr>\n",
       "      <th>ENFP</th>\n",
       "      <td>675</td>\n",
       "    </tr>\n",
       "    <tr>\n",
       "      <th>ENTJ</th>\n",
       "      <td>231</td>\n",
       "    </tr>\n",
       "    <tr>\n",
       "      <th>ENTP</th>\n",
       "      <td>685</td>\n",
       "    </tr>\n",
       "    <tr>\n",
       "      <th>ESFJ</th>\n",
       "      <td>42</td>\n",
       "    </tr>\n",
       "    <tr>\n",
       "      <th>ESFP</th>\n",
       "      <td>48</td>\n",
       "    </tr>\n",
       "    <tr>\n",
       "      <th>ESTJ</th>\n",
       "      <td>39</td>\n",
       "    </tr>\n",
       "    <tr>\n",
       "      <th>ESTP</th>\n",
       "      <td>89</td>\n",
       "    </tr>\n",
       "    <tr>\n",
       "      <th>INFJ</th>\n",
       "      <td>1470</td>\n",
       "    </tr>\n",
       "    <tr>\n",
       "      <th>INFP</th>\n",
       "      <td>1832</td>\n",
       "    </tr>\n",
       "    <tr>\n",
       "      <th>INTJ</th>\n",
       "      <td>1091</td>\n",
       "    </tr>\n",
       "    <tr>\n",
       "      <th>INTP</th>\n",
       "      <td>1304</td>\n",
       "    </tr>\n",
       "    <tr>\n",
       "      <th>ISFJ</th>\n",
       "      <td>166</td>\n",
       "    </tr>\n",
       "    <tr>\n",
       "      <th>ISFP</th>\n",
       "      <td>271</td>\n",
       "    </tr>\n",
       "    <tr>\n",
       "      <th>ISTJ</th>\n",
       "      <td>205</td>\n",
       "    </tr>\n",
       "    <tr>\n",
       "      <th>ISTP</th>\n",
       "      <td>337</td>\n",
       "    </tr>\n",
       "  </tbody>\n",
       "</table>\n",
       "</div>"
      ],
      "text/plain": [
       "      posts\n",
       "type       \n",
       "ENFJ    190\n",
       "ENFP    675\n",
       "ENTJ    231\n",
       "ENTP    685\n",
       "ESFJ     42\n",
       "ESFP     48\n",
       "ESTJ     39\n",
       "ESTP     89\n",
       "INFJ   1470\n",
       "INFP   1832\n",
       "INTJ   1091\n",
       "INTP   1304\n",
       "ISFJ    166\n",
       "ISFP    271\n",
       "ISTJ    205\n",
       "ISTP    337"
      ]
     },
     "execution_count": 7,
     "metadata": {},
     "output_type": "execute_result"
    }
   ],
   "source": [
    "data2.groupby('type').count()"
   ]
  },
  {
   "cell_type": "markdown",
   "metadata": {},
   "source": [
    "### 2. Create category MBTI list"
   ]
  },
  {
   "cell_type": "markdown",
   "metadata": {},
   "source": [
    "We need to create a category list of the 16 MBTI types."
   ]
  },
  {
   "cell_type": "code",
   "execution_count": 8,
   "metadata": {
    "scrolled": false
   },
   "outputs": [
    {
     "data": {
      "text/plain": [
       "['ENFJ',\n",
       " 'ESFP',\n",
       " 'INFJ',\n",
       " 'ESTJ',\n",
       " 'ISTJ',\n",
       " 'ENTJ',\n",
       " 'ISFP',\n",
       " 'INTJ',\n",
       " 'ISTP',\n",
       " 'ENTP',\n",
       " 'ISFJ',\n",
       " 'INTP',\n",
       " 'ESFJ',\n",
       " 'ESTP',\n",
       " 'ENFP',\n",
       " 'INFP']"
      ]
     },
     "execution_count": 8,
     "metadata": {},
     "output_type": "execute_result"
    }
   ],
   "source": [
    "list(set(data2.type))"
   ]
  },
  {
   "cell_type": "code",
   "execution_count": 9,
   "metadata": {
    "collapsed": true
   },
   "outputs": [],
   "source": [
    "category = list(data2['type'].unique())"
   ]
  },
  {
   "cell_type": "code",
   "execution_count": 10,
   "metadata": {},
   "outputs": [
    {
     "name": "stdout",
     "output_type": "stream",
     "text": [
      "['INFJ', 'ENTP', 'INTP', 'INTJ', 'ENTJ', 'ENFJ', 'INFP', 'ENFP', 'ISFP', 'ISTP', 'ISFJ', 'ISTJ', 'ESTP', 'ESFP', 'ESTJ', 'ESFJ']\n"
     ]
    }
   ],
   "source": [
    "print (category)"
   ]
  },
  {
   "cell_type": "markdown",
   "metadata": {},
   "source": [
    "Creation of a dictionnary with MBTI type and index to replace later the \"type\" columns of train and test set with numerical values"
   ]
  },
  {
   "cell_type": "code",
   "execution_count": 11,
   "metadata": {},
   "outputs": [
    {
     "name": "stdout",
     "output_type": "stream",
     "text": [
      "{'ENFJ': 6, 'ESFP': 14, 'INFJ': 1, 'ESTJ': 15, 'ISTJ': 12, 'ENTJ': 5, 'ISFP': 9, 'INTJ': 4, 'ISTP': 10, 'ENTP': 2, 'ISFJ': 11, 'INTP': 3, 'ESFJ': 16, 'ESTP': 13, 'ENFP': 8, 'INFP': 7}\n"
     ]
    }
   ],
   "source": [
    "dict_category = {}\n",
    "for idx, x in enumerate(category):\n",
    "    dict_category[x]= idx+1\n",
    "print dict_category"
   ]
  },
  {
   "cell_type": "markdown",
   "metadata": {
    "collapsed": true
   },
   "source": [
    "## II. Data cleaning"
   ]
  },
  {
   "cell_type": "markdown",
   "metadata": {},
   "source": [
    "objective: Remove URL"
   ]
  },
  {
   "cell_type": "markdown",
   "metadata": {},
   "source": [
    "### 1. Remove URL using regex"
   ]
  },
  {
   "cell_type": "code",
   "execution_count": 12,
   "metadata": {
    "collapsed": true
   },
   "outputs": [],
   "source": [
    "import re"
   ]
  },
  {
   "cell_type": "markdown",
   "metadata": {},
   "source": [
    "We are applying the regex function to remove all url strings on the colum \"posts\":"
   ]
  },
  {
   "cell_type": "code",
   "execution_count": 13,
   "metadata": {
    "scrolled": true
   },
   "outputs": [
    {
     "name": "stdout",
     "output_type": "stream",
     "text": [
      "0       '||||||enfp and intj moments    sportscenter n...\n",
      "1       'I'm finding the lack of me in these posts ver...\n",
      "2       'Good one  _____   |||Of course, to which I sa...\n",
      "3       'Dear INTP,   I enjoyed our conversation the o...\n",
      "4       'You're fired.|||That's another silly misconce...\n",
      "5       '18/37 @.@|||Science  is not perfect. No scien...\n",
      "6       'No, I can't draw on my own nails (haha). Thos...\n",
      "7       'I tend to build up a collection of things on ...\n",
      "8       I'm not sure, that's a good question. The dist...\n",
      "9       '|||I'm in this position where I have to actua...\n",
      "10      'One time my parents were fighting over my dad...\n",
      "11      '|||51 :o|||I went through a break up some mon...\n",
      "12      'Joe santagato - ENTP|||ENFJ or  ENTP?   I'm n...\n",
      "13      'Fair enough, if that's how you want to look a...\n",
      "14      'Basically this...  |||Can I has Cheezburgr?||...\n",
      "15      'Your comment screams INTJ, bro. Especially th...\n",
      "16      'some of these both excite and calm me:  BUTTS...\n",
      "17      'I think we do agree. I personally don't consi...\n",
      "18      'I fully believe in the power of being a prote...\n",
      "19      'That's normal, it happens also to me. If I am...\n",
      "20      'Steve Job's was recognized for his striving f...\n",
      "21      'It is very annoying to be misinterpreted. Esp...\n",
      "22      'Now I'm interested. But too lazy to go resear...\n",
      "23      '45016 urh sorry uh. couldn't resist.|||all of...\n",
      "24      'Still going strong at just over the two year ...\n",
      "25      'Personally, I was thinking this would be more...\n",
      "26      'He doesn't want to go on the trip without me,...\n",
      "27      'They paint without numbers|||I'd guess at ist...\n",
      "28      'Basically, my main questions are : What do yo...\n",
      "29      'I think that that can absolutely be true of i...\n",
      "                              ...                        \n",
      "8645    'I play cello, and I'm also a classically trai...\n",
      "8646    Its more or less based on how YOU experienced ...\n",
      "8647    Socionics picked up on this.  They call it vis...\n",
      "8648    'Good advice, thank you.|||I am in a tough sit...\n",
      "8649      enjoy infps|||okok lets stop at kicking walk...\n",
      "8650    'I think the real question is whether INFJs ca...\n",
      "8651    '-Being alone -Being insensitive  -Over thinki...\n",
      "8652    'Being assertive and standing up for myself is...\n",
      "8653    'You should do whatever it is you want. If you...\n",
      "8654    'Assuming I had a hand in it, I always at leas...\n",
      "8655    'I find that poster and your facial expression...\n",
      "8656    Rim  In some approximate order, it seems like ...\n",
      "8657    Social  1) Generally, I positively associate w...\n",
      "8658    'Don't worry, I do that too when a car comes c...\n",
      "8659    'leoni I had really bad social anxiety until I...\n",
      "8660    'I love the vastness of the sky, because my pr...\n",
      "8661    '**haven't logged in and read posts for over 6...\n",
      "8662    'I can't say I have any one specific belief. I...\n",
      "8663    'doesn't matter, you don't have a choice, Elec...\n",
      "8664    '|||So many, but I'd say there's a tie between...\n",
      "8665    'This test wasn't even close on my gender, age...\n",
      "8666    'Highly recommend this to those who wants to t...\n",
      "8667    'I think generally people experience post trau...\n",
      "8668    'Here's a planned stress relieving activity th...\n",
      "8669    'I'm not sure about a method for picking out I...\n",
      "8670    '|||IxFP just because I always think of cats a...\n",
      "8671    'So...if this thread already exists someplace ...\n",
      "8672    'So many questions when i do these things.  I ...\n",
      "8673    'I am very conflicted right now when it comes ...\n",
      "8674    'It has been too long since I have been on per...\n",
      "Name: posts, Length: 8675, dtype: object\n"
     ]
    }
   ],
   "source": [
    "for idx, x in enumerate(data2['posts']):\n",
    "    data2['posts'][idx] = re.sub(r'http([a-z]|[A-Z]|\\.|/|\\?|=|:|[0-9]|_|-)*','',x)\n",
    "    #data2['posts'][idx] = re.sub(r'http('(\\'|\\\")','',x)\n",
    "print(data2['posts'])"
   ]
  },
  {
   "cell_type": "code",
   "execution_count": 14,
   "metadata": {
    "scrolled": true
   },
   "outputs": [
    {
     "name": "stdout",
     "output_type": "stream",
     "text": [
      "      type                                              posts\n",
      "0     INFJ  '||||||enfp and intj moments    sportscenter n...\n",
      "1     ENTP  'I'm finding the lack of me in these posts ver...\n",
      "2     INTP  'Good one  _____   |||Of course, to which I sa...\n",
      "3     INTJ  'Dear INTP,   I enjoyed our conversation the o...\n",
      "4     ENTJ  'You're fired.|||That's another silly misconce...\n",
      "5     INTJ  '18/37 @.@|||Science  is not perfect. No scien...\n",
      "6     INFJ  'No, I can't draw on my own nails (haha). Thos...\n",
      "7     INTJ  'I tend to build up a collection of things on ...\n",
      "8     INFJ  I'm not sure, that's a good question. The dist...\n",
      "9     INTP  '|||I'm in this position where I have to actua...\n",
      "10    INFJ  'One time my parents were fighting over my dad...\n",
      "11    ENFJ  '|||51 :o|||I went through a break up some mon...\n",
      "12    INFJ  'Joe santagato - ENTP|||ENFJ or  ENTP?   I'm n...\n",
      "13    INTJ  'Fair enough, if that's how you want to look a...\n",
      "14    INTP  'Basically this...  |||Can I has Cheezburgr?||...\n",
      "15    INTP  'Your comment screams INTJ, bro. Especially th...\n",
      "16    INFJ  'some of these both excite and calm me:  BUTTS...\n",
      "17    INFP  'I think we do agree. I personally don't consi...\n",
      "18    INFJ  'I fully believe in the power of being a prote...\n",
      "19    INFP  'That's normal, it happens also to me. If I am...\n",
      "20    INTP  'Steve Job's was recognized for his striving f...\n",
      "21    INFJ  'It is very annoying to be misinterpreted. Esp...\n",
      "22    ENTJ  'Now I'm interested. But too lazy to go resear...\n",
      "23    INFP  '45016 urh sorry uh. couldn't resist.|||all of...\n",
      "24    ENTJ  'Still going strong at just over the two year ...\n",
      "25    INFP  'Personally, I was thinking this would be more...\n",
      "26    ENFP  'He doesn't want to go on the trip without me,...\n",
      "27    ISFP  'They paint without numbers|||I'd guess at ist...\n",
      "28    INFP  'Basically, my main questions are : What do yo...\n",
      "29    INFJ  'I think that that can absolutely be true of i...\n",
      "...    ...                                                ...\n",
      "8645  INFJ  'I play cello, and I'm also a classically trai...\n",
      "8646  INFP  Its more or less based on how YOU experienced ...\n",
      "8647  INTP  Socionics picked up on this.  They call it vis...\n",
      "8648  INFP  'Good advice, thank you.|||I am in a tough sit...\n",
      "8649  INFP    enjoy infps|||okok lets stop at kicking walk...\n",
      "8650  INFJ  'I think the real question is whether INFJs ca...\n",
      "8651  ISTP  '-Being alone -Being insensitive  -Over thinki...\n",
      "8652  ISFJ  'Being assertive and standing up for myself is...\n",
      "8653  INFP  'You should do whatever it is you want. If you...\n",
      "8654  ISTJ  'Assuming I had a hand in it, I always at leas...\n",
      "8655  INFJ  'I find that poster and your facial expression...\n",
      "8656  INFJ  Rim  In some approximate order, it seems like ...\n",
      "8657  INTJ  Social  1) Generally, I positively associate w...\n",
      "8658  ESFJ  'Don't worry, I do that too when a car comes c...\n",
      "8659  ENFP  'leoni I had really bad social anxiety until I...\n",
      "8660  INFP  'I love the vastness of the sky, because my pr...\n",
      "8661  ENTP  '**haven't logged in and read posts for over 6...\n",
      "8662  INTJ  'I can't say I have any one specific belief. I...\n",
      "8663  INTP  'doesn't matter, you don't have a choice, Elec...\n",
      "8664  INTP  '|||So many, but I'd say there's a tie between...\n",
      "8665  ENTP  'This test wasn't even close on my gender, age...\n",
      "8666  INTJ  'Highly recommend this to those who wants to t...\n",
      "8667  ENTP  'I think generally people experience post trau...\n",
      "8668  INTJ  'Here's a planned stress relieving activity th...\n",
      "8669  INFJ  'I'm not sure about a method for picking out I...\n",
      "8670  ISFP  '|||IxFP just because I always think of cats a...\n",
      "8671  ENFP  'So...if this thread already exists someplace ...\n",
      "8672  INTP  'So many questions when i do these things.  I ...\n",
      "8673  INFP  'I am very conflicted right now when it comes ...\n",
      "8674  INFP  'It has been too long since I have been on per...\n",
      "\n",
      "[8675 rows x 2 columns]\n"
     ]
    }
   ],
   "source": [
    "print(data2)"
   ]
  },
  {
   "cell_type": "markdown",
   "metadata": {},
   "source": [
    "## III. Data prepartion: Bag of words "
   ]
  },
  {
   "cell_type": "markdown",
   "metadata": {
    "collapsed": true
   },
   "source": [
    "The objective is to extract numerical features vectors from a text, by tokenizing string (separate words of the corpus and give to each token an numerical id, using white-spaces as delimiters), by counting occurences of each token in each post, by normalizing the token (concerning the importance of the token in occurence/post). And, as most features will be zero (when tokenizing phase), we need to manage stockage space (a possibility is using an inverse document with TF-IDF)."
   ]
  },
  {
   "cell_type": "markdown",
   "metadata": {},
   "source": [
    "At first I will construct the train and test set. It needs to be done before the vectorization because the matrix posts/terms  mustn't contain all the words of all the posts but only those of the trainset."
   ]
  },
  {
   "cell_type": "markdown",
   "metadata": {},
   "source": [
    "### 1. Train and Test set"
   ]
  },
  {
   "cell_type": "markdown",
   "metadata": {},
   "source": [
    "I will now divide the dataset in trainset (75%) and testset (25%) to execute models. I will use a specific train/test split function given by scikit-learn."
   ]
  },
  {
   "cell_type": "code",
   "execution_count": 15,
   "metadata": {
    "collapsed": true
   },
   "outputs": [],
   "source": [
    "#Import & train and test set creation\n",
    "from sklearn.model_selection import train_test_split\n",
    "trainset, testset = train_test_split(data2, test_size=0.25)"
   ]
  },
  {
   "cell_type": "code",
   "execution_count": 16,
   "metadata": {
    "scrolled": true
   },
   "outputs": [
    {
     "name": "stdout",
     "output_type": "stream",
     "text": [
      "      type                                              posts\n",
      "781   INTJ  'That's the thing. I can't type her at all. Sh...\n",
      "16    INFJ  'some of these both excite and calm me:  BUTTS...\n",
      "3062  INFP  'If I could just cease to exist, it'd be great...\n",
      "4229  ESTP  'Thanks for the responses, guys! I'd usually l...\n",
      "8458  ISFJ  'You Are by Charlie Wilson.||||||The Portable ...\n",
      "3112  INFP  'it's in the socionics description of an INFJ/...\n",
      "1179  INFP  'Oh you know, I'd be a total badass with nerve...\n",
      "4596  INTP  'I think INTPs are less biased, yes. However, ...\n",
      "1369  INFJ  'My daughter says much the same thing, albeit ...\n",
      "1081  INFP  ':laughing: :laughing:Oh yes you know me so we...\n",
      "7078  INTP  'one's life only makes sense within the contex...\n",
      "4183  ENFP  Hehe, well. I really like to ''pick up'' my st...\n",
      "1699  INTP  'Of the recent and good friends that I am fair...\n",
      "460   INTJ  'INTJ and a proud follower of the Baha'i Faith...\n",
      "1205  INFJ  'Sexual: 45 Self-preservation: 30 Social: 29||...\n",
      "7123  INFP  'yep, yep, yep, especially the last one.    ye...\n",
      "5236  INTP  'I should clarify that this guy hasn't made an...\n",
      "329   INTJ  'Hmmm... I believe Ciel Phantomhive from black...\n",
      "1478  INTJ  'I believe romantic attraction often causes IN...\n",
      "2142  ENFP  'Well, the blue has Ti in there, and the red h...\n",
      "7203  ENTP  'She's one of the most popular and best sellin...\n",
      "2866  INTP  'Easier for whom? I've already stated that, fo...\n",
      "1714  INFJ  'Hi TJ, You sound young, and I am old (52!) an...\n",
      "4865  INFJ  '||||||Do you have more trouble with Fe or Si?...\n",
      "2343  ENTP  'FaintStar  I tested as an INTP on this one, w...\n",
      "4896  INFJ  'Mind reading, telepathy, psychic powers....||...\n",
      "1971  INTJ  'When I was very young, I had my heart set on ...\n",
      "4180  INTP  'Are you me?!  I still really like fantasy, bu...\n",
      "757   INFJ  'How does intj prefer to deal with an argument...\n",
      "1538  ENTP  'Right, I don't see that we're disagreeing so ...\n",
      "...    ...                                                ...\n",
      "906   INFJ  'Your post really makes a lot of sense to me b...\n",
      "8184  ENFP  'Marinashutup is a self confirmed INFP. She's ...\n",
      "3024  ENFP  'Feeling confined :c  Being stuck in a bubble ...\n",
      "7867  INTP  'I will reply to everyones posts as soo as sch...\n",
      "6146  INTP  I loathe BuzzFeed   ||||||||||||||||||||||||Et...\n",
      "7117  INFP  'No doubt they thought that.  And it was no le...\n",
      "5431  INFJ  'To me, a “nice guy” is someone who would pref...\n",
      "332   INFP  'I agree with you on the passion part. I think...\n",
      "385   INFP  The bulk of humanity is just evil.....I want m...\n",
      "6757  INTP  'I am INTP.   From my observation, I think FJs...\n",
      "4820  INFP  I don't know if I should post it on another to...\n",
      "2642  ESTP  'I've encountered a similar situation and I do...\n",
      "1480  ISTJ  'I know y'all aren't going to think this is a ...\n",
      "826   INFP  'Ladies and gentlemen, Blank & Jones. ;)      ...\n",
      "7367  INTP  '&nohtml5=False|||I forgot those things existe...\n",
      "1926  INTJ  'What they do is use their skill. Much like so...\n",
      "5990  INFP  'I had an odd one last night. The setting was ...\n",
      "4227  INTJ  'Well, obviously eat and sleep for example are...\n",
      "4800  INFP  Yo, it is quite funny the standards and such. ...\n",
      "8055  ISFP  'You know, like someone you've known for years...\n",
      "4963  INFJ  Okay Chewbacca.|||I love this hahah!! Thank yo...\n",
      "6372  ESFP  'You're right. It was wrong of me to assume, b...\n",
      "81    INFJ  'Thanks  JayDubs  Miss Bingley LittleDreamer  ...\n",
      "348   INTP  'Stargazing :)|||Hello, nice to meet you :)|||...\n",
      "5420  INTP  Status, @PC_admin? We are still experiencing a...\n",
      "1772  INFJ  1. Would you want to live forever? Why/why not...\n",
      "8076  ENTJ  'Getting money is my favourite kind of complim...\n",
      "2026  INTJ  'I'm loud, I speak fast, and I am an INTJ. So....\n",
      "2795  INFJ  'I have memories from my very firsts years, bu...\n",
      "6069  ENTP  'Some do, some don't. Reiterated, ENTPs are no...\n",
      "\n",
      "[6506 rows x 2 columns]\n"
     ]
    }
   ],
   "source": [
    "print(trainset)"
   ]
  },
  {
   "cell_type": "code",
   "execution_count": 17,
   "metadata": {},
   "outputs": [
    {
     "data": {
      "text/plain": [
       "type     6506\n",
       "posts    6506\n",
       "dtype: int64"
      ]
     },
     "execution_count": 17,
     "metadata": {},
     "output_type": "execute_result"
    }
   ],
   "source": [
    "trainset.count()"
   ]
  },
  {
   "cell_type": "markdown",
   "metadata": {},
   "source": [
    "A trainset with 75% of the dataframe (8675 raws)"
   ]
  },
  {
   "cell_type": "code",
   "execution_count": 18,
   "metadata": {},
   "outputs": [
    {
     "data": {
      "text/plain": [
       "type     2169\n",
       "posts    2169\n",
       "dtype: int64"
      ]
     },
     "execution_count": 18,
     "metadata": {},
     "output_type": "execute_result"
    }
   ],
   "source": [
    "testset.count()"
   ]
  },
  {
   "cell_type": "markdown",
   "metadata": {},
   "source": [
    "A testset with 25% of the dataframe (8675 raws)"
   ]
  },
  {
   "cell_type": "markdown",
   "metadata": {},
   "source": [
    "#### 1.1. Transform the types in numerical number with the dictionary category"
   ]
  },
  {
   "cell_type": "markdown",
   "metadata": {},
   "source": [
    "##### a) For train set"
   ]
  },
  {
   "cell_type": "code",
   "execution_count": 19,
   "metadata": {
    "scrolled": true
   },
   "outputs": [
    {
     "name": "stdout",
     "output_type": "stream",
     "text": [
      "      type                                              posts\n",
      "781   INTJ  'That's the thing. I can't type her at all. Sh...\n",
      "16    INFJ  'some of these both excite and calm me:  BUTTS...\n",
      "3062  INFP  'If I could just cease to exist, it'd be great...\n",
      "4229  ESTP  'Thanks for the responses, guys! I'd usually l...\n",
      "8458  ISFJ  'You Are by Charlie Wilson.||||||The Portable ...\n",
      "3112  INFP  'it's in the socionics description of an INFJ/...\n",
      "1179  INFP  'Oh you know, I'd be a total badass with nerve...\n",
      "4596  INTP  'I think INTPs are less biased, yes. However, ...\n",
      "1369  INFJ  'My daughter says much the same thing, albeit ...\n",
      "1081  INFP  ':laughing: :laughing:Oh yes you know me so we...\n",
      "7078  INTP  'one's life only makes sense within the contex...\n",
      "4183  ENFP  Hehe, well. I really like to ''pick up'' my st...\n",
      "1699  INTP  'Of the recent and good friends that I am fair...\n",
      "460   INTJ  'INTJ and a proud follower of the Baha'i Faith...\n",
      "1205  INFJ  'Sexual: 45 Self-preservation: 30 Social: 29||...\n",
      "7123  INFP  'yep, yep, yep, especially the last one.    ye...\n",
      "5236  INTP  'I should clarify that this guy hasn't made an...\n",
      "329   INTJ  'Hmmm... I believe Ciel Phantomhive from black...\n",
      "1478  INTJ  'I believe romantic attraction often causes IN...\n",
      "2142  ENFP  'Well, the blue has Ti in there, and the red h...\n",
      "7203  ENTP  'She's one of the most popular and best sellin...\n",
      "2866  INTP  'Easier for whom? I've already stated that, fo...\n",
      "1714  INFJ  'Hi TJ, You sound young, and I am old (52!) an...\n",
      "4865  INFJ  '||||||Do you have more trouble with Fe or Si?...\n",
      "2343  ENTP  'FaintStar  I tested as an INTP on this one, w...\n",
      "4896  INFJ  'Mind reading, telepathy, psychic powers....||...\n",
      "1971  INTJ  'When I was very young, I had my heart set on ...\n",
      "4180  INTP  'Are you me?!  I still really like fantasy, bu...\n",
      "757   INFJ  'How does intj prefer to deal with an argument...\n",
      "1538  ENTP  'Right, I don't see that we're disagreeing so ...\n",
      "...    ...                                                ...\n",
      "906   INFJ  'Your post really makes a lot of sense to me b...\n",
      "8184  ENFP  'Marinashutup is a self confirmed INFP. She's ...\n",
      "3024  ENFP  'Feeling confined :c  Being stuck in a bubble ...\n",
      "7867  INTP  'I will reply to everyones posts as soo as sch...\n",
      "6146  INTP  I loathe BuzzFeed   ||||||||||||||||||||||||Et...\n",
      "7117  INFP  'No doubt they thought that.  And it was no le...\n",
      "5431  INFJ  'To me, a “nice guy” is someone who would pref...\n",
      "332   INFP  'I agree with you on the passion part. I think...\n",
      "385   INFP  The bulk of humanity is just evil.....I want m...\n",
      "6757  INTP  'I am INTP.   From my observation, I think FJs...\n",
      "4820  INFP  I don't know if I should post it on another to...\n",
      "2642  ESTP  'I've encountered a similar situation and I do...\n",
      "1480  ISTJ  'I know y'all aren't going to think this is a ...\n",
      "826   INFP  'Ladies and gentlemen, Blank & Jones. ;)      ...\n",
      "7367  INTP  '&nohtml5=False|||I forgot those things existe...\n",
      "1926  INTJ  'What they do is use their skill. Much like so...\n",
      "5990  INFP  'I had an odd one last night. The setting was ...\n",
      "4227  INTJ  'Well, obviously eat and sleep for example are...\n",
      "4800  INFP  Yo, it is quite funny the standards and such. ...\n",
      "8055  ISFP  'You know, like someone you've known for years...\n",
      "4963  INFJ  Okay Chewbacca.|||I love this hahah!! Thank yo...\n",
      "6372  ESFP  'You're right. It was wrong of me to assume, b...\n",
      "81    INFJ  'Thanks  JayDubs  Miss Bingley LittleDreamer  ...\n",
      "348   INTP  'Stargazing :)|||Hello, nice to meet you :)|||...\n",
      "5420  INTP  Status, @PC_admin? We are still experiencing a...\n",
      "1772  INFJ  1. Would you want to live forever? Why/why not...\n",
      "8076  ENTJ  'Getting money is my favourite kind of complim...\n",
      "2026  INTJ  'I'm loud, I speak fast, and I am an INTJ. So....\n",
      "2795  INFJ  'I have memories from my very firsts years, bu...\n",
      "6069  ENTP  'Some do, some don't. Reiterated, ENTPs are no...\n",
      "\n",
      "[6506 rows x 2 columns]\n"
     ]
    }
   ],
   "source": [
    "trainset_type_num = trainset[:]\n",
    "print(trainset_type_num)"
   ]
  },
  {
   "cell_type": "markdown",
   "metadata": {},
   "source": [
    "I am matching the values of the column \"type\" with category."
   ]
  },
  {
   "cell_type": "code",
   "execution_count": 20,
   "metadata": {
    "scrolled": true
   },
   "outputs": [
    {
     "name": "stdout",
     "output_type": "stream",
     "text": [
      "      type                                              posts\n",
      "781      4  'That's the thing. I can't type her at all. Sh...\n",
      "16       1  'some of these both excite and calm me:  BUTTS...\n",
      "3062     7  'If I could just cease to exist, it'd be great...\n",
      "4229    13  'Thanks for the responses, guys! I'd usually l...\n",
      "8458    11  'You Are by Charlie Wilson.||||||The Portable ...\n",
      "3112     7  'it's in the socionics description of an INFJ/...\n",
      "1179     7  'Oh you know, I'd be a total badass with nerve...\n",
      "4596     3  'I think INTPs are less biased, yes. However, ...\n",
      "1369     1  'My daughter says much the same thing, albeit ...\n",
      "1081     7  ':laughing: :laughing:Oh yes you know me so we...\n",
      "7078     3  'one's life only makes sense within the contex...\n",
      "4183     8  Hehe, well. I really like to ''pick up'' my st...\n",
      "1699     3  'Of the recent and good friends that I am fair...\n",
      "460      4  'INTJ and a proud follower of the Baha'i Faith...\n",
      "1205     1  'Sexual: 45 Self-preservation: 30 Social: 29||...\n",
      "7123     7  'yep, yep, yep, especially the last one.    ye...\n",
      "5236     3  'I should clarify that this guy hasn't made an...\n",
      "329      4  'Hmmm... I believe Ciel Phantomhive from black...\n",
      "1478     4  'I believe romantic attraction often causes IN...\n",
      "2142     8  'Well, the blue has Ti in there, and the red h...\n",
      "7203     2  'She's one of the most popular and best sellin...\n",
      "2866     3  'Easier for whom? I've already stated that, fo...\n",
      "1714     1  'Hi TJ, You sound young, and I am old (52!) an...\n",
      "4865     1  '||||||Do you have more trouble with Fe or Si?...\n",
      "2343     2  'FaintStar  I tested as an INTP on this one, w...\n",
      "4896     1  'Mind reading, telepathy, psychic powers....||...\n",
      "1971     4  'When I was very young, I had my heart set on ...\n",
      "4180     3  'Are you me?!  I still really like fantasy, bu...\n",
      "757      1  'How does intj prefer to deal with an argument...\n",
      "1538     2  'Right, I don't see that we're disagreeing so ...\n",
      "...    ...                                                ...\n",
      "906      1  'Your post really makes a lot of sense to me b...\n",
      "8184     8  'Marinashutup is a self confirmed INFP. She's ...\n",
      "3024     8  'Feeling confined :c  Being stuck in a bubble ...\n",
      "7867     3  'I will reply to everyones posts as soo as sch...\n",
      "6146     3  I loathe BuzzFeed   ||||||||||||||||||||||||Et...\n",
      "7117     7  'No doubt they thought that.  And it was no le...\n",
      "5431     1  'To me, a “nice guy” is someone who would pref...\n",
      "332      7  'I agree with you on the passion part. I think...\n",
      "385      7  The bulk of humanity is just evil.....I want m...\n",
      "6757     3  'I am INTP.   From my observation, I think FJs...\n",
      "4820     7  I don't know if I should post it on another to...\n",
      "2642    13  'I've encountered a similar situation and I do...\n",
      "1480    12  'I know y'all aren't going to think this is a ...\n",
      "826      7  'Ladies and gentlemen, Blank & Jones. ;)      ...\n",
      "7367     3  '&nohtml5=False|||I forgot those things existe...\n",
      "1926     4  'What they do is use their skill. Much like so...\n",
      "5990     7  'I had an odd one last night. The setting was ...\n",
      "4227     4  'Well, obviously eat and sleep for example are...\n",
      "4800     7  Yo, it is quite funny the standards and such. ...\n",
      "8055     9  'You know, like someone you've known for years...\n",
      "4963     1  Okay Chewbacca.|||I love this hahah!! Thank yo...\n",
      "6372    14  'You're right. It was wrong of me to assume, b...\n",
      "81       1  'Thanks  JayDubs  Miss Bingley LittleDreamer  ...\n",
      "348      3  'Stargazing :)|||Hello, nice to meet you :)|||...\n",
      "5420     3  Status, @PC_admin? We are still experiencing a...\n",
      "1772     1  1. Would you want to live forever? Why/why not...\n",
      "8076     5  'Getting money is my favourite kind of complim...\n",
      "2026     4  'I'm loud, I speak fast, and I am an INTJ. So....\n",
      "2795     1  'I have memories from my very firsts years, bu...\n",
      "6069     2  'Some do, some don't. Reiterated, ENTPs are no...\n",
      "\n",
      "[6506 rows x 2 columns]\n"
     ]
    }
   ],
   "source": [
    "trainset_type_num['type'] = trainset_type_num['type'].replace(dict_category)\n",
    "print(trainset_type_num)"
   ]
  },
  {
   "cell_type": "markdown",
   "metadata": {},
   "source": [
    "POST TRAIN"
   ]
  },
  {
   "cell_type": "markdown",
   "metadata": {},
   "source": [
    "Here we're keeping in a data frame the \"posts\" column of the train set"
   ]
  },
  {
   "cell_type": "code",
   "execution_count": 21,
   "metadata": {
    "scrolled": true
   },
   "outputs": [
    {
     "name": "stdout",
     "output_type": "stream",
     "text": [
      "                                                  posts\n",
      "781   'That's the thing. I can't type her at all. Sh...\n",
      "16    'some of these both excite and calm me:  BUTTS...\n",
      "3062  'If I could just cease to exist, it'd be great...\n",
      "4229  'Thanks for the responses, guys! I'd usually l...\n",
      "8458  'You Are by Charlie Wilson.||||||The Portable ...\n",
      "3112  'it's in the socionics description of an INFJ/...\n",
      "1179  'Oh you know, I'd be a total badass with nerve...\n",
      "4596  'I think INTPs are less biased, yes. However, ...\n",
      "1369  'My daughter says much the same thing, albeit ...\n",
      "1081  ':laughing: :laughing:Oh yes you know me so we...\n",
      "7078  'one's life only makes sense within the contex...\n",
      "4183  Hehe, well. I really like to ''pick up'' my st...\n",
      "1699  'Of the recent and good friends that I am fair...\n",
      "460   'INTJ and a proud follower of the Baha'i Faith...\n",
      "1205  'Sexual: 45 Self-preservation: 30 Social: 29||...\n",
      "7123  'yep, yep, yep, especially the last one.    ye...\n",
      "5236  'I should clarify that this guy hasn't made an...\n",
      "329   'Hmmm... I believe Ciel Phantomhive from black...\n",
      "1478  'I believe romantic attraction often causes IN...\n",
      "2142  'Well, the blue has Ti in there, and the red h...\n",
      "7203  'She's one of the most popular and best sellin...\n",
      "2866  'Easier for whom? I've already stated that, fo...\n",
      "1714  'Hi TJ, You sound young, and I am old (52!) an...\n",
      "4865  '||||||Do you have more trouble with Fe or Si?...\n",
      "2343  'FaintStar  I tested as an INTP on this one, w...\n",
      "4896  'Mind reading, telepathy, psychic powers....||...\n",
      "1971  'When I was very young, I had my heart set on ...\n",
      "4180  'Are you me?!  I still really like fantasy, bu...\n",
      "757   'How does intj prefer to deal with an argument...\n",
      "1538  'Right, I don't see that we're disagreeing so ...\n",
      "...                                                 ...\n",
      "906   'Your post really makes a lot of sense to me b...\n",
      "8184  'Marinashutup is a self confirmed INFP. She's ...\n",
      "3024  'Feeling confined :c  Being stuck in a bubble ...\n",
      "7867  'I will reply to everyones posts as soo as sch...\n",
      "6146  I loathe BuzzFeed   ||||||||||||||||||||||||Et...\n",
      "7117  'No doubt they thought that.  And it was no le...\n",
      "5431  'To me, a “nice guy” is someone who would pref...\n",
      "332   'I agree with you on the passion part. I think...\n",
      "385   The bulk of humanity is just evil.....I want m...\n",
      "6757  'I am INTP.   From my observation, I think FJs...\n",
      "4820  I don't know if I should post it on another to...\n",
      "2642  'I've encountered a similar situation and I do...\n",
      "1480  'I know y'all aren't going to think this is a ...\n",
      "826   'Ladies and gentlemen, Blank & Jones. ;)      ...\n",
      "7367  '&nohtml5=False|||I forgot those things existe...\n",
      "1926  'What they do is use their skill. Much like so...\n",
      "5990  'I had an odd one last night. The setting was ...\n",
      "4227  'Well, obviously eat and sleep for example are...\n",
      "4800  Yo, it is quite funny the standards and such. ...\n",
      "8055  'You know, like someone you've known for years...\n",
      "4963  Okay Chewbacca.|||I love this hahah!! Thank yo...\n",
      "6372  'You're right. It was wrong of me to assume, b...\n",
      "81    'Thanks  JayDubs  Miss Bingley LittleDreamer  ...\n",
      "348   'Stargazing :)|||Hello, nice to meet you :)|||...\n",
      "5420  Status, @PC_admin? We are still experiencing a...\n",
      "1772  1. Would you want to live forever? Why/why not...\n",
      "8076  'Getting money is my favourite kind of complim...\n",
      "2026  'I'm loud, I speak fast, and I am an INTJ. So....\n",
      "2795  'I have memories from my very firsts years, bu...\n",
      "6069  'Some do, some don't. Reiterated, ENTPs are no...\n",
      "\n",
      "[6506 rows x 1 columns]\n"
     ]
    }
   ],
   "source": [
    "trainset_posts_only = pd.DataFrame(data=trainset_type_num['posts'])\n",
    "print(trainset_posts_only)"
   ]
  },
  {
   "cell_type": "markdown",
   "metadata": {},
   "source": [
    "LABEL NUMBER TRAIN : Dataframe of only posts value of testset "
   ]
  },
  {
   "cell_type": "code",
   "execution_count": 22,
   "metadata": {},
   "outputs": [],
   "source": [
    "trainset_type_num_only = pd.DataFrame(data=trainset_type_num['type'])"
   ]
  },
  {
   "cell_type": "markdown",
   "metadata": {},
   "source": [
    "For models we need to have the \"type\" column alone in numerical value (for the trainset and for the testset). And it's mandatory in our case to have it in an array:"
   ]
  },
  {
   "cell_type": "code",
   "execution_count": 23,
   "metadata": {
    "scrolled": true
   },
   "outputs": [
    {
     "name": "stdout",
     "output_type": "stream",
     "text": [
      "[[4]\n",
      " [1]\n",
      " [7]\n",
      " ..., \n",
      " [4]\n",
      " [1]\n",
      " [2]]\n"
     ]
    },
    {
     "data": {
      "text/plain": [
       "(6506L, 1L)"
      ]
     },
     "execution_count": 23,
     "metadata": {},
     "output_type": "execute_result"
    }
   ],
   "source": [
    "#train set type column only\n",
    "df = trainset_type_num_only.values\n",
    "print(df)\n",
    "df.shape"
   ]
  },
  {
   "cell_type": "markdown",
   "metadata": {},
   "source": [
    "##### b) For test set"
   ]
  },
  {
   "cell_type": "code",
   "execution_count": 24,
   "metadata": {
    "scrolled": true
   },
   "outputs": [
    {
     "name": "stdout",
     "output_type": "stream",
     "text": [
      "      type                                              posts\n",
      "6667  INTP  You have no idea how loudly I just laughed whi...\n",
      "4264  INFJ  'As the title states... What are some tips/ide...\n",
      "3176  INFJ  'Most definitely!...:)|||Yesterday I went swim...\n",
      "4521  INFP  'Yes, but INTJs have a strong sense of individ...\n",
      "7248  ENFP  'Communication with my INTJ can be tricky I re...\n",
      "6586  ENFP  'sarahscriptor thanks so much Sarah. Your word...\n",
      "5382  INFJ  'I'm pretty sure I fight other kinds of windmi...\n",
      "29    INFJ  'I think that that can absolutely be true of i...\n",
      "4340  INFP  'Hon this is quite normal for an INFP to feel ...\n",
      "6465  ENFP  'Istp|||Heh...also very true :D  Do you ever g...\n",
      "3538  ESTP  'Hey that sounds like a good trick then :p  Ac...\n",
      "5176  ESFJ  'I think someone can have ADHD and be introver...\n",
      "670   ISTP  'I like to sing. But I don't think it's becaus...\n",
      "2540  INFJ  'Intps are fun an open intellectually, almost ...\n",
      "3495  ESFJ  'Yep, I'm ESFJ.  Hooray!  |||Big 5 is worthles...\n",
      "3311  INTJ  Absolutely terrible with names. People's faces...\n",
      "6088  INTJ  'yeah, SW is great. I saw him on the last tour...\n",
      "1975  INFP  'Wow, thank you for sharing.  I can relate to ...\n",
      "294   INTJ  '...when you can't stop over analyzing things....\n",
      "1324  INTP  '7 months later... I appreciate all y'alls res...\n",
      "1891  INTP  'Mensch kann tun was er will, er kann aber nic...\n",
      "358   INTP  'Never mind.|||Your brain doesn't ever change ...\n",
      "5656  ENTJ  'I find it a lot easier to believe in God than...\n",
      "1511  INFP  Anyone like wallowing in self pity, and fantas...\n",
      "4534  INTP  'damn! you got me!|||I completely, totally and...\n",
      "5991  ESFJ  'Thanks to ISFJs, who are fantastic listeners ...\n",
      "5212  ENTP  'Rarely. I have to f-up really bad before I ge...\n",
      "5090  INFP  '  ||||||88.75%. i thought i'd answered in a l...\n",
      "7716  INFP  'No, you are absolutely right to be concerned ...\n",
      "4751  ENTJ  'I'm pretty sure I've seen the same study, or ...\n",
      "...    ...                                                ...\n",
      "5165  ENFJ  'So, If a Christian is a follower of Jesus, wh...\n",
      "2909  INFJ  'Talking it out doesn't work. Whenever I want ...\n",
      "7139  ENTP  '17/50 - average score for a male.|||It's cool...\n",
      "1333  INTP  'Well it would be correct to say that men have...\n",
      "8667  ENTP  'I think generally people experience post trau...\n",
      "6157  INFP  'I thought this article was very enlightening....\n",
      "1494  INFJ  'Moving on sucks, I find it helpful to keep ac...\n",
      "4058  INTP  'One thing I find funny about rereading this t...\n",
      "6937  INTJ  'No. The act of picking up smoking in this day...\n",
      "2402  INFP  'flare|||Hi everybody! I don't know what to sa...\n",
      "417   INFP  'So I was thinking today about the cause of my...\n",
      "4616  INFJ  'You're welcome!  Sounds like Ni, so I'd go wi...\n",
      "1412  ISTJ  'One of my best friends and co-workers is quit...\n",
      "7310  ESFJ  'Only from family now really, the occasional o...\n",
      "2590  INTJ  'Have you considered, ENFJ? Just a thought...|...\n",
      "196   INTJ  'People who are too retarded to realize that t...\n",
      "1314  INFP  'Well. Alright. I need to say - I saw so many ...\n",
      "449   INTJ  'Sorry for the late reply. I'm not that active...\n",
      "3260  INFJ  'Islamic though with loose morals lol|||You kn...\n",
      "5970  INTP  My mind is expanding too fucking fast...|||I t...\n",
      "2078  INFJ  'Oh, fair enough then, I'm sorry for misinterp...\n",
      "1294  ISTJ  Some ISTJs are VERY direct, some are not.   As...\n",
      "3615  INTP  'I love my extrovert friends, without them, I ...\n",
      "7008  INFP  'So/sp  from Bernie Sanders, the Populist Prop...\n",
      "2045  INTJ  I couldn't have said better|||It was quite har...\n",
      "8156  INFJ  'I think Trump is a fabulous gay icon.  His ta...\n",
      "8170  ENTJ  'Dear ENTJs,   I seem to like people. I like l...\n",
      "3930  INFJ  'I used to be self-conscious and reserved on t...\n",
      "3266  INFP  'I have almost no self confidence. I feel like...\n",
      "6788  INFP  'Haha well thanks MorningCalm. I'm well aware ...\n",
      "\n",
      "[2169 rows x 2 columns]\n"
     ]
    }
   ],
   "source": [
    "testset_type_num = testset[:]\n",
    "print(testset_type_num)"
   ]
  },
  {
   "cell_type": "markdown",
   "metadata": {},
   "source": [
    "I am matching the values of the column \"type\" with category."
   ]
  },
  {
   "cell_type": "code",
   "execution_count": 25,
   "metadata": {
    "scrolled": true
   },
   "outputs": [
    {
     "name": "stdout",
     "output_type": "stream",
     "text": [
      "      type                                              posts\n",
      "6667     3  You have no idea how loudly I just laughed whi...\n",
      "4264     1  'As the title states... What are some tips/ide...\n",
      "3176     1  'Most definitely!...:)|||Yesterday I went swim...\n",
      "4521     7  'Yes, but INTJs have a strong sense of individ...\n",
      "7248     8  'Communication with my INTJ can be tricky I re...\n",
      "6586     8  'sarahscriptor thanks so much Sarah. Your word...\n",
      "5382     1  'I'm pretty sure I fight other kinds of windmi...\n",
      "29       1  'I think that that can absolutely be true of i...\n",
      "4340     7  'Hon this is quite normal for an INFP to feel ...\n",
      "6465     8  'Istp|||Heh...also very true :D  Do you ever g...\n",
      "3538    13  'Hey that sounds like a good trick then :p  Ac...\n",
      "5176    16  'I think someone can have ADHD and be introver...\n",
      "670     10  'I like to sing. But I don't think it's becaus...\n",
      "2540     1  'Intps are fun an open intellectually, almost ...\n",
      "3495    16  'Yep, I'm ESFJ.  Hooray!  |||Big 5 is worthles...\n",
      "3311     4  Absolutely terrible with names. People's faces...\n",
      "6088     4  'yeah, SW is great. I saw him on the last tour...\n",
      "1975     7  'Wow, thank you for sharing.  I can relate to ...\n",
      "294      4  '...when you can't stop over analyzing things....\n",
      "1324     3  '7 months later... I appreciate all y'alls res...\n",
      "1891     3  'Mensch kann tun was er will, er kann aber nic...\n",
      "358      3  'Never mind.|||Your brain doesn't ever change ...\n",
      "5656     5  'I find it a lot easier to believe in God than...\n",
      "1511     7  Anyone like wallowing in self pity, and fantas...\n",
      "4534     3  'damn! you got me!|||I completely, totally and...\n",
      "5991    16  'Thanks to ISFJs, who are fantastic listeners ...\n",
      "5212     2  'Rarely. I have to f-up really bad before I ge...\n",
      "5090     7  '  ||||||88.75%. i thought i'd answered in a l...\n",
      "7716     7  'No, you are absolutely right to be concerned ...\n",
      "4751     5  'I'm pretty sure I've seen the same study, or ...\n",
      "...    ...                                                ...\n",
      "5165     6  'So, If a Christian is a follower of Jesus, wh...\n",
      "2909     1  'Talking it out doesn't work. Whenever I want ...\n",
      "7139     2  '17/50 - average score for a male.|||It's cool...\n",
      "1333     3  'Well it would be correct to say that men have...\n",
      "8667     2  'I think generally people experience post trau...\n",
      "6157     7  'I thought this article was very enlightening....\n",
      "1494     1  'Moving on sucks, I find it helpful to keep ac...\n",
      "4058     3  'One thing I find funny about rereading this t...\n",
      "6937     4  'No. The act of picking up smoking in this day...\n",
      "2402     7  'flare|||Hi everybody! I don't know what to sa...\n",
      "417      7  'So I was thinking today about the cause of my...\n",
      "4616     1  'You're welcome!  Sounds like Ni, so I'd go wi...\n",
      "1412    12  'One of my best friends and co-workers is quit...\n",
      "7310    16  'Only from family now really, the occasional o...\n",
      "2590     4  'Have you considered, ENFJ? Just a thought...|...\n",
      "196      4  'People who are too retarded to realize that t...\n",
      "1314     7  'Well. Alright. I need to say - I saw so many ...\n",
      "449      4  'Sorry for the late reply. I'm not that active...\n",
      "3260     1  'Islamic though with loose morals lol|||You kn...\n",
      "5970     3  My mind is expanding too fucking fast...|||I t...\n",
      "2078     1  'Oh, fair enough then, I'm sorry for misinterp...\n",
      "1294    12  Some ISTJs are VERY direct, some are not.   As...\n",
      "3615     3  'I love my extrovert friends, without them, I ...\n",
      "7008     7  'So/sp  from Bernie Sanders, the Populist Prop...\n",
      "2045     4  I couldn't have said better|||It was quite har...\n",
      "8156     1  'I think Trump is a fabulous gay icon.  His ta...\n",
      "8170     5  'Dear ENTJs,   I seem to like people. I like l...\n",
      "3930     1  'I used to be self-conscious and reserved on t...\n",
      "3266     7  'I have almost no self confidence. I feel like...\n",
      "6788     7  'Haha well thanks MorningCalm. I'm well aware ...\n",
      "\n",
      "[2169 rows x 2 columns]\n"
     ]
    }
   ],
   "source": [
    "testset_type_num['type'] = testset_type_num['type'].replace(dict_category)\n",
    "print(testset_type_num)"
   ]
  },
  {
   "cell_type": "markdown",
   "metadata": {},
   "source": [
    "Here we're keeping in a data frame the \"posts\" column of the test set"
   ]
  },
  {
   "cell_type": "code",
   "execution_count": 26,
   "metadata": {
    "scrolled": true
   },
   "outputs": [
    {
     "name": "stdout",
     "output_type": "stream",
     "text": [
      "                                                  posts\n",
      "6667  You have no idea how loudly I just laughed whi...\n",
      "4264  'As the title states... What are some tips/ide...\n",
      "3176  'Most definitely!...:)|||Yesterday I went swim...\n",
      "4521  'Yes, but INTJs have a strong sense of individ...\n",
      "7248  'Communication with my INTJ can be tricky I re...\n",
      "6586  'sarahscriptor thanks so much Sarah. Your word...\n",
      "5382  'I'm pretty sure I fight other kinds of windmi...\n",
      "29    'I think that that can absolutely be true of i...\n",
      "4340  'Hon this is quite normal for an INFP to feel ...\n",
      "6465  'Istp|||Heh...also very true :D  Do you ever g...\n",
      "3538  'Hey that sounds like a good trick then :p  Ac...\n",
      "5176  'I think someone can have ADHD and be introver...\n",
      "670   'I like to sing. But I don't think it's becaus...\n",
      "2540  'Intps are fun an open intellectually, almost ...\n",
      "3495  'Yep, I'm ESFJ.  Hooray!  |||Big 5 is worthles...\n",
      "3311  Absolutely terrible with names. People's faces...\n",
      "6088  'yeah, SW is great. I saw him on the last tour...\n",
      "1975  'Wow, thank you for sharing.  I can relate to ...\n",
      "294   '...when you can't stop over analyzing things....\n",
      "1324  '7 months later... I appreciate all y'alls res...\n",
      "1891  'Mensch kann tun was er will, er kann aber nic...\n",
      "358   'Never mind.|||Your brain doesn't ever change ...\n",
      "5656  'I find it a lot easier to believe in God than...\n",
      "1511  Anyone like wallowing in self pity, and fantas...\n",
      "4534  'damn! you got me!|||I completely, totally and...\n",
      "5991  'Thanks to ISFJs, who are fantastic listeners ...\n",
      "5212  'Rarely. I have to f-up really bad before I ge...\n",
      "5090  '  ||||||88.75%. i thought i'd answered in a l...\n",
      "7716  'No, you are absolutely right to be concerned ...\n",
      "4751  'I'm pretty sure I've seen the same study, or ...\n",
      "...                                                 ...\n",
      "5165  'So, If a Christian is a follower of Jesus, wh...\n",
      "2909  'Talking it out doesn't work. Whenever I want ...\n",
      "7139  '17/50 - average score for a male.|||It's cool...\n",
      "1333  'Well it would be correct to say that men have...\n",
      "8667  'I think generally people experience post trau...\n",
      "6157  'I thought this article was very enlightening....\n",
      "1494  'Moving on sucks, I find it helpful to keep ac...\n",
      "4058  'One thing I find funny about rereading this t...\n",
      "6937  'No. The act of picking up smoking in this day...\n",
      "2402  'flare|||Hi everybody! I don't know what to sa...\n",
      "417   'So I was thinking today about the cause of my...\n",
      "4616  'You're welcome!  Sounds like Ni, so I'd go wi...\n",
      "1412  'One of my best friends and co-workers is quit...\n",
      "7310  'Only from family now really, the occasional o...\n",
      "2590  'Have you considered, ENFJ? Just a thought...|...\n",
      "196   'People who are too retarded to realize that t...\n",
      "1314  'Well. Alright. I need to say - I saw so many ...\n",
      "449   'Sorry for the late reply. I'm not that active...\n",
      "3260  'Islamic though with loose morals lol|||You kn...\n",
      "5970  My mind is expanding too fucking fast...|||I t...\n",
      "2078  'Oh, fair enough then, I'm sorry for misinterp...\n",
      "1294  Some ISTJs are VERY direct, some are not.   As...\n",
      "3615  'I love my extrovert friends, without them, I ...\n",
      "7008  'So/sp  from Bernie Sanders, the Populist Prop...\n",
      "2045  I couldn't have said better|||It was quite har...\n",
      "8156  'I think Trump is a fabulous gay icon.  His ta...\n",
      "8170  'Dear ENTJs,   I seem to like people. I like l...\n",
      "3930  'I used to be self-conscious and reserved on t...\n",
      "3266  'I have almost no self confidence. I feel like...\n",
      "6788  'Haha well thanks MorningCalm. I'm well aware ...\n",
      "\n",
      "[2169 rows x 1 columns]\n"
     ]
    }
   ],
   "source": [
    "testset_posts_only = pd.DataFrame(data=testset_type_num['posts'])\n",
    "print(testset_posts_only)"
   ]
  },
  {
   "cell_type": "markdown",
   "metadata": {},
   "source": [
    "LABEL NUMBER TEST : Dataframe of only numerical type value of testset "
   ]
  },
  {
   "cell_type": "code",
   "execution_count": 27,
   "metadata": {
    "scrolled": true
   },
   "outputs": [
    {
     "name": "stdout",
     "output_type": "stream",
     "text": [
      "      type\n",
      "6667     3\n",
      "4264     1\n",
      "3176     1\n",
      "4521     7\n",
      "7248     8\n",
      "6586     8\n",
      "5382     1\n",
      "29       1\n",
      "4340     7\n",
      "6465     8\n",
      "3538    13\n",
      "5176    16\n",
      "670     10\n",
      "2540     1\n",
      "3495    16\n",
      "3311     4\n",
      "6088     4\n",
      "1975     7\n",
      "294      4\n",
      "1324     3\n",
      "1891     3\n",
      "358      3\n",
      "5656     5\n",
      "1511     7\n",
      "4534     3\n",
      "5991    16\n",
      "5212     2\n",
      "5090     7\n",
      "7716     7\n",
      "4751     5\n",
      "...    ...\n",
      "5165     6\n",
      "2909     1\n",
      "7139     2\n",
      "1333     3\n",
      "8667     2\n",
      "6157     7\n",
      "1494     1\n",
      "4058     3\n",
      "6937     4\n",
      "2402     7\n",
      "417      7\n",
      "4616     1\n",
      "1412    12\n",
      "7310    16\n",
      "2590     4\n",
      "196      4\n",
      "1314     7\n",
      "449      4\n",
      "3260     1\n",
      "5970     3\n",
      "2078     1\n",
      "1294    12\n",
      "3615     3\n",
      "7008     7\n",
      "2045     4\n",
      "8156     1\n",
      "8170     5\n",
      "3930     1\n",
      "3266     7\n",
      "6788     7\n",
      "\n",
      "[2169 rows x 1 columns]\n"
     ]
    }
   ],
   "source": [
    "testset_type_num_only = pd.DataFrame(data=testset_type_num['type'])\n",
    "print(testset_type_num_only)"
   ]
  },
  {
   "cell_type": "markdown",
   "metadata": {},
   "source": [
    "For models we need to have the \"type\" column alone in numerical value (for the trainset and for the testset). And it's mandatory in our case to have it in array:"
   ]
  },
  {
   "cell_type": "code",
   "execution_count": 28,
   "metadata": {},
   "outputs": [
    {
     "name": "stdout",
     "output_type": "stream",
     "text": [
      "[[3]\n",
      " [1]\n",
      " [1]\n",
      " ..., \n",
      " [1]\n",
      " [7]\n",
      " [7]]\n"
     ]
    },
    {
     "data": {
      "text/plain": [
       "(2169L, 1L)"
      ]
     },
     "execution_count": 28,
     "metadata": {},
     "output_type": "execute_result"
    }
   ],
   "source": [
    "#test set type column only\n",
    "df_test = testset_type_num_only.values\n",
    "print(df_test)\n",
    "df_test.shape"
   ]
  },
  {
   "cell_type": "markdown",
   "metadata": {},
   "source": [
    "### 2. Vectorization using CountVectorizer of scikit-learn"
   ]
  },
  {
   "cell_type": "markdown",
   "metadata": {},
   "source": [
    "CountVectorizer is doing in a single class the (1) tokenization and the (2) count occurences"
   ]
  },
  {
   "cell_type": "markdown",
   "metadata": {},
   "source": [
    "For train"
   ]
  },
  {
   "cell_type": "code",
   "execution_count": 29,
   "metadata": {
    "collapsed": true
   },
   "outputs": [],
   "source": [
    "train_for_vec = trainset\n",
    "from sklearn.feature_extraction.text import CountVectorizer\n",
    "count_vect = CountVectorizer()\n",
    "train_counts = count_vect.fit_transform(train_for_vec['posts'])"
   ]
  },
  {
   "cell_type": "markdown",
   "metadata": {},
   "source": [
    "For test"
   ]
  },
  {
   "cell_type": "code",
   "execution_count": 30,
   "metadata": {
    "collapsed": true
   },
   "outputs": [],
   "source": [
    "test_counts = count_vect.transform(testset['posts'])"
   ]
  },
  {
   "cell_type": "code",
   "execution_count": 31,
   "metadata": {},
   "outputs": [
    {
     "data": {
      "text/plain": [
       "(6506, 94105)"
      ]
     },
     "execution_count": 31,
     "metadata": {},
     "output_type": "execute_result"
    }
   ],
   "source": [
    "train_counts.shape"
   ]
  },
  {
   "cell_type": "code",
   "execution_count": 32,
   "metadata": {},
   "outputs": [
    {
     "data": {
      "text/plain": [
       "(2169, 94105)"
      ]
     },
     "execution_count": 32,
     "metadata": {},
     "output_type": "execute_result"
    }
   ],
   "source": [
    "test_counts.shape"
   ]
  },
  {
   "cell_type": "markdown",
   "metadata": {},
   "source": [
    "It's give us two sparce matrices: one of 6506 x 94411 (for train) with 614 237 966 elements (zero included as we can see below) and one of 2169 x 94411 (for test) with 204 777 459 elements (zero included as we can see below). For the models it's important to have two matrices of the same dimension (94411), that is why I am only doing the transform() on testset and not the fit()."
   ]
  },
  {
   "cell_type": "code",
   "execution_count": 33,
   "metadata": {},
   "outputs": [
    {
     "data": {
      "text/plain": [
       "array([[0, 0, 0, ..., 0, 0, 0],\n",
       "       [0, 0, 0, ..., 0, 0, 0],\n",
       "       [0, 0, 0, ..., 0, 0, 0],\n",
       "       ..., \n",
       "       [0, 0, 0, ..., 0, 0, 0],\n",
       "       [0, 0, 0, ..., 0, 0, 0],\n",
       "       [0, 0, 0, ..., 0, 0, 0]], dtype=int64)"
      ]
     },
     "execution_count": 33,
     "metadata": {},
     "output_type": "execute_result"
    }
   ],
   "source": [
    "train_counts.toarray()"
   ]
  },
  {
   "cell_type": "code",
   "execution_count": 34,
   "metadata": {},
   "outputs": [
    {
     "data": {
      "text/plain": [
       "array([[0, 0, 0, ..., 0, 0, 0],\n",
       "       [0, 0, 0, ..., 0, 0, 0],\n",
       "       [0, 0, 0, ..., 0, 0, 0],\n",
       "       ..., \n",
       "       [0, 0, 0, ..., 0, 0, 0],\n",
       "       [0, 0, 0, ..., 0, 0, 0],\n",
       "       [0, 0, 0, ..., 0, 0, 0]], dtype=int64)"
      ]
     },
     "execution_count": 34,
     "metadata": {},
     "output_type": "execute_result"
    }
   ],
   "source": [
    "test_counts.toarray()"
   ]
  },
  {
   "cell_type": "code",
   "execution_count": 35,
   "metadata": {
    "scrolled": true
   },
   "outputs": [
    {
     "name": "stdout",
     "output_type": "stream",
     "text": [
      "  (0, 12531)\t1\n",
      "  (0, 70374)\t1\n",
      "  (0, 57296)\t1\n",
      "  (0, 66266)\t1\n",
      "  (0, 76838)\t1\n",
      "  (0, 12537)\t1\n",
      "  (0, 18832)\t1\n",
      "  (0, 12574)\t1\n",
      "  (0, 52739)\t1\n",
      "  (0, 54536)\t1\n",
      "  (0, 44762)\t1\n",
      "  (0, 79117)\t1\n",
      "  (0, 9550)\t1\n",
      "  (0, 82756)\t1\n",
      "  (0, 48799)\t1\n",
      "  (0, 38356)\t1\n",
      "  (0, 73474)\t2\n",
      "  (0, 53520)\t2\n",
      "  (0, 80544)\t1\n",
      "  (0, 37208)\t1\n",
      "  (0, 55108)\t2\n",
      "  (0, 53500)\t2\n",
      "  (0, 43501)\t1\n",
      "  (0, 36406)\t1\n",
      "  (0, 50075)\t1\n",
      "  :\t:\n",
      "  (6505, 38697)\t1\n",
      "  (6505, 60544)\t6\n",
      "  (6505, 50748)\t11\n",
      "  (6505, 88519)\t8\n",
      "  (6505, 14083)\t1\n",
      "  (6505, 46298)\t18\n",
      "  (6505, 17269)\t12\n",
      "  (6505, 86821)\t1\n",
      "  (6505, 88806)\t3\n",
      "  (6505, 40245)\t7\n",
      "  (6505, 10017)\t55\n",
      "  (6505, 83912)\t3\n",
      "  (6505, 60151)\t38\n",
      "  (6505, 69072)\t1\n",
      "  (6505, 7963)\t1\n",
      "  (6505, 84151)\t49\n",
      "  (6505, 74978)\t3\n",
      "  (6505, 9303)\t11\n",
      "  (6505, 11970)\t3\n",
      "  (6505, 41027)\t2\n",
      "  (6505, 85995)\t1\n",
      "  (6505, 17793)\t10\n",
      "  (6505, 83404)\t2\n",
      "  (6505, 83026)\t40\n",
      "  (6505, 82987)\t21\n"
     ]
    }
   ],
   "source": [
    "print(train_counts)"
   ]
  },
  {
   "cell_type": "code",
   "execution_count": 36,
   "metadata": {
    "scrolled": true
   },
   "outputs": [
    {
     "name": "stdout",
     "output_type": "stream",
     "text": [
      "  (0, 137)\t1\n",
      "  (0, 2048)\t2\n",
      "  (0, 3989)\t1\n",
      "  (0, 4008)\t1\n",
      "  (0, 4833)\t2\n",
      "  (0, 4836)\t2\n",
      "  (0, 6758)\t1\n",
      "  (0, 7440)\t1\n",
      "  (0, 7442)\t1\n",
      "  (0, 7456)\t1\n",
      "  (0, 7504)\t1\n",
      "  (0, 7557)\t1\n",
      "  (0, 7676)\t1\n",
      "  (0, 7974)\t1\n",
      "  (0, 7984)\t1\n",
      "  (0, 8225)\t1\n",
      "  (0, 8315)\t1\n",
      "  (0, 8365)\t2\n",
      "  (0, 8483)\t1\n",
      "  (0, 8568)\t3\n",
      "  (0, 8717)\t1\n",
      "  (0, 8735)\t1\n",
      "  (0, 8772)\t1\n",
      "  (0, 9268)\t1\n",
      "  (0, 9303)\t5\n",
      "  :\t:\n",
      "  (2168, 90966)\t1\n",
      "  (2168, 91130)\t1\n",
      "  (2168, 91264)\t1\n",
      "  (2168, 91392)\t14\n",
      "  (2168, 91417)\t2\n",
      "  (2168, 91751)\t1\n",
      "  (2168, 91778)\t1\n",
      "  (2168, 91781)\t1\n",
      "  (2168, 91855)\t1\n",
      "  (2168, 91878)\t2\n",
      "  (2168, 91902)\t4\n",
      "  (2168, 92012)\t1\n",
      "  (2168, 92023)\t1\n",
      "  (2168, 92428)\t1\n",
      "  (2168, 92731)\t1\n",
      "  (2168, 92814)\t2\n",
      "  (2168, 92854)\t1\n",
      "  (2168, 92866)\t1\n",
      "  (2168, 92880)\t1\n",
      "  (2168, 92996)\t1\n",
      "  (2168, 93030)\t1\n",
      "  (2168, 93195)\t18\n",
      "  (2168, 93240)\t6\n",
      "  (2168, 93252)\t1\n",
      "  (2168, 93271)\t1\n"
     ]
    }
   ],
   "source": [
    "print(test_counts)"
   ]
  },
  {
   "cell_type": "code",
   "execution_count": 37,
   "metadata": {},
   "outputs": [
    {
     "data": {
      "text/plain": [
       "23282"
      ]
     },
     "execution_count": 37,
     "metadata": {},
     "output_type": "execute_result"
    }
   ],
   "source": [
    "count_vect.vocabulary_.get('crazy')"
   ]
  },
  {
   "cell_type": "markdown",
   "metadata": {},
   "source": [
    "Here an example, we have 23411 occurences of the word \"crazy\" in the posts. "
   ]
  },
  {
   "cell_type": "markdown",
   "metadata": {},
   "source": [
    "Now we have (1) tokenized the posts content and (2) counted the words occurencies, but it's better to work with frequencies."
   ]
  },
  {
   "cell_type": "markdown",
   "metadata": {},
   "source": [
    "Currently we are using only a dictionnary of 1-grams (individual words) because default value for the function CountVectorizer() is ngram_range=(1, 1). But we can take 2-grams (using parameter ngram_range=(1, 2) in the function) if we want to enrich the dictionnary (we have also groups of two words), but it is also taking much more place. So I will choose for the moment to use only 1-gram (and maybe enrich later if necessary)."
   ]
  },
  {
   "cell_type": "markdown",
   "metadata": {},
   "source": [
    "### 3. TF-IDF"
   ]
  },
  {
   "cell_type": "markdown",
   "metadata": {},
   "source": [
    "To avoid space stockage issues, I will use the TF-IDF (term frequency-inverse document frequency) methods, which will allow for example (1:tf) to divide each occurences of a word in a post by total number of words in this post (that give new features names tf). This method also allows (2:tf-idf) to give less weight (importance) on words which appear in many posts of the corpus and automatically that give less information than words that appear in a smaller sample of posts."
   ]
  },
  {
   "cell_type": "markdown",
   "metadata": {},
   "source": [
    "$ tfidf(t,d) = tf(t,d) * idf(t) $"
   ]
  },
  {
   "cell_type": "code",
   "execution_count": 38,
   "metadata": {},
   "outputs": [
    {
     "data": {
      "text/plain": [
       "(6506, 94105)"
      ]
     },
     "execution_count": 38,
     "metadata": {},
     "output_type": "execute_result"
    }
   ],
   "source": [
    "from sklearn.feature_extraction.text import TfidfTransformer\n",
    "tfidf_transformer = TfidfTransformer()\n",
    "train_tfidf = tfidf_transformer.fit_transform(train_counts)\n",
    "train_tfidf.shape"
   ]
  },
  {
   "cell_type": "markdown",
   "metadata": {},
   "source": [
    "With the function \"fit_tranform()\" we are doing in one time the fit() which fits the estimator to the data (1:tf) and the transform() which transforms the matrix of occurences (data_counts) in tf-idf matrix with frequencies (2:tf-idf)."
   ]
  },
  {
   "cell_type": "code",
   "execution_count": 39,
   "metadata": {},
   "outputs": [
    {
     "data": {
      "text/plain": [
       "(2169, 94105)"
      ]
     },
     "execution_count": 39,
     "metadata": {},
     "output_type": "execute_result"
    }
   ],
   "source": [
    "test_tfidf = tfidf_transformer.transform(test_counts)\n",
    "test_tfidf.shape"
   ]
  },
  {
   "cell_type": "markdown",
   "metadata": {},
   "source": [
    "To fit in the model the matrix test and train tf-idf need to be same dimention (94411)"
   ]
  },
  {
   "cell_type": "markdown",
   "metadata": {},
   "source": [
    "## IV. Models "
   ]
  },
  {
   "cell_type": "markdown",
   "metadata": {},
   "source": [
    "### 1. Training a classifier: MultinomialNB"
   ]
  },
  {
   "cell_type": "markdown",
   "metadata": {},
   "source": [
    "Now we are training a classifier using all those features to classify posts. We will use a basic Naive Bayes classifier named MultinomialNB also provided by scikit-learn."
   ]
  },
  {
   "cell_type": "code",
   "execution_count": 41,
   "metadata": {},
   "outputs": [],
   "source": [
    "from sklearn.naive_bayes import MultinomialNB\n",
    "cl = MultinomialNB().fit(train_tfidf, df)"
   ]
  },
  {
   "cell_type": "markdown",
   "metadata": {},
   "source": [
    "I could also use a Pipeline to do the Vectorization, Tf-idf and the classifier step faster and easier, using scikit-learn class sklearn.pipeline. It could be an improvement for later."
   ]
  },
  {
   "cell_type": "markdown",
   "metadata": {},
   "source": [
    "#### Test of the model performance on testset"
   ]
  },
  {
   "cell_type": "markdown",
   "metadata": {},
   "source": [
    "Construct a class prediction for tf-idf matrix of test"
   ]
  },
  {
   "cell_type": "code",
   "execution_count": 42,
   "metadata": {},
   "outputs": [],
   "source": [
    "predicted = cl.predict(test_tfidf)"
   ]
  },
  {
   "cell_type": "markdown",
   "metadata": {},
   "source": [
    "Now we are calculating the prediction accuracy using metrix from scikit-learn"
   ]
  },
  {
   "cell_type": "code",
   "execution_count": 43,
   "metadata": {},
   "outputs": [
    {
     "data": {
      "text/plain": [
       "0.20931304748732135"
      ]
     },
     "execution_count": 43,
     "metadata": {},
     "output_type": "execute_result"
    }
   ],
   "source": [
    "from sklearn import metrics\n",
    "metrics.accuracy_score(df_test, predicted)"
   ]
  },
  {
   "cell_type": "markdown",
   "metadata": {},
   "source": [
    "I have now the accuracy of the first results, which is pretty bad: only 21% of the posts are well classified (associated to the good MBTI type). Several reasons can explain this result: at first, the previous steps of words treatement (data cleaning, tokenization, occurencies count, normalization) were not good enough, or we may need to change the classifier to see other results."
   ]
  },
  {
   "cell_type": "markdown",
   "metadata": {},
   "source": [
    "### 2. Using another classifier: SVM"
   ]
  },
  {
   "cell_type": "markdown",
   "metadata": {},
   "source": [
    "I will use another classifier to try improving my prediction: SVM (Support vector machine) with stochastic gradient descent (SGD), which is supposed to be good for text classification. I am using the default values for SGDClassifier. I am also trying the pipeline (explained before), which is doing in one time the Vectorization, the occurences count (CountVectorizer), the normalization (Tf-idf) and the classifier (here SVM)."
   ]
  },
  {
   "cell_type": "code",
   "execution_count": 44,
   "metadata": {},
   "outputs": [
    {
     "data": {
      "text/plain": [
       "Pipeline(memory=None,\n",
       "     steps=[('vect_count_svm', CountVectorizer(analyzer=u'word', binary=False, decode_error=u'strict',\n",
       "        dtype=<type 'numpy.int64'>, encoding=u'utf-8', input=u'content',\n",
       "        lowercase=True, max_df=1.0, max_features=None, min_df=1,\n",
       "        ngram_range=(1, 1), preprocessor=None, stop_words=None,\n",
       "...ty='l2', power_t=0.5, random_state=42, shuffle=True,\n",
       "       tol=None, verbose=0, warm_start=False))])"
      ]
     },
     "execution_count": 44,
     "metadata": {},
     "output_type": "execute_result"
    }
   ],
   "source": [
    "from sklearn.linear_model import SGDClassifier\n",
    "from sklearn.pipeline import Pipeline\n",
    "\n",
    "pipeline = Pipeline([('vect_count_svm', CountVectorizer()), ('tfidf', TfidfTransformer()), ('svm_cl', SGDClassifier(loss='hinge', penalty='l2', alpha=1e-3, random_state=42, max_iter=5, tol=None))])\n",
    "pipeline.fit(trainset['posts'],df)"
   ]
  },
  {
   "cell_type": "code",
   "execution_count": 45,
   "metadata": {
    "collapsed": true
   },
   "outputs": [],
   "source": [
    "svm_predicted = pipeline.predict(testset['posts'])"
   ]
  },
  {
   "cell_type": "markdown",
   "metadata": {},
   "source": [
    "Evalution of SVM prediction accuracy."
   ]
  },
  {
   "cell_type": "code",
   "execution_count": 46,
   "metadata": {},
   "outputs": [
    {
     "data": {
      "text/plain": [
       "0.66113416320885199"
      ]
     },
     "execution_count": 46,
     "metadata": {},
     "output_type": "execute_result"
    }
   ],
   "source": [
    "metrics.accuracy_score(df_test, svm_predicted)"
   ]
  },
  {
   "cell_type": "markdown",
   "metadata": {},
   "source": [
    "Here we can see that the prediction is much more better than before (even though they still not that good) with Naive Bayes classifier (MultinomialNB). Around 66% of posts are well classified, which is better than 21% earlier."
   ]
  },
  {
   "cell_type": "markdown",
   "metadata": {},
   "source": [
    "### 3. Using another classifier: Logistic regression"
   ]
  },
  {
   "cell_type": "markdown",
   "metadata": {},
   "source": [
    "I will try another classifier proposed by scikit-learn, the Logistic regression which is a linear model"
   ]
  },
  {
   "cell_type": "code",
   "execution_count": 47,
   "metadata": {},
   "outputs": [
    {
     "data": {
      "text/plain": [
       "LogisticRegression(C=1.0, class_weight=None, dual=False, fit_intercept=True,\n",
       "          intercept_scaling=1, max_iter=100, multi_class='ovr', n_jobs=1,\n",
       "          penalty='l2', random_state=None, solver='liblinear', tol=0.0001,\n",
       "          verbose=0, warm_start=False)"
      ]
     },
     "execution_count": 47,
     "metadata": {},
     "output_type": "execute_result"
    }
   ],
   "source": [
    "#import \n",
    "from sklearn.linear_model import LogisticRegression\n",
    "#initialization of the model\n",
    "loreg = LogisticRegression()\n",
    "#train the model\n",
    "loreg.fit(train_tfidf, df)"
   ]
  },
  {
   "cell_type": "code",
   "execution_count": 48,
   "metadata": {
    "collapsed": true
   },
   "outputs": [],
   "source": [
    "#prediction class\n",
    "loreg_predicted = loreg.predict(test_tfidf)"
   ]
  },
  {
   "cell_type": "code",
   "execution_count": 49,
   "metadata": {},
   "outputs": [
    {
     "data": {
      "text/plain": [
       "0.58690640848317199"
      ]
     },
     "execution_count": 49,
     "metadata": {},
     "output_type": "execute_result"
    }
   ],
   "source": [
    "#prediction accuracy\n",
    "metrics.accuracy_score(df_test, loreg_predicted)"
   ]
  },
  {
   "cell_type": "markdown",
   "metadata": {},
   "source": [
    "The result of our prediction using linear regression model is 59% accuracy for posts classification, which is a bit less than SGDClassifier."
   ]
  },
  {
   "cell_type": "markdown",
   "metadata": {},
   "source": [
    "## V. Improve Bag of words"
   ]
  },
  {
   "cell_type": "markdown",
   "metadata": {},
   "source": [
    "As our prediction accuracy is not very good, I will try to improve the Vectorization"
   ]
  },
  {
   "cell_type": "code",
   "execution_count": 50,
   "metadata": {
    "collapsed": true
   },
   "outputs": [],
   "source": [
    "# 1: Improve by removing the english stop words (as the posts in the origin dataset are in english)\n",
    "# 2: Improve by adding in the word dictionnary group of two words\n",
    "# 3: Improve by removing words that appear in more than 50% of the posts\n",
    "# 4: Improve by removing words that appear in less than two posts\n",
    "improve_count_vect = CountVectorizer(stop_words='english', ngram_range=(1, 2), max_df=0.5, min_df=2)"
   ]
  },
  {
   "cell_type": "markdown",
   "metadata": {},
   "source": [
    "### 1. Vectorization on train and test set"
   ]
  },
  {
   "cell_type": "code",
   "execution_count": 51,
   "metadata": {
    "collapsed": true
   },
   "outputs": [],
   "source": [
    "#train vectorization\n",
    "improve_train_counts = improve_count_vect.fit_transform(train_for_vec['posts'])"
   ]
  },
  {
   "cell_type": "code",
   "execution_count": 52,
   "metadata": {
    "collapsed": true
   },
   "outputs": [],
   "source": [
    "#test vectorization\n",
    "improve_test_counts = improve_count_vect.transform(testset['posts'])"
   ]
  },
  {
   "cell_type": "markdown",
   "metadata": {},
   "source": [
    "### 2. TF-IDF on train and test set"
   ]
  },
  {
   "cell_type": "code",
   "execution_count": 53,
   "metadata": {},
   "outputs": [
    {
     "data": {
      "text/plain": [
       "(6506, 413901)"
      ]
     },
     "execution_count": 53,
     "metadata": {},
     "output_type": "execute_result"
    }
   ],
   "source": [
    "#train tf-idf\n",
    "improve_train_tfidf = tfidf_transformer.fit_transform(improve_train_counts)\n",
    "improve_train_tfidf.shape"
   ]
  },
  {
   "cell_type": "code",
   "execution_count": 54,
   "metadata": {},
   "outputs": [
    {
     "data": {
      "text/plain": [
       "(2169, 413901)"
      ]
     },
     "execution_count": 54,
     "metadata": {},
     "output_type": "execute_result"
    }
   ],
   "source": [
    "#train tf-idf\n",
    "improve_test_tfidf = tfidf_transformer.transform(improve_test_counts)\n",
    "improve_test_tfidf.shape"
   ]
  },
  {
   "cell_type": "markdown",
   "metadata": {},
   "source": [
    "### 3. Redo models with this improvement"
   ]
  },
  {
   "cell_type": "markdown",
   "metadata": {},
   "source": [
    "#### a) NBMultinomial"
   ]
  },
  {
   "cell_type": "code",
   "execution_count": 55,
   "metadata": {
    "collapsed": true
   },
   "outputs": [],
   "source": [
    "# Initialization & Train of the model\n",
    "improve_cl = MultinomialNB().fit(improve_train_tfidf, df)"
   ]
  },
  {
   "cell_type": "code",
   "execution_count": 56,
   "metadata": {
    "collapsed": true
   },
   "outputs": [],
   "source": [
    "#Prediction class\n",
    "BN_improve_predicted = improve_cl.predict(improve_test_tfidf)"
   ]
  },
  {
   "cell_type": "code",
   "execution_count": 57,
   "metadata": {},
   "outputs": [
    {
     "data": {
      "text/plain": [
       "0.21023513139695713"
      ]
     },
     "execution_count": 57,
     "metadata": {},
     "output_type": "execute_result"
    }
   ],
   "source": [
    "#Accuracy of the model\n",
    "metrics.accuracy_score(df_test, BN_improve_predicted)"
   ]
  },
  {
   "cell_type": "markdown",
   "metadata": {},
   "source": [
    "The result of our modifications on the Vectorization is not relevant for NBMultinomial classifier, which appears to be almost the same percentage of accuracy (around 21% of posts are well classified)."
   ]
  },
  {
   "cell_type": "markdown",
   "metadata": {},
   "source": [
    "#### b) SVM "
   ]
  },
  {
   "cell_type": "code",
   "execution_count": 58,
   "metadata": {
    "collapsed": true
   },
   "outputs": [],
   "source": [
    "# Initialization & Train of the model\n",
    "improve_svm_cl = SGDClassifier(loss='hinge', penalty='l2', alpha=1e-3, random_state=42, max_iter=5, tol=None).fit(improve_train_tfidf, df)"
   ]
  },
  {
   "cell_type": "code",
   "execution_count": 59,
   "metadata": {
    "collapsed": true
   },
   "outputs": [],
   "source": [
    "#Prediction class\n",
    "svm_improve_predicted = improve_svm_cl.predict(improve_test_tfidf)"
   ]
  },
  {
   "cell_type": "code",
   "execution_count": 60,
   "metadata": {},
   "outputs": [
    {
     "data": {
      "text/plain": [
       "0.66943291839557395"
      ]
     },
     "execution_count": 60,
     "metadata": {},
     "output_type": "execute_result"
    }
   ],
   "source": [
    "#Accuracy of the model\n",
    "metrics.accuracy_score(df_test, svm_improve_predicted)"
   ]
  },
  {
   "cell_type": "markdown",
   "metadata": {},
   "source": [
    "Here again the modifications on CountVectorizer do not appear relevant, the classification accuracy is almost the same as before (67%)."
   ]
  },
  {
   "cell_type": "markdown",
   "metadata": {},
   "source": [
    "#### c) Logistic Regression"
   ]
  },
  {
   "cell_type": "code",
   "execution_count": 61,
   "metadata": {
    "collapsed": true
   },
   "outputs": [],
   "source": [
    "#Initialization & Train of the model\n",
    "improve_loreg = LogisticRegression().fit(improve_train_tfidf, df)"
   ]
  },
  {
   "cell_type": "code",
   "execution_count": 62,
   "metadata": {
    "collapsed": true
   },
   "outputs": [],
   "source": [
    "#Prediction class\n",
    "improve_loreg_predicted = improve_loreg.predict(improve_test_tfidf)"
   ]
  },
  {
   "cell_type": "code",
   "execution_count": 63,
   "metadata": {},
   "outputs": [
    {
     "data": {
      "text/plain": [
       "0.58091286307053946"
      ]
     },
     "execution_count": 63,
     "metadata": {},
     "output_type": "execute_result"
    }
   ],
   "source": [
    "#Accuracy of the model\n",
    "metrics.accuracy_score(df_test, improve_loreg_predicted)"
   ]
  },
  {
   "cell_type": "markdown",
   "metadata": {},
   "source": [
    "Same observations than before, the result is not better after the modifications."
   ]
  },
  {
   "cell_type": "markdown",
   "metadata": {},
   "source": [
    "### 4. Conclusion on improvement"
   ]
  },
  {
   "cell_type": "markdown",
   "metadata": {},
   "source": [
    "To conclude those improvements where not relevant, because the accuracy of each models did not improve"
   ]
  },
  {
   "cell_type": "markdown",
   "metadata": {},
   "source": [
    "## VI. Global conclusion"
   ]
  },
  {
   "cell_type": "markdown",
   "metadata": {},
   "source": [
    "We have tested several models to classify posts in the right MBTI type such as NBMultinomial, Gradien Descent (SGDClassifier) and Logistic Regression. We have also tried to improve the vectorization (tokenization and occurences count part) by adding parameters to the CountVectorizer() function, but it appears to be irrelevant, because predictions accuracy did not improve."
   ]
  },
  {
   "cell_type": "markdown",
   "metadata": {},
   "source": [
    "Currently the best classifier to classify posts with MBTI type is SVM (SGDClassifier) with 66% of accuracy, followed by Logistic Regression with 58% of accuracy and NBMultinomial with 20% of accuracy."
   ]
  },
  {
   "cell_type": "code",
   "execution_count": null,
   "metadata": {
    "collapsed": true
   },
   "outputs": [],
   "source": []
  }
 ],
 "metadata": {
  "kernelspec": {
   "display_name": "Python 2",
   "language": "python",
   "name": "python2"
  },
  "language_info": {
   "codemirror_mode": {
    "name": "ipython",
    "version": 2
   },
   "file_extension": ".py",
   "mimetype": "text/x-python",
   "name": "python",
   "nbconvert_exporter": "python",
   "pygments_lexer": "ipython2",
   "version": "2.7.13"
  }
 },
 "nbformat": 4,
 "nbformat_minor": 2
}
